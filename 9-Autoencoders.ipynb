{
  "cells": [
    {
      "cell_type": "markdown",
      "metadata": {
        "id": "VdlgKsQGsptg"
      },
      "source": [
        "# Módulo 4: Implementación de autocodificadores con Pytorch\n",
        "\n",
        "## Introducción\n",
        "\n",
        "En este cuaderno, seguiremos construyendo a partir de los fundamentos de PyTorch que aprendimos en el módulo 3, e implementaremos un tipo diferente de arquitectura de red neuronal: un autocodificador.\n",
        "\n",
        "El objetivo principal de los autocodificadores es aprender una representación simplificada o codificada de un conjunto de datos. En primer lugar, dividimos la red en dos: en un codificador y un decodificador. El codificador empieza por el *input* y lo reduce a una representación latente más sencilla. El decodificador, por otro lado, toma esa representación y reproduce el *input* original.\n",
        "\n",
        "En el siguiente cuaderno, exploraremos dos autocodificadores diferentes. Entrenaremos el primero con 3 cifras de MNIST, y después visualizaremos la representación latente en 2D.\n",
        "\n",
        "El segundo es una red más grande que entrenaremos con todo el conjunto MNIST para reconstruir, después, las imágenes de *input* a partir del *output*."
      ]
    },
    {
      "cell_type": "markdown",
      "metadata": {
        "id": "bXf856rE1MZ7"
      },
      "source": [
        "## Codificador simple con las cifras 0, 1, 2 de MNIST\n",
        "\n",
        "Para nuestra primera red de autocodificador, vamos a recrear el ejemplo del módulo 4, con las cifras 0, 1 y 2 del conjunto de datos MNIST.\n",
        "\n",
        "Primero, entrenaremos el autocodificador usando la raíz del ECM con *inputs* y etiquetas idénticos. Cuando el autocodificador esté entrenado, visualizaremos la codificación del espacio latente en 2D.\n",
        "\n"
      ]
    },
    {
      "cell_type": "markdown",
      "metadata": {
        "id": "1xiAVGt02kvx"
      },
      "source": [
        "### Preparación del conjunto de datos e importación del módulo\n",
        "\n",
        "Aquí, cargaremos el conjunto de datos MNIST que usamos en la actividad evaluable del módulo 3. Es muy fácil de usar porque está integrado en PyTorch.\n",
        "\n",
        "Además, reduciremos el conjunto de datos para que solo contenga las cifras 0, 1 y 2."
      ]
    },
    {
      "cell_type": "code",
      "execution_count": 16,
      "metadata": {
        "colab": {
          "base_uri": "https://localhost:8080/"
        },
        "id": "q2dF_mTx8Y7s",
        "outputId": "64965a61-57dc-4e47-b447-78403d7300e1"
      },
      "outputs": [
        {
          "data": {
            "text/plain": [
              "device(type='cuda')"
            ]
          },
          "execution_count": 16,
          "metadata": {},
          "output_type": "execute_result"
        }
      ],
      "source": [
        "import torch\n",
        "import torch.nn as nn\n",
        "import numpy as np\n",
        "import torchvision.datasets\n",
        "from torchvision import transforms\n",
        "from torch.utils.data import Subset\n",
        "from torch.utils.data import DataLoader\n",
        "import time, copy\n",
        "# Configuración del dispositivo (si es posible, entrenar el modelo en la GPU, el proceso será mucho más rápido)\n",
        "device = torch.device('cuda' if torch.cuda.is_available() else 'cpu')\n",
        "device"
      ]
    },
    {
      "cell_type": "code",
      "execution_count": 17,
      "metadata": {
        "colab": {
          "base_uri": "https://localhost:8080/",
          "height": 423,
          "referenced_widgets": [
            "35797fd014784ae4b98324678410667e",
            "39384b61a1e240d8a1507745425bd647",
            "9b02f00fe5254cb391654b48e2238694",
            "bb5b67550a2449d3a13968714722c12d",
            "72ae47288111494ea17211a148aa210a",
            "50580fbe2650405f8aa2462474e6bbc7",
            "8591915be24b41509fb51b4695f9ecf1",
            "cffc82668cec4f7d8efe93c5a05fb7ad",
            "62e3ed58cba04b9cb6d15f2c1d73b593",
            "3689848f88144c9fae1a4679a2d2b285",
            "73d66f6df7f24be48c8d357ddc2ab6bb",
            "5650092986fd42eebf38c049968847f9",
            "b5d1c79c99a9406899e0a4b363f15609",
            "73a3e57e240646d88fb3f4f38b941ae6",
            "90cddfec11a94f8ea24415d788ca6284",
            "f8b2d20259ab41f4a255b9d135cc9fde",
            "2e6f5363febd4a15b167a45dfb973996",
            "263381ade6b54cdfb7d1fb27fa011df3",
            "be45cf15bb8248f397c7e12b9b5eee70",
            "65e97ccfbd864fdab4f96b6103bb79a8",
            "b10a2b5322f3414383407ae5654e597e",
            "fbb7f2f6b86d434fb01e804d713c59bd",
            "49382eca3f1b40999d91c6b24dfbc3f2",
            "94a05bc95a1c448689a1c570ee3e06e1",
            "611f258f116b4588b1657c7a78d52710",
            "d1decfa2fa8846f7a0dd006db576814d",
            "8e3dff713e6b4ead80f2a484044eade0",
            "25b54c7509bf4e6a9a14b00d2faf1525",
            "e70a8735083b4c1ca2abebad798c905d",
            "99621d36591549b79b19039d631edba7",
            "f92f33f64a3a4dc288c09496f1009bef",
            "3e4abfc234874050a17ad30215f695ef",
            "7ed918036dc94d789643efbac17979d3",
            "0242af46428846ddbbbbd641df8f10ce",
            "05c7f0a0bbc84e478eecfd102295211d",
            "2cd8342a4251429199a6f099a0219be4",
            "f1a65fa4e21e48349d85da6db26df1c4",
            "5c2ef9a2cc9e4189a20f70559e967974",
            "8ac1258fb0a44bd29269b5afba0c7614",
            "eda0f89ab9ee4ef0843f6436ef133221",
            "e28b0e4ee60348278f4495c8a64dfbe6",
            "9810a7af1bcf424cb5764270374aa680",
            "0041f2b533e74cbe919559f715b9bfd5",
            "a7cdc83ddb6444e1b0cb870181cbad86"
          ]
        },
        "id": "RXHEdQOlTM-l",
        "outputId": "d82d109e-1e0c-474b-bd2e-5f514be1eb65"
      },
      "outputs": [],
      "source": [
        "# Estas transformaciones sucederán en todos los puntos de datos. En este ejemplo,\n",
        "# queremos convertir cada punto de datos en un tensor y realizar una normalización\n",
        "\n",
        "transform = transforms.Compose([transforms.ToTensor(), transforms.Normalize([0.5], [0.5])])\n",
        "mnist_train = torchvision.datasets.MNIST('', train=True, transform =transform, download=True)\n",
        "# Nos quedaremos solamente con las cifras 0, 1 y 2\n",
        "train_indices = [idx for idx, target in enumerate(mnist_train.targets) if target in [0, 1, 2]]\n",
        "mnist_train = Subset(mnist_train, train_indices)\n",
        "\n",
        "# Dividiremos el conjunto de datos de entrenamiento en entrenamiento y validación\n",
        "mnist_train, mnist_val = torch.utils.data.random_split(mnist_train, [int(np.floor(len(mnist_train)*0.75)), int(np.ceil(len(mnist_train)*0.25))])\n",
        "\n",
        "# Para la prueba, también nos quedaremos solo con las cifras 0, 1 y 2\n",
        "mnist_test = torchvision.datasets.MNIST('', train=False, transform = transform, download=True)\n",
        "test_indices = [idx for idx, target in enumerate(mnist_test.targets) if target in [0, 1, 2]]\n",
        "mnist_test = Subset(mnist_test, test_indices)\n"
      ]
    },
    {
      "cell_type": "code",
      "execution_count": 18,
      "metadata": {
        "colab": {
          "base_uri": "https://localhost:8080/"
        },
        "id": "GvSyIFUR_feM",
        "outputId": "5c9a0706-ad0f-4828-bc18-4e3bfc6024ff"
      },
      "outputs": [
        {
          "name": "stdout",
          "output_type": "stream",
          "text": [
            "dataset_sizes = {'train': 13967, 'val': 4656, 'test': 3147}\n"
          ]
        }
      ],
      "source": [
        "# Crearemos DataLoaders igual que antes, con un tamaño de lotes de 100\n",
        "batch_size = 100\n",
        "dataloaders = {'train': DataLoader(mnist_train, batch_size=batch_size),\n",
        "               'val': DataLoader(mnist_val, batch_size=batch_size),\n",
        "               'test': DataLoader(mnist_test, batch_size=batch_size)}\n",
        "\n",
        "dataset_sizes = {'train': len(mnist_train),\n",
        "                 'val': len(mnist_val),\n",
        "                 'test': len(mnist_test)}\n",
        "print(f'dataset_sizes = {dataset_sizes}')"
      ]
    },
    {
      "cell_type": "markdown",
      "metadata": {
        "id": "4UBFTUfy3HUo"
      },
      "source": [
        "### Definición e hiperparámetros del modelo\n",
        "\n",
        "Esta red se parece mucho a las que construimos en el módulo 3, con capas lineales y activación ReLU. Sin embargo, aquí la hemos dividido en dos secciones diferentes: codificador y decodificador. Escribir el código de esta manera nos permite codificar fácilmente un punto de datos específico después de entrenar al modelo."
      ]
    },
    {
      "cell_type": "code",
      "execution_count": 23,
      "metadata": {
        "id": "h6SfpddS_kB1"
      },
      "outputs": [],
      "source": [
        "class SimpleAutoEncoder(nn.Module):\n",
        "    def __init__(self, input_size):\n",
        "        super(SimpleAutoEncoder, self).__init__()\n",
        "        # Dividir el codificador y el decodificador\n",
        "        self.encoder = nn.Sequential(\n",
        "            nn.Linear(input_size, 128),\n",
        "            nn.ReLU(),\n",
        "            nn.Linear(128, 64),\n",
        "            nn.ReLU(),\n",
        "            nn.Linear(64, 2)\n",
        "        )\n",
        "\n",
        "        self.decoder = nn.Sequential(\n",
        "            nn.Linear(2, 64),\n",
        "            nn.ReLU(),\n",
        "            nn.Linear(64, 128),\n",
        "            nn.ReLU(),\n",
        "            nn.Linear(128, input_size)\n",
        "        )\n",
        "\n",
        "    def forward(self, x):\n",
        "        return self.decoder(self.encoder(x))\n",
        "\n",
        "    def encode(self, x):\n",
        "        return self.encoder(x)\n",
        "\n"
      ]
    },
    {
      "cell_type": "code",
      "execution_count": 24,
      "metadata": {
        "id": "rt84wbCgG7VJ"
      },
      "outputs": [],
      "source": [
        "# Hiperparámetros\n",
        "\n",
        "input_size = 784 # Alisar el conjunto de datos 28 * 28 = 784\n",
        "learning_rate = 0.001\n",
        "num_epochs = 5"
      ]
    },
    {
      "cell_type": "code",
      "execution_count": 25,
      "metadata": {
        "colab": {
          "base_uri": "https://localhost:8080/"
        },
        "id": "DS_C0AH5HInn",
        "outputId": "a99f544f-c59c-46b8-a7e3-506502348b47"
      },
      "outputs": [
        {
          "name": "stdout",
          "output_type": "stream",
          "text": [
            "SimpleAutoEncoder(\n",
            "  (encoder): Sequential(\n",
            "    (0): Linear(in_features=784, out_features=128, bias=True)\n",
            "    (1): ReLU()\n",
            "    (2): Linear(in_features=128, out_features=64, bias=True)\n",
            "    (3): ReLU()\n",
            "    (4): Linear(in_features=64, out_features=2, bias=True)\n",
            "  )\n",
            "  (decoder): Sequential(\n",
            "    (0): Linear(in_features=2, out_features=64, bias=True)\n",
            "    (1): ReLU()\n",
            "    (2): Linear(in_features=64, out_features=128, bias=True)\n",
            "    (3): ReLU()\n",
            "    (4): Linear(in_features=128, out_features=784, bias=True)\n",
            "  )\n",
            ")\n"
          ]
        }
      ],
      "source": [
        "model = SimpleAutoEncoder(input_size).to(device)\n",
        "print(model)"
      ]
    },
    {
      "cell_type": "markdown",
      "metadata": {
        "id": "1ngKCfet3MXl"
      },
      "source": [
        "### Entrenar al modelo\n",
        "\n",
        "Esta función de entrenamiento es muy similar a las de las secciones anteriores. La clave es entender que la función de un autocodificador es muy similar a la regresión, de manera que no tenemos etiquetas específicas de clase o precisión, solo de pérdida."
      ]
    },
    {
      "cell_type": "code",
      "execution_count": 7,
      "metadata": {
        "id": "_Twh02ljHv20"
      },
      "outputs": [],
      "source": [
        "# Extraído de https://pytorch.org/tutorials/beginner/transfer_learning_tutorial.html\n",
        "\n",
        "def train_autoencoder(model, dataloaders, dataset_sizes, criterion, optimizer, scheduler, num_epochs=25):\n",
        "    since = time.time()\n",
        "\n",
        "    best_model_wts = copy.deepcopy(model.state_dict()) # Los mejores pesos se deben guardar por separado\n",
        "    best_loss = np.inf\n",
        "    best_epoch = 0\n",
        "\n",
        "    # Cada ciclo tiene una fase de entrenamiento, una de validación y una de prueba\n",
        "    phases = ['train', 'val', 'test']\n",
        "    \n",
        "    # Hacer un seguimiento de la evolución de la pérdida durante el entrenamiento\n",
        "    training_curves = {}\n",
        "    for phase in phases:\n",
        "        training_curves[phase+'_loss'] = []\n",
        "    \n",
        "    for epoch in range(num_epochs):\n",
        "        print(f'\\nEpoch {epoch+1}/{num_epochs}')\n",
        "        print('-' * 10)\n",
        "\n",
        "        for phase in phases:\n",
        "            if phase == 'train':\n",
        "                model.train()  # Configurar el modelo en el modo de entrenamiento\n",
        "            else:\n",
        "                model.eval()   # Configurar el modelo en el modo de evaluación\n",
        "\n",
        "            running_loss = 0.0\n",
        "\n",
        "            # Iterar con los datos - para el autocodificador no nos importan las etiquetas,\n",
        "            # estamos entrenando al input contra sí mismo\n",
        "            for inputs, _ in dataloaders[phase]:\n",
        "                # Importante: se deben aplanar todos los puntos de datos\n",
        "                # para que sean compatibles con el modelo\n",
        "                # print(inputs.shape)\n",
        "                inputs = inputs.view(inputs.shape[0],-1)\n",
        "                inputs = inputs.to(device)\n",
        "                # Los objetivos son iguales que los inputs\n",
        "                targets = inputs.to(device)\n",
        "                # print(inputs.shape)\n",
        "                # print(targets.shape)\n",
        "\n",
        "                # Poner a 0 los gradientes de los parámetros\n",
        "                optimizer.zero_grad()\n",
        "\n",
        "                # Método forward\n",
        "                with torch.set_grad_enabled(phase == 'train'):\n",
        "                    outputs = model(inputs)\n",
        "                    # print(outputs.shape)\n",
        "                    loss = criterion(outputs, targets)\n",
        "\n",
        "                    # Método backward y actualización de los pesos solo si está en la fase de entrenamiento\n",
        "                    if phase == 'train':\n",
        "                        loss.backward()\n",
        "                        optimizer.step()\n",
        "\n",
        "                # Estadísticas\n",
        "                running_loss += loss.item() * inputs.size(0)\n",
        " \n",
        "            if phase == 'train':\n",
        "                scheduler.step()\n",
        "\n",
        "            epoch_loss = running_loss / dataset_sizes[phase]\n",
        "            training_curves[phase+'_loss'].append(epoch_loss)\n",
        "\n",
        "            print(f'{phase:5} Loss: {epoch_loss:.4f}')\n",
        "\n",
        "            # Hacer una copia profunda del modelo si se ha alcanzado la mejor precisión\n",
        "            if phase == 'val' and epoch_loss < best_loss:\n",
        "              best_epoch = epoch\n",
        "              best_loss = epoch_loss\n",
        "              best_model_wts = copy.deepcopy(model.state_dict())\n",
        "\n",
        "    time_elapsed = time.time() - since\n",
        "    print(f'\\nTraining complete in {time_elapsed // 60:.0f}m {time_elapsed % 60:.0f}s')\n",
        "    print(f'Best val Loss: {best_loss:4f} at epoch {best_epoch}')\n",
        "\n",
        "    # Cargar los mejores pesos del modelo\n",
        "    model.load_state_dict(best_model_wts)\n",
        "    \n",
        "    return model, training_curves\n",
        "\n"
      ]
    },
    {
      "cell_type": "code",
      "execution_count": 8,
      "metadata": {
        "colab": {
          "base_uri": "https://localhost:8080/"
        },
        "id": "rW0ftQuVJCoC",
        "outputId": "4dada0db-82c4-4ab3-a9d7-10cdc9442098"
      },
      "outputs": [
        {
          "name": "stdout",
          "output_type": "stream",
          "text": [
            "\n",
            "Epoch 1/5\n",
            "----------\n",
            "train Loss: 0.2729\n",
            "val   Loss: 0.1928\n",
            "test  Loss: 0.1929\n",
            "\n",
            "Epoch 2/5\n",
            "----------\n",
            "train Loss: 0.1815\n",
            "val   Loss: 0.1693\n",
            "test  Loss: 0.1703\n",
            "\n",
            "Epoch 3/5\n",
            "----------\n",
            "train Loss: 0.1656\n",
            "val   Loss: 0.1604\n",
            "test  Loss: 0.1614\n",
            "\n",
            "Epoch 4/5\n",
            "----------\n",
            "train Loss: 0.1583\n",
            "val   Loss: 0.1544\n",
            "test  Loss: 0.1555\n",
            "\n",
            "Epoch 5/5\n",
            "----------\n",
            "train Loss: 0.1521\n",
            "val   Loss: 0.1477\n",
            "test  Loss: 0.1486\n",
            "\n",
            "Training complete in 0m 33s\n",
            "Best val Loss: 0.147711 at epoch 4\n"
          ]
        }
      ],
      "source": [
        "# Pérdida y optimizador\n",
        "criterion = nn.MSELoss()\n",
        "optimizer = torch.optim.Adam(model.parameters(), lr=learning_rate)\n",
        "scheduler = torch.optim.lr_scheduler.ExponentialLR(optimizer, gamma=0.95)\n",
        "\n",
        "model, training_curves = train_autoencoder(model, dataloaders, dataset_sizes, criterion, optimizer, scheduler, num_epochs=num_epochs)"
      ]
    },
    {
      "cell_type": "markdown",
      "metadata": {
        "id": "ohkVE0Q93Xkp"
      },
      "source": [
        "### Visualizar la codificación del espacio latente\n",
        "\n",
        "Ahora que el autocodificador está entrenado, vamos a visualizar la codificación del espacio latente en 2D para las distintas cifras."
      ]
    },
    {
      "cell_type": "code",
      "execution_count": 26,
      "metadata": {
        "id": "dmZiqWIVjyLN"
      },
      "outputs": [],
      "source": [
        "import matplotlib.pyplot as plt\n",
        "\n",
        "x = []\n",
        "label = []\n",
        "# Subconjunto aleatorio de prueba, tomar x e y\n",
        "# Trazar en matplotlib\n",
        "for inputs, labels in dataloaders[\"test\"]:\n",
        "    inputs = inputs.view(inputs.shape[0],-1)\n",
        "    inputs = inputs.to(device)\n",
        "    for i, input in enumerate(inputs):\n",
        "        encoding = model.encode(input)\n",
        "        x.append(encoding.cpu().detach().numpy())\n",
        "        label.append(labels[i])\n",
        "\n",
        "def plot_dataset(x,y):\n",
        "    print(len(x))\n",
        "    print(len(y))\n",
        "    x_np = np.array(x)\n",
        "    x_np.reshape(len(x), 2)\n",
        "    colors = []\n",
        "    for label in y:\n",
        "        if label == 0:\n",
        "            colors.append(\"red\")\n",
        "        elif label == 1:\n",
        "            colors.append(\"blue\")\n",
        "        else:\n",
        "            colors.append(\"green\")\n",
        "    plt.scatter(x_np[...,0], x_np[...,1], color=colors)\n"
      ]
    },
    {
      "cell_type": "code",
      "execution_count": 27,
      "metadata": {
        "colab": {
          "base_uri": "https://localhost:8080/",
          "height": 300
        },
        "id": "X26-uIUtAJ--",
        "outputId": "fe044cc1-0a9b-40c6-f712-1051084ffd09"
      },
      "outputs": [
        {
          "name": "stdout",
          "output_type": "stream",
          "text": [
            "3147\n",
            "3147\n"
          ]
        },
        {
          "data": {
            "image/png": "[encoded data removed]",
            "text/plain": [
              "<Figure size 640x480 with 1 Axes>"
            ]
          },
          "metadata": {},
          "output_type": "display_data"
        }
      ],
      "source": [
        "plot_dataset(x,label)"
      ]
    },
    {
      "cell_type": "markdown",
      "metadata": {
        "id": "WtoEhG0ZyFbs"
      },
      "source": [
        "Aquí, vemos que el codificador ha separado de forma muy eficaz las distintas clases de cifras. En la imagen, hay 3 clústeres distintos para cada una de las cifras: 0, 1 y 2."
      ]
    },
    {
      "cell_type": "markdown",
      "metadata": {
        "id": "FQbGzjyQ2CuI"
      },
      "source": [
        "## Autocodificador con todo el conjunto MNIST\n",
        "\n",
        "Ahora que hemos visto lo que puede hacer un autocodificador en el espacio latente, vamos a construir una red más profunda para expandirla a todo el conjunto MNIST.\n",
        "\n",
        "El proceso de entrenamiento será el mismo que antes, solo que la red contendrá más capas y un espacio latente de más dimensiones para reproducir de forma más precisa el *input*."
      ]
    },
    {
      "cell_type": "markdown",
      "metadata": {
        "id": "_cysyveo3oGf"
      },
      "source": [
        "### Preparación del conjunto de datos"
      ]
    },
    {
      "cell_type": "code",
      "execution_count": 28,
      "metadata": {
        "id": "LT7yQtgV8sqD"
      },
      "outputs": [],
      "source": [
        "# Estas transformaciones sucederán en todos los puntos de datos. En este ejemplo,\n",
        "# queremos convertir cada punto de datos en un tensor y realizar una normalización\n",
        "\n",
        "transform = transforms.Compose([transforms.ToTensor(), transforms.Normalize([0.5], [0.5])])\n",
        "mnist_train = torchvision.datasets.MNIST('', train=True, transform =transform, download=True)\n",
        "\n",
        "# Dividiremos el conjunto de datos de entrenamiento en entrenamiento y validación\n",
        "mnist_train, mnist_val = torch.utils.data.random_split(mnist_train, [int(np.floor(len(mnist_train)*0.75)), int(np.ceil(len(mnist_train)*0.25))])\n",
        "\n",
        "mnist_test = torchvision.datasets.MNIST('', train=False, transform = transform, download=True)"
      ]
    },
    {
      "cell_type": "code",
      "execution_count": 29,
      "metadata": {
        "colab": {
          "base_uri": "https://localhost:8080/"
        },
        "id": "-mzFjlq5861V",
        "outputId": "2b32189e-6a5d-48b9-9e6b-1fc79988bc73"
      },
      "outputs": [
        {
          "name": "stdout",
          "output_type": "stream",
          "text": [
            "dataset_sizes = {'train': 45000, 'val': 15000, 'test': 10000}\n"
          ]
        }
      ],
      "source": [
        "# Crearemos DataLoaders igual que antes, con un tamaño de lotes de 100\n",
        "batch_size = 100\n",
        "dataloaders = {'train': DataLoader(mnist_train, batch_size=batch_size),\n",
        "               'val': DataLoader(mnist_val, batch_size=batch_size),\n",
        "               'test': DataLoader(mnist_test, shuffle=True, batch_size=batch_size)}\n",
        "\n",
        "dataset_sizes = {'train': len(mnist_train),\n",
        "                 'val': len(mnist_val),\n",
        "                 'test': len(mnist_test)}\n",
        "print(f'dataset_sizes = {dataset_sizes}')"
      ]
    },
    {
      "cell_type": "markdown",
      "metadata": {
        "id": "9Rqh5oP23qzB"
      },
      "source": [
        "### Definición e hiperparámetros del modelo\n",
        "\n",
        "Aquí utilizamos un espacio latente de 32 dimensiones. Esto permite codificar mucha más información y, por tanto, una codificación más precisa."
      ]
    },
    {
      "cell_type": "code",
      "execution_count": 37,
      "metadata": {
        "id": "0uPzRJbP9A1_"
      },
      "outputs": [],
      "source": [
        "class AutoEncoder(nn.Module):\n",
        "    def __init__(self, input_size):\n",
        "        super(AutoEncoder, self).__init__()\n",
        "        # Dividir el codificador y el decodificador\n",
        "        self.encoder = nn.Sequential(\n",
        "            nn.Linear(input_size, 256),\n",
        "            nn.ReLU(),\n",
        "            nn.Linear(256,32)\n",
        "        )\n",
        "\n",
        "        self.decoder = nn.Sequential(\n",
        "            nn.Linear(32, 256),\n",
        "            nn.ReLU(),\n",
        "            nn.Linear(256, input_size)\n",
        "        )\n",
        "\n",
        "    def forward(self, x):\n",
        "        return self.decoder(self.encoder(x))\n",
        "\n",
        "    def encode(self, x):\n",
        "        return self.encoder(x)\n",
        "\n"
      ]
    },
    {
      "cell_type": "code",
      "execution_count": 31,
      "metadata": {
        "id": "Bl-zukJm9-EW"
      },
      "outputs": [],
      "source": [
        "# Hiperparámetros\n",
        "\n",
        "input_size = 784 # Alisar el conjunto de datos 28 * 28 = 784\n",
        "learning_rate = 0.001\n",
        "num_epochs = 10"
      ]
    },
    {
      "cell_type": "code",
      "execution_count": 32,
      "metadata": {
        "colab": {
          "base_uri": "https://localhost:8080/"
        },
        "id": "lGsIMCze-A3L",
        "outputId": "41741b5a-653e-4865-cfde-f7cd519ab2a1"
      },
      "outputs": [
        {
          "name": "stdout",
          "output_type": "stream",
          "text": [
            "AutoEncoder(\n",
            "  (encoder): Sequential(\n",
            "    (0): Linear(in_features=784, out_features=256, bias=True)\n",
            "    (1): ReLU()\n",
            "    (2): Linear(in_features=256, out_features=32, bias=True)\n",
            "  )\n",
            "  (decoder): Sequential(\n",
            "    (0): Linear(in_features=32, out_features=256, bias=True)\n",
            "    (1): ReLU()\n",
            "    (2): Linear(in_features=256, out_features=784, bias=True)\n",
            "  )\n",
            ")\n"
          ]
        }
      ],
      "source": [
        "model = AutoEncoder(input_size).to(device)\n",
        "print(model)"
      ]
    },
    {
      "cell_type": "markdown",
      "metadata": {
        "id": "ZFnEFQPL3tlp"
      },
      "source": [
        "### Entrenar al modelo\n",
        "\n",
        "Vamos a utilizar la misma función que arriba porque seguimos entrenando un autocodificador. La hemos copiado debajo para mayor comodidad."
      ]
    },
    {
      "cell_type": "code",
      "execution_count": 33,
      "metadata": {
        "id": "IhLgq8Ws-Ltw"
      },
      "outputs": [],
      "source": [
        "# Extraído de https://pytorch.org/tutorials/beginner/transfer_learning_tutorial.html\n",
        "\n",
        "def train_autoencoder(model, dataloaders, dataset_sizes, criterion, optimizer, scheduler, num_epochs=25):\n",
        "    since = time.time()\n",
        "\n",
        "    best_model_wts = copy.deepcopy(model.state_dict()) # Los mejores pesos se deben guardar por separado\n",
        "    best_loss = np.inf\n",
        "    best_epoch = 0\n",
        "\n",
        "    # Cada ciclo tiene una fase de entrenamiento, una de validación y una de prueba\n",
        "    phases = ['train', 'val', 'test']\n",
        "    \n",
        "    # Hacer un seguimiento de la evolución de la pérdida y la precisión durante el entrenamiento\n",
        "    training_curves = {}\n",
        "    for phase in phases:\n",
        "        training_curves[phase+'_loss'] = []\n",
        "    \n",
        "    for epoch in range(num_epochs):\n",
        "        print(f'\\nEpoch {epoch+1}/{num_epochs}')\n",
        "        print('-' * 10)\n",
        "\n",
        "        for phase in phases:\n",
        "            if phase == 'train':\n",
        "                model.train()  # Configurar el modelo en el modo de entrenamiento\n",
        "            else:\n",
        "                model.eval()   # Configurar el modelo en el modo de evaluación\n",
        "\n",
        "            running_loss = 0.0\n",
        "\n",
        "            # Iterar con los datos - para el autocodificador no nos importan las etiquetas,\n",
        "            # estamos entrenando al input contra sí mismo\n",
        "            for inputs, _ in dataloaders[phase]:\n",
        "                # Importante: se deben aplanar todos los puntos de datos\n",
        "                # para que sean compatibles con el modelo\n",
        "                inputs = inputs.view(inputs.shape[0],-1)\n",
        "                inputs = inputs.to(device)\n",
        "                # Los objetivos son los mismos que los inputs\n",
        "                targets = inputs.to(device)\n",
        "\n",
        "                # Poner a 0 los gradientes de los parámetros\n",
        "                optimizer.zero_grad()\n",
        "\n",
        "                # Método forward\n",
        "                with torch.set_grad_enabled(phase == 'train'):\n",
        "                    outputs = model(inputs)\n",
        "                    loss = criterion(outputs, targets)\n",
        "\n",
        "                    # Método backward y actualización de los pesos solo si está en la fase de entrenamiento\n",
        "                    if phase == 'train':\n",
        "                        loss.backward()\n",
        "                        optimizer.step()\n",
        "\n",
        "                # Estadísticas\n",
        "                running_loss += loss.item() * inputs.size(0)\n",
        " \n",
        "            if phase == 'train':\n",
        "                scheduler.step()\n",
        "\n",
        "            epoch_loss = running_loss / dataset_sizes[phase]\n",
        "            training_curves[phase+'_loss'].append(epoch_loss)\n",
        "\n",
        "            print(f'{phase:5} Loss: {epoch_loss:.4f}')\n",
        "\n",
        "            # Hacer una copia profunda del modelo si se ha alcanzado la mejor precisión\n",
        "            if phase == 'val' and epoch_loss < best_loss:\n",
        "              best_epoch = epoch\n",
        "              best_loss = epoch_loss\n",
        "              best_model_wts = copy.deepcopy(model.state_dict())\n",
        "\n",
        "    time_elapsed = time.time() - since\n",
        "    print(f'\\nTraining complete in {time_elapsed // 60:.0f}m {time_elapsed % 60:.0f}s')\n",
        "    print(f'Best val Loss: {best_loss:4f} at epoch {best_epoch}')\n",
        "\n",
        "    # Cargar los mejores pesos del modelo\n",
        "    model.load_state_dict(best_model_wts)\n",
        "    \n",
        "    return model, training_curves\n",
        "\n"
      ]
    },
    {
      "cell_type": "code",
      "execution_count": 34,
      "metadata": {
        "colab": {
          "base_uri": "https://localhost:8080/"
        },
        "id": "3gFaNMsI-PWx",
        "outputId": "1c68c06d-6a2a-4e8f-b3c3-44c7af75fdbb"
      },
      "outputs": [
        {
          "name": "stdout",
          "output_type": "stream",
          "text": [
            "\n",
            "Epoch 1/10\n",
            "----------\n",
            "train Loss: 0.1230\n",
            "val   Loss: 0.0727\n",
            "test  Loss: 0.0714\n",
            "\n",
            "Epoch 2/10\n",
            "----------\n",
            "train Loss: 0.0687\n",
            "val   Loss: 0.0659\n",
            "test  Loss: 0.0645\n",
            "\n",
            "Epoch 3/10\n",
            "----------\n",
            "train Loss: 0.0634\n",
            "val   Loss: 0.0611\n",
            "test  Loss: 0.0598\n",
            "\n",
            "Epoch 4/10\n",
            "----------\n",
            "train Loss: 0.0595\n",
            "val   Loss: 0.0582\n",
            "test  Loss: 0.0569\n",
            "\n",
            "Epoch 5/10\n",
            "----------\n",
            "train Loss: 0.0568\n",
            "val   Loss: 0.0556\n",
            "test  Loss: 0.0544\n",
            "\n",
            "Epoch 6/10\n",
            "----------\n",
            "train Loss: 0.0546\n",
            "val   Loss: 0.0540\n",
            "test  Loss: 0.0528\n",
            "\n",
            "Epoch 7/10\n",
            "----------\n",
            "train Loss: 0.0529\n",
            "val   Loss: 0.0526\n",
            "test  Loss: 0.0516\n",
            "\n",
            "Epoch 8/10\n",
            "----------\n",
            "train Loss: 0.0515\n",
            "val   Loss: 0.0510\n",
            "test  Loss: 0.0500\n",
            "\n",
            "Epoch 9/10\n",
            "----------\n",
            "train Loss: 0.0503\n",
            "val   Loss: 0.0498\n",
            "test  Loss: 0.0488\n",
            "\n",
            "Epoch 10/10\n",
            "----------\n",
            "train Loss: 0.0492\n",
            "val   Loss: 0.0488\n",
            "test  Loss: 0.0479\n",
            "\n",
            "Training complete in 3m 7s\n",
            "Best val Loss: 0.048822 at epoch 9\n"
          ]
        }
      ],
      "source": [
        "# Pérdida y optimizador\n",
        "criterion = nn.MSELoss()\n",
        "optimizer = torch.optim.Adam(model.parameters(), lr=learning_rate)\n",
        "scheduler = torch.optim.lr_scheduler.ExponentialLR(optimizer, gamma=0.95)\n",
        "\n",
        "model, training_curves = train_autoencoder(model, dataloaders, dataset_sizes, criterion, optimizer, scheduler, num_epochs=num_epochs)"
      ]
    },
    {
      "cell_type": "markdown",
      "metadata": {
        "id": "r0GSra0P3u6C"
      },
      "source": [
        "### Visualizar los resultados\n",
        "\n",
        "Ahora que el modelo está entrenado, vamos a visualizar los resultados del autocodificador.\n",
        "\n",
        "Más abajo, hemos incluido una función que muestra el *input* y la autocodificación de una cifra específica. Pruebe a ejecutarlo con diferentes cifras y observe cuáles se parecen más."
      ]
    },
    {
      "cell_type": "code",
      "execution_count": 35,
      "metadata": {
        "id": "5KoS-edakvws"
      },
      "outputs": [],
      "source": [
        "import matplotlib.pyplot as plt\n",
        "\n",
        "# Trazar una ground truth sobre las cifras y autocodificar\n",
        "def plot_digit(digit, count = 1):\n",
        "    fig = plt.figure()\n",
        "    idx = 1\n",
        "    for inputs, labels in dataloaders[\"test\"]:\n",
        "        # Alisar el conjunto de datos para que las dimensiones se alineen con el modelo\n",
        "        inputs = inputs.view(inputs.shape[0],-1)\n",
        "        inputs = inputs.to(device)\n",
        "        for i, input in enumerate(inputs):\n",
        "            # Solo queremos mostrar determinadas cifras\n",
        "            if (labels[i] != digit):\n",
        "                continue\n",
        "            # Ejecutar el autocodificador\n",
        "            autoencoding = model.forward(input)\n",
        "            # Volver a la cpu()\n",
        "            autoencoding = autoencoding.cpu().detach().numpy()\n",
        "            # Remodelar en forma de imagen\n",
        "            autoencoding = autoencoding.reshape((28,28))\n",
        "            input = input.cpu().detach().numpy().reshape((28,28))\n",
        "            # Trazar la ground truth\n",
        "            ax = fig.add_subplot(2, count, idx)\n",
        "            ax.imshow(input, cmap='gray')\n",
        "            # Trazar la autocodificación\n",
        "            ax = fig.add_subplot(2, count, idx+count)\n",
        "            ax.imshow(autoencoding, cmap='gray')\n",
        "            idx += 1\n",
        "            if idx > count:\n",
        "                break\n",
        "        if idx > count:\n",
        "            break"
      ]
    },
    {
      "cell_type": "code",
      "execution_count": 77,
      "metadata": {},
      "outputs": [],
      "source": [
        "# Trazar una ground truth sobre las cifras y autocodificar\n",
        "def plot_a_digit(digit, id = 0):\n",
        "    fig, ax = plt.subplots(figsize=(9,9))\n",
        "    idx = 0\n",
        "    for inputs, labels in dataloaders[\"test\"]:\n",
        "        # Alisar el conjunto de datos para que las dimensiones se alineen con el modelo\n",
        "        inputs = inputs.reshape(inputs.shape[0],-1)\n",
        "        inputs = inputs.to(device)\n",
        "\n",
        "        for i, input in enumerate(inputs):\n",
        "            # Solo queremos mostrar determinadas cifras\n",
        "            if (labels[i] != digit):\n",
        "                continue\n",
        "\n",
        "            input = input.cpu().detach().numpy().reshape((28,28))\n",
        "\n",
        "            ax.imshow(input, cmap='inferno')\n",
        "\n",
        "            if idx >= id:\n",
        "                break\n",
        "            idx += 1\n",
        "        if idx >= id:\n",
        "            break"
      ]
    },
    {
      "cell_type": "code",
      "execution_count": 328,
      "metadata": {},
      "outputs": [
        {
          "data": {
            "image/png": "[encoded data removed]",
            "text/plain": [
              "<Figure size 900x900 with 1 Axes>"
            ]
          },
          "metadata": {},
          "output_type": "display_data"
        }
      ],
      "source": [
        "plot_a_digit(2)"
      ]
    },
    {
      "cell_type": "code",
      "execution_count": 40,
      "metadata": {
        "colab": {
          "base_uri": "https://localhost:8080/",
          "height": 242
        },
        "id": "omQ_sUf6Ag_U",
        "outputId": "70ef316e-8ff6-4032-d804-7bf7db294d2c"
      },
      "outputs": [
        {
          "data": {
            "image/png": "[encoded data removed]",
            "text/plain": [
              "<Figure size 640x480 with 10 Axes>"
            ]
          },
          "metadata": {},
          "output_type": "display_data"
        }
      ],
      "source": [
        "plot_digit(8, 5)"
      ]
    },
    {
      "cell_type": "markdown",
      "metadata": {
        "id": "zn1qo3ibTfyH"
      },
      "source": [
        "Observando el *output* del autocodificador, vemos que un espacio latente de 32 dimensiones resulta muy eficaz, ya que almacena la información suficiente para hacer una buena reconstrucción."
      ]
    },
    {
      "cell_type": "markdown",
      "metadata": {
        "id": "cF8bn7bDt6wd"
      },
      "source": [
        "## ¿Qué viene después?\n",
        "\n",
        "Hasta ahora, hemos tomado las imágenes de MNIST y las hemos alisado en forma de *arrays* de 1D. Aunque podemos obtener buenos resultados de todos modos, perdemos muchos atributos espaciales que sí están disponibles en 2D. Para poder utilizar estos atributos, introduciremos un nuevo tipo de capa en las redes neuronales: las capas convolucionales."
      ]
    }
  ],
  "metadata": {
    "accelerator": "GPU",
    "colab": {
      "provenance": [],
      "toc_visible": true
    },
    "kernelspec": {
      "display_name": "base",
      "language": "python",
      "name": "python3"
    },
    "language_info": {
      "codemirror_mode": {
        "name": "ipython",
        "version": 3
      },
      "file_extension": ".py",
      "mimetype": "text/x-python",
      "name": "python",
      "nbconvert_exporter": "python",
      "pygments_lexer": "ipython3",
      "version": "3.9.13 (main, Aug 25 2022, 23:26:10) \n[GCC 11.2.0]"
    },
    "vscode": {
      "interpreter": {
        "hash": "1b4dcc508076e9239aa6a2b739d41c8a505780e648b690f375f7d262ba9ac310"
      }
    },
    "widgets": {
      "application/vnd.jupyter.widget-state+json": {
        "0041f2b533e74cbe919559f715b9bfd5": {
          "model_module": "@jupyter-widgets/base",
          "model_module_version": "1.2.0",
          "model_name": "LayoutModel",
          "state": {
            "_model_module": "@jupyter-widgets/base",
            "_model_module_version": "1.2.0",
            "_model_name": "LayoutModel",
            "_view_count": null,
            "_view_module": "@jupyter-widgets/base",
            "_view_module_version": "1.2.0",
            "_view_name": "LayoutView",
            "align_content": null,
            "align_items": null,
            "align_self": null,
            "border": null,
            "bottom": null,
            "display": null,
            "flex": null,
            "flex_flow": null,
            "grid_area": null,
            "grid_auto_columns": null,
            "grid_auto_flow": null,
            "grid_auto_rows": null,
            "grid_column": null,
            "grid_gap": null,
            "grid_row": null,
            "grid_template_areas": null,
            "grid_template_columns": null,
            "grid_template_rows": null,
            "height": null,
            "justify_content": null,
            "justify_items": null,
            "left": null,
            "margin": null,
            "max_height": null,
            "max_width": null,
            "min_height": null,
            "min_width": null,
            "object_fit": null,
            "object_position": null,
            "order": null,
            "overflow": null,
            "overflow_x": null,
            "overflow_y": null,
            "padding": null,
            "right": null,
            "top": null,
            "visibility": null,
            "width": null
          }
        },
        "0242af46428846ddbbbbd641df8f10ce": {
          "model_module": "@jupyter-widgets/controls",
          "model_module_version": "1.5.0",
          "model_name": "HBoxModel",
          "state": {
            "_dom_classes": [],
            "_model_module": "@jupyter-widgets/controls",
            "_model_module_version": "1.5.0",
            "_model_name": "HBoxModel",
            "_view_count": null,
            "_view_module": "@jupyter-widgets/controls",
            "_view_module_version": "1.5.0",
            "_view_name": "HBoxView",
            "box_style": "",
            "children": [
              "IPY_MODEL_05c7f0a0bbc84e478eecfd102295211d",
              "IPY_MODEL_2cd8342a4251429199a6f099a0219be4",
              "IPY_MODEL_f1a65fa4e21e48349d85da6db26df1c4"
            ],
            "layout": "IPY_MODEL_5c2ef9a2cc9e4189a20f70559e967974"
          }
        },
        "05c7f0a0bbc84e478eecfd102295211d": {
          "model_module": "@jupyter-widgets/controls",
          "model_module_version": "1.5.0",
          "model_name": "HTMLModel",
          "state": {
            "_dom_classes": [],
            "_model_module": "@jupyter-widgets/controls",
            "_model_module_version": "1.5.0",
            "_model_name": "HTMLModel",
            "_view_count": null,
            "_view_module": "@jupyter-widgets/controls",
            "_view_module_version": "1.5.0",
            "_view_name": "HTMLView",
            "description": "",
            "description_tooltip": null,
            "layout": "IPY_MODEL_8ac1258fb0a44bd29269b5afba0c7614",
            "placeholder": "​",
            "style": "IPY_MODEL_eda0f89ab9ee4ef0843f6436ef133221",
            "value": "100%"
          }
        },
        "25b54c7509bf4e6a9a14b00d2faf1525": {
          "model_module": "@jupyter-widgets/base",
          "model_module_version": "1.2.0",
          "model_name": "LayoutModel",
          "state": {
            "_model_module": "@jupyter-widgets/base",
            "_model_module_version": "1.2.0",
            "_model_name": "LayoutModel",
            "_view_count": null,
            "_view_module": "@jupyter-widgets/base",
            "_view_module_version": "1.2.0",
            "_view_name": "LayoutView",
            "align_content": null,
            "align_items": null,
            "align_self": null,
            "border": null,
            "bottom": null,
            "display": null,
            "flex": null,
            "flex_flow": null,
            "grid_area": null,
            "grid_auto_columns": null,
            "grid_auto_flow": null,
            "grid_auto_rows": null,
            "grid_column": null,
            "grid_gap": null,
            "grid_row": null,
            "grid_template_areas": null,
            "grid_template_columns": null,
            "grid_template_rows": null,
            "height": null,
            "justify_content": null,
            "justify_items": null,
            "left": null,
            "margin": null,
            "max_height": null,
            "max_width": null,
            "min_height": null,
            "min_width": null,
            "object_fit": null,
            "object_position": null,
            "order": null,
            "overflow": null,
            "overflow_x": null,
            "overflow_y": null,
            "padding": null,
            "right": null,
            "top": null,
            "visibility": null,
            "width": null
          }
        },
        "263381ade6b54cdfb7d1fb27fa011df3": {
          "model_module": "@jupyter-widgets/controls",
          "model_module_version": "1.5.0",
          "model_name": "DescriptionStyleModel",
          "state": {
            "_model_module": "@jupyter-widgets/controls",
            "_model_module_version": "1.5.0",
            "_model_name": "DescriptionStyleModel",
            "_view_count": null,
            "_view_module": "@jupyter-widgets/base",
            "_view_module_version": "1.2.0",
            "_view_name": "StyleView",
            "description_width": ""
          }
        },
        "2cd8342a4251429199a6f099a0219be4": {
          "model_module": "@jupyter-widgets/controls",
          "model_module_version": "1.5.0",
          "model_name": "FloatProgressModel",
          "state": {
            "_dom_classes": [],
            "_model_module": "@jupyter-widgets/controls",
            "_model_module_version": "1.5.0",
            "_model_name": "FloatProgressModel",
            "_view_count": null,
            "_view_module": "@jupyter-widgets/controls",
            "_view_module_version": "1.5.0",
            "_view_name": "ProgressView",
            "bar_style": "success",
            "description": "",
            "description_tooltip": null,
            "layout": "IPY_MODEL_e28b0e4ee60348278f4495c8a64dfbe6",
            "max": 4542,
            "min": 0,
            "orientation": "horizontal",
            "style": "IPY_MODEL_9810a7af1bcf424cb5764270374aa680",
            "value": 4542
          }
        },
        "2e6f5363febd4a15b167a45dfb973996": {
          "model_module": "@jupyter-widgets/base",
          "model_module_version": "1.2.0",
          "model_name": "LayoutModel",
          "state": {
            "_model_module": "@jupyter-widgets/base",
            "_model_module_version": "1.2.0",
            "_model_name": "LayoutModel",
            "_view_count": null,
            "_view_module": "@jupyter-widgets/base",
            "_view_module_version": "1.2.0",
            "_view_name": "LayoutView",
            "align_content": null,
            "align_items": null,
            "align_self": null,
            "border": null,
            "bottom": null,
            "display": null,
            "flex": null,
            "flex_flow": null,
            "grid_area": null,
            "grid_auto_columns": null,
            "grid_auto_flow": null,
            "grid_auto_rows": null,
            "grid_column": null,
            "grid_gap": null,
            "grid_row": null,
            "grid_template_areas": null,
            "grid_template_columns": null,
            "grid_template_rows": null,
            "height": null,
            "justify_content": null,
            "justify_items": null,
            "left": null,
            "margin": null,
            "max_height": null,
            "max_width": null,
            "min_height": null,
            "min_width": null,
            "object_fit": null,
            "object_position": null,
            "order": null,
            "overflow": null,
            "overflow_x": null,
            "overflow_y": null,
            "padding": null,
            "right": null,
            "top": null,
            "visibility": null,
            "width": null
          }
        },
        "35797fd014784ae4b98324678410667e": {
          "model_module": "@jupyter-widgets/controls",
          "model_module_version": "1.5.0",
          "model_name": "HBoxModel",
          "state": {
            "_dom_classes": [],
            "_model_module": "@jupyter-widgets/controls",
            "_model_module_version": "1.5.0",
            "_model_name": "HBoxModel",
            "_view_count": null,
            "_view_module": "@jupyter-widgets/controls",
            "_view_module_version": "1.5.0",
            "_view_name": "HBoxView",
            "box_style": "",
            "children": [
              "IPY_MODEL_39384b61a1e240d8a1507745425bd647",
              "IPY_MODEL_9b02f00fe5254cb391654b48e2238694",
              "IPY_MODEL_bb5b67550a2449d3a13968714722c12d"
            ],
            "layout": "IPY_MODEL_72ae47288111494ea17211a148aa210a"
          }
        },
        "3689848f88144c9fae1a4679a2d2b285": {
          "model_module": "@jupyter-widgets/base",
          "model_module_version": "1.2.0",
          "model_name": "LayoutModel",
          "state": {
            "_model_module": "@jupyter-widgets/base",
            "_model_module_version": "1.2.0",
            "_model_name": "LayoutModel",
            "_view_count": null,
            "_view_module": "@jupyter-widgets/base",
            "_view_module_version": "1.2.0",
            "_view_name": "LayoutView",
            "align_content": null,
            "align_items": null,
            "align_self": null,
            "border": null,
            "bottom": null,
            "display": null,
            "flex": null,
            "flex_flow": null,
            "grid_area": null,
            "grid_auto_columns": null,
            "grid_auto_flow": null,
            "grid_auto_rows": null,
            "grid_column": null,
            "grid_gap": null,
            "grid_row": null,
            "grid_template_areas": null,
            "grid_template_columns": null,
            "grid_template_rows": null,
            "height": null,
            "justify_content": null,
            "justify_items": null,
            "left": null,
            "margin": null,
            "max_height": null,
            "max_width": null,
            "min_height": null,
            "min_width": null,
            "object_fit": null,
            "object_position": null,
            "order": null,
            "overflow": null,
            "overflow_x": null,
            "overflow_y": null,
            "padding": null,
            "right": null,
            "top": null,
            "visibility": null,
            "width": null
          }
        },
        "39384b61a1e240d8a1507745425bd647": {
          "model_module": "@jupyter-widgets/controls",
          "model_module_version": "1.5.0",
          "model_name": "HTMLModel",
          "state": {
            "_dom_classes": [],
            "_model_module": "@jupyter-widgets/controls",
            "_model_module_version": "1.5.0",
            "_model_name": "HTMLModel",
            "_view_count": null,
            "_view_module": "@jupyter-widgets/controls",
            "_view_module_version": "1.5.0",
            "_view_name": "HTMLView",
            "description": "",
            "description_tooltip": null,
            "layout": "IPY_MODEL_50580fbe2650405f8aa2462474e6bbc7",
            "placeholder": "​",
            "style": "IPY_MODEL_8591915be24b41509fb51b4695f9ecf1",
            "value": "100%"
          }
        },
        "3e4abfc234874050a17ad30215f695ef": {
          "model_module": "@jupyter-widgets/base",
          "model_module_version": "1.2.0",
          "model_name": "LayoutModel",
          "state": {
            "_model_module": "@jupyter-widgets/base",
            "_model_module_version": "1.2.0",
            "_model_name": "LayoutModel",
            "_view_count": null,
            "_view_module": "@jupyter-widgets/base",
            "_view_module_version": "1.2.0",
            "_view_name": "LayoutView",
            "align_content": null,
            "align_items": null,
            "align_self": null,
            "border": null,
            "bottom": null,
            "display": null,
            "flex": null,
            "flex_flow": null,
            "grid_area": null,
            "grid_auto_columns": null,
            "grid_auto_flow": null,
            "grid_auto_rows": null,
            "grid_column": null,
            "grid_gap": null,
            "grid_row": null,
            "grid_template_areas": null,
            "grid_template_columns": null,
            "grid_template_rows": null,
            "height": null,
            "justify_content": null,
            "justify_items": null,
            "left": null,
            "margin": null,
            "max_height": null,
            "max_width": null,
            "min_height": null,
            "min_width": null,
            "object_fit": null,
            "object_position": null,
            "order": null,
            "overflow": null,
            "overflow_x": null,
            "overflow_y": null,
            "padding": null,
            "right": null,
            "top": null,
            "visibility": null,
            "width": null
          }
        },
        "49382eca3f1b40999d91c6b24dfbc3f2": {
          "model_module": "@jupyter-widgets/controls",
          "model_module_version": "1.5.0",
          "model_name": "HBoxModel",
          "state": {
            "_dom_classes": [],
            "_model_module": "@jupyter-widgets/controls",
            "_model_module_version": "1.5.0",
            "_model_name": "HBoxModel",
            "_view_count": null,
            "_view_module": "@jupyter-widgets/controls",
            "_view_module_version": "1.5.0",
            "_view_name": "HBoxView",
            "box_style": "",
            "children": [
              "IPY_MODEL_94a05bc95a1c448689a1c570ee3e06e1",
              "IPY_MODEL_611f258f116b4588b1657c7a78d52710",
              "IPY_MODEL_d1decfa2fa8846f7a0dd006db576814d"
            ],
            "layout": "IPY_MODEL_8e3dff713e6b4ead80f2a484044eade0"
          }
        },
        "50580fbe2650405f8aa2462474e6bbc7": {
          "model_module": "@jupyter-widgets/base",
          "model_module_version": "1.2.0",
          "model_name": "LayoutModel",
          "state": {
            "_model_module": "@jupyter-widgets/base",
            "_model_module_version": "1.2.0",
            "_model_name": "LayoutModel",
            "_view_count": null,
            "_view_module": "@jupyter-widgets/base",
            "_view_module_version": "1.2.0",
            "_view_name": "LayoutView",
            "align_content": null,
            "align_items": null,
            "align_self": null,
            "border": null,
            "bottom": null,
            "display": null,
            "flex": null,
            "flex_flow": null,
            "grid_area": null,
            "grid_auto_columns": null,
            "grid_auto_flow": null,
            "grid_auto_rows": null,
            "grid_column": null,
            "grid_gap": null,
            "grid_row": null,
            "grid_template_areas": null,
            "grid_template_columns": null,
            "grid_template_rows": null,
            "height": null,
            "justify_content": null,
            "justify_items": null,
            "left": null,
            "margin": null,
            "max_height": null,
            "max_width": null,
            "min_height": null,
            "min_width": null,
            "object_fit": null,
            "object_position": null,
            "order": null,
            "overflow": null,
            "overflow_x": null,
            "overflow_y": null,
            "padding": null,
            "right": null,
            "top": null,
            "visibility": null,
            "width": null
          }
        },
        "5650092986fd42eebf38c049968847f9": {
          "model_module": "@jupyter-widgets/controls",
          "model_module_version": "1.5.0",
          "model_name": "HBoxModel",
          "state": {
            "_dom_classes": [],
            "_model_module": "@jupyter-widgets/controls",
            "_model_module_version": "1.5.0",
            "_model_name": "HBoxModel",
            "_view_count": null,
            "_view_module": "@jupyter-widgets/controls",
            "_view_module_version": "1.5.0",
            "_view_name": "HBoxView",
            "box_style": "",
            "children": [
              "IPY_MODEL_b5d1c79c99a9406899e0a4b363f15609",
              "IPY_MODEL_73a3e57e240646d88fb3f4f38b941ae6",
              "IPY_MODEL_90cddfec11a94f8ea24415d788ca6284"
            ],
            "layout": "IPY_MODEL_f8b2d20259ab41f4a255b9d135cc9fde"
          }
        },
        "5c2ef9a2cc9e4189a20f70559e967974": {
          "model_module": "@jupyter-widgets/base",
          "model_module_version": "1.2.0",
          "model_name": "LayoutModel",
          "state": {
            "_model_module": "@jupyter-widgets/base",
            "_model_module_version": "1.2.0",
            "_model_name": "LayoutModel",
            "_view_count": null,
            "_view_module": "@jupyter-widgets/base",
            "_view_module_version": "1.2.0",
            "_view_name": "LayoutView",
            "align_content": null,
            "align_items": null,
            "align_self": null,
            "border": null,
            "bottom": null,
            "display": null,
            "flex": null,
            "flex_flow": null,
            "grid_area": null,
            "grid_auto_columns": null,
            "grid_auto_flow": null,
            "grid_auto_rows": null,
            "grid_column": null,
            "grid_gap": null,
            "grid_row": null,
            "grid_template_areas": null,
            "grid_template_columns": null,
            "grid_template_rows": null,
            "height": null,
            "justify_content": null,
            "justify_items": null,
            "left": null,
            "margin": null,
            "max_height": null,
            "max_width": null,
            "min_height": null,
            "min_width": null,
            "object_fit": null,
            "object_position": null,
            "order": null,
            "overflow": null,
            "overflow_x": null,
            "overflow_y": null,
            "padding": null,
            "right": null,
            "top": null,
            "visibility": null,
            "width": null
          }
        },
        "611f258f116b4588b1657c7a78d52710": {
          "model_module": "@jupyter-widgets/controls",
          "model_module_version": "1.5.0",
          "model_name": "FloatProgressModel",
          "state": {
            "_dom_classes": [],
            "_model_module": "@jupyter-widgets/controls",
            "_model_module_version": "1.5.0",
            "_model_name": "FloatProgressModel",
            "_view_count": null,
            "_view_module": "@jupyter-widgets/controls",
            "_view_module_version": "1.5.0",
            "_view_name": "ProgressView",
            "bar_style": "success",
            "description": "",
            "description_tooltip": null,
            "layout": "IPY_MODEL_99621d36591549b79b19039d631edba7",
            "max": 1648877,
            "min": 0,
            "orientation": "horizontal",
            "style": "IPY_MODEL_f92f33f64a3a4dc288c09496f1009bef",
            "value": 1648877
          }
        },
        "62e3ed58cba04b9cb6d15f2c1d73b593": {
          "model_module": "@jupyter-widgets/controls",
          "model_module_version": "1.5.0",
          "model_name": "ProgressStyleModel",
          "state": {
            "_model_module": "@jupyter-widgets/controls",
            "_model_module_version": "1.5.0",
            "_model_name": "ProgressStyleModel",
            "_view_count": null,
            "_view_module": "@jupyter-widgets/base",
            "_view_module_version": "1.2.0",
            "_view_name": "StyleView",
            "bar_color": null,
            "description_width": ""
          }
        },
        "65e97ccfbd864fdab4f96b6103bb79a8": {
          "model_module": "@jupyter-widgets/controls",
          "model_module_version": "1.5.0",
          "model_name": "ProgressStyleModel",
          "state": {
            "_model_module": "@jupyter-widgets/controls",
            "_model_module_version": "1.5.0",
            "_model_name": "ProgressStyleModel",
            "_view_count": null,
            "_view_module": "@jupyter-widgets/base",
            "_view_module_version": "1.2.0",
            "_view_name": "StyleView",
            "bar_color": null,
            "description_width": ""
          }
        },
        "72ae47288111494ea17211a148aa210a": {
          "model_module": "@jupyter-widgets/base",
          "model_module_version": "1.2.0",
          "model_name": "LayoutModel",
          "state": {
            "_model_module": "@jupyter-widgets/base",
            "_model_module_version": "1.2.0",
            "_model_name": "LayoutModel",
            "_view_count": null,
            "_view_module": "@jupyter-widgets/base",
            "_view_module_version": "1.2.0",
            "_view_name": "LayoutView",
            "align_content": null,
            "align_items": null,
            "align_self": null,
            "border": null,
            "bottom": null,
            "display": null,
            "flex": null,
            "flex_flow": null,
            "grid_area": null,
            "grid_auto_columns": null,
            "grid_auto_flow": null,
            "grid_auto_rows": null,
            "grid_column": null,
            "grid_gap": null,
            "grid_row": null,
            "grid_template_areas": null,
            "grid_template_columns": null,
            "grid_template_rows": null,
            "height": null,
            "justify_content": null,
            "justify_items": null,
            "left": null,
            "margin": null,
            "max_height": null,
            "max_width": null,
            "min_height": null,
            "min_width": null,
            "object_fit": null,
            "object_position": null,
            "order": null,
            "overflow": null,
            "overflow_x": null,
            "overflow_y": null,
            "padding": null,
            "right": null,
            "top": null,
            "visibility": null,
            "width": null
          }
        },
        "73a3e57e240646d88fb3f4f38b941ae6": {
          "model_module": "@jupyter-widgets/controls",
          "model_module_version": "1.5.0",
          "model_name": "FloatProgressModel",
          "state": {
            "_dom_classes": [],
            "_model_module": "@jupyter-widgets/controls",
            "_model_module_version": "1.5.0",
            "_model_name": "FloatProgressModel",
            "_view_count": null,
            "_view_module": "@jupyter-widgets/controls",
            "_view_module_version": "1.5.0",
            "_view_name": "ProgressView",
            "bar_style": "success",
            "description": "",
            "description_tooltip": null,
            "layout": "IPY_MODEL_be45cf15bb8248f397c7e12b9b5eee70",
            "max": 28881,
            "min": 0,
            "orientation": "horizontal",
            "style": "IPY_MODEL_65e97ccfbd864fdab4f96b6103bb79a8",
            "value": 28881
          }
        },
        "73d66f6df7f24be48c8d357ddc2ab6bb": {
          "model_module": "@jupyter-widgets/controls",
          "model_module_version": "1.5.0",
          "model_name": "DescriptionStyleModel",
          "state": {
            "_model_module": "@jupyter-widgets/controls",
            "_model_module_version": "1.5.0",
            "_model_name": "DescriptionStyleModel",
            "_view_count": null,
            "_view_module": "@jupyter-widgets/base",
            "_view_module_version": "1.2.0",
            "_view_name": "StyleView",
            "description_width": ""
          }
        },
        "7ed918036dc94d789643efbac17979d3": {
          "model_module": "@jupyter-widgets/controls",
          "model_module_version": "1.5.0",
          "model_name": "DescriptionStyleModel",
          "state": {
            "_model_module": "@jupyter-widgets/controls",
            "_model_module_version": "1.5.0",
            "_model_name": "DescriptionStyleModel",
            "_view_count": null,
            "_view_module": "@jupyter-widgets/base",
            "_view_module_version": "1.2.0",
            "_view_name": "StyleView",
            "description_width": ""
          }
        },
        "8591915be24b41509fb51b4695f9ecf1": {
          "model_module": "@jupyter-widgets/controls",
          "model_module_version": "1.5.0",
          "model_name": "DescriptionStyleModel",
          "state": {
            "_model_module": "@jupyter-widgets/controls",
            "_model_module_version": "1.5.0",
            "_model_name": "DescriptionStyleModel",
            "_view_count": null,
            "_view_module": "@jupyter-widgets/base",
            "_view_module_version": "1.2.0",
            "_view_name": "StyleView",
            "description_width": ""
          }
        },
        "8ac1258fb0a44bd29269b5afba0c7614": {
          "model_module": "@jupyter-widgets/base",
          "model_module_version": "1.2.0",
          "model_name": "LayoutModel",
          "state": {
            "_model_module": "@jupyter-widgets/base",
            "_model_module_version": "1.2.0",
            "_model_name": "LayoutModel",
            "_view_count": null,
            "_view_module": "@jupyter-widgets/base",
            "_view_module_version": "1.2.0",
            "_view_name": "LayoutView",
            "align_content": null,
            "align_items": null,
            "align_self": null,
            "border": null,
            "bottom": null,
            "display": null,
            "flex": null,
            "flex_flow": null,
            "grid_area": null,
            "grid_auto_columns": null,
            "grid_auto_flow": null,
            "grid_auto_rows": null,
            "grid_column": null,
            "grid_gap": null,
            "grid_row": null,
            "grid_template_areas": null,
            "grid_template_columns": null,
            "grid_template_rows": null,
            "height": null,
            "justify_content": null,
            "justify_items": null,
            "left": null,
            "margin": null,
            "max_height": null,
            "max_width": null,
            "min_height": null,
            "min_width": null,
            "object_fit": null,
            "object_position": null,
            "order": null,
            "overflow": null,
            "overflow_x": null,
            "overflow_y": null,
            "padding": null,
            "right": null,
            "top": null,
            "visibility": null,
            "width": null
          }
        },
        "8e3dff713e6b4ead80f2a484044eade0": {
          "model_module": "@jupyter-widgets/base",
          "model_module_version": "1.2.0",
          "model_name": "LayoutModel",
          "state": {
            "_model_module": "@jupyter-widgets/base",
            "_model_module_version": "1.2.0",
            "_model_name": "LayoutModel",
            "_view_count": null,
            "_view_module": "@jupyter-widgets/base",
            "_view_module_version": "1.2.0",
            "_view_name": "LayoutView",
            "align_content": null,
            "align_items": null,
            "align_self": null,
            "border": null,
            "bottom": null,
            "display": null,
            "flex": null,
            "flex_flow": null,
            "grid_area": null,
            "grid_auto_columns": null,
            "grid_auto_flow": null,
            "grid_auto_rows": null,
            "grid_column": null,
            "grid_gap": null,
            "grid_row": null,
            "grid_template_areas": null,
            "grid_template_columns": null,
            "grid_template_rows": null,
            "height": null,
            "justify_content": null,
            "justify_items": null,
            "left": null,
            "margin": null,
            "max_height": null,
            "max_width": null,
            "min_height": null,
            "min_width": null,
            "object_fit": null,
            "object_position": null,
            "order": null,
            "overflow": null,
            "overflow_x": null,
            "overflow_y": null,
            "padding": null,
            "right": null,
            "top": null,
            "visibility": null,
            "width": null
          }
        },
        "90cddfec11a94f8ea24415d788ca6284": {
          "model_module": "@jupyter-widgets/controls",
          "model_module_version": "1.5.0",
          "model_name": "HTMLModel",
          "state": {
            "_dom_classes": [],
            "_model_module": "@jupyter-widgets/controls",
            "_model_module_version": "1.5.0",
            "_model_name": "HTMLModel",
            "_view_count": null,
            "_view_module": "@jupyter-widgets/controls",
            "_view_module_version": "1.5.0",
            "_view_name": "HTMLView",
            "description": "",
            "description_tooltip": null,
            "layout": "IPY_MODEL_b10a2b5322f3414383407ae5654e597e",
            "placeholder": "​",
            "style": "IPY_MODEL_fbb7f2f6b86d434fb01e804d713c59bd",
            "value": " 28881/28881 [00:00&lt;00:00, 391950.06it/s]"
          }
        },
        "94a05bc95a1c448689a1c570ee3e06e1": {
          "model_module": "@jupyter-widgets/controls",
          "model_module_version": "1.5.0",
          "model_name": "HTMLModel",
          "state": {
            "_dom_classes": [],
            "_model_module": "@jupyter-widgets/controls",
            "_model_module_version": "1.5.0",
            "_model_name": "HTMLModel",
            "_view_count": null,
            "_view_module": "@jupyter-widgets/controls",
            "_view_module_version": "1.5.0",
            "_view_name": "HTMLView",
            "description": "",
            "description_tooltip": null,
            "layout": "IPY_MODEL_25b54c7509bf4e6a9a14b00d2faf1525",
            "placeholder": "​",
            "style": "IPY_MODEL_e70a8735083b4c1ca2abebad798c905d",
            "value": "100%"
          }
        },
        "9810a7af1bcf424cb5764270374aa680": {
          "model_module": "@jupyter-widgets/controls",
          "model_module_version": "1.5.0",
          "model_name": "ProgressStyleModel",
          "state": {
            "_model_module": "@jupyter-widgets/controls",
            "_model_module_version": "1.5.0",
            "_model_name": "ProgressStyleModel",
            "_view_count": null,
            "_view_module": "@jupyter-widgets/base",
            "_view_module_version": "1.2.0",
            "_view_name": "StyleView",
            "bar_color": null,
            "description_width": ""
          }
        },
        "99621d36591549b79b19039d631edba7": {
          "model_module": "@jupyter-widgets/base",
          "model_module_version": "1.2.0",
          "model_name": "LayoutModel",
          "state": {
            "_model_module": "@jupyter-widgets/base",
            "_model_module_version": "1.2.0",
            "_model_name": "LayoutModel",
            "_view_count": null,
            "_view_module": "@jupyter-widgets/base",
            "_view_module_version": "1.2.0",
            "_view_name": "LayoutView",
            "align_content": null,
            "align_items": null,
            "align_self": null,
            "border": null,
            "bottom": null,
            "display": null,
            "flex": null,
            "flex_flow": null,
            "grid_area": null,
            "grid_auto_columns": null,
            "grid_auto_flow": null,
            "grid_auto_rows": null,
            "grid_column": null,
            "grid_gap": null,
            "grid_row": null,
            "grid_template_areas": null,
            "grid_template_columns": null,
            "grid_template_rows": null,
            "height": null,
            "justify_content": null,
            "justify_items": null,
            "left": null,
            "margin": null,
            "max_height": null,
            "max_width": null,
            "min_height": null,
            "min_width": null,
            "object_fit": null,
            "object_position": null,
            "order": null,
            "overflow": null,
            "overflow_x": null,
            "overflow_y": null,
            "padding": null,
            "right": null,
            "top": null,
            "visibility": null,
            "width": null
          }
        },
        "9b02f00fe5254cb391654b48e2238694": {
          "model_module": "@jupyter-widgets/controls",
          "model_module_version": "1.5.0",
          "model_name": "FloatProgressModel",
          "state": {
            "_dom_classes": [],
            "_model_module": "@jupyter-widgets/controls",
            "_model_module_version": "1.5.0",
            "_model_name": "FloatProgressModel",
            "_view_count": null,
            "_view_module": "@jupyter-widgets/controls",
            "_view_module_version": "1.5.0",
            "_view_name": "ProgressView",
            "bar_style": "success",
            "description": "",
            "description_tooltip": null,
            "layout": "IPY_MODEL_cffc82668cec4f7d8efe93c5a05fb7ad",
            "max": 9912422,
            "min": 0,
            "orientation": "horizontal",
            "style": "IPY_MODEL_62e3ed58cba04b9cb6d15f2c1d73b593",
            "value": 9912422
          }
        },
        "a7cdc83ddb6444e1b0cb870181cbad86": {
          "model_module": "@jupyter-widgets/controls",
          "model_module_version": "1.5.0",
          "model_name": "DescriptionStyleModel",
          "state": {
            "_model_module": "@jupyter-widgets/controls",
            "_model_module_version": "1.5.0",
            "_model_name": "DescriptionStyleModel",
            "_view_count": null,
            "_view_module": "@jupyter-widgets/base",
            "_view_module_version": "1.2.0",
            "_view_name": "StyleView",
            "description_width": ""
          }
        },
        "b10a2b5322f3414383407ae5654e597e": {
          "model_module": "@jupyter-widgets/base",
          "model_module_version": "1.2.0",
          "model_name": "LayoutModel",
          "state": {
            "_model_module": "@jupyter-widgets/base",
            "_model_module_version": "1.2.0",
            "_model_name": "LayoutModel",
            "_view_count": null,
            "_view_module": "@jupyter-widgets/base",
            "_view_module_version": "1.2.0",
            "_view_name": "LayoutView",
            "align_content": null,
            "align_items": null,
            "align_self": null,
            "border": null,
            "bottom": null,
            "display": null,
            "flex": null,
            "flex_flow": null,
            "grid_area": null,
            "grid_auto_columns": null,
            "grid_auto_flow": null,
            "grid_auto_rows": null,
            "grid_column": null,
            "grid_gap": null,
            "grid_row": null,
            "grid_template_areas": null,
            "grid_template_columns": null,
            "grid_template_rows": null,
            "height": null,
            "justify_content": null,
            "justify_items": null,
            "left": null,
            "margin": null,
            "max_height": null,
            "max_width": null,
            "min_height": null,
            "min_width": null,
            "object_fit": null,
            "object_position": null,
            "order": null,
            "overflow": null,
            "overflow_x": null,
            "overflow_y": null,
            "padding": null,
            "right": null,
            "top": null,
            "visibility": null,
            "width": null
          }
        },
        "b5d1c79c99a9406899e0a4b363f15609": {
          "model_module": "@jupyter-widgets/controls",
          "model_module_version": "1.5.0",
          "model_name": "HTMLModel",
          "state": {
            "_dom_classes": [],
            "_model_module": "@jupyter-widgets/controls",
            "_model_module_version": "1.5.0",
            "_model_name": "HTMLModel",
            "_view_count": null,
            "_view_module": "@jupyter-widgets/controls",
            "_view_module_version": "1.5.0",
            "_view_name": "HTMLView",
            "description": "",
            "description_tooltip": null,
            "layout": "IPY_MODEL_2e6f5363febd4a15b167a45dfb973996",
            "placeholder": "​",
            "style": "IPY_MODEL_263381ade6b54cdfb7d1fb27fa011df3",
            "value": "100%"
          }
        },
        "bb5b67550a2449d3a13968714722c12d": {
          "model_module": "@jupyter-widgets/controls",
          "model_module_version": "1.5.0",
          "model_name": "HTMLModel",
          "state": {
            "_dom_classes": [],
            "_model_module": "@jupyter-widgets/controls",
            "_model_module_version": "1.5.0",
            "_model_name": "HTMLModel",
            "_view_count": null,
            "_view_module": "@jupyter-widgets/controls",
            "_view_module_version": "1.5.0",
            "_view_name": "HTMLView",
            "description": "",
            "description_tooltip": null,
            "layout": "IPY_MODEL_3689848f88144c9fae1a4679a2d2b285",
            "placeholder": "​",
            "style": "IPY_MODEL_73d66f6df7f24be48c8d357ddc2ab6bb",
            "value": " 9912422/9912422 [00:00&lt;00:00, 4074605.57it/s]"
          }
        },
        "be45cf15bb8248f397c7e12b9b5eee70": {
          "model_module": "@jupyter-widgets/base",
          "model_module_version": "1.2.0",
          "model_name": "LayoutModel",
          "state": {
            "_model_module": "@jupyter-widgets/base",
            "_model_module_version": "1.2.0",
            "_model_name": "LayoutModel",
            "_view_count": null,
            "_view_module": "@jupyter-widgets/base",
            "_view_module_version": "1.2.0",
            "_view_name": "LayoutView",
            "align_content": null,
            "align_items": null,
            "align_self": null,
            "border": null,
            "bottom": null,
            "display": null,
            "flex": null,
            "flex_flow": null,
            "grid_area": null,
            "grid_auto_columns": null,
            "grid_auto_flow": null,
            "grid_auto_rows": null,
            "grid_column": null,
            "grid_gap": null,
            "grid_row": null,
            "grid_template_areas": null,
            "grid_template_columns": null,
            "grid_template_rows": null,
            "height": null,
            "justify_content": null,
            "justify_items": null,
            "left": null,
            "margin": null,
            "max_height": null,
            "max_width": null,
            "min_height": null,
            "min_width": null,
            "object_fit": null,
            "object_position": null,
            "order": null,
            "overflow": null,
            "overflow_x": null,
            "overflow_y": null,
            "padding": null,
            "right": null,
            "top": null,
            "visibility": null,
            "width": null
          }
        },
        "cffc82668cec4f7d8efe93c5a05fb7ad": {
          "model_module": "@jupyter-widgets/base",
          "model_module_version": "1.2.0",
          "model_name": "LayoutModel",
          "state": {
            "_model_module": "@jupyter-widgets/base",
            "_model_module_version": "1.2.0",
            "_model_name": "LayoutModel",
            "_view_count": null,
            "_view_module": "@jupyter-widgets/base",
            "_view_module_version": "1.2.0",
            "_view_name": "LayoutView",
            "align_content": null,
            "align_items": null,
            "align_self": null,
            "border": null,
            "bottom": null,
            "display": null,
            "flex": null,
            "flex_flow": null,
            "grid_area": null,
            "grid_auto_columns": null,
            "grid_auto_flow": null,
            "grid_auto_rows": null,
            "grid_column": null,
            "grid_gap": null,
            "grid_row": null,
            "grid_template_areas": null,
            "grid_template_columns": null,
            "grid_template_rows": null,
            "height": null,
            "justify_content": null,
            "justify_items": null,
            "left": null,
            "margin": null,
            "max_height": null,
            "max_width": null,
            "min_height": null,
            "min_width": null,
            "object_fit": null,
            "object_position": null,
            "order": null,
            "overflow": null,
            "overflow_x": null,
            "overflow_y": null,
            "padding": null,
            "right": null,
            "top": null,
            "visibility": null,
            "width": null
          }
        },
        "d1decfa2fa8846f7a0dd006db576814d": {
          "model_module": "@jupyter-widgets/controls",
          "model_module_version": "1.5.0",
          "model_name": "HTMLModel",
          "state": {
            "_dom_classes": [],
            "_model_module": "@jupyter-widgets/controls",
            "_model_module_version": "1.5.0",
            "_model_name": "HTMLModel",
            "_view_count": null,
            "_view_module": "@jupyter-widgets/controls",
            "_view_module_version": "1.5.0",
            "_view_name": "HTMLView",
            "description": "",
            "description_tooltip": null,
            "layout": "IPY_MODEL_3e4abfc234874050a17ad30215f695ef",
            "placeholder": "​",
            "style": "IPY_MODEL_7ed918036dc94d789643efbac17979d3",
            "value": " 1648877/1648877 [00:00&lt;00:00, 4579041.64it/s]"
          }
        },
        "e28b0e4ee60348278f4495c8a64dfbe6": {
          "model_module": "@jupyter-widgets/base",
          "model_module_version": "1.2.0",
          "model_name": "LayoutModel",
          "state": {
            "_model_module": "@jupyter-widgets/base",
            "_model_module_version": "1.2.0",
            "_model_name": "LayoutModel",
            "_view_count": null,
            "_view_module": "@jupyter-widgets/base",
            "_view_module_version": "1.2.0",
            "_view_name": "LayoutView",
            "align_content": null,
            "align_items": null,
            "align_self": null,
            "border": null,
            "bottom": null,
            "display": null,
            "flex": null,
            "flex_flow": null,
            "grid_area": null,
            "grid_auto_columns": null,
            "grid_auto_flow": null,
            "grid_auto_rows": null,
            "grid_column": null,
            "grid_gap": null,
            "grid_row": null,
            "grid_template_areas": null,
            "grid_template_columns": null,
            "grid_template_rows": null,
            "height": null,
            "justify_content": null,
            "justify_items": null,
            "left": null,
            "margin": null,
            "max_height": null,
            "max_width": null,
            "min_height": null,
            "min_width": null,
            "object_fit": null,
            "object_position": null,
            "order": null,
            "overflow": null,
            "overflow_x": null,
            "overflow_y": null,
            "padding": null,
            "right": null,
            "top": null,
            "visibility": null,
            "width": null
          }
        },
        "e70a8735083b4c1ca2abebad798c905d": {
          "model_module": "@jupyter-widgets/controls",
          "model_module_version": "1.5.0",
          "model_name": "DescriptionStyleModel",
          "state": {
            "_model_module": "@jupyter-widgets/controls",
            "_model_module_version": "1.5.0",
            "_model_name": "DescriptionStyleModel",
            "_view_count": null,
            "_view_module": "@jupyter-widgets/base",
            "_view_module_version": "1.2.0",
            "_view_name": "StyleView",
            "description_width": ""
          }
        },
        "eda0f89ab9ee4ef0843f6436ef133221": {
          "model_module": "@jupyter-widgets/controls",
          "model_module_version": "1.5.0",
          "model_name": "DescriptionStyleModel",
          "state": {
            "_model_module": "@jupyter-widgets/controls",
            "_model_module_version": "1.5.0",
            "_model_name": "DescriptionStyleModel",
            "_view_count": null,
            "_view_module": "@jupyter-widgets/base",
            "_view_module_version": "1.2.0",
            "_view_name": "StyleView",
            "description_width": ""
          }
        },
        "f1a65fa4e21e48349d85da6db26df1c4": {
          "model_module": "@jupyter-widgets/controls",
          "model_module_version": "1.5.0",
          "model_name": "HTMLModel",
          "state": {
            "_dom_classes": [],
            "_model_module": "@jupyter-widgets/controls",
            "_model_module_version": "1.5.0",
            "_model_name": "HTMLModel",
            "_view_count": null,
            "_view_module": "@jupyter-widgets/controls",
            "_view_module_version": "1.5.0",
            "_view_name": "HTMLView",
            "description": "",
            "description_tooltip": null,
            "layout": "IPY_MODEL_0041f2b533e74cbe919559f715b9bfd5",
            "placeholder": "​",
            "style": "IPY_MODEL_a7cdc83ddb6444e1b0cb870181cbad86",
            "value": " 4542/4542 [00:00&lt;00:00, 43612.25it/s]"
          }
        },
        "f8b2d20259ab41f4a255b9d135cc9fde": {
          "model_module": "@jupyter-widgets/base",
          "model_module_version": "1.2.0",
          "model_name": "LayoutModel",
          "state": {
            "_model_module": "@jupyter-widgets/base",
            "_model_module_version": "1.2.0",
            "_model_name": "LayoutModel",
            "_view_count": null,
            "_view_module": "@jupyter-widgets/base",
            "_view_module_version": "1.2.0",
            "_view_name": "LayoutView",
            "align_content": null,
            "align_items": null,
            "align_self": null,
            "border": null,
            "bottom": null,
            "display": null,
            "flex": null,
            "flex_flow": null,
            "grid_area": null,
            "grid_auto_columns": null,
            "grid_auto_flow": null,
            "grid_auto_rows": null,
            "grid_column": null,
            "grid_gap": null,
            "grid_row": null,
            "grid_template_areas": null,
            "grid_template_columns": null,
            "grid_template_rows": null,
            "height": null,
            "justify_content": null,
            "justify_items": null,
            "left": null,
            "margin": null,
            "max_height": null,
            "max_width": null,
            "min_height": null,
            "min_width": null,
            "object_fit": null,
            "object_position": null,
            "order": null,
            "overflow": null,
            "overflow_x": null,
            "overflow_y": null,
            "padding": null,
            "right": null,
            "top": null,
            "visibility": null,
            "width": null
          }
        },
        "f92f33f64a3a4dc288c09496f1009bef": {
          "model_module": "@jupyter-widgets/controls",
          "model_module_version": "1.5.0",
          "model_name": "ProgressStyleModel",
          "state": {
            "_model_module": "@jupyter-widgets/controls",
            "_model_module_version": "1.5.0",
            "_model_name": "ProgressStyleModel",
            "_view_count": null,
            "_view_module": "@jupyter-widgets/base",
            "_view_module_version": "1.2.0",
            "_view_name": "StyleView",
            "bar_color": null,
            "description_width": ""
          }
        },
        "fbb7f2f6b86d434fb01e804d713c59bd": {
          "model_module": "@jupyter-widgets/controls",
          "model_module_version": "1.5.0",
          "model_name": "DescriptionStyleModel",
          "state": {
            "_model_module": "@jupyter-widgets/controls",
            "_model_module_version": "1.5.0",
            "_model_name": "DescriptionStyleModel",
            "_view_count": null,
            "_view_module": "@jupyter-widgets/base",
            "_view_module_version": "1.2.0",
            "_view_name": "StyleView",
            "description_width": ""
          }
        }
      }
    }
  },
  "nbformat": 4,
  "nbformat_minor": 0
}
