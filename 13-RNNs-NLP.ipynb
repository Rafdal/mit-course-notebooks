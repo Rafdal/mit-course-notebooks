{
  "cells": [
    {
      "cell_type": "markdown",
      "metadata": {
        "id": "aZVJ8gUn1RR9"
      },
      "source": [
        "# Módulo 5: Introducción a las RNN y el PLN en PyTorch\n",
        "\n",
        "Hasta ahora, no hemos aplicado las capacidades de PyTorch para resolver problemas de procesamiendo del lenguaje natural (PLN). El campo del PLN es un ámbito muy emocionante en el que aplicar las técnicas de *deep learning*. Al igual que sucede con la visión artificial, existen diferentes tipos de problemas de PLN. Entre ellos, la clasificación, el resumen y el mapeado secuencia a secuencia. Por último, queremos implementar un modelo que resuelva un problema muy habitual de mapeado secuencia a secuencia: la traducción automática. Sin embargo, para desarrollar las herramientas de PLN necesarias, antes examinaremos tareas más sencillas, como completar tareas y frases."
      ]
    },
    {
      "cell_type": "markdown",
      "metadata": {
        "id": "ptJiFULG2AiJ"
      },
      "source": [
        "## Definición del problema\n",
        "\n",
        "Los problemas de mapeado secuencia a secuencia son, por su propia naturaleza, diferentes de las tareas de aprendizaje que hemos resuelto hasta ahora. En la clasificación de imágenes, existe una etiqueta de clase diferenciada, una correspondencia uno a uno entre el *input* y el *output*. En el mapeado secuencia a secuencia, el *input* consiste en muchas muestras discretas o, en este caso, caracteres. Además, el *output* es también una secuencia de caracteres."
      ]
    },
    {
      "cell_type": "markdown",
      "metadata": {
        "id": "cu4mucQioGZA"
      },
      "source": [
        "## Conjunto de datos\n",
        "\n",
        "Utilizaremos una base de datos de pares de frases en inglés y español. Más adelante, utilizaremos el mismo conjunto para una tarea de traducción automática, pero de momento solo nos interesa examinar las frases en inglés. \n",
        "\n",
        "El tutorial de PyTorch [NLP From Scratch](https://pytorch.org/tutorials/intermediate/seq2seq_translation_tutorial.html) utiliza un conjunto de datos en inglés y francés para realizar una tarea de traducción, y fue lo que nos inspiró a utilizar este conjunto. Realizaremos un proceso de limpieza de datos y aplicaremos funciones de utilidad similares a las del tutorial."
      ]
    },
    {
      "cell_type": "code",
      "execution_count": 1,
      "metadata": {
        "id": "yrzZRul42zJs"
      },
      "outputs": [],
      "source": [
        "from io import open\n",
        "import unicodedata\n",
        "import string\n",
        "import random\n",
        "import re\n",
        "\n",
        "import torch\n",
        "import torch.nn as nn\n",
        "import numpy as np\n",
        "from torch.utils.data import Subset\n",
        "from torch.utils.data import TensorDataset, DataLoader\n",
        "import time, copy\n",
        "import matplotlib.pyplot as plt\n",
        "import sklearn.metrics as metrics\n",
        "\n",
        "device = torch.device(\"cuda\" if torch.cuda.is_available() else \"cpu\")\n",
        "device = torch.device(\"cpu\")"
      ]
    },
    {
      "cell_type": "code",
      "execution_count": 2,
      "metadata": {
        "colab": {
          "base_uri": "https://localhost:8080/"
        },
        "id": "FoRgk40z3kJk",
        "outputId": "0336ced6-ef28-4362-c034-4e2892ddb8ce"
      },
      "outputs": [
        {
          "name": "stdout",
          "output_type": "stream",
          "text": [
            "rm: cannot remove 'spa-eng.zip': No such file or directory\n",
            "rm: cannot remove '_about.txt': No such file or directory\n",
            "rm: cannot remove 'spa.txt': No such file or directory\n",
            "--2023-01-17 19:54:58--  https://www.manythings.org/anki/spa-eng.zip\n",
            "Resolving www.manythings.org (www.manythings.org)... 173.254.30.110\n",
            "Connecting to www.manythings.org (www.manythings.org)|173.254.30.110|:443... connected.\n",
            "HTTP request sent, awaiting response... 200 OK\n",
            "Length: 5336731 (5,1M) [application/zip]\n",
            "Saving to: ‘spa-eng.zip’\n",
            "\n",
            "spa-eng.zip         100%[===================>]   5,09M  1,60MB/s    in 3,2s    \n",
            "\n",
            "2023-01-17 19:55:04 (1,60 MB/s) - ‘spa-eng.zip’ saved [5336731/5336731]\n",
            "\n",
            "Archive:  spa-eng.zip\n",
            "  inflating: _about.txt              \n",
            "  inflating: spa.txt                 \n",
            "10-CNNs.ipynb\t\t\t  7-pytorch-ejemplo.ipynb\n",
            "11-TAREA-FashionMNIST.ipynb\t  8-TAREA-MNIST.ipynb\n",
            "12-Transfer_Learning.ipynb\t  9-Autoencoders.ipynb\n",
            "13-RNNs-NLP.ipynb\t\t  abalone.data\n",
            "1-grad_desc.ipynb\t\t  abalone.names\n",
            "2-gradiente.ipynb\t\t  _about.txt\n",
            "3-python-classes.ipynb\t\t  FashionMNIST\n",
            "4-neurona.ipynb\t\t\t  gtsrb\n",
            "5-TAREA-Vinos.ipynb\t\t  MNIST\n",
            "6.5.0-TEST.ipynb\t\t  spa-eng.zip\n",
            "6.5.1-TEST.ipynb\t\t  spa.txt\n",
            "6.5.2-TEST.ipynb\t\t  winequality-red.csv\n",
            "6.5.3-TEST.ipynb\t\t  winequality-white.csv\n",
            "6-redes-neuronales-pytorch.ipynb\n"
          ]
        }
      ],
      "source": [
        "# Descargar y descomprimir el archivo de texto que contiene todas las frases traducidas\n",
        "!rm spa-eng.zip _about.txt spa.txt\n",
        "!wget https://www.manythings.org/anki/spa-eng.zip\n",
        "!unzip spa-eng.zip\n",
        "!ls"
      ]
    },
    {
      "cell_type": "markdown",
      "metadata": {
        "id": "3KUUMOgBsqIq"
      },
      "source": [
        "Estas funciones de ayuda limpian el conjunto de datos para garantizar que la red neuronal pueda utilizar las frases. Para obtener más información, visite el enlace que aparece en el siguiente comentario."
      ]
    },
    {
      "cell_type": "code",
      "execution_count": 4,
      "metadata": {
        "id": "66lR-Qyl8BYs"
      },
      "outputs": [],
      "source": [
        "# Funciones de ayuda combinadas del tutorial de PyTorch: https://pytorch.org/tutorials/intermediate/seq2seq_translation_tutorial.html\n",
        "\n",
        "# Convertir una string de Unicode a ASCII plano, gracias a\n",
        "# https://stackoverflow.com/a/518232/2809427\n",
        "def unicodeToAscii(s):\n",
        "    return ''.join(\n",
        "        c for c in unicodedata.normalize('NFD', s)\n",
        "        if unicodedata.category(c) != 'Mn'\n",
        "    )\n",
        "\n",
        "# Convertir los caracteres a minúsculas, recortar y eliminar todos los caracteres que no sean letras\n",
        "# Este paso es importante para que todas las palabras tengan el mismo formato,\n",
        "# igual que sucede al normalizar imágenes\n",
        "def normalizeString(s):\n",
        "    s = unicodeToAscii(s.lower().strip())\n",
        "    s = re.sub(r\"([.!?])\", r\"\", s)\n",
        "    s = re.sub(r\"[^a-zA-Z.!'?]+\", r\" \", s)\n",
        "    return s\n",
        "\n",
        "def parse_data(filename):\n",
        "    # Leer el archivo y dividir en líneas\n",
        "    lines = open(filename, encoding='utf-8').read().strip().split('\\n')\n",
        "\n",
        "    # Dividir cada línea en pares y normalizar\n",
        "    pairs = [[normalizeString(s) for s in l.split('\\t')] for l in lines]\n",
        "    # Eliminar la atribución, porque no forma parte de los datos\n",
        "    pairs = [[pair[0], pair[1]] for pair in pairs]\n",
        "\n",
        "    return pairs"
      ]
    },
    {
      "cell_type": "code",
      "execution_count": 5,
      "metadata": {
        "colab": {
          "base_uri": "https://localhost:8080/"
        },
        "id": "Ti0WFHKX9-k-",
        "outputId": "0595117b-ebf7-44b6-912a-02ba459e746c"
      },
      "outputs": [
        {
          "name": "stdout",
          "output_type": "stream",
          "text": [
            "Number of English sentences: 139013\n"
          ]
        }
      ],
      "source": [
        "pairs = parse_data(\"spa.txt\")\n",
        "# Solo nos interesan las frases en inglés, porque no vamos a traducir\n",
        "english_sentences = [pair[0] for pair in pairs]\n",
        "# Mezclar el conjunto de datos\n",
        "random.shuffle(english_sentences)\n",
        "print(\"Number of English sentences:\", len(english_sentences))"
      ]
    },
    {
      "cell_type": "code",
      "execution_count": 6,
      "metadata": {
        "id": "IxR_MgYJ3-dt"
      },
      "outputs": [],
      "source": [
        "# Incluiremos todas las letras ascii y algunos caracteres habituales en el conjunto de caracteres válidos\n",
        "letters = string.ascii_letters + \" .,;'-\"\n",
        "num_letters = len(letters) + 1 # Tenemos que añadir 1 para tener en cuenta la etiqueta \"Fin\""
      ]
    },
    {
      "cell_type": "code",
      "execution_count": 7,
      "metadata": {
        "colab": {
          "base_uri": "https://localhost:8080/"
        },
        "id": "wvh6cZbVd_Ro",
        "outputId": "a54e5c2f-279d-418d-8a4d-7c3c6d9d1995"
      },
      "outputs": [
        {
          "name": "stdout",
          "output_type": "stream",
          "text": [
            "abcdefghijklmnopqrstuvwxyzABCDEFGHIJKLMNOPQRSTUVWXYZ\n"
          ]
        }
      ],
      "source": [
        "print(string.ascii_letters)"
      ]
    },
    {
      "cell_type": "markdown",
      "metadata": {
        "id": "oxGSbaJKzoHj"
      },
      "source": [
        "## Completar palabras\n",
        "\n",
        "Para la primera ronda, vamos a tomar una muestra de las palabras que aparecen en las frases y a predecir palabras completas a partir de un subconjunto de caracteres."
      ]
    },
    {
      "cell_type": "code",
      "execution_count": 8,
      "metadata": {
        "id": "BngUGRRE-8P0"
      },
      "outputs": [],
      "source": [
        "# Reducir las frases a palabras y eliminar '.'\n",
        "words = [word for sentence in english_sentences for word in sentence.split(' ') if word not in ['.', '!', '?'] and len(word) > 0 and '\\'' not in word]\n",
        "\n",
        "# Como ya hemos mezclado el conjunto de datos, tomamos una muestra aleatoria de palabras para los subconjuntos de entrenamiento, validación y prueba\n",
        "train_words = words[:20000]\n",
        "val_words = words[20000:25000]\n",
        "test_words = words[25000:30000]"
      ]
    },
    {
      "cell_type": "code",
      "execution_count": 9,
      "metadata": {
        "colab": {
          "base_uri": "https://localhost:8080/"
        },
        "id": "1lRu7wFReUMY",
        "outputId": "0716eb66-be91-4cba-9ca5-21f7a6425891"
      },
      "outputs": [
        {
          "name": "stdout",
          "output_type": "stream",
          "text": [
            "['have', 'a', 'nice', 'weekend', 'we', 'came', 'together', 'just', 'let', 'me', 'sleep', 'i', 'have', 'no', 'time', 'for', 'games', 'stop', 'asking', 'so', 'many', 'questions', 'tom', 'told', 'me', 'that', 'he', 'spoke', 'french', 'he', 'had', 'a', 'stroke', 'tom', 'went', 'out', 'to', 'eat', 'why', 'are', 'you', 'two', 'always', 'fighting', 'tom', 'stood', 'up', 'again', 'i', 'heard', 'you', 'were', 'back', 'in', 'town', 'tom', 'fed', 'his', 'dog', 'table', 'scraps', 'tom', 'sprained', 'his', 'ankle', 'terrible', 'advice', 'koko', 'is', 'a', 'female', 'gorilla', 'old', 'soldiers', 'never', 'die', 'they', 'just', 'fade', 'away', 'this', 'will', 'keep', 'you', 'warm', 'i', 'want', 'you', 'to', 'understand', 'my', 'situation', 'could', 'you', 'please', 'explain', 'it', 'once', 'more', 'i']\n"
          ]
        }
      ],
      "source": [
        "print(train_words[:100])"
      ]
    },
    {
      "cell_type": "markdown",
      "metadata": {
        "id": "pszv87RStebQ"
      },
      "source": [
        "### Codificación\n",
        "\n",
        "Ahora que tenemos todas las palabras en formato de *string*, debemos codificarlas en una representación que la red neuronal pueda interpretar. Crearemos un vector de codificación *one-hot* para cada caracter, y los encadenaremos para que representen una palabra específica para las muestras de *input* de entrenamiento.\n",
        "\n",
        "Puesto que estamos utilizando una RNN, introduciremos estos vectores de caracteres de uno en uno. El objetivo de la RNN es predecir el *siguiente* caracter de la palabra. Eso permite a la red generar una palabra a partir de una única letra o un prefijo. Además, necesitamos que la red aprenda cuándo termina una palabra. Para ello, designaremos un caracter especial al final de cada secuencia (EOS) que se debería predecir a partir del último caracter de una palabra.\n",
        "\n",
        "Designaremos dos secuencias de tensores. En primer lugar, el `input_tensor`, que se representa como una concatenación de los vectores de codificación *one-hot* para cada caracter. La segunda secuencia de tensores, `target_tensor`, contiene el vector de codificación *one-hot* para los caracteres de la secuencia de *output*.\n",
        "\n",
        "Por lo tanto, la secuencia objetivo será la codificación de `input_word[1:]` más un símbolo adicional que represente el final de la palabra.Esto alinea cada uno de los vectores de codificación *one-hot* de la muestra de *input* de entrenamiento con el vector de codificación *one-hot* que está intentando predecir."
      ]
    },
    {
      "cell_type": "code",
      "execution_count": 10,
      "metadata": {
        "id": "3MLDsB9KSYvQ"
      },
      "outputs": [],
      "source": [
        "# Crear las muestras de entrenamiento:\n",
        "\n",
        "# Adaptado de https://pytorch.org/tutorials/intermediate/char_rnn_generation_tutorial.html\n",
        "# Matriz one-hot de letras de la primera a la última (sin incluir EOS) como input\n",
        "def input_tensor(word):\n",
        "    tensor = torch.zeros(len(word), 1, num_letters)\n",
        "    for idx in range(len(word)):\n",
        "        letter = word[idx]\n",
        "        tensor[idx][0][letters.find(letter)] = 1\n",
        "    return tensor\n",
        "\n",
        "# LongTensor desde la segunda letra al final (EOS) como objetivo\n",
        "def target_tensor(word):\n",
        "    tensor = torch.zeros(len(word), 1, num_letters)\n",
        "    for idx in range(1, len(word)):\n",
        "        letter = word[idx]\n",
        "        tensor[idx-1][0][letters.find(letter)] = 1\n",
        "    tensor[len(word)-1][0][num_letters-1] = 1 # EOS\n",
        "    return tensor\n",
        "\n",
        "train_input = [input_tensor(word) for word in train_words]\n",
        "train_target = [target_tensor(word) for word in train_words]\n",
        "val_input = [input_tensor(word) for word in val_words]\n",
        "val_target = [target_tensor(word) for word in val_words]\n",
        "test_input = [input_tensor(word) for word in test_words]\n",
        "test_target = [target_tensor(word) for word in test_words]"
      ]
    },
    {
      "cell_type": "code",
      "execution_count": 11,
      "metadata": {
        "colab": {
          "base_uri": "https://localhost:8080/"
        },
        "id": "xqsnvhHEaWCF",
        "outputId": "034443c1-35e9-46b3-d3b4-9fb3378245c9"
      },
      "outputs": [
        {
          "name": "stdout",
          "output_type": "stream",
          "text": [
            "have [encode as] tensor([[[0., 0., 0., 0., 0., 0., 0., 1., 0., 0., 0., 0., 0., 0., 0., 0., 0.,\n",
            "          0., 0., 0., 0., 0., 0., 0., 0., 0., 0., 0., 0., 0., 0., 0., 0., 0.,\n",
            "          0., 0., 0., 0., 0., 0., 0., 0., 0., 0., 0., 0., 0., 0., 0., 0., 0.,\n",
            "          0., 0., 0., 0., 0., 0., 0., 0.]],\n",
            "\n",
            "        [[1., 0., 0., 0., 0., 0., 0., 0., 0., 0., 0., 0., 0., 0., 0., 0., 0.,\n",
            "          0., 0., 0., 0., 0., 0., 0., 0., 0., 0., 0., 0., 0., 0., 0., 0., 0.,\n",
            "          0., 0., 0., 0., 0., 0., 0., 0., 0., 0., 0., 0., 0., 0., 0., 0., 0.,\n",
            "          0., 0., 0., 0., 0., 0., 0., 0.]],\n",
            "\n",
            "        [[0., 0., 0., 0., 0., 0., 0., 0., 0., 0., 0., 0., 0., 0., 0., 0., 0.,\n",
            "          0., 0., 0., 0., 1., 0., 0., 0., 0., 0., 0., 0., 0., 0., 0., 0., 0.,\n",
            "          0., 0., 0., 0., 0., 0., 0., 0., 0., 0., 0., 0., 0., 0., 0., 0., 0.,\n",
            "          0., 0., 0., 0., 0., 0., 0., 0.]],\n",
            "\n",
            "        [[0., 0., 0., 0., 1., 0., 0., 0., 0., 0., 0., 0., 0., 0., 0., 0., 0.,\n",
            "          0., 0., 0., 0., 0., 0., 0., 0., 0., 0., 0., 0., 0., 0., 0., 0., 0.,\n",
            "          0., 0., 0., 0., 0., 0., 0., 0., 0., 0., 0., 0., 0., 0., 0., 0., 0.,\n",
            "          0., 0., 0., 0., 0., 0., 0., 0.]]])\n",
            "a [encode as] tensor([[[1., 0., 0., 0., 0., 0., 0., 0., 0., 0., 0., 0., 0., 0., 0., 0., 0.,\n",
            "          0., 0., 0., 0., 0., 0., 0., 0., 0., 0., 0., 0., 0., 0., 0., 0., 0.,\n",
            "          0., 0., 0., 0., 0., 0., 0., 0., 0., 0., 0., 0., 0., 0., 0., 0., 0.,\n",
            "          0., 0., 0., 0., 0., 0., 0., 0.]]])\n",
            "nice [encode as] tensor([[[0., 0., 0., 0., 0., 0., 0., 0., 0., 0., 0., 0., 0., 1., 0., 0., 0.,\n",
            "          0., 0., 0., 0., 0., 0., 0., 0., 0., 0., 0., 0., 0., 0., 0., 0., 0.,\n",
            "          0., 0., 0., 0., 0., 0., 0., 0., 0., 0., 0., 0., 0., 0., 0., 0., 0.,\n",
            "          0., 0., 0., 0., 0., 0., 0., 0.]],\n",
            "\n",
            "        [[0., 0., 0., 0., 0., 0., 0., 0., 1., 0., 0., 0., 0., 0., 0., 0., 0.,\n",
            "          0., 0., 0., 0., 0., 0., 0., 0., 0., 0., 0., 0., 0., 0., 0., 0., 0.,\n",
            "          0., 0., 0., 0., 0., 0., 0., 0., 0., 0., 0., 0., 0., 0., 0., 0., 0.,\n",
            "          0., 0., 0., 0., 0., 0., 0., 0.]],\n",
            "\n",
            "        [[0., 0., 1., 0., 0., 0., 0., 0., 0., 0., 0., 0., 0., 0., 0., 0., 0.,\n",
            "          0., 0., 0., 0., 0., 0., 0., 0., 0., 0., 0., 0., 0., 0., 0., 0., 0.,\n",
            "          0., 0., 0., 0., 0., 0., 0., 0., 0., 0., 0., 0., 0., 0., 0., 0., 0.,\n",
            "          0., 0., 0., 0., 0., 0., 0., 0.]],\n",
            "\n",
            "        [[0., 0., 0., 0., 1., 0., 0., 0., 0., 0., 0., 0., 0., 0., 0., 0., 0.,\n",
            "          0., 0., 0., 0., 0., 0., 0., 0., 0., 0., 0., 0., 0., 0., 0., 0., 0.,\n",
            "          0., 0., 0., 0., 0., 0., 0., 0., 0., 0., 0., 0., 0., 0., 0., 0., 0.,\n",
            "          0., 0., 0., 0., 0., 0., 0., 0.]]])\n",
            "weekend [encode as] tensor([[[0., 0., 0., 0., 0., 0., 0., 0., 0., 0., 0., 0., 0., 0., 0., 0., 0.,\n",
            "          0., 0., 0., 0., 0., 1., 0., 0., 0., 0., 0., 0., 0., 0., 0., 0., 0.,\n",
            "          0., 0., 0., 0., 0., 0., 0., 0., 0., 0., 0., 0., 0., 0., 0., 0., 0.,\n",
            "          0., 0., 0., 0., 0., 0., 0., 0.]],\n",
            "\n",
            "        [[0., 0., 0., 0., 1., 0., 0., 0., 0., 0., 0., 0., 0., 0., 0., 0., 0.,\n",
            "          0., 0., 0., 0., 0., 0., 0., 0., 0., 0., 0., 0., 0., 0., 0., 0., 0.,\n",
            "          0., 0., 0., 0., 0., 0., 0., 0., 0., 0., 0., 0., 0., 0., 0., 0., 0.,\n",
            "          0., 0., 0., 0., 0., 0., 0., 0.]],\n",
            "\n",
            "        [[0., 0., 0., 0., 1., 0., 0., 0., 0., 0., 0., 0., 0., 0., 0., 0., 0.,\n",
            "          0., 0., 0., 0., 0., 0., 0., 0., 0., 0., 0., 0., 0., 0., 0., 0., 0.,\n",
            "          0., 0., 0., 0., 0., 0., 0., 0., 0., 0., 0., 0., 0., 0., 0., 0., 0.,\n",
            "          0., 0., 0., 0., 0., 0., 0., 0.]],\n",
            "\n",
            "        [[0., 0., 0., 0., 0., 0., 0., 0., 0., 0., 1., 0., 0., 0., 0., 0., 0.,\n",
            "          0., 0., 0., 0., 0., 0., 0., 0., 0., 0., 0., 0., 0., 0., 0., 0., 0.,\n",
            "          0., 0., 0., 0., 0., 0., 0., 0., 0., 0., 0., 0., 0., 0., 0., 0., 0.,\n",
            "          0., 0., 0., 0., 0., 0., 0., 0.]],\n",
            "\n",
            "        [[0., 0., 0., 0., 1., 0., 0., 0., 0., 0., 0., 0., 0., 0., 0., 0., 0.,\n",
            "          0., 0., 0., 0., 0., 0., 0., 0., 0., 0., 0., 0., 0., 0., 0., 0., 0.,\n",
            "          0., 0., 0., 0., 0., 0., 0., 0., 0., 0., 0., 0., 0., 0., 0., 0., 0.,\n",
            "          0., 0., 0., 0., 0., 0., 0., 0.]],\n",
            "\n",
            "        [[0., 0., 0., 0., 0., 0., 0., 0., 0., 0., 0., 0., 0., 1., 0., 0., 0.,\n",
            "          0., 0., 0., 0., 0., 0., 0., 0., 0., 0., 0., 0., 0., 0., 0., 0., 0.,\n",
            "          0., 0., 0., 0., 0., 0., 0., 0., 0., 0., 0., 0., 0., 0., 0., 0., 0.,\n",
            "          0., 0., 0., 0., 0., 0., 0., 0.]],\n",
            "\n",
            "        [[0., 0., 0., 1., 0., 0., 0., 0., 0., 0., 0., 0., 0., 0., 0., 0., 0.,\n",
            "          0., 0., 0., 0., 0., 0., 0., 0., 0., 0., 0., 0., 0., 0., 0., 0., 0.,\n",
            "          0., 0., 0., 0., 0., 0., 0., 0., 0., 0., 0., 0., 0., 0., 0., 0., 0.,\n",
            "          0., 0., 0., 0., 0., 0., 0., 0.]]])\n",
            "we [encode as] tensor([[[0., 0., 0., 0., 0., 0., 0., 0., 0., 0., 0., 0., 0., 0., 0., 0., 0.,\n",
            "          0., 0., 0., 0., 0., 1., 0., 0., 0., 0., 0., 0., 0., 0., 0., 0., 0.,\n",
            "          0., 0., 0., 0., 0., 0., 0., 0., 0., 0., 0., 0., 0., 0., 0., 0., 0.,\n",
            "          0., 0., 0., 0., 0., 0., 0., 0.]],\n",
            "\n",
            "        [[0., 0., 0., 0., 1., 0., 0., 0., 0., 0., 0., 0., 0., 0., 0., 0., 0.,\n",
            "          0., 0., 0., 0., 0., 0., 0., 0., 0., 0., 0., 0., 0., 0., 0., 0., 0.,\n",
            "          0., 0., 0., 0., 0., 0., 0., 0., 0., 0., 0., 0., 0., 0., 0., 0., 0.,\n",
            "          0., 0., 0., 0., 0., 0., 0., 0.]]])\n",
            "came [encode as] tensor([[[0., 0., 1., 0., 0., 0., 0., 0., 0., 0., 0., 0., 0., 0., 0., 0., 0.,\n",
            "          0., 0., 0., 0., 0., 0., 0., 0., 0., 0., 0., 0., 0., 0., 0., 0., 0.,\n",
            "          0., 0., 0., 0., 0., 0., 0., 0., 0., 0., 0., 0., 0., 0., 0., 0., 0.,\n",
            "          0., 0., 0., 0., 0., 0., 0., 0.]],\n",
            "\n",
            "        [[1., 0., 0., 0., 0., 0., 0., 0., 0., 0., 0., 0., 0., 0., 0., 0., 0.,\n",
            "          0., 0., 0., 0., 0., 0., 0., 0., 0., 0., 0., 0., 0., 0., 0., 0., 0.,\n",
            "          0., 0., 0., 0., 0., 0., 0., 0., 0., 0., 0., 0., 0., 0., 0., 0., 0.,\n",
            "          0., 0., 0., 0., 0., 0., 0., 0.]],\n",
            "\n",
            "        [[0., 0., 0., 0., 0., 0., 0., 0., 0., 0., 0., 0., 1., 0., 0., 0., 0.,\n",
            "          0., 0., 0., 0., 0., 0., 0., 0., 0., 0., 0., 0., 0., 0., 0., 0., 0.,\n",
            "          0., 0., 0., 0., 0., 0., 0., 0., 0., 0., 0., 0., 0., 0., 0., 0., 0.,\n",
            "          0., 0., 0., 0., 0., 0., 0., 0.]],\n",
            "\n",
            "        [[0., 0., 0., 0., 1., 0., 0., 0., 0., 0., 0., 0., 0., 0., 0., 0., 0.,\n",
            "          0., 0., 0., 0., 0., 0., 0., 0., 0., 0., 0., 0., 0., 0., 0., 0., 0.,\n",
            "          0., 0., 0., 0., 0., 0., 0., 0., 0., 0., 0., 0., 0., 0., 0., 0., 0.,\n",
            "          0., 0., 0., 0., 0., 0., 0., 0.]]])\n"
          ]
        }
      ],
      "source": [
        "# Veamos el aspecto que tienen las codificaciones de las palabras\n",
        "for i in range(6):\n",
        "    print(train_words[i], \"[encode as]\", train_input[i])"
      ]
    },
    {
      "cell_type": "code",
      "execution_count": null,
      "metadata": {
        "id": "IrcaK-ySaR6d"
      },
      "outputs": [],
      "source": []
    },
    {
      "cell_type": "code",
      "execution_count": 12,
      "metadata": {
        "colab": {
          "base_uri": "https://localhost:8080/"
        },
        "id": "AnIg_qVDQhy0",
        "outputId": "6354d752-3c1b-4d91-f453-3024ab691d5f"
      },
      "outputs": [
        {
          "name": "stdout",
          "output_type": "stream",
          "text": [
            "This code helps visualize what an input and its corresponding target should look like!\n",
            "have\n",
            "ave<EOS>\n"
          ]
        }
      ],
      "source": [
        "def input_tensor_to_word(tensor):\n",
        "    word = \"\"\n",
        "    for i in range(tensor.size(0)):\n",
        "        topv, topi = tensor[i].topk(1)\n",
        "        word += letters[topi[0][0]]\n",
        "    return word\n",
        "\n",
        "def target_tensor_to_word(tensor):\n",
        "    word = \"\"\n",
        "    for i in range(tensor.size(0)):\n",
        "        topv, topi = tensor[i].topk(1)\n",
        "        if topi[0][0] == num_letters-1:\n",
        "            word += \"<EOS>\"\n",
        "            break\n",
        "        word += letters[topi[0][0]]\n",
        "    return word\n",
        "print(\"This code helps visualize what an input and its corresponding target should look like!\")\n",
        "for input, target in zip(train_input, train_target):\n",
        "    print(input_tensor_to_word(input))\n",
        "    print(target_tensor_to_word(target))\n",
        "    break\n"
      ]
    },
    {
      "cell_type": "code",
      "execution_count": 13,
      "metadata": {
        "colab": {
          "base_uri": "https://localhost:8080/"
        },
        "id": "3SjmOheE6bcn",
        "outputId": "11ff53a4-4859-41c2-8d8a-d17d120770d4"
      },
      "outputs": [
        {
          "name": "stdout",
          "output_type": "stream",
          "text": [
            "dataset_sizes = {'train': 20000, 'val': 5000, 'test': 5000}\n"
          ]
        }
      ],
      "source": [
        "dataloaders = {'train': list(zip(train_input, train_target)),\n",
        "               'val': list(zip(val_input, val_target)),\n",
        "               'test': list(zip(test_input, test_target))}\n",
        "\n",
        "dataset_sizes = {'train': len(train_input),\n",
        "                 'val': len(val_input),\n",
        "                 'test': len(test_input)}\n",
        "print(f'dataset_sizes = {dataset_sizes}')"
      ]
    },
    {
      "cell_type": "markdown",
      "metadata": {
        "id": "dKtltT2-oUuo"
      },
      "source": [
        "### Definición de la RNN\n",
        "\n",
        "Para completar esta actividad, crearemos una implementación básica de una red neuronal recurrente (RNN). Afortunadamente, PyTorch incluye una muy buena implementación de un módulo RNN. Lo utilizaremos y modificaremos nuestro método `forward` estándar para que tenga en cuenta el estado oculto.\n",
        "\n",
        "Al utilizar una RNN, la red neuronal es capaz de generar predicciones de secuencias de caracteres. Se modificará ligeramente el *feedforward* para incluir un estado oculto que codifique información sobre la secuencia actual que la red neuronal ya ha visto. Además del estado oculto codificado, el *output* del *feedforward* será la probabilidad predicha del proximo carácter de la secuencia.\n",
        "\n",
        "El entrenamiento será ligeramente diferentes, ya que la red predecirá probabilidades sobre el próximo carácter de la secuencia. Por lo tanto, haremos un seguimiento de la pérdida para toda una secunecia antes de realizar la retropropagación. En la siguiente sección, lo explicaremos con más detalle.\n"
      ]
    },
    {
      "cell_type": "code",
      "execution_count": 15,
      "metadata": {
        "id": "bYLj4Qvzxldp"
      },
      "outputs": [],
      "source": [
        "class RNN(nn.Module):\n",
        "    def __init__(self, input_size, hidden_size, output_size):\n",
        "        super(RNN, self).__init__()\n",
        "\n",
        "        self.hidden_size = hidden_size\n",
        "\n",
        "        self.rnn = nn.RNN(input_size, hidden_size, num_layers = 1, nonlinearity = 'tanh', dropout = 0)\n",
        "\n",
        "        self.fc = nn.Linear(hidden_size, output_size)\n",
        "\n",
        "    def forward(self, input, hidden):\n",
        "\n",
        "        output, hidden = self.rnn(input, hidden)\n",
        "        output = self.fc(output)\n",
        "\n",
        "        return output, hidden\n",
        "    \n",
        "    # Este método nos dará un tensor de estado oculto para la predicción inicial de la secuencia\n",
        "    def initHidden(self):\n",
        "        return torch.zeros(1, self.hidden_size)"
      ]
    },
    {
      "cell_type": "code",
      "execution_count": 16,
      "metadata": {
        "id": "DoQcZxUF-QBY"
      },
      "outputs": [],
      "source": [
        "# Para esta red, utilizaremos un tamaño oculto de 128\n",
        "word_rnn = RNN(num_letters, 128, num_letters).to(device)"
      ]
    },
    {
      "cell_type": "code",
      "execution_count": 17,
      "metadata": {
        "colab": {
          "base_uri": "https://localhost:8080/"
        },
        "id": "keo1PNzIk8Y8",
        "outputId": "0dc438f7-b7b3-4a28-ee14-bf9d24638903"
      },
      "outputs": [
        {
          "name": "stdout",
          "output_type": "stream",
          "text": [
            "RNN(\n",
            "  (rnn): RNN(59, 128)\n",
            "  (fc): Linear(in_features=128, out_features=59, bias=True)\n",
            ")\n"
          ]
        }
      ],
      "source": [
        "print(word_rnn)"
      ]
    },
    {
      "cell_type": "markdown",
      "metadata": {
        "id": "jUr2jUTXxl6Q"
      },
      "source": [
        "### Entrenamiento\n",
        "\n",
        "Entrenar el modelo será un proceso muy similar a las tareas de clasificación que hemos completado en otras ocasiones. Sin embargo, ahora tendremos que tener en cuenta la secuencia de *inputs* y predicciones. Al entrenar, calcularemos la pérdida de toda una secuencia (palabra) y aplicaremos la retropropagación de cada secuencia dada.\n",
        "\n",
        "Podemos definir así los pasos necesarios:\n",
        "\n",
        "1. Inicializar el estado oculto - Cada llamada de `forward` requiere una codificación de estado oculto. Hemos decidido que nuestra codificación inicial de estado oculto para el primer caracter de una secuencia es un tensor `zeros`.\n",
        "\n",
        "2. Completar ciclos del `input_tensor` y aplicar los siguientes pasos a cada carácter de la secuencia:\n",
        "\n",
        "    a. Llamar a `forward` con la codificación del carácter actual y el `hidden_state`actual.\n",
        "\n",
        "    b. `forward` generará como *output* una distribución de probabilidad del próximos carácter predicho y un nuevo `hidden_state`\n",
        "\n",
        "    c. Calcular la pérdida de la distribución del *output* de probabilidad del siguiente carácter respecto al siguiente carácter *ground truth* de la secuencia y sumarla al total en curso.\n",
        "\n",
        "    d. Pasar al siguiente carácter de la secuencia de *input* utilizando el último `hidden_state`\n",
        "    \n",
        "3. Una vez que todos los caracteres de la secuencia hayan pasado por la función `forward`, realizar la retropropagación dada la pérdida entera de la secuencia y rehacer este proceso para la siguiente secuencia.\n",
        "\n",
        "Nota: se ha actualizado la función de entrenamiento para representar este nuevo flujo de trabajo. Intente seguir las isntrucciones que aparecen en los comentarios del código para ver cómo hemos implementado este nuevo proceos en Python.\n",
        "\n"
      ]
    },
    {
      "cell_type": "code",
      "execution_count": null,
      "metadata": {
        "id": "HRR_nA2ofl8t"
      },
      "outputs": [],
      "source": [
        "def train_rnn(model, dataloaders, dataset_sizes, criterion, optimizer, scheduler, num_epochs=25):\n",
        "    since = time.time()\n",
        "\n",
        "    best_model_wts = copy.deepcopy(model.state_dict()) # Almacenar los mejores pesos por separado\n",
        "    best_loss = np.inf\n",
        "    best_epoch = 0\n",
        "\n",
        "    # Cada ciclo tiene una fase de entrenamiento, validación y prueba\n",
        "    phases = ['train', 'val', 'test']\n",
        "    \n",
        "    # Hacer un seguimiento de la evolución de la pérdida durante el entrenamiento\n",
        "    training_curves = {}\n",
        "    for phase in phases:\n",
        "        training_curves[phase+'_loss'] = []\n",
        "    \n",
        "    for epoch in range(num_epochs):\n",
        "        print(f'\\nEpoch {epoch+1}/{num_epochs}')\n",
        "        print('-' * 10)\n",
        "\n",
        "        for phase in phases:\n",
        "            if phase == 'train':\n",
        "                model.train()  # Configurar el modelo en modo de entrenamiento\n",
        "            else:\n",
        "                model.eval()   # Configurar el modelo en modo de evaluación\n",
        "                \n",
        "            running_loss = 0.0\n",
        "\n",
        "           # Iterar con los datos\n",
        "            for input_sequence, target_sequence in dataloaders[phase]:\n",
        "                # Ahora, iterar con cada secuencia\n",
        "\n",
        "                hidden = model.initHidden() # Empezar con un estado oculto nuevo\n",
        "\n",
        "                current_input_sequence = input_sequence.to(device)\n",
        "                current_target_sequence = target_sequence.to(device)\n",
        "\n",
        "                # Poner a cero los gradientes de los parámetros\n",
        "                optimizer.zero_grad()\n",
        "\n",
        "                # Método forward\n",
        "                with torch.set_grad_enabled(phase == 'train'):\n",
        "                    loss = 0\n",
        "                    # Hacer una predicción de cada elemento de la secuencia,\n",
        "                    # y llevar un seguimiento del estado oculto a lo largo del proceso\n",
        "                    for i in range(current_input_sequence.size(0)):\n",
        "                        # Debemos pensar bien cómo transferir las capas ocultas al dispositivo\n",
        "                        current_hidden = hidden.to(device)\n",
        "                        output, hidden = model(current_input_sequence[i], current_hidden)\n",
        "                        l = criterion(output, current_target_sequence[i])\n",
        "                        loss += l\n",
        "\n",
        "                    # Método backward y actualización de los pesos solo si está en la fase de entrenamiento al final de una secuencia\n",
        "                    if phase == 'train':\n",
        "                        loss.backward()\n",
        "                        optimizer.step()\n",
        "\n",
        "                # Estadísticas\n",
        "                running_loss += loss.item() / current_input_sequence.size(0)\n",
        " \n",
        "            if phase == 'train':\n",
        "                scheduler.step()\n",
        "\n",
        "            epoch_loss = running_loss / dataset_sizes[phase]\n",
        "            training_curves[phase+'_loss'].append(epoch_loss)\n",
        "\n",
        "            print(f'{phase:5} Loss: {epoch_loss:.4f}')\n",
        "\n",
        "            # Hacer una copia profunda del modelo si es la mejor pérdida\n",
        "            # Nota: utilizamos la pérdida de entrenamiento para seleccionar el mejor modelo\n",
        "            if phase == 'train' and epoch_loss < best_loss:\n",
        "              best_epoch = epoch\n",
        "              best_loss = epoch_loss\n",
        "              best_model_wts = copy.deepcopy(model.state_dict())\n",
        "\n",
        "    time_elapsed = time.time() - since\n",
        "    print(f'\\nTraining complete in {time_elapsed // 60:.0f}m {time_elapsed % 60:.0f}s')\n",
        "    print(f'Best val Loss: {best_loss:4f} at epoch {best_epoch}')\n",
        "\n",
        "    # Cargar los mejores pesos del modelo\n",
        "    model.load_state_dict(best_model_wts)\n",
        "    \n",
        "    return model, training_curves"
      ]
    },
    {
      "cell_type": "code",
      "execution_count": null,
      "metadata": {
        "id": "LIGWf9aAFpBD"
      },
      "outputs": [],
      "source": [
        "# Debería tener un aspecto muy similar al de tareas anteriores\n",
        "learning_rate = 0.001\n",
        "num_epochs = 10 # Solo vamos a aplicar 10 ciclos para ahorrar tiempo, pero puede utilizar más si quiere"
      ]
    },
    {
      "cell_type": "code",
      "execution_count": null,
      "metadata": {
        "colab": {
          "base_uri": "https://localhost:8080/"
        },
        "id": "xzqzmUwL8Chj",
        "outputId": "9e7a8cfa-3e3c-42c0-cf5b-c29717ff8640"
      },
      "outputs": [
        {
          "name": "stdout",
          "output_type": "stream",
          "text": [
            "\n",
            "Epoch 1/10\n",
            "----------\n",
            "train Loss: 1.6566\n",
            "val   Loss: 1.4036\n",
            "test  Loss: 1.4166\n",
            "\n",
            "Epoch 2/10\n",
            "----------\n",
            "train Loss: 1.3388\n",
            "val   Loss: 1.2824\n",
            "test  Loss: 1.2946\n",
            "\n",
            "Epoch 3/10\n",
            "----------\n",
            "train Loss: 1.2420\n",
            "val   Loss: 1.2191\n",
            "test  Loss: 1.2260\n",
            "\n",
            "Epoch 4/10\n",
            "----------\n",
            "train Loss: 1.1889\n",
            "val   Loss: 1.1915\n",
            "test  Loss: 1.1973\n",
            "\n",
            "Epoch 5/10\n",
            "----------\n",
            "train Loss: 1.1566\n",
            "val   Loss: 1.1703\n",
            "test  Loss: 1.1749\n",
            "\n",
            "Epoch 6/10\n",
            "----------\n",
            "train Loss: 1.1315\n",
            "val   Loss: 1.1472\n",
            "test  Loss: 1.1509\n",
            "\n",
            "Epoch 7/10\n",
            "----------\n",
            "train Loss: 1.1124\n",
            "val   Loss: 1.1360\n",
            "test  Loss: 1.1387\n",
            "\n",
            "Epoch 8/10\n",
            "----------\n",
            "train Loss: 1.0966\n",
            "val   Loss: 1.1283\n",
            "test  Loss: 1.1296\n",
            "\n",
            "Epoch 9/10\n",
            "----------\n",
            "train Loss: 1.0838\n",
            "val   Loss: 1.1217\n",
            "test  Loss: 1.1228\n",
            "\n",
            "Epoch 10/10\n",
            "----------\n",
            "train Loss: 1.0714\n",
            "val   Loss: 1.1124\n",
            "test  Loss: 1.1120\n",
            "\n",
            "Training complete in 14m 3s\n",
            "Best val Loss: 1.071431 at epoch 9\n"
          ]
        }
      ],
      "source": [
        "# El código es muy similar al de modelos de entrenamiento anteriores no recurrentes\n",
        "# Pérdida y optimizador\n",
        "criterion = nn.CrossEntropyLoss() # Utilizar CrossEntropyLoss para la clasificación.\n",
        "optimizer = torch.optim.Adam(word_rnn.parameters(), lr=learning_rate)\n",
        "scheduler = torch.optim.lr_scheduler.ExponentialLR(optimizer, gamma=0.95)\n",
        "\n",
        "# Entrenar el modelo. También almacenaremos los resultados del entrenamiento para poder visualizarlos\n",
        "word_rnn, training_curves = train_rnn(word_rnn, dataloaders, dataset_sizes, \n",
        "                                     criterion, optimizer, scheduler, num_epochs=num_epochs)"
      ]
    },
    {
      "cell_type": "markdown",
      "metadata": {
        "id": "Diwgt3Fix2zg"
      },
      "source": [
        "### Visualizar los resultados\n",
        "\n",
        "Podemos visualizar la curva de entrenamiento, igual que en las tareas anteriores. Parece que, después de 10 ciclos, el modelo no se sobreajusta, lo que significa que probablemente podríamos entrenarlo durante más tiempo."
      ]
    },
    {
      "cell_type": "code",
      "execution_count": null,
      "metadata": {
        "id": "GEWXj81iCrvE"
      },
      "outputs": [],
      "source": [
        "def plot_training_curves(training_curves, \n",
        "                         phases=['train', 'val', 'test'],\n",
        "                         metrics=['loss']):\n",
        "    epochs = list(range(len(training_curves['train_loss'])))\n",
        "    for metric in metrics:\n",
        "        plt.figure()\n",
        "        plt.title(f'Training curves - {metric}')\n",
        "        for phase in phases:\n",
        "            key = phase+'_'+metric\n",
        "            if key in training_curves:\n",
        "                plt.plot(epochs, training_curves[key])\n",
        "        plt.xlabel('epoch')\n",
        "        plt.legend(labels=phases)"
      ]
    },
    {
      "cell_type": "code",
      "execution_count": null,
      "metadata": {
        "colab": {
          "base_uri": "https://localhost:8080/",
          "height": 295
        },
        "id": "BgaR32cNCxUC",
        "outputId": "03f10ee0-4884-4023-d894-60896ecada78"
      },
      "outputs": [
        {
          "data": {
            "image/png": "[encoded data removed]",
            "text/plain": [
              "<Figure size 432x288 with 1 Axes>"
            ]
          },
          "metadata": {
            "needs_background": "light"
          },
          "output_type": "display_data"
        }
      ],
      "source": [
        "plot_training_curves(training_curves, phases=['train', 'val', 'test'])"
      ]
    },
    {
      "cell_type": "markdown",
      "metadata": {
        "id": "Hjpv3rrAyUST"
      },
      "source": [
        "### Generar palabras\n",
        "\n",
        "Más abajo, hemos incluido una función que ejecuta la red sobre una secuencia de *input* especificada, que podría ser una letra o parte de una palabra. Encontrará también algunos ejemplos, puede utilizarlos para conocer la palabra que predice la red.\n",
        "\n",
        "Los resultados de esta red dependerán, en gran medida, de la muestra aleatoria de frases que se le dieran al principio. Cuanto más aparezca una palabra concreta en los datos de entrenamiento, más probable es que aparezca en la predicción. Funciona de manera muy similar a las sugerencias de palabras del teclado de los *smartphones*."
      ]
    },
    {
      "cell_type": "code",
      "execution_count": null,
      "metadata": {
        "id": "h35LR8siENSg"
      },
      "outputs": [],
      "source": [
        "def predict(model, input_letters, max_length = 50):\n",
        "    output_word = input_letters\n",
        "    tensor = input_tensor(input_letters)\n",
        "    hidden = model.initHidden()\n",
        "    current_input_sequence = tensor.to(device)\n",
        "    input = None\n",
        "\n",
        "    for i in range(current_input_sequence.size(0)):\n",
        "        current_hidden = hidden.to(device)\n",
        "        output, hidden = model(current_input_sequence[i], current_hidden)\n",
        "\n",
        "    topv, topi = output.topk(1)\n",
        "    topi = topi[0][0]\n",
        "    if topi == num_letters - 1:\n",
        "        # Imprimir(\"Most likely word was our initial letters, grab the second most likely\")\n",
        "        topv, topi = output.topk(2)\n",
        "        topi = topi[0][1]\n",
        "    letter = letters[topi]\n",
        "    output_word += letter\n",
        "    input = input_tensor(letter)\n",
        "\n",
        "    for i in range(len(input_letters), max_length):\n",
        "        current_hidden = hidden.to(device)\n",
        "        current_input = input[0].to(device)\n",
        "        output, hidden = model(current_input, current_hidden)\n",
        "        topv, topi = output.topk(1)\n",
        "        topi = topi[0][0]\n",
        "        if topi == num_letters - 1:\n",
        "            # Imprimir(\"Hit the EOS\")\n",
        "            break\n",
        "        letter = letters[topi]\n",
        "        output_word += letter\n",
        "        input = input_tensor(letter)\n",
        "    return output_word"
      ]
    },
    {
      "cell_type": "code",
      "execution_count": null,
      "metadata": {
        "colab": {
          "base_uri": "https://localhost:8080/"
        },
        "id": "LbYyrIeVnLsE",
        "outputId": "64d99bc9-1540-4d63-f48e-1c65bfd120ac"
      },
      "outputs": [
        {
          "name": "stdout",
          "output_type": "stream",
          "text": [
            "have\n",
            "along\n",
            "could\n"
          ]
        }
      ],
      "source": [
        "print(predict(word_rnn, \"ha\"))\n",
        "print(predict(word_rnn, \"al\"))\n",
        "print(predict(word_rnn, \"c\"))"
      ]
    },
    {
      "cell_type": "markdown",
      "metadata": {
        "id": "LTTaTWhPLMTN"
      },
      "source": [
        "\n",
        "## Completar frases\n",
        "\n",
        "Ahora, nos centraremos en la tarea de completar frases. Es un proceso relativamente sencillo, porque seguiremos trabajando con codificaciones *one-hot* de secuencias de caracteres. Existen otras formas más sofisticadas de codificar las muestras de entrenamiento. Las veremos más adelante."
      ]
    },
    {
      "cell_type": "code",
      "execution_count": null,
      "metadata": {
        "id": "hFSKAkfB3Mm_"
      },
      "outputs": [],
      "source": [
        "train_sentences = english_sentences[:1000]\n",
        "val_sentences = english_sentences[1000:2000]\n",
        "test_sentences = english_sentences[2000:3000]"
      ]
    },
    {
      "cell_type": "markdown",
      "metadata": {
        "id": "mRM0QT3Q0Wvt"
      },
      "source": [
        "### Codificación\n",
        "\n",
        "Esta codificación es muy sencilla. Usaremos la misma función que antes, pero ahora para operar en toda la frase en vez de en una palabra."
      ]
    },
    {
      "cell_type": "code",
      "execution_count": null,
      "metadata": {
        "id": "aRNqiQSw3K79"
      },
      "outputs": [],
      "source": [
        "train_input_sentence = [input_tensor(sentence) for sentence in train_sentences]\n",
        "train_target_sentence = [target_tensor(sentence) for sentence in train_sentences]\n",
        "val_input_sentence = [input_tensor(sentence) for sentence in val_sentences]\n",
        "val_target_sentence = [target_tensor(sentence) for sentence in val_sentences]\n",
        "test_input_sentence = [input_tensor(sentence) for sentence in test_sentences]\n",
        "test_target_sentence = [target_tensor(sentence) for sentence in test_sentences]"
      ]
    },
    {
      "cell_type": "code",
      "execution_count": null,
      "metadata": {
        "colab": {
          "base_uri": "https://localhost:8080/"
        },
        "id": "VaJtJZJL4KYF",
        "outputId": "e6145c4f-144d-42ad-a3b7-6d6677c534ca"
      },
      "outputs": [
        {
          "name": "stdout",
          "output_type": "stream",
          "text": [
            "dataset_sizes = {'train': 1000, 'val': 1000, 'test': 1000}\n"
          ]
        }
      ],
      "source": [
        "dataloaders_sentences = {'train': list(zip(train_input_sentence, train_target_sentence)),\n",
        "               'val': list(zip(val_input_sentence, val_target_sentence)),\n",
        "               'test': list(zip(test_input_sentence, test_target_sentence))}\n",
        "\n",
        "dataset_sizes_sentences = {'train': len(train_input_sentence),\n",
        "                 'val': len(train_input_sentence),\n",
        "                 'test': len(train_input_sentence)}\n",
        "print(f'dataset_sizes = {dataset_sizes_sentences}')"
      ]
    },
    {
      "cell_type": "markdown",
      "metadata": {
        "id": "qAwNSS5M0qhT"
      },
      "source": [
        "### Definición de la RNN\n",
        "\n",
        "Además, podemos utilizar la misma arquitectura, solo necesitamos una capa oculta más grande porque las secuencias serán más largas."
      ]
    },
    {
      "cell_type": "code",
      "execution_count": null,
      "metadata": {
        "id": "Dz9h0YlQ4fhG"
      },
      "outputs": [],
      "source": [
        "# RNN más grande\n",
        "sentences_rnn = RNN(num_letters, 256, num_letters).to(device)"
      ]
    },
    {
      "cell_type": "markdown",
      "metadata": {
        "id": "LDqLqS1k0sUD"
      },
      "source": [
        "### Entrenamiento\n",
        "\n",
        "Ahora, entrenaremos durante otros 10 ciclos. Entrenar modelos recurrentes normalmente lleva mucho tiempo. El aumento de ciclos debería mejorar el rendimiento del modelo."
      ]
    },
    {
      "cell_type": "code",
      "execution_count": null,
      "metadata": {
        "id": "QZhztvmL1KLZ"
      },
      "outputs": [],
      "source": [
        "# Este proceso debería parecerse mucho a tareas anteriores\n",
        "learning_rate = 0.001\n",
        "num_epochs = 10 # Solo completamos 10 ciclos para ahorrar tiempo, pero puede completar más si quiere"
      ]
    },
    {
      "cell_type": "code",
      "execution_count": null,
      "metadata": {
        "colab": {
          "base_uri": "https://localhost:8080/"
        },
        "id": "doZ1fwqN4r-m",
        "outputId": "0efd1e16-16c5-411a-d82f-766c8e9fac85"
      },
      "outputs": [
        {
          "name": "stdout",
          "output_type": "stream",
          "text": [
            "\n",
            "Epoch 1/10\n",
            "----------\n",
            "train Loss: 0.1289\n",
            "val   Loss: 0.4593\n",
            "test  Loss: 0.4616\n",
            "\n",
            "Epoch 2/10\n",
            "----------\n",
            "train Loss: 0.1097\n",
            "val   Loss: 0.4392\n",
            "test  Loss: 0.4405\n",
            "\n",
            "Epoch 3/10\n",
            "----------\n",
            "train Loss: 0.1039\n",
            "val   Loss: 0.4243\n",
            "test  Loss: 0.4252\n",
            "\n",
            "Epoch 4/10\n",
            "----------\n",
            "train Loss: 0.0999\n",
            "val   Loss: 0.4111\n",
            "test  Loss: 0.4112\n",
            "\n",
            "Epoch 5/10\n",
            "----------\n",
            "train Loss: 0.0963\n",
            "val   Loss: 0.4033\n",
            "test  Loss: 0.4029\n",
            "\n",
            "Epoch 6/10\n",
            "----------\n",
            "train Loss: 0.0931\n",
            "val   Loss: 0.3987\n",
            "test  Loss: 0.3979\n",
            "\n",
            "Epoch 7/10\n",
            "----------\n",
            "train Loss: 0.0902\n",
            "val   Loss: 0.3943\n",
            "test  Loss: 0.3936\n",
            "\n",
            "Epoch 8/10\n",
            "----------\n",
            "train Loss: 0.0873\n",
            "val   Loss: 0.3934\n",
            "test  Loss: 0.3928\n",
            "\n",
            "Epoch 9/10\n",
            "----------\n",
            "train Loss: 0.0846\n",
            "val   Loss: 0.3912\n",
            "test  Loss: 0.3906\n",
            "\n",
            "Epoch 10/10\n",
            "----------\n",
            "train Loss: 0.0820\n",
            "val   Loss: 0.3901\n",
            "test  Loss: 0.3899\n",
            "\n",
            "Training complete in 5m 51s\n",
            "Best val Loss: 0.082030 at epoch 9\n"
          ]
        }
      ],
      "source": [
        "# Pérdida y optimizador\n",
        "criterion = nn.CrossEntropyLoss() # Utilizar CrossEntropyLoss para la clasificación\n",
        "optimizer = torch.optim.Adam(sentences_rnn.parameters(), lr=learning_rate)\n",
        "scheduler = torch.optim.lr_scheduler.ExponentialLR(optimizer, gamma=0.95)\n",
        "\n",
        "# Entrenar el modelo. También almacenaremos los resultados del entrenamiento para poder visualizarlos\n",
        "sentences_rnn, training_curves_sentences = train_rnn(sentences_rnn, dataloaders_sentences, dataset_sizes, \n",
        "                                     criterion, optimizer, scheduler, num_epochs=num_epochs)"
      ]
    },
    {
      "cell_type": "markdown",
      "metadata": {
        "id": "xYQTMMVX03v7"
      },
      "source": [
        "### Visualizar los resultados"
      ]
    },
    {
      "cell_type": "code",
      "execution_count": null,
      "metadata": {
        "colab": {
          "base_uri": "https://localhost:8080/",
          "height": 295
        },
        "id": "w-FABBjpC6JV",
        "outputId": "909d99cb-4ab8-4238-b963-8ef9a239e324"
      },
      "outputs": [
        {
          "data": {
            "image/png": "[encoded data removed]",
            "text/plain": [
              "<Figure size 432x288 with 1 Axes>"
            ]
          },
          "metadata": {
            "needs_background": "light"
          },
          "output_type": "display_data"
        }
      ],
      "source": [
        "plot_training_curves(training_curves_sentences, phases=['train', 'val', 'test'])"
      ]
    },
    {
      "cell_type": "markdown",
      "metadata": {
        "id": "DU6G9V4505v-"
      },
      "source": [
        "### Generar frases\n",
        "\n",
        "Podemos utilizar la misma función en el nuevo modelo para generar frases. Pruebe algunos de estos ejemplos:"
      ]
    },
    {
      "cell_type": "code",
      "execution_count": null,
      "metadata": {
        "colab": {
          "base_uri": "https://localhost:8080/"
        },
        "id": "82X4oC3S7aHo",
        "outputId": "4eaddfec-bde0-4337-f1c5-6c8b8a206294"
      },
      "outputs": [
        {
          "name": "stdout",
          "output_type": "stream",
          "text": [
            "I ate a what to way\n"
          ]
        }
      ],
      "source": [
        "print(predict(sentences_rnn, \"I ate a \"))"
      ]
    },
    {
      "cell_type": "code",
      "execution_count": null,
      "metadata": {
        "colab": {
          "base_uri": "https://localhost:8080/"
        },
        "id": "yIyXR6cMQzDP",
        "outputId": "17ab0eb7-1843-44fc-f161-7d4c33420280"
      },
      "outputs": [
        {
          "name": "stdout",
          "output_type": "stream",
          "text": [
            "What is a but to the pooner what tom wint to to sou\n"
          ]
        }
      ],
      "source": [
        "print(predict(sentences_rnn, \"What is\"))"
      ]
    },
    {
      "cell_type": "code",
      "execution_count": null,
      "metadata": {
        "colab": {
          "base_uri": "https://localhost:8080/"
        },
        "id": "ifIHKZgxQ3mt",
        "outputId": "71be248d-060f-4b55-ddf7-208fc0471bda"
      },
      "outputs": [
        {
          "name": "stdout",
          "output_type": "stream",
          "text": [
            "My name is a bot me to the poon\n"
          ]
        }
      ],
      "source": [
        "print(predict(sentences_rnn, \"My name is\"))"
      ]
    },
    {
      "cell_type": "code",
      "execution_count": null,
      "metadata": {
        "colab": {
          "base_uri": "https://localhost:8080/"
        },
        "id": "y0QadAaXQ8C_",
        "outputId": "f0b9ecb9-64aa-43da-87d2-e2e05e3bc8fc"
      },
      "outputs": [
        {
          "name": "stdout",
          "output_type": "stream",
          "text": [
            "Hat i don't loke to the poon\n"
          ]
        }
      ],
      "source": [
        "print(predict(sentences_rnn, \"Ha\"))"
      ]
    },
    {
      "cell_type": "code",
      "execution_count": null,
      "metadata": {
        "colab": {
          "base_uri": "https://localhost:8080/"
        },
        "id": "WwGefkBg4NLx",
        "outputId": "8c6263ad-ffcd-43a5-ab11-1f50dd68bc7c"
      },
      "outputs": [
        {
          "name": "stdout",
          "output_type": "stream",
          "text": [
            "Ao look do bust of the pack\n"
          ]
        }
      ],
      "source": [
        "print(predict(sentences_rnn, \"A\"))"
      ]
    },
    {
      "cell_type": "markdown",
      "metadata": {
        "id": "Mr3BkX8z1WNl"
      },
      "source": [
        "## Conclusión\n",
        "\n",
        "En este cuaderno, hemos aprendido a aplicar las redes neuronales profundas para resolver distintas tareas secuenciales basadas en la predicción. Los resultados obtenidos al completar frases demuestran que la red no puede producir resultados especialmente inteligentes. En futuros cuadernos, examinaremos formas de mejorar los modelos y resolver tareas más complejas, como la traducción automática. \n",
        "\n",
        "Entre los métodos que permiten mejorar el rendimiento están el uso de conjuntos de datos más grandes, el aumento del tiempo de entrenamiento, las incrustaciones más inteligentes a nivel de palabra (word2vec) y la aplicación de redes neuronales profundas más sofisticadas (LSTM y transformadores)."
      ]
    }
  ],
  "metadata": {
    "accelerator": "GPU",
    "colab": {
      "provenance": []
    },
    "gpuClass": "standard",
    "kernelspec": {
      "display_name": "base",
      "language": "python",
      "name": "python3"
    },
    "language_info": {
      "codemirror_mode": {
        "name": "ipython",
        "version": 3
      },
      "file_extension": ".py",
      "mimetype": "text/x-python",
      "name": "python",
      "nbconvert_exporter": "python",
      "pygments_lexer": "ipython3",
      "version": "3.9.13 (main, Aug 25 2022, 23:26:10) \n[GCC 11.2.0]"
    },
    "vscode": {
      "interpreter": {
        "hash": "1b4dcc508076e9239aa6a2b739d41c8a505780e648b690f375f7d262ba9ac310"
      }
    }
  },
  "nbformat": 4,
  "nbformat_minor": 0
}
