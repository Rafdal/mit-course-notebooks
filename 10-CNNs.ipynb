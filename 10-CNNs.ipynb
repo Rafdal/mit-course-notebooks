{
  "cells": [
    {
      "cell_type": "markdown",
      "metadata": {
        "id": "aZVJ8gUn1RR9"
      },
      "source": [
        "# Módulo 4: Redes neuronales convolucionales en Pytorch\n",
        "\n",
        "Es hora de añadir otro conjunto de herramientas importante a nuestros recursos de *deep learning*. Antes, al trabajar con el conjunto de datos MNIST, alisábamos los datos de *input*, y por tanto, perdíamos atributos espaciales fundamentales de las imágenes en 2D. Por eso, vamos a introducir una arquitectura de redes neuronales útil para trabajar con datos espaciales: las capas convolucionales o CNN.\n",
        "\n",
        "Como hemos visto en el módulo, las capas convolucionales no requieren que modifiquemos las dimensiones originales de los datos durante el entrenamiento. En este cuaderno, repetiremos las tareas de autocodificación y clasificación del conjunto de datos MNIST, pero, esta vez, utilizaremos las capas CNN.\n",
        "\n",
        "Este tipo de capas son muy fáciles de incluir en PyTorch y mejoran el rendimiento de los modelos."
      ]
    },
    {
      "cell_type": "markdown",
      "metadata": {
        "id": "ptJiFULG2AiJ"
      },
      "source": [
        "## Autocodificador CNN con cifras MNIST\n",
        "\n",
        "En primer lugar, repetiremos la implementación de autocodificadores. Aunque con las capas de 1D conseguimos un rendimiento aceptable, incluir convoluciones mejorará la autocodificación."
      ]
    },
    {
      "cell_type": "markdown",
      "metadata": {
        "id": "o6ar01lm2HUh"
      },
      "source": [
        "### Preparación del conjunto de datos e importación del módulo\n",
        "\n",
        "Aunque cambiemos la arquitectura de la red neuronal, la preparación del conjunto de datos y la importación del módulo funcionarán exactamente de la misma forma."
      ]
    },
    {
      "cell_type": "code",
      "execution_count": 1,
      "metadata": {
        "colab": {
          "base_uri": "https://localhost:8080/"
        },
        "id": "yrzZRul42zJs",
        "outputId": "bce1f195-8796-4d53-b421-c01645617b40"
      },
      "outputs": [
        {
          "data": {
            "text/plain": [
              "device(type='cuda')"
            ]
          },
          "execution_count": 1,
          "metadata": {},
          "output_type": "execute_result"
        }
      ],
      "source": [
        "import torch\n",
        "import torch.nn as nn\n",
        "import numpy as np\n",
        "import torchvision.datasets\n",
        "from torchvision import transforms\n",
        "from torch.utils.data import Subset\n",
        "from torch.utils.data import DataLoader\n",
        "import time, copy\n",
        "import matplotlib.pyplot as plt\n",
        "import sklearn.metrics as metrics\n",
        "\n",
        "# Configuración del dispositivo (si es posible, entrenar el modelo en la GPU, el proceso será mucho más rápido)\n",
        "device = torch.device('cuda' if torch.cuda.is_available() else 'cpu')\n",
        "# device = torch.device('cpu')\n",
        "device"
      ]
    },
    {
      "cell_type": "code",
      "execution_count": 2,
      "metadata": {
        "colab": {
          "base_uri": "https://localhost:8080/",
          "height": 423,
          "referenced_widgets": [
            "199fdaa82bf6436199fc9ec96a2e8609",
            "245cbe77779a4aa182cf5fa207f6870d",
            "878504b551134a4e8c80e42771b9d2ee",
            "6a5da3b187b749e49744a6fa0bd70cb3",
            "ed88002c2133496b868a9d9e369407db",
            "d391dbcf4af54f57b2abd731974bc820",
            "eb0e1e8c654345e99f0b2ee0d030b88a",
            "027751a0087e4ba59e7f0e04d06a19c7",
            "902fe817239e48aab888064296cb3052",
            "69aeda72d9374e23a4a4a7a1d8ffe081",
            "487105400b6f40969340e68c45a9140b",
            "c6700deb878a44d8a5321ba9ab0c3930",
            "0567c4df4e4e497db3f583c4c9bb4b2d",
            "b9c677a0a5df43378b5a164242bcc197",
            "c5f012bfcc30480fb2f5a3bcd14486c2",
            "3b3350f56b6f415eb9aaed60f8a2b250",
            "fb70b7fb97e4483ca4740cc2901d4810",
            "3b2976dde98043efac859cc64b4087a3",
            "dd883df9273846028e0eacff7b6c355d",
            "51e47e0287134c6ea1498870c044c5de",
            "c6f1f1ad6f304d928c09be146f7316b7",
            "cbc34c717d30474aa67c1cdf82fed145",
            "2bcb602aa78b45f4a4baf692ba7d7523",
            "d909171f92fa4e1b9f5bd9a6599709c9",
            "c10d0f012a9b457e83dddd00f174d474",
            "4de2c614294047759860d5c4bf322aad",
            "5d08e55ea7d34f4ea90c27c5d513270b",
            "175492c1282345289be41479318eb8c6",
            "9c5256ee3d6f4c7ea47240c6c5140e1a",
            "ff15be0a89c24775a73b10397461a85c",
            "340711b5699e4129b2f7af71a2f84e3a",
            "72fd36b2c90946518005e29650354c38",
            "5352a7562f864ef29fbad68c8c096572",
            "be62b613ae8a4630b1d8b89ed0cdee0f",
            "9e6d2e3d75da47b7b12e9ad513fe5ffd",
            "062b191496e845fabb217e6a41bb4754",
            "57a9e63d1c5147bbbe214bdf626a251b",
            "b4374a9dffac42f8886b50af7feced87",
            "0a0fabd808104988bc5db6479ef9e883",
            "c90433c3eb71451592297790ed44d9a8",
            "7c66ef4be9f34381a6fb1cf0f1bd3e0d",
            "393c4d4bbc474f569ddedea97152d3b5",
            "059d883989ca49fab679707378fcfd0f",
            "8acc0c6ab7bd42d6afc886b3b0d52173"
          ]
        },
        "id": "GHajaotB22E2",
        "outputId": "25d552ee-7c5d-4478-ceba-533f78a6a4cf"
      },
      "outputs": [],
      "source": [
        "# Estas transformaciones sucederán en todos los puntos de datos. En este ejemplo,\n",
        "# queremos convertir cada punto de datos en un tensor y realizar una normalización\n",
        "transform = transforms.Compose([transforms.ToTensor(), transforms.Normalize([0.5], [0.5])])\n",
        "mnist_train = torchvision.datasets.MNIST('', train=True, transform =transform, download=True)\n",
        "\n",
        "# Dividiremos el conjunto de datos de entrenamiento en entrenamiento y validación\n",
        "mnist_train, mnist_val = torch.utils.data.random_split(mnist_train, [int(np.floor(len(mnist_train)*0.75)), int(np.ceil(len(mnist_train)*0.25))])\n",
        "\n",
        "mnist_test = torchvision.datasets.MNIST('', train=False, transform = transform, download=True)"
      ]
    },
    {
      "cell_type": "code",
      "execution_count": 3,
      "metadata": {
        "colab": {
          "base_uri": "https://localhost:8080/"
        },
        "id": "h5YwZ-eb23vK",
        "outputId": "bfe26d60-b2f1-495f-e0aa-d0957c2aca2a"
      },
      "outputs": [
        {
          "name": "stdout",
          "output_type": "stream",
          "text": [
            "dataset_sizes = {'train': 45000, 'val': 15000, 'test': 10000}\n"
          ]
        }
      ],
      "source": [
        "# Crearemos DataLoaders igual que antes, con un tamaño de lotes de 100\n",
        "batch_size = 100\n",
        "dataloaders = {'train': DataLoader(mnist_train, batch_size=batch_size),\n",
        "               'val': DataLoader(mnist_val, batch_size=batch_size),\n",
        "               'test': DataLoader(mnist_test, shuffle=True, batch_size=batch_size)}\n",
        "\n",
        "dataset_sizes = {'train': len(mnist_train),\n",
        "                 'val': len(mnist_val),\n",
        "                 'test': len(mnist_test)}\n",
        "print(f'dataset_sizes = {dataset_sizes}')"
      ]
    },
    {
      "cell_type": "markdown",
      "metadata": {
        "id": "Ddyvkre_2QEu"
      },
      "source": [
        "### Definición e hiperparámetros del modelo\n",
        "\n",
        "Los principales cambios se producirán en la definición del modelo. Concretamente, vemos que se han introducido varias capas nuevas:\n",
        "\n",
        "*   `nn.Conv2d` Esta es la convolución principal\n",
        "*   `nn.MaxPool2d` Es la capa de *max pooling* que submuestrea la imagen\n",
        "*   `nn.Flatten` Alisa la imagen y la reduce a una sola dimensión\n",
        "*   `nn.UnFlatten` Le devuelve a la imagen la forma y el número de dimensiones deseadas\n",
        "*   `nn.ConvTranspose2d` \"Desconvoluciona\" las imágenes\n",
        "\n",
        "Como puede observar, aunque se hayan introducido nuevas capas, seguimos el mismo patrón de codificación-decodificación.\n"
      ]
    },
    {
      "cell_type": "code",
      "execution_count": 13,
      "metadata": {
        "id": "ELIaYCQ68aL3"
      },
      "outputs": [],
      "source": [
        "from torch.nn.modules.flatten import Flatten\n",
        "class CNNAutoEncoder(nn.Module):\n",
        "    # Muchos de estos números (en especial la capa lineal del final del codificador\n",
        "    # y el principio del decodificador) están codificados para el tamaño de imagen 28 x 28 \n",
        "    def __init__(self):\n",
        "        super(CNNAutoEncoder, self).__init__()\n",
        "        # Dividir el codificador y el decodificador\n",
        "\n",
        "        self.encoder = nn.Sequential(\n",
        "            # Realizamos una convolución del input\n",
        "            # in_channels = 1 porque el input es una imagen en escala de grises\n",
        "            # El tamaño de la capa Conv2d da lugar a que el tamaño del output se modifique\n",
        "            # a (8, 28, 28). \n",
        "            nn.Conv2d(in_channels = 1, out_channels = 8, kernel_size = 3, stride = 1, padding = 1),\n",
        "            # Implementar ReLU() igual que en una capa lineal\n",
        "            nn.ReLU(),\n",
        "            # MaxPool2d reducirá la imagen a (8, 14, 14)\n",
        "            nn.MaxPool2d(kernel_size = 2, stride = 2),\n",
        "            # Alisar la capa\n",
        "            nn.Flatten(),\n",
        "            # Implementar ReLU para la no linealidad\n",
        "            nn.ReLU(),\n",
        "            # Una última capa lineal para la codificación de tamaño 32 (como en la versión anterior)\n",
        "            nn.Linear(8*14*14, 32),\n",
        "        )\n",
        "\n",
        "        self.decoder = nn.Sequential(\n",
        "            # El input del decodificador será un tensor lineal de longitud 64\n",
        "            nn.Linear(32, 8*14*14),\n",
        "            # Implementar ReLU para la no linealidad\n",
        "            nn.ReLU(),\n",
        "            # Aquí, volveremos al tamaño no alisado\n",
        "            nn.Unflatten(dim = 1, unflattened_size = (8, 14, 14)),\n",
        "            # Implementar ReLU para la no linealidad\n",
        "            nn.ReLU(),\n",
        "            # \"ConvTranspose2d\" se puede entender como una \"desconvolución\". Nos devuelve a las dimensiones originales (1, 28, 28)\n",
        "\n",
        "            nn.ConvTranspose2d(in_channels = 8, out_channels = 1, kernel_size = 2, stride = 2),\n",
        "        )\n",
        "        \n",
        "    def forward(self, x):\n",
        "        return self.decoder(self.encoder(x))\n",
        "    \n",
        "    def encode(self, x):\n",
        "        return self.encoder(x)"
      ]
    },
    {
      "cell_type": "code",
      "execution_count": 14,
      "metadata": {
        "colab": {
          "base_uri": "https://localhost:8080/"
        },
        "id": "4A4yiJNvGCj7",
        "outputId": "e4996bf2-ec01-418f-e583-01c80a131407"
      },
      "outputs": [
        {
          "name": "stdout",
          "output_type": "stream",
          "text": [
            "CNNAutoEncoder(\n",
            "  (encoder): Sequential(\n",
            "    (0): Conv2d(1, 8, kernel_size=(3, 3), stride=(1, 1), padding=(1, 1))\n",
            "    (1): ReLU()\n",
            "    (2): MaxPool2d(kernel_size=2, stride=2, padding=0, dilation=1, ceil_mode=False)\n",
            "    (3): Flatten(start_dim=1, end_dim=-1)\n",
            "    (4): ReLU()\n",
            "    (5): Linear(in_features=1568, out_features=32, bias=True)\n",
            "  )\n",
            "  (decoder): Sequential(\n",
            "    (0): Linear(in_features=32, out_features=1568, bias=True)\n",
            "    (1): ReLU()\n",
            "    (2): Unflatten(dim=1, unflattened_size=(8, 14, 14))\n",
            "    (3): ReLU()\n",
            "    (4): ConvTranspose2d(8, 1, kernel_size=(2, 2), stride=(2, 2))\n",
            "  )\n",
            ")\n"
          ]
        }
      ],
      "source": [
        "learning_rate = 0.001\n",
        "num_epochs = 10\n",
        "\n",
        "model = CNNAutoEncoder().to(device)\n",
        "print(model)"
      ]
    },
    {
      "cell_type": "markdown",
      "metadata": {
        "id": "gZjUVCWD2TsY"
      },
      "source": [
        "### Entrenamiento del modelo\n",
        "\n",
        "Aunque este modelo es mucho más complejo, podemos utilizar la función de entrenamiento autocodificadora simple. Sin embargo, esta vez no alisaremos los *inputs*, porque ahora podemos tratar imágenes 2D como *input*."
      ]
    },
    {
      "cell_type": "code",
      "execution_count": 15,
      "metadata": {
        "id": "I0_3xbFK3FhU"
      },
      "outputs": [],
      "source": [
        "# Extraído de https://pytorch.org/tutorials/beginner/transfer_learning_tutorial.html\n",
        "\n",
        "def train_autoencoder(model, dataloaders, dataset_sizes, criterion, optimizer, scheduler, num_epochs=25):\n",
        "    since = time.time()\n",
        "\n",
        "    best_model_wts = copy.deepcopy(model.state_dict()) # Los mejores pesos se deben guardar por separado\n",
        "    best_loss = np.inf\n",
        "    best_epoch = 0\n",
        "\n",
        "    # Cada ciclo tiene una fase de entrenamiento, una de validación y una de prueba\n",
        "    phases = ['train', 'val', 'test']\n",
        "    \n",
        "    # Hacer un seguimiento de la evolución de la pérdida durante el entrenamiento\n",
        "    training_curves = {}\n",
        "    for phase in phases:\n",
        "        training_curves[phase+'_loss'] = []\n",
        "    \n",
        "    for epoch in range(num_epochs):\n",
        "        print(f'\\nEpoch {epoch+1}/{num_epochs}')\n",
        "        print('-' * 10)\n",
        "\n",
        "        for phase in phases:\n",
        "            if phase == 'train':\n",
        "                model.train()  # Configurar el modelo en el modo de entrenamiento\n",
        "            else:\n",
        "                model.eval()   # Configurar el modelo en el modo de evaluación\n",
        "            running_loss = 0.0\n",
        "\n",
        "            # Iterar con los datos - para el autocodificador no nos importan las etiquetas,\n",
        "            # estamos entrenando al input contra sí mismo\n",
        "            for inputs, _ in dataloaders[phase]:\n",
        "                # Ya no hay que alisar los inputs\n",
        "                inputs = inputs.to(device)\n",
        "                # Los objetivos son iguales que los inputs\n",
        "                targets = inputs.to(device)\n",
        "\n",
        "                # Poner a 0 los gradientes de los parámetros\n",
        "                optimizer.zero_grad()\n",
        "\n",
        "                # Método forward\n",
        "                with torch.set_grad_enabled(phase == 'train'):\n",
        "                    outputs = model(inputs)\n",
        "                    loss = criterion(outputs, targets)\n",
        "\n",
        "                    # Método backward y actualización de los pesos solo si está en la fase de entrenamiento\n",
        "                    if phase == 'train':\n",
        "                        loss.backward()\n",
        "                        optimizer.step()\n",
        "\n",
        "                # Estadísticas\n",
        "                running_loss += loss.item() * inputs.size(0)\n",
        " \n",
        "            if phase == 'train':\n",
        "                scheduler.step()\n",
        "\n",
        "            epoch_loss = running_loss / dataset_sizes[phase]\n",
        "            training_curves[phase+'_loss'].append(epoch_loss)\n",
        "\n",
        "            print(f'{phase:5} Loss: {epoch_loss:.4f}')\n",
        "\n",
        "            # Hacer una copia profunda del modelo si se ha alcanzado la mejor precisión\n",
        "            if phase == 'val' and epoch_loss < best_loss:\n",
        "              best_epoch = epoch\n",
        "              best_loss = epoch_loss\n",
        "              best_model_wts = copy.deepcopy(model.state_dict())\n",
        "\n",
        "    time_elapsed = time.time() - since\n",
        "    print(f'\\nTraining complete in {time_elapsed // 60:.0f}m {time_elapsed % 60:.0f}s')\n",
        "    print(f'Best val Loss: {best_loss:4f} at epoch {best_epoch}')\n",
        "\n",
        "    # Cargar los mejores pesos del modelo\n",
        "    model.load_state_dict(best_model_wts)\n",
        "    \n",
        "    return model, training_curves\n",
        "\n"
      ]
    },
    {
      "cell_type": "code",
      "execution_count": 16,
      "metadata": {
        "colab": {
          "base_uri": "https://localhost:8080/"
        },
        "id": "lnw0wNN2GSp-",
        "outputId": "ad59ec2a-6743-4afc-b9b8-379ffc9c7387"
      },
      "outputs": [
        {
          "name": "stdout",
          "output_type": "stream",
          "text": [
            "\n",
            "Epoch 1/10\n",
            "----------\n",
            "train Loss: 0.2900\n",
            "val   Loss: 0.1447\n",
            "test  Loss: 0.1436\n",
            "\n",
            "Epoch 2/10\n",
            "----------\n",
            "train Loss: 0.1167\n",
            "val   Loss: 0.0960\n",
            "test  Loss: 0.0945\n",
            "\n",
            "Epoch 3/10\n",
            "----------\n",
            "train Loss: 0.0874\n",
            "val   Loss: 0.0797\n",
            "test  Loss: 0.0782\n",
            "\n",
            "Epoch 4/10\n",
            "----------\n",
            "train Loss: 0.0759\n",
            "val   Loss: 0.0720\n",
            "test  Loss: 0.0705\n",
            "\n",
            "Epoch 5/10\n",
            "----------\n",
            "train Loss: 0.0698\n",
            "val   Loss: 0.0672\n",
            "test  Loss: 0.0657\n",
            "\n",
            "Epoch 6/10\n",
            "----------\n",
            "train Loss: 0.0660\n",
            "val   Loss: 0.0645\n",
            "test  Loss: 0.0631\n",
            "\n",
            "Epoch 7/10\n",
            "----------\n",
            "train Loss: 0.0637\n",
            "val   Loss: 0.0624\n",
            "test  Loss: 0.0611\n",
            "\n",
            "Epoch 8/10\n",
            "----------\n",
            "train Loss: 0.0615\n",
            "val   Loss: 0.0604\n",
            "test  Loss: 0.0590\n",
            "\n",
            "Epoch 9/10\n",
            "----------\n",
            "train Loss: 0.0600\n",
            "val   Loss: 0.0591\n",
            "test  Loss: 0.0578\n",
            "\n",
            "Epoch 10/10\n",
            "----------\n",
            "train Loss: 0.0589\n",
            "val   Loss: 0.0581\n",
            "test  Loss: 0.0568\n",
            "\n",
            "Training complete in 3m 45s\n",
            "Best val Loss: 0.058077 at epoch 9\n"
          ]
        }
      ],
      "source": [
        "# Pérdida y optimizador\n",
        "criterion = nn.MSELoss()\n",
        "optimizer = torch.optim.Adam(model.parameters(), lr=learning_rate)\n",
        "scheduler = torch.optim.lr_scheduler.ExponentialLR(optimizer, gamma=0.95)\n",
        "\n",
        "model, training_curves = train_autoencoder(model, dataloaders, dataset_sizes, criterion, optimizer, scheduler, num_epochs=num_epochs)"
      ]
    },
    {
      "cell_type": "markdown",
      "metadata": {
        "id": "uVxNl_fq1bnI"
      },
      "source": [
        "Recordemos que el autocodificador totalmente lineal con la codificación del espacio latente a un tamaño de 32 logró una pérdida ligeramente similar. Sin embargo, al visualizar los puntos de datos de abajo, vemos que el modelo de CNN es capaz de reconstruir con mayor precisión las imágenes de *input*."
      ]
    },
    {
      "cell_type": "markdown",
      "metadata": {
        "id": "Z0f1yoRX2U5T"
      },
      "source": [
        "### Visualización de los resultados\n",
        "\n",
        "Vamos a probar a visualizar algunas de las imágenes. Observará que la reconstrucción es más precisa que en el autocodificador anterior, en especial, para las cifras 8 y 9."
      ]
    },
    {
      "cell_type": "code",
      "execution_count": 17,
      "metadata": {
        "id": "s0yf1M5N3b3n"
      },
      "outputs": [],
      "source": [
        "# Trazar una ground truth sobre las cifras y autocodificar\n",
        "def plot_digit(digit, count = 1):\n",
        "    fig = plt.figure()\n",
        "    idx = 1\n",
        "    for inputs, labels in dataloaders[\"test\"]:\n",
        "        inputs = inputs.to(device)\n",
        "        for i, input in enumerate(inputs):\n",
        "            # Solo queremos mostrar determinadas cifras\n",
        "            if (labels[i] != digit):\n",
        "                continue\n",
        "            # Ejecutar el autocodificador\n",
        "            autoencoding = model.forward(input.reshape(1,1,28,28)) # Debemos remodelar la forma para tener en cuenta el tamaño de lotes de 1 en la evaluación\n",
        "            # Volver a la cpu()\n",
        "            autoencoding = autoencoding.cpu().detach().numpy()\n",
        "            # Remodelar en forma de imagen\n",
        "            autoencoding = autoencoding.reshape((28,28))\n",
        "            input = input.cpu().detach().numpy().reshape((28,28))\n",
        "            # Trazar la ground truth\n",
        "            ax = fig.add_subplot(2, count, idx)\n",
        "            ax.imshow(input, cmap='gray')\n",
        "            # Trazar la autocodificación\n",
        "            ax = fig.add_subplot(2, count, idx+count)\n",
        "            ax.imshow(autoencoding, cmap='gray')\n",
        "            idx += 1\n",
        "            if idx > count:\n",
        "                break\n",
        "        if idx > count:\n",
        "            break"
      ]
    },
    {
      "cell_type": "code",
      "execution_count": 19,
      "metadata": {
        "colab": {
          "base_uri": "https://localhost:8080/",
          "height": 242
        },
        "id": "Yo6FToEHQ35V",
        "outputId": "c9d7d78c-dfb6-401f-990d-78d9cb5f1e9a"
      },
      "outputs": [
        {
          "data": {
            "image/png": "[encoded data removed]",
            "text/plain": [
              "<Figure size 640x480 with 12 Axes>"
            ]
          },
          "metadata": {},
          "output_type": "display_data"
        }
      ],
      "source": [
        "plot_digit(3,6)"
      ]
    },
    {
      "cell_type": "markdown",
      "metadata": {
        "id": "Q-1Xfoai2am4"
      },
      "source": [
        "## CNN profunda para la clasificación del conjunto de datos MNIST\n",
        "\n",
        "Ahora que tenemos potentes capas convolucionales, volvamos a la tarea de clasificación del conjunto de cifras MNIST.\n",
        "\n",
        "Antes, logramos una eficacia de en torno al 96 % con un clasificador de una sola dimensión. Ahora, vamos a introducir las capas convolucionales y a comprobar el rendimiento del modelo.\n",
        "\n"
      ]
    },
    {
      "cell_type": "markdown",
      "metadata": {
        "id": "fDr2nRBa9Fvj"
      },
      "source": [
        "### Preparación del conjunto de datos e importación del módulo"
      ]
    },
    {
      "cell_type": "code",
      "execution_count": 21,
      "metadata": {
        "colab": {
          "base_uri": "https://localhost:8080/"
        },
        "id": "NXK8zeL59Fvj",
        "outputId": "7648b187-a1ec-4449-efad-05d06e434508"
      },
      "outputs": [
        {
          "data": {
            "text/plain": [
              "device(type='cpu')"
            ]
          },
          "execution_count": 21,
          "metadata": {},
          "output_type": "execute_result"
        }
      ],
      "source": [
        "import torch\n",
        "import torch.nn as nn\n",
        "import numpy as np\n",
        "import torchvision.datasets\n",
        "from torchvision import transforms\n",
        "from torch.utils.data import Subset\n",
        "from torch.utils.data import DataLoader\n",
        "import time, copy\n",
        "import matplotlib.pyplot as plt\n",
        "import sklearn.metrics as metrics\n",
        "\n",
        "# Configuración del dispositivo (si es posible, entrenar el modelo en la GPU, el proceso será mucho más rápido)\n",
        "device = torch.device('cuda' if torch.cuda.is_available() else 'cpu')\n",
        "device = torch.device('cpu')\n",
        "device"
      ]
    },
    {
      "cell_type": "code",
      "execution_count": 22,
      "metadata": {
        "id": "NHk8zhBO9Fvk"
      },
      "outputs": [],
      "source": [
        "# Estas transformaciones sucederán en todos los puntos de datos. En este ejemplo,\n",
        "# queremos convertir cada punto de datos en un tensor y realizar una normalización\n",
        "transform = transforms.Compose([transforms.ToTensor(), transforms.Normalize([0.5], [0.5])])\n",
        "mnist_train = torchvision.datasets.MNIST('', train=True, transform =transform, download=True)\n",
        "\n",
        "# Dividiremos el conjunto de datos de entrenamiento en entrenamiento y validación\n",
        "mnist_train, mnist_val = torch.utils.data.random_split(mnist_train, [int(np.floor(len(mnist_train)*0.75)), int(np.ceil(len(mnist_train)*0.25))])\n",
        "\n",
        "mnist_test = torchvision.datasets.MNIST('', train=False, transform = transform, download=True)"
      ]
    },
    {
      "cell_type": "code",
      "execution_count": 23,
      "metadata": {
        "colab": {
          "base_uri": "https://localhost:8080/"
        },
        "id": "9xkefYQj9Fvk",
        "outputId": "b56b3ef4-7f96-498a-8f55-f866e5b8e51a"
      },
      "outputs": [
        {
          "name": "stdout",
          "output_type": "stream",
          "text": [
            "dataset_sizes = {'train': 45000, 'val': 15000, 'test': 10000}\n"
          ]
        }
      ],
      "source": [
        "# Crearemos DataLoaders igual que antes, con un tamaño de lotes de 100\n",
        "batch_size = 100\n",
        "dataloaders = {'train': DataLoader(mnist_train, batch_size=batch_size),\n",
        "               'val': DataLoader(mnist_val, batch_size=batch_size),\n",
        "               'test': DataLoader(mnist_test, batch_size=batch_size)}\n",
        "\n",
        "dataset_sizes = {'train': len(mnist_train),\n",
        "                 'val': len(mnist_val),\n",
        "                 'test': len(mnist_test)}\n",
        "print(f'dataset_sizes = {dataset_sizes}')"
      ]
    },
    {
      "cell_type": "markdown",
      "metadata": {
        "id": "qTzW8X8W2frq"
      },
      "source": [
        "### Definición e hiperparámetros del modelo\n",
        "\n",
        "Para el modelo CNN, primero realizaremos una convolución y una operación de *max pooling* para que aprenda atributos 2D del conjunto de datos. Después, realizaremos un alisado e incluiremos dos capas para reducir la clasificación a las 10 categorías que nos interesan. \n",
        "\n",
        "La mayoría de CNN siguen este patrón: se realiza una extracción de atributos espaciales al principio de la red y se incluyen capas lineales para la clasificación al final."
      ]
    },
    {
      "cell_type": "code",
      "execution_count": 24,
      "metadata": {
        "id": "kOXGrXkYvVss"
      },
      "outputs": [],
      "source": [
        "from torch.nn.modules.flatten import Flatten\n",
        "class CNNClassifier(nn.Module):\n",
        "    def __init__(self):\n",
        "        super(CNNClassifier, self).__init__()\n",
        "        # Dividir el codificador y el decodificador\n",
        "\n",
        "        self.pipeline = nn.Sequential(\n",
        "            nn.Conv2d(in_channels = 1, out_channels = 8, kernel_size = 3, stride = 1, padding = 1),\n",
        "            nn.ReLU(),\n",
        "            nn.MaxPool2d(kernel_size = 2, stride = 2),\n",
        "            nn.Flatten(),\n",
        "            nn.Linear(8*14*14, 64),\n",
        "            nn.ReLU(),\n",
        "            nn.Linear(64, 10)\n",
        "        )\n",
        "        \n",
        "    def forward(self, x):\n",
        "        return self.pipeline(x)\n"
      ]
    },
    {
      "cell_type": "code",
      "execution_count": 25,
      "metadata": {
        "colab": {
          "base_uri": "https://localhost:8080/"
        },
        "id": "Tl0UJSKjwBwj",
        "outputId": "8ddc1828-bbd0-4188-f497-d5a947c3b3eb"
      },
      "outputs": [
        {
          "name": "stdout",
          "output_type": "stream",
          "text": [
            "CNNClassifier(\n",
            "  (pipeline): Sequential(\n",
            "    (0): Conv2d(1, 8, kernel_size=(3, 3), stride=(1, 1), padding=(1, 1))\n",
            "    (1): ReLU()\n",
            "    (2): MaxPool2d(kernel_size=2, stride=2, padding=0, dilation=1, ceil_mode=False)\n",
            "    (3): Flatten(start_dim=1, end_dim=-1)\n",
            "    (4): Linear(in_features=1568, out_features=64, bias=True)\n",
            "    (5): ReLU()\n",
            "    (6): Linear(in_features=64, out_features=10, bias=True)\n",
            "  )\n",
            ")\n"
          ]
        }
      ],
      "source": [
        "learning_rate = 0.001\n",
        "num_epochs = 10\n",
        "\n",
        "model = CNNClassifier().to(device)\n",
        "print(model)"
      ]
    },
    {
      "cell_type": "markdown",
      "metadata": {
        "id": "dBLCJuYO2jL3"
      },
      "source": [
        "### Entrenamiento del modelo\n",
        "\n"
      ]
    },
    {
      "cell_type": "code",
      "execution_count": 26,
      "metadata": {
        "id": "R-IYOBzW4Kaf"
      },
      "outputs": [],
      "source": [
        "# Extraído de https://pytorch.org/tutorials/beginner/transfer_learning_tutorial.html\n",
        "\n",
        "def train_classification_model(model, dataloaders, dataset_sizes, criterion, optimizer, scheduler, num_epochs=25):\n",
        "    since = time.time()\n",
        "\n",
        "    best_model_wts = copy.deepcopy(model.state_dict()) # Los mejores pesos se deben guardar por separado\n",
        "    best_acc = 0.0\n",
        "    best_epoch = 0\n",
        "\n",
        "     # Cada ciclo tiene una fase de entrenamiento, una de validación y una de prueba\n",
        "    phases = ['train', 'val', 'test']\n",
        "    \n",
        "    # Hacer un seguimiento de la evolución de la pérdida y la precisión durante el entrenamiento\n",
        "    training_curves = {}\n",
        "    for phase in phases:\n",
        "        training_curves[phase+'_loss'] = []\n",
        "        training_curves[phase+'_acc'] = []\n",
        "    \n",
        "    for epoch in range(num_epochs):\n",
        "        print(f'\\nEpoch {epoch+1}/{num_epochs}')\n",
        "        print('-' * 10)\n",
        "\n",
        "        for phase in phases:\n",
        "            if phase == 'train':\n",
        "                model.train()  # Configurar el modelo en el modo de entrenamiento\n",
        "            else:\n",
        "                model.eval()   # Configurar el modelo en el modo de evaluación\n",
        "\n",
        "            running_loss = 0.0\n",
        "            running_corrects = 0\n",
        "\n",
        "            # Iterar con los datos\n",
        "            for inputs, labels in dataloaders[phase]:\n",
        "                # No hace falta alisar los inputs\n",
        "                inputs = inputs.to(device)\n",
        "                labels = labels.to(device)\n",
        "\n",
        "                # Poner a 0 los gradientes de los parámetros\n",
        "                optimizer.zero_grad()\n",
        "\n",
        "                # Método forward\n",
        "                with torch.set_grad_enabled(phase == 'train'):\n",
        "                    outputs = model(inputs)\n",
        "                    _, predictions = torch.max(outputs, 1)\n",
        "                    loss = criterion(outputs, labels)\n",
        "\n",
        "                    # Método backward y actualización de los pesos solo si está en la fase de entrenamiento\n",
        "                    if phase == 'train':\n",
        "                        loss.backward()\n",
        "                        optimizer.step()\n",
        "\n",
        "                # Estadísticas\n",
        "                running_loss += loss.item() * inputs.size(0)\n",
        "                running_corrects += torch.sum(predictions == labels.data)\n",
        " \n",
        "            if phase == 'train':\n",
        "                scheduler.step()\n",
        "\n",
        "            epoch_loss = running_loss / dataset_sizes[phase]\n",
        "            epoch_acc = running_corrects.double() / dataset_sizes[phase]\n",
        "            training_curves[phase+'_loss'].append(epoch_loss)\n",
        "            training_curves[phase+'_acc'].append(epoch_acc)\n",
        "\n",
        "            print(f'{phase:5} Loss: {epoch_loss:.4f} Acc: {epoch_acc:.4f}')\n",
        "\n",
        "            # Hacer una copia profunda del modelo si se ha alcanzado la mejor precisión\n",
        "            if phase == 'val' and epoch_acc > best_acc:\n",
        "              best_epoch = epoch\n",
        "              best_acc = epoch_acc\n",
        "              best_model_wts = copy.deepcopy(model.state_dict())\n",
        "\n",
        "    time_elapsed = time.time() - since\n",
        "    print(f'\\nTraining complete in {time_elapsed // 60:.0f}m {time_elapsed % 60:.0f}s')\n",
        "    print(f'Best val Acc: {best_acc:4f} at epoch {best_epoch}')\n",
        "\n",
        "    # Cargar los mejores pesos del modelo\n",
        "    model.load_state_dict(best_model_wts)\n",
        "    \n",
        "    return model, training_curves\n",
        "\n"
      ]
    },
    {
      "cell_type": "code",
      "execution_count": 27,
      "metadata": {
        "colab": {
          "base_uri": "https://localhost:8080/"
        },
        "id": "XAiTgOnR4WfS",
        "outputId": "872b0bd9-9d56-4a08-ed2d-25e0216b42fe"
      },
      "outputs": [
        {
          "name": "stdout",
          "output_type": "stream",
          "text": [
            "\n",
            "Epoch 1/10\n",
            "----------\n",
            "train Loss: 0.4762 Acc: 0.8674\n",
            "val   Loss: 0.2094 Acc: 0.9387\n",
            "test  Loss: 0.1982 Acc: 0.9441\n",
            "\n",
            "Epoch 2/10\n",
            "----------\n",
            "train Loss: 0.1596 Acc: 0.9545\n",
            "val   Loss: 0.1309 Acc: 0.9626\n",
            "test  Loss: 0.1204 Acc: 0.9663\n",
            "\n",
            "Epoch 3/10\n",
            "----------\n",
            "train Loss: 0.1125 Acc: 0.9670\n",
            "val   Loss: 0.1072 Acc: 0.9691\n",
            "test  Loss: 0.0957 Acc: 0.9719\n",
            "\n",
            "Epoch 4/10\n",
            "----------\n",
            "train Loss: 0.0900 Acc: 0.9740\n",
            "val   Loss: 0.0984 Acc: 0.9699\n",
            "test  Loss: 0.0850 Acc: 0.9741\n",
            "\n",
            "Epoch 5/10\n",
            "----------\n",
            "train Loss: 0.0757 Acc: 0.9781\n",
            "val   Loss: 0.0905 Acc: 0.9717\n",
            "test  Loss: 0.0769 Acc: 0.9758\n",
            "\n",
            "Epoch 6/10\n",
            "----------\n",
            "train Loss: 0.0653 Acc: 0.9807\n",
            "val   Loss: 0.0848 Acc: 0.9737\n",
            "test  Loss: 0.0719 Acc: 0.9773\n",
            "\n",
            "Epoch 7/10\n",
            "----------\n",
            "train Loss: 0.0570 Acc: 0.9832\n",
            "val   Loss: 0.0805 Acc: 0.9753\n",
            "test  Loss: 0.0686 Acc: 0.9783\n",
            "\n",
            "Epoch 8/10\n",
            "----------\n",
            "train Loss: 0.0503 Acc: 0.9854\n",
            "val   Loss: 0.0782 Acc: 0.9758\n",
            "test  Loss: 0.0672 Acc: 0.9780\n",
            "\n",
            "Epoch 9/10\n",
            "----------\n",
            "train Loss: 0.0449 Acc: 0.9871\n",
            "val   Loss: 0.0768 Acc: 0.9767\n",
            "test  Loss: 0.0661 Acc: 0.9777\n",
            "\n",
            "Epoch 10/10\n",
            "----------\n",
            "train Loss: 0.0403 Acc: 0.9888\n",
            "val   Loss: 0.0762 Acc: 0.9769\n",
            "test  Loss: 0.0660 Acc: 0.9779\n",
            "\n",
            "Training complete in 3m 29s\n",
            "Best val Acc: 0.976867 at epoch 9\n"
          ]
        }
      ],
      "source": [
        "# Pérdida y optimizador\n",
        "criterion = nn.CrossEntropyLoss() # Utilizar CrossEntropyLoss para la clasificación\n",
        "optimizer = torch.optim.Adam(model.parameters(), lr=learning_rate)\n",
        "scheduler = torch.optim.lr_scheduler.ExponentialLR(optimizer, gamma=0.95)\n",
        "\n",
        "# Entrenar el modelo. También guardaremos los resultados del entrenamiento para poder visualizarlos\n",
        "model, training_curves = train_classification_model(model, dataloaders, dataset_sizes, \n",
        "                                     criterion, optimizer, scheduler, num_epochs=num_epochs)"
      ]
    },
    {
      "cell_type": "markdown",
      "metadata": {
        "id": "at0ZyfSU7Gk6"
      },
      "source": [
        "Cuando el modelo haya terminado de entrenar, veremos que, con solo incluir un conjunto de capas convolucionales, hemos mejorado el rendimiento comparado con el anterior MLP de 1D. Es una gran mejora para una implementación de CNN tan sencilla. Si añadiésemos más capas y técnicas convolucionales, aumentaría la mejora."
      ]
    },
    {
      "cell_type": "markdown",
      "metadata": {
        "id": "pVr2w17g2kVM"
      },
      "source": [
        "### Visualización de las curvas de entrenamiento y los resultados\n",
        "\n",
        " Al incluir funciones para examinar las curvas de entrenamiento y la matriz de confusión veremos que la matriz contiene menos puntos de datos clasificados incorrectamente que antes."
      ]
    },
    {
      "cell_type": "code",
      "execution_count": 28,
      "metadata": {
        "id": "bFiFvHou4dOI"
      },
      "outputs": [],
      "source": [
        "def plot_training_curves(training_curves, \n",
        "                         phases=['train', 'val', 'test'],\n",
        "                         metrics=['loss','acc']):\n",
        "    epochs = list(range(len(training_curves['train_loss'])))\n",
        "    for metric in metrics:\n",
        "        plt.figure()\n",
        "        plt.title(f'Training curves - {metric}')\n",
        "        for phase in phases:\n",
        "            key = phase+'_'+metric\n",
        "            if key in training_curves:\n",
        "                if metric == 'acc':\n",
        "                    plt.plot(epochs, [item.detach().cpu() for item in training_curves[key]])\n",
        "                else:\n",
        "                    plt.plot(epochs, training_curves[key])\n",
        "        plt.xlabel('epoch')\n",
        "        plt.legend(labels=phases)\n",
        "\n",
        "def classify_predictions(model, device, dataloader):\n",
        "    model.eval()   # Configurar el modelo en el modo de evaluación\n",
        "    all_labels = torch.tensor([]).to(device)\n",
        "    all_scores = torch.tensor([]).to(device)\n",
        "    all_preds = torch.tensor([]).to(device)\n",
        "    for inputs, labels in dataloader:\n",
        "        inputs = inputs.to(device)\n",
        "        labels = labels.to(device)\n",
        "        outputs = torch.softmax(model(inputs),dim=1)\n",
        "        _, preds = torch.max(outputs, 1)\n",
        "        scores = outputs[:,1]\n",
        "        all_labels = torch.cat((all_labels, labels), 0)\n",
        "        all_scores = torch.cat((all_scores, scores), 0)\n",
        "        all_preds = torch.cat((all_preds, preds), 0)\n",
        "    return all_preds.detach().cpu(), all_labels.detach().cpu(), all_scores.detach().cpu()\n",
        "\n",
        "def plot_cm(model, device, dataloaders, phase='test'):\n",
        "    class_labels = [0, 1, 2, 3, 4, 5, 6, 7, 8, 9]\n",
        "    preds, labels, scores = classify_predictions(model, device, dataloaders[phase])\n",
        "    \n",
        "    cm = metrics.confusion_matrix(labels, preds)\n",
        "    disp = metrics.ConfusionMatrixDisplay(confusion_matrix=cm, display_labels=class_labels)\n",
        "    ax = disp.plot().ax_\n",
        "    ax.set_title('Confusion Matrix -- counts')\n"
      ]
    },
    {
      "cell_type": "code",
      "execution_count": 29,
      "metadata": {
        "colab": {
          "base_uri": "https://localhost:8080/",
          "height": 573
        },
        "id": "3MQF3p-74fQP",
        "outputId": "d4487519-c1f0-4779-fa86-7cd128ae4386"
      },
      "outputs": [
        {
          "data": {
            "image/png": "[encoded data removed]",
            "text/plain": [
              "<Figure size 640x480 with 1 Axes>"
            ]
          },
          "metadata": {},
          "output_type": "display_data"
        },
        {
          "data": {
            "image/png": "[encoded data removed]",
            "text/plain": [
              "<Figure size 640x480 with 1 Axes>"
            ]
          },
          "metadata": {},
          "output_type": "display_data"
        }
      ],
      "source": [
        "plot_training_curves(training_curves, phases=['train', 'val', 'test'])"
      ]
    },
    {
      "cell_type": "code",
      "execution_count": null,
      "metadata": {
        "colab": {
          "base_uri": "https://localhost:8080/",
          "height": 295
        },
        "id": "OwqcGBhv4f0C",
        "outputId": "5188cc47-b9fe-4c03-d017-d5df80508532"
      },
      "outputs": [
        {
          "data": {
            "image/png": "[encoded data removed]",
            "text/plain": [
              "<Figure size 432x288 with 2 Axes>"
            ]
          },
          "metadata": {
            "needs_background": "light"
          },
          "output_type": "display_data"
        }
      ],
      "source": [
        "res = plot_cm(model, device, dataloaders, phase='test')"
      ]
    },
    {
      "cell_type": "markdown",
      "metadata": {
        "id": "Rj2JjzP62onH"
      },
      "source": [
        "## ¿Qué viene después?\n",
        "\n",
        "Ahora que hemos introducido las convoluciones en 2D, podremos construir redes neuronales mucho más complejas. En la actividad evaluable, deberá construir y diseñar, a partir de la capa convolucional que hemos creado, un modelo con al menos 2 capas convolucionales para clasificar un nuevo conjunto de datos."
      ]
    }
  ],
  "metadata": {
    "accelerator": "GPU",
    "colab": {
      "collapsed_sections": [
        "pVr2w17g2kVM",
        "Rj2JjzP62onH"
      ],
      "provenance": [],
      "toc_visible": true
    },
    "gpuClass": "standard",
    "kernelspec": {
      "display_name": "base",
      "language": "python",
      "name": "python3"
    },
    "language_info": {
      "codemirror_mode": {
        "name": "ipython",
        "version": 3
      },
      "file_extension": ".py",
      "mimetype": "text/x-python",
      "name": "python",
      "nbconvert_exporter": "python",
      "pygments_lexer": "ipython3",
      "version": "3.9.13"
    },
    "vscode": {
      "interpreter": {
        "hash": "1b4dcc508076e9239aa6a2b739d41c8a505780e648b690f375f7d262ba9ac310"
      }
    },
    "widgets": {
      "application/vnd.jupyter.widget-state+json": {
        "027751a0087e4ba59e7f0e04d06a19c7": {
          "model_module": "@jupyter-widgets/base",
          "model_module_version": "1.2.0",
          "model_name": "LayoutModel",
          "state": {
            "_model_module": "@jupyter-widgets/base",
            "_model_module_version": "1.2.0",
            "_model_name": "LayoutModel",
            "_view_count": null,
            "_view_module": "@jupyter-widgets/base",
            "_view_module_version": "1.2.0",
            "_view_name": "LayoutView",
            "align_content": null,
            "align_items": null,
            "align_self": null,
            "border": null,
            "bottom": null,
            "display": null,
            "flex": null,
            "flex_flow": null,
            "grid_area": null,
            "grid_auto_columns": null,
            "grid_auto_flow": null,
            "grid_auto_rows": null,
            "grid_column": null,
            "grid_gap": null,
            "grid_row": null,
            "grid_template_areas": null,
            "grid_template_columns": null,
            "grid_template_rows": null,
            "height": null,
            "justify_content": null,
            "justify_items": null,
            "left": null,
            "margin": null,
            "max_height": null,
            "max_width": null,
            "min_height": null,
            "min_width": null,
            "object_fit": null,
            "object_position": null,
            "order": null,
            "overflow": null,
            "overflow_x": null,
            "overflow_y": null,
            "padding": null,
            "right": null,
            "top": null,
            "visibility": null,
            "width": null
          }
        },
        "0567c4df4e4e497db3f583c4c9bb4b2d": {
          "model_module": "@jupyter-widgets/controls",
          "model_module_version": "1.5.0",
          "model_name": "HTMLModel",
          "state": {
            "_dom_classes": [],
            "_model_module": "@jupyter-widgets/controls",
            "_model_module_version": "1.5.0",
            "_model_name": "HTMLModel",
            "_view_count": null,
            "_view_module": "@jupyter-widgets/controls",
            "_view_module_version": "1.5.0",
            "_view_name": "HTMLView",
            "description": "",
            "description_tooltip": null,
            "layout": "IPY_MODEL_fb70b7fb97e4483ca4740cc2901d4810",
            "placeholder": "​",
            "style": "IPY_MODEL_3b2976dde98043efac859cc64b4087a3",
            "value": "100%"
          }
        },
        "059d883989ca49fab679707378fcfd0f": {
          "model_module": "@jupyter-widgets/base",
          "model_module_version": "1.2.0",
          "model_name": "LayoutModel",
          "state": {
            "_model_module": "@jupyter-widgets/base",
            "_model_module_version": "1.2.0",
            "_model_name": "LayoutModel",
            "_view_count": null,
            "_view_module": "@jupyter-widgets/base",
            "_view_module_version": "1.2.0",
            "_view_name": "LayoutView",
            "align_content": null,
            "align_items": null,
            "align_self": null,
            "border": null,
            "bottom": null,
            "display": null,
            "flex": null,
            "flex_flow": null,
            "grid_area": null,
            "grid_auto_columns": null,
            "grid_auto_flow": null,
            "grid_auto_rows": null,
            "grid_column": null,
            "grid_gap": null,
            "grid_row": null,
            "grid_template_areas": null,
            "grid_template_columns": null,
            "grid_template_rows": null,
            "height": null,
            "justify_content": null,
            "justify_items": null,
            "left": null,
            "margin": null,
            "max_height": null,
            "max_width": null,
            "min_height": null,
            "min_width": null,
            "object_fit": null,
            "object_position": null,
            "order": null,
            "overflow": null,
            "overflow_x": null,
            "overflow_y": null,
            "padding": null,
            "right": null,
            "top": null,
            "visibility": null,
            "width": null
          }
        },
        "062b191496e845fabb217e6a41bb4754": {
          "model_module": "@jupyter-widgets/controls",
          "model_module_version": "1.5.0",
          "model_name": "FloatProgressModel",
          "state": {
            "_dom_classes": [],
            "_model_module": "@jupyter-widgets/controls",
            "_model_module_version": "1.5.0",
            "_model_name": "FloatProgressModel",
            "_view_count": null,
            "_view_module": "@jupyter-widgets/controls",
            "_view_module_version": "1.5.0",
            "_view_name": "ProgressView",
            "bar_style": "success",
            "description": "",
            "description_tooltip": null,
            "layout": "IPY_MODEL_7c66ef4be9f34381a6fb1cf0f1bd3e0d",
            "max": 4542,
            "min": 0,
            "orientation": "horizontal",
            "style": "IPY_MODEL_393c4d4bbc474f569ddedea97152d3b5",
            "value": 4542
          }
        },
        "0a0fabd808104988bc5db6479ef9e883": {
          "model_module": "@jupyter-widgets/base",
          "model_module_version": "1.2.0",
          "model_name": "LayoutModel",
          "state": {
            "_model_module": "@jupyter-widgets/base",
            "_model_module_version": "1.2.0",
            "_model_name": "LayoutModel",
            "_view_count": null,
            "_view_module": "@jupyter-widgets/base",
            "_view_module_version": "1.2.0",
            "_view_name": "LayoutView",
            "align_content": null,
            "align_items": null,
            "align_self": null,
            "border": null,
            "bottom": null,
            "display": null,
            "flex": null,
            "flex_flow": null,
            "grid_area": null,
            "grid_auto_columns": null,
            "grid_auto_flow": null,
            "grid_auto_rows": null,
            "grid_column": null,
            "grid_gap": null,
            "grid_row": null,
            "grid_template_areas": null,
            "grid_template_columns": null,
            "grid_template_rows": null,
            "height": null,
            "justify_content": null,
            "justify_items": null,
            "left": null,
            "margin": null,
            "max_height": null,
            "max_width": null,
            "min_height": null,
            "min_width": null,
            "object_fit": null,
            "object_position": null,
            "order": null,
            "overflow": null,
            "overflow_x": null,
            "overflow_y": null,
            "padding": null,
            "right": null,
            "top": null,
            "visibility": null,
            "width": null
          }
        },
        "175492c1282345289be41479318eb8c6": {
          "model_module": "@jupyter-widgets/base",
          "model_module_version": "1.2.0",
          "model_name": "LayoutModel",
          "state": {
            "_model_module": "@jupyter-widgets/base",
            "_model_module_version": "1.2.0",
            "_model_name": "LayoutModel",
            "_view_count": null,
            "_view_module": "@jupyter-widgets/base",
            "_view_module_version": "1.2.0",
            "_view_name": "LayoutView",
            "align_content": null,
            "align_items": null,
            "align_self": null,
            "border": null,
            "bottom": null,
            "display": null,
            "flex": null,
            "flex_flow": null,
            "grid_area": null,
            "grid_auto_columns": null,
            "grid_auto_flow": null,
            "grid_auto_rows": null,
            "grid_column": null,
            "grid_gap": null,
            "grid_row": null,
            "grid_template_areas": null,
            "grid_template_columns": null,
            "grid_template_rows": null,
            "height": null,
            "justify_content": null,
            "justify_items": null,
            "left": null,
            "margin": null,
            "max_height": null,
            "max_width": null,
            "min_height": null,
            "min_width": null,
            "object_fit": null,
            "object_position": null,
            "order": null,
            "overflow": null,
            "overflow_x": null,
            "overflow_y": null,
            "padding": null,
            "right": null,
            "top": null,
            "visibility": null,
            "width": null
          }
        },
        "199fdaa82bf6436199fc9ec96a2e8609": {
          "model_module": "@jupyter-widgets/controls",
          "model_module_version": "1.5.0",
          "model_name": "HBoxModel",
          "state": {
            "_dom_classes": [],
            "_model_module": "@jupyter-widgets/controls",
            "_model_module_version": "1.5.0",
            "_model_name": "HBoxModel",
            "_view_count": null,
            "_view_module": "@jupyter-widgets/controls",
            "_view_module_version": "1.5.0",
            "_view_name": "HBoxView",
            "box_style": "",
            "children": [
              "IPY_MODEL_245cbe77779a4aa182cf5fa207f6870d",
              "IPY_MODEL_878504b551134a4e8c80e42771b9d2ee",
              "IPY_MODEL_6a5da3b187b749e49744a6fa0bd70cb3"
            ],
            "layout": "IPY_MODEL_ed88002c2133496b868a9d9e369407db"
          }
        },
        "245cbe77779a4aa182cf5fa207f6870d": {
          "model_module": "@jupyter-widgets/controls",
          "model_module_version": "1.5.0",
          "model_name": "HTMLModel",
          "state": {
            "_dom_classes": [],
            "_model_module": "@jupyter-widgets/controls",
            "_model_module_version": "1.5.0",
            "_model_name": "HTMLModel",
            "_view_count": null,
            "_view_module": "@jupyter-widgets/controls",
            "_view_module_version": "1.5.0",
            "_view_name": "HTMLView",
            "description": "",
            "description_tooltip": null,
            "layout": "IPY_MODEL_d391dbcf4af54f57b2abd731974bc820",
            "placeholder": "​",
            "style": "IPY_MODEL_eb0e1e8c654345e99f0b2ee0d030b88a",
            "value": "100%"
          }
        },
        "2bcb602aa78b45f4a4baf692ba7d7523": {
          "model_module": "@jupyter-widgets/controls",
          "model_module_version": "1.5.0",
          "model_name": "HBoxModel",
          "state": {
            "_dom_classes": [],
            "_model_module": "@jupyter-widgets/controls",
            "_model_module_version": "1.5.0",
            "_model_name": "HBoxModel",
            "_view_count": null,
            "_view_module": "@jupyter-widgets/controls",
            "_view_module_version": "1.5.0",
            "_view_name": "HBoxView",
            "box_style": "",
            "children": [
              "IPY_MODEL_d909171f92fa4e1b9f5bd9a6599709c9",
              "IPY_MODEL_c10d0f012a9b457e83dddd00f174d474",
              "IPY_MODEL_4de2c614294047759860d5c4bf322aad"
            ],
            "layout": "IPY_MODEL_5d08e55ea7d34f4ea90c27c5d513270b"
          }
        },
        "340711b5699e4129b2f7af71a2f84e3a": {
          "model_module": "@jupyter-widgets/controls",
          "model_module_version": "1.5.0",
          "model_name": "ProgressStyleModel",
          "state": {
            "_model_module": "@jupyter-widgets/controls",
            "_model_module_version": "1.5.0",
            "_model_name": "ProgressStyleModel",
            "_view_count": null,
            "_view_module": "@jupyter-widgets/base",
            "_view_module_version": "1.2.0",
            "_view_name": "StyleView",
            "bar_color": null,
            "description_width": ""
          }
        },
        "393c4d4bbc474f569ddedea97152d3b5": {
          "model_module": "@jupyter-widgets/controls",
          "model_module_version": "1.5.0",
          "model_name": "ProgressStyleModel",
          "state": {
            "_model_module": "@jupyter-widgets/controls",
            "_model_module_version": "1.5.0",
            "_model_name": "ProgressStyleModel",
            "_view_count": null,
            "_view_module": "@jupyter-widgets/base",
            "_view_module_version": "1.2.0",
            "_view_name": "StyleView",
            "bar_color": null,
            "description_width": ""
          }
        },
        "3b2976dde98043efac859cc64b4087a3": {
          "model_module": "@jupyter-widgets/controls",
          "model_module_version": "1.5.0",
          "model_name": "DescriptionStyleModel",
          "state": {
            "_model_module": "@jupyter-widgets/controls",
            "_model_module_version": "1.5.0",
            "_model_name": "DescriptionStyleModel",
            "_view_count": null,
            "_view_module": "@jupyter-widgets/base",
            "_view_module_version": "1.2.0",
            "_view_name": "StyleView",
            "description_width": ""
          }
        },
        "3b3350f56b6f415eb9aaed60f8a2b250": {
          "model_module": "@jupyter-widgets/base",
          "model_module_version": "1.2.0",
          "model_name": "LayoutModel",
          "state": {
            "_model_module": "@jupyter-widgets/base",
            "_model_module_version": "1.2.0",
            "_model_name": "LayoutModel",
            "_view_count": null,
            "_view_module": "@jupyter-widgets/base",
            "_view_module_version": "1.2.0",
            "_view_name": "LayoutView",
            "align_content": null,
            "align_items": null,
            "align_self": null,
            "border": null,
            "bottom": null,
            "display": null,
            "flex": null,
            "flex_flow": null,
            "grid_area": null,
            "grid_auto_columns": null,
            "grid_auto_flow": null,
            "grid_auto_rows": null,
            "grid_column": null,
            "grid_gap": null,
            "grid_row": null,
            "grid_template_areas": null,
            "grid_template_columns": null,
            "grid_template_rows": null,
            "height": null,
            "justify_content": null,
            "justify_items": null,
            "left": null,
            "margin": null,
            "max_height": null,
            "max_width": null,
            "min_height": null,
            "min_width": null,
            "object_fit": null,
            "object_position": null,
            "order": null,
            "overflow": null,
            "overflow_x": null,
            "overflow_y": null,
            "padding": null,
            "right": null,
            "top": null,
            "visibility": null,
            "width": null
          }
        },
        "487105400b6f40969340e68c45a9140b": {
          "model_module": "@jupyter-widgets/controls",
          "model_module_version": "1.5.0",
          "model_name": "DescriptionStyleModel",
          "state": {
            "_model_module": "@jupyter-widgets/controls",
            "_model_module_version": "1.5.0",
            "_model_name": "DescriptionStyleModel",
            "_view_count": null,
            "_view_module": "@jupyter-widgets/base",
            "_view_module_version": "1.2.0",
            "_view_name": "StyleView",
            "description_width": ""
          }
        },
        "4de2c614294047759860d5c4bf322aad": {
          "model_module": "@jupyter-widgets/controls",
          "model_module_version": "1.5.0",
          "model_name": "HTMLModel",
          "state": {
            "_dom_classes": [],
            "_model_module": "@jupyter-widgets/controls",
            "_model_module_version": "1.5.0",
            "_model_name": "HTMLModel",
            "_view_count": null,
            "_view_module": "@jupyter-widgets/controls",
            "_view_module_version": "1.5.0",
            "_view_name": "HTMLView",
            "description": "",
            "description_tooltip": null,
            "layout": "IPY_MODEL_72fd36b2c90946518005e29650354c38",
            "placeholder": "​",
            "style": "IPY_MODEL_5352a7562f864ef29fbad68c8c096572",
            "value": " 1648877/1648877 [00:00&lt;00:00, 2952004.05it/s]"
          }
        },
        "51e47e0287134c6ea1498870c044c5de": {
          "model_module": "@jupyter-widgets/controls",
          "model_module_version": "1.5.0",
          "model_name": "ProgressStyleModel",
          "state": {
            "_model_module": "@jupyter-widgets/controls",
            "_model_module_version": "1.5.0",
            "_model_name": "ProgressStyleModel",
            "_view_count": null,
            "_view_module": "@jupyter-widgets/base",
            "_view_module_version": "1.2.0",
            "_view_name": "StyleView",
            "bar_color": null,
            "description_width": ""
          }
        },
        "5352a7562f864ef29fbad68c8c096572": {
          "model_module": "@jupyter-widgets/controls",
          "model_module_version": "1.5.0",
          "model_name": "DescriptionStyleModel",
          "state": {
            "_model_module": "@jupyter-widgets/controls",
            "_model_module_version": "1.5.0",
            "_model_name": "DescriptionStyleModel",
            "_view_count": null,
            "_view_module": "@jupyter-widgets/base",
            "_view_module_version": "1.2.0",
            "_view_name": "StyleView",
            "description_width": ""
          }
        },
        "57a9e63d1c5147bbbe214bdf626a251b": {
          "model_module": "@jupyter-widgets/controls",
          "model_module_version": "1.5.0",
          "model_name": "HTMLModel",
          "state": {
            "_dom_classes": [],
            "_model_module": "@jupyter-widgets/controls",
            "_model_module_version": "1.5.0",
            "_model_name": "HTMLModel",
            "_view_count": null,
            "_view_module": "@jupyter-widgets/controls",
            "_view_module_version": "1.5.0",
            "_view_name": "HTMLView",
            "description": "",
            "description_tooltip": null,
            "layout": "IPY_MODEL_059d883989ca49fab679707378fcfd0f",
            "placeholder": "​",
            "style": "IPY_MODEL_8acc0c6ab7bd42d6afc886b3b0d52173",
            "value": " 4542/4542 [00:00&lt;00:00, 59355.95it/s]"
          }
        },
        "5d08e55ea7d34f4ea90c27c5d513270b": {
          "model_module": "@jupyter-widgets/base",
          "model_module_version": "1.2.0",
          "model_name": "LayoutModel",
          "state": {
            "_model_module": "@jupyter-widgets/base",
            "_model_module_version": "1.2.0",
            "_model_name": "LayoutModel",
            "_view_count": null,
            "_view_module": "@jupyter-widgets/base",
            "_view_module_version": "1.2.0",
            "_view_name": "LayoutView",
            "align_content": null,
            "align_items": null,
            "align_self": null,
            "border": null,
            "bottom": null,
            "display": null,
            "flex": null,
            "flex_flow": null,
            "grid_area": null,
            "grid_auto_columns": null,
            "grid_auto_flow": null,
            "grid_auto_rows": null,
            "grid_column": null,
            "grid_gap": null,
            "grid_row": null,
            "grid_template_areas": null,
            "grid_template_columns": null,
            "grid_template_rows": null,
            "height": null,
            "justify_content": null,
            "justify_items": null,
            "left": null,
            "margin": null,
            "max_height": null,
            "max_width": null,
            "min_height": null,
            "min_width": null,
            "object_fit": null,
            "object_position": null,
            "order": null,
            "overflow": null,
            "overflow_x": null,
            "overflow_y": null,
            "padding": null,
            "right": null,
            "top": null,
            "visibility": null,
            "width": null
          }
        },
        "69aeda72d9374e23a4a4a7a1d8ffe081": {
          "model_module": "@jupyter-widgets/base",
          "model_module_version": "1.2.0",
          "model_name": "LayoutModel",
          "state": {
            "_model_module": "@jupyter-widgets/base",
            "_model_module_version": "1.2.0",
            "_model_name": "LayoutModel",
            "_view_count": null,
            "_view_module": "@jupyter-widgets/base",
            "_view_module_version": "1.2.0",
            "_view_name": "LayoutView",
            "align_content": null,
            "align_items": null,
            "align_self": null,
            "border": null,
            "bottom": null,
            "display": null,
            "flex": null,
            "flex_flow": null,
            "grid_area": null,
            "grid_auto_columns": null,
            "grid_auto_flow": null,
            "grid_auto_rows": null,
            "grid_column": null,
            "grid_gap": null,
            "grid_row": null,
            "grid_template_areas": null,
            "grid_template_columns": null,
            "grid_template_rows": null,
            "height": null,
            "justify_content": null,
            "justify_items": null,
            "left": null,
            "margin": null,
            "max_height": null,
            "max_width": null,
            "min_height": null,
            "min_width": null,
            "object_fit": null,
            "object_position": null,
            "order": null,
            "overflow": null,
            "overflow_x": null,
            "overflow_y": null,
            "padding": null,
            "right": null,
            "top": null,
            "visibility": null,
            "width": null
          }
        },
        "6a5da3b187b749e49744a6fa0bd70cb3": {
          "model_module": "@jupyter-widgets/controls",
          "model_module_version": "1.5.0",
          "model_name": "HTMLModel",
          "state": {
            "_dom_classes": [],
            "_model_module": "@jupyter-widgets/controls",
            "_model_module_version": "1.5.0",
            "_model_name": "HTMLModel",
            "_view_count": null,
            "_view_module": "@jupyter-widgets/controls",
            "_view_module_version": "1.5.0",
            "_view_name": "HTMLView",
            "description": "",
            "description_tooltip": null,
            "layout": "IPY_MODEL_69aeda72d9374e23a4a4a7a1d8ffe081",
            "placeholder": "​",
            "style": "IPY_MODEL_487105400b6f40969340e68c45a9140b",
            "value": " 9912422/9912422 [00:01&lt;00:00, 12760968.88it/s]"
          }
        },
        "72fd36b2c90946518005e29650354c38": {
          "model_module": "@jupyter-widgets/base",
          "model_module_version": "1.2.0",
          "model_name": "LayoutModel",
          "state": {
            "_model_module": "@jupyter-widgets/base",
            "_model_module_version": "1.2.0",
            "_model_name": "LayoutModel",
            "_view_count": null,
            "_view_module": "@jupyter-widgets/base",
            "_view_module_version": "1.2.0",
            "_view_name": "LayoutView",
            "align_content": null,
            "align_items": null,
            "align_self": null,
            "border": null,
            "bottom": null,
            "display": null,
            "flex": null,
            "flex_flow": null,
            "grid_area": null,
            "grid_auto_columns": null,
            "grid_auto_flow": null,
            "grid_auto_rows": null,
            "grid_column": null,
            "grid_gap": null,
            "grid_row": null,
            "grid_template_areas": null,
            "grid_template_columns": null,
            "grid_template_rows": null,
            "height": null,
            "justify_content": null,
            "justify_items": null,
            "left": null,
            "margin": null,
            "max_height": null,
            "max_width": null,
            "min_height": null,
            "min_width": null,
            "object_fit": null,
            "object_position": null,
            "order": null,
            "overflow": null,
            "overflow_x": null,
            "overflow_y": null,
            "padding": null,
            "right": null,
            "top": null,
            "visibility": null,
            "width": null
          }
        },
        "7c66ef4be9f34381a6fb1cf0f1bd3e0d": {
          "model_module": "@jupyter-widgets/base",
          "model_module_version": "1.2.0",
          "model_name": "LayoutModel",
          "state": {
            "_model_module": "@jupyter-widgets/base",
            "_model_module_version": "1.2.0",
            "_model_name": "LayoutModel",
            "_view_count": null,
            "_view_module": "@jupyter-widgets/base",
            "_view_module_version": "1.2.0",
            "_view_name": "LayoutView",
            "align_content": null,
            "align_items": null,
            "align_self": null,
            "border": null,
            "bottom": null,
            "display": null,
            "flex": null,
            "flex_flow": null,
            "grid_area": null,
            "grid_auto_columns": null,
            "grid_auto_flow": null,
            "grid_auto_rows": null,
            "grid_column": null,
            "grid_gap": null,
            "grid_row": null,
            "grid_template_areas": null,
            "grid_template_columns": null,
            "grid_template_rows": null,
            "height": null,
            "justify_content": null,
            "justify_items": null,
            "left": null,
            "margin": null,
            "max_height": null,
            "max_width": null,
            "min_height": null,
            "min_width": null,
            "object_fit": null,
            "object_position": null,
            "order": null,
            "overflow": null,
            "overflow_x": null,
            "overflow_y": null,
            "padding": null,
            "right": null,
            "top": null,
            "visibility": null,
            "width": null
          }
        },
        "878504b551134a4e8c80e42771b9d2ee": {
          "model_module": "@jupyter-widgets/controls",
          "model_module_version": "1.5.0",
          "model_name": "FloatProgressModel",
          "state": {
            "_dom_classes": [],
            "_model_module": "@jupyter-widgets/controls",
            "_model_module_version": "1.5.0",
            "_model_name": "FloatProgressModel",
            "_view_count": null,
            "_view_module": "@jupyter-widgets/controls",
            "_view_module_version": "1.5.0",
            "_view_name": "ProgressView",
            "bar_style": "success",
            "description": "",
            "description_tooltip": null,
            "layout": "IPY_MODEL_027751a0087e4ba59e7f0e04d06a19c7",
            "max": 9912422,
            "min": 0,
            "orientation": "horizontal",
            "style": "IPY_MODEL_902fe817239e48aab888064296cb3052",
            "value": 9912422
          }
        },
        "8acc0c6ab7bd42d6afc886b3b0d52173": {
          "model_module": "@jupyter-widgets/controls",
          "model_module_version": "1.5.0",
          "model_name": "DescriptionStyleModel",
          "state": {
            "_model_module": "@jupyter-widgets/controls",
            "_model_module_version": "1.5.0",
            "_model_name": "DescriptionStyleModel",
            "_view_count": null,
            "_view_module": "@jupyter-widgets/base",
            "_view_module_version": "1.2.0",
            "_view_name": "StyleView",
            "description_width": ""
          }
        },
        "902fe817239e48aab888064296cb3052": {
          "model_module": "@jupyter-widgets/controls",
          "model_module_version": "1.5.0",
          "model_name": "ProgressStyleModel",
          "state": {
            "_model_module": "@jupyter-widgets/controls",
            "_model_module_version": "1.5.0",
            "_model_name": "ProgressStyleModel",
            "_view_count": null,
            "_view_module": "@jupyter-widgets/base",
            "_view_module_version": "1.2.0",
            "_view_name": "StyleView",
            "bar_color": null,
            "description_width": ""
          }
        },
        "9c5256ee3d6f4c7ea47240c6c5140e1a": {
          "model_module": "@jupyter-widgets/controls",
          "model_module_version": "1.5.0",
          "model_name": "DescriptionStyleModel",
          "state": {
            "_model_module": "@jupyter-widgets/controls",
            "_model_module_version": "1.5.0",
            "_model_name": "DescriptionStyleModel",
            "_view_count": null,
            "_view_module": "@jupyter-widgets/base",
            "_view_module_version": "1.2.0",
            "_view_name": "StyleView",
            "description_width": ""
          }
        },
        "9e6d2e3d75da47b7b12e9ad513fe5ffd": {
          "model_module": "@jupyter-widgets/controls",
          "model_module_version": "1.5.0",
          "model_name": "HTMLModel",
          "state": {
            "_dom_classes": [],
            "_model_module": "@jupyter-widgets/controls",
            "_model_module_version": "1.5.0",
            "_model_name": "HTMLModel",
            "_view_count": null,
            "_view_module": "@jupyter-widgets/controls",
            "_view_module_version": "1.5.0",
            "_view_name": "HTMLView",
            "description": "",
            "description_tooltip": null,
            "layout": "IPY_MODEL_0a0fabd808104988bc5db6479ef9e883",
            "placeholder": "​",
            "style": "IPY_MODEL_c90433c3eb71451592297790ed44d9a8",
            "value": "100%"
          }
        },
        "b4374a9dffac42f8886b50af7feced87": {
          "model_module": "@jupyter-widgets/base",
          "model_module_version": "1.2.0",
          "model_name": "LayoutModel",
          "state": {
            "_model_module": "@jupyter-widgets/base",
            "_model_module_version": "1.2.0",
            "_model_name": "LayoutModel",
            "_view_count": null,
            "_view_module": "@jupyter-widgets/base",
            "_view_module_version": "1.2.0",
            "_view_name": "LayoutView",
            "align_content": null,
            "align_items": null,
            "align_self": null,
            "border": null,
            "bottom": null,
            "display": null,
            "flex": null,
            "flex_flow": null,
            "grid_area": null,
            "grid_auto_columns": null,
            "grid_auto_flow": null,
            "grid_auto_rows": null,
            "grid_column": null,
            "grid_gap": null,
            "grid_row": null,
            "grid_template_areas": null,
            "grid_template_columns": null,
            "grid_template_rows": null,
            "height": null,
            "justify_content": null,
            "justify_items": null,
            "left": null,
            "margin": null,
            "max_height": null,
            "max_width": null,
            "min_height": null,
            "min_width": null,
            "object_fit": null,
            "object_position": null,
            "order": null,
            "overflow": null,
            "overflow_x": null,
            "overflow_y": null,
            "padding": null,
            "right": null,
            "top": null,
            "visibility": null,
            "width": null
          }
        },
        "b9c677a0a5df43378b5a164242bcc197": {
          "model_module": "@jupyter-widgets/controls",
          "model_module_version": "1.5.0",
          "model_name": "FloatProgressModel",
          "state": {
            "_dom_classes": [],
            "_model_module": "@jupyter-widgets/controls",
            "_model_module_version": "1.5.0",
            "_model_name": "FloatProgressModel",
            "_view_count": null,
            "_view_module": "@jupyter-widgets/controls",
            "_view_module_version": "1.5.0",
            "_view_name": "ProgressView",
            "bar_style": "success",
            "description": "",
            "description_tooltip": null,
            "layout": "IPY_MODEL_dd883df9273846028e0eacff7b6c355d",
            "max": 28881,
            "min": 0,
            "orientation": "horizontal",
            "style": "IPY_MODEL_51e47e0287134c6ea1498870c044c5de",
            "value": 28881
          }
        },
        "be62b613ae8a4630b1d8b89ed0cdee0f": {
          "model_module": "@jupyter-widgets/controls",
          "model_module_version": "1.5.0",
          "model_name": "HBoxModel",
          "state": {
            "_dom_classes": [],
            "_model_module": "@jupyter-widgets/controls",
            "_model_module_version": "1.5.0",
            "_model_name": "HBoxModel",
            "_view_count": null,
            "_view_module": "@jupyter-widgets/controls",
            "_view_module_version": "1.5.0",
            "_view_name": "HBoxView",
            "box_style": "",
            "children": [
              "IPY_MODEL_9e6d2e3d75da47b7b12e9ad513fe5ffd",
              "IPY_MODEL_062b191496e845fabb217e6a41bb4754",
              "IPY_MODEL_57a9e63d1c5147bbbe214bdf626a251b"
            ],
            "layout": "IPY_MODEL_b4374a9dffac42f8886b50af7feced87"
          }
        },
        "c10d0f012a9b457e83dddd00f174d474": {
          "model_module": "@jupyter-widgets/controls",
          "model_module_version": "1.5.0",
          "model_name": "FloatProgressModel",
          "state": {
            "_dom_classes": [],
            "_model_module": "@jupyter-widgets/controls",
            "_model_module_version": "1.5.0",
            "_model_name": "FloatProgressModel",
            "_view_count": null,
            "_view_module": "@jupyter-widgets/controls",
            "_view_module_version": "1.5.0",
            "_view_name": "ProgressView",
            "bar_style": "success",
            "description": "",
            "description_tooltip": null,
            "layout": "IPY_MODEL_ff15be0a89c24775a73b10397461a85c",
            "max": 1648877,
            "min": 0,
            "orientation": "horizontal",
            "style": "IPY_MODEL_340711b5699e4129b2f7af71a2f84e3a",
            "value": 1648877
          }
        },
        "c5f012bfcc30480fb2f5a3bcd14486c2": {
          "model_module": "@jupyter-widgets/controls",
          "model_module_version": "1.5.0",
          "model_name": "HTMLModel",
          "state": {
            "_dom_classes": [],
            "_model_module": "@jupyter-widgets/controls",
            "_model_module_version": "1.5.0",
            "_model_name": "HTMLModel",
            "_view_count": null,
            "_view_module": "@jupyter-widgets/controls",
            "_view_module_version": "1.5.0",
            "_view_name": "HTMLView",
            "description": "",
            "description_tooltip": null,
            "layout": "IPY_MODEL_c6f1f1ad6f304d928c09be146f7316b7",
            "placeholder": "​",
            "style": "IPY_MODEL_cbc34c717d30474aa67c1cdf82fed145",
            "value": " 28881/28881 [00:00&lt;00:00, 325681.74it/s]"
          }
        },
        "c6700deb878a44d8a5321ba9ab0c3930": {
          "model_module": "@jupyter-widgets/controls",
          "model_module_version": "1.5.0",
          "model_name": "HBoxModel",
          "state": {
            "_dom_classes": [],
            "_model_module": "@jupyter-widgets/controls",
            "_model_module_version": "1.5.0",
            "_model_name": "HBoxModel",
            "_view_count": null,
            "_view_module": "@jupyter-widgets/controls",
            "_view_module_version": "1.5.0",
            "_view_name": "HBoxView",
            "box_style": "",
            "children": [
              "IPY_MODEL_0567c4df4e4e497db3f583c4c9bb4b2d",
              "IPY_MODEL_b9c677a0a5df43378b5a164242bcc197",
              "IPY_MODEL_c5f012bfcc30480fb2f5a3bcd14486c2"
            ],
            "layout": "IPY_MODEL_3b3350f56b6f415eb9aaed60f8a2b250"
          }
        },
        "c6f1f1ad6f304d928c09be146f7316b7": {
          "model_module": "@jupyter-widgets/base",
          "model_module_version": "1.2.0",
          "model_name": "LayoutModel",
          "state": {
            "_model_module": "@jupyter-widgets/base",
            "_model_module_version": "1.2.0",
            "_model_name": "LayoutModel",
            "_view_count": null,
            "_view_module": "@jupyter-widgets/base",
            "_view_module_version": "1.2.0",
            "_view_name": "LayoutView",
            "align_content": null,
            "align_items": null,
            "align_self": null,
            "border": null,
            "bottom": null,
            "display": null,
            "flex": null,
            "flex_flow": null,
            "grid_area": null,
            "grid_auto_columns": null,
            "grid_auto_flow": null,
            "grid_auto_rows": null,
            "grid_column": null,
            "grid_gap": null,
            "grid_row": null,
            "grid_template_areas": null,
            "grid_template_columns": null,
            "grid_template_rows": null,
            "height": null,
            "justify_content": null,
            "justify_items": null,
            "left": null,
            "margin": null,
            "max_height": null,
            "max_width": null,
            "min_height": null,
            "min_width": null,
            "object_fit": null,
            "object_position": null,
            "order": null,
            "overflow": null,
            "overflow_x": null,
            "overflow_y": null,
            "padding": null,
            "right": null,
            "top": null,
            "visibility": null,
            "width": null
          }
        },
        "c90433c3eb71451592297790ed44d9a8": {
          "model_module": "@jupyter-widgets/controls",
          "model_module_version": "1.5.0",
          "model_name": "DescriptionStyleModel",
          "state": {
            "_model_module": "@jupyter-widgets/controls",
            "_model_module_version": "1.5.0",
            "_model_name": "DescriptionStyleModel",
            "_view_count": null,
            "_view_module": "@jupyter-widgets/base",
            "_view_module_version": "1.2.0",
            "_view_name": "StyleView",
            "description_width": ""
          }
        },
        "cbc34c717d30474aa67c1cdf82fed145": {
          "model_module": "@jupyter-widgets/controls",
          "model_module_version": "1.5.0",
          "model_name": "DescriptionStyleModel",
          "state": {
            "_model_module": "@jupyter-widgets/controls",
            "_model_module_version": "1.5.0",
            "_model_name": "DescriptionStyleModel",
            "_view_count": null,
            "_view_module": "@jupyter-widgets/base",
            "_view_module_version": "1.2.0",
            "_view_name": "StyleView",
            "description_width": ""
          }
        },
        "d391dbcf4af54f57b2abd731974bc820": {
          "model_module": "@jupyter-widgets/base",
          "model_module_version": "1.2.0",
          "model_name": "LayoutModel",
          "state": {
            "_model_module": "@jupyter-widgets/base",
            "_model_module_version": "1.2.0",
            "_model_name": "LayoutModel",
            "_view_count": null,
            "_view_module": "@jupyter-widgets/base",
            "_view_module_version": "1.2.0",
            "_view_name": "LayoutView",
            "align_content": null,
            "align_items": null,
            "align_self": null,
            "border": null,
            "bottom": null,
            "display": null,
            "flex": null,
            "flex_flow": null,
            "grid_area": null,
            "grid_auto_columns": null,
            "grid_auto_flow": null,
            "grid_auto_rows": null,
            "grid_column": null,
            "grid_gap": null,
            "grid_row": null,
            "grid_template_areas": null,
            "grid_template_columns": null,
            "grid_template_rows": null,
            "height": null,
            "justify_content": null,
            "justify_items": null,
            "left": null,
            "margin": null,
            "max_height": null,
            "max_width": null,
            "min_height": null,
            "min_width": null,
            "object_fit": null,
            "object_position": null,
            "order": null,
            "overflow": null,
            "overflow_x": null,
            "overflow_y": null,
            "padding": null,
            "right": null,
            "top": null,
            "visibility": null,
            "width": null
          }
        },
        "d909171f92fa4e1b9f5bd9a6599709c9": {
          "model_module": "@jupyter-widgets/controls",
          "model_module_version": "1.5.0",
          "model_name": "HTMLModel",
          "state": {
            "_dom_classes": [],
            "_model_module": "@jupyter-widgets/controls",
            "_model_module_version": "1.5.0",
            "_model_name": "HTMLModel",
            "_view_count": null,
            "_view_module": "@jupyter-widgets/controls",
            "_view_module_version": "1.5.0",
            "_view_name": "HTMLView",
            "description": "",
            "description_tooltip": null,
            "layout": "IPY_MODEL_175492c1282345289be41479318eb8c6",
            "placeholder": "​",
            "style": "IPY_MODEL_9c5256ee3d6f4c7ea47240c6c5140e1a",
            "value": "100%"
          }
        },
        "dd883df9273846028e0eacff7b6c355d": {
          "model_module": "@jupyter-widgets/base",
          "model_module_version": "1.2.0",
          "model_name": "LayoutModel",
          "state": {
            "_model_module": "@jupyter-widgets/base",
            "_model_module_version": "1.2.0",
            "_model_name": "LayoutModel",
            "_view_count": null,
            "_view_module": "@jupyter-widgets/base",
            "_view_module_version": "1.2.0",
            "_view_name": "LayoutView",
            "align_content": null,
            "align_items": null,
            "align_self": null,
            "border": null,
            "bottom": null,
            "display": null,
            "flex": null,
            "flex_flow": null,
            "grid_area": null,
            "grid_auto_columns": null,
            "grid_auto_flow": null,
            "grid_auto_rows": null,
            "grid_column": null,
            "grid_gap": null,
            "grid_row": null,
            "grid_template_areas": null,
            "grid_template_columns": null,
            "grid_template_rows": null,
            "height": null,
            "justify_content": null,
            "justify_items": null,
            "left": null,
            "margin": null,
            "max_height": null,
            "max_width": null,
            "min_height": null,
            "min_width": null,
            "object_fit": null,
            "object_position": null,
            "order": null,
            "overflow": null,
            "overflow_x": null,
            "overflow_y": null,
            "padding": null,
            "right": null,
            "top": null,
            "visibility": null,
            "width": null
          }
        },
        "eb0e1e8c654345e99f0b2ee0d030b88a": {
          "model_module": "@jupyter-widgets/controls",
          "model_module_version": "1.5.0",
          "model_name": "DescriptionStyleModel",
          "state": {
            "_model_module": "@jupyter-widgets/controls",
            "_model_module_version": "1.5.0",
            "_model_name": "DescriptionStyleModel",
            "_view_count": null,
            "_view_module": "@jupyter-widgets/base",
            "_view_module_version": "1.2.0",
            "_view_name": "StyleView",
            "description_width": ""
          }
        },
        "ed88002c2133496b868a9d9e369407db": {
          "model_module": "@jupyter-widgets/base",
          "model_module_version": "1.2.0",
          "model_name": "LayoutModel",
          "state": {
            "_model_module": "@jupyter-widgets/base",
            "_model_module_version": "1.2.0",
            "_model_name": "LayoutModel",
            "_view_count": null,
            "_view_module": "@jupyter-widgets/base",
            "_view_module_version": "1.2.0",
            "_view_name": "LayoutView",
            "align_content": null,
            "align_items": null,
            "align_self": null,
            "border": null,
            "bottom": null,
            "display": null,
            "flex": null,
            "flex_flow": null,
            "grid_area": null,
            "grid_auto_columns": null,
            "grid_auto_flow": null,
            "grid_auto_rows": null,
            "grid_column": null,
            "grid_gap": null,
            "grid_row": null,
            "grid_template_areas": null,
            "grid_template_columns": null,
            "grid_template_rows": null,
            "height": null,
            "justify_content": null,
            "justify_items": null,
            "left": null,
            "margin": null,
            "max_height": null,
            "max_width": null,
            "min_height": null,
            "min_width": null,
            "object_fit": null,
            "object_position": null,
            "order": null,
            "overflow": null,
            "overflow_x": null,
            "overflow_y": null,
            "padding": null,
            "right": null,
            "top": null,
            "visibility": null,
            "width": null
          }
        },
        "fb70b7fb97e4483ca4740cc2901d4810": {
          "model_module": "@jupyter-widgets/base",
          "model_module_version": "1.2.0",
          "model_name": "LayoutModel",
          "state": {
            "_model_module": "@jupyter-widgets/base",
            "_model_module_version": "1.2.0",
            "_model_name": "LayoutModel",
            "_view_count": null,
            "_view_module": "@jupyter-widgets/base",
            "_view_module_version": "1.2.0",
            "_view_name": "LayoutView",
            "align_content": null,
            "align_items": null,
            "align_self": null,
            "border": null,
            "bottom": null,
            "display": null,
            "flex": null,
            "flex_flow": null,
            "grid_area": null,
            "grid_auto_columns": null,
            "grid_auto_flow": null,
            "grid_auto_rows": null,
            "grid_column": null,
            "grid_gap": null,
            "grid_row": null,
            "grid_template_areas": null,
            "grid_template_columns": null,
            "grid_template_rows": null,
            "height": null,
            "justify_content": null,
            "justify_items": null,
            "left": null,
            "margin": null,
            "max_height": null,
            "max_width": null,
            "min_height": null,
            "min_width": null,
            "object_fit": null,
            "object_position": null,
            "order": null,
            "overflow": null,
            "overflow_x": null,
            "overflow_y": null,
            "padding": null,
            "right": null,
            "top": null,
            "visibility": null,
            "width": null
          }
        },
        "ff15be0a89c24775a73b10397461a85c": {
          "model_module": "@jupyter-widgets/base",
          "model_module_version": "1.2.0",
          "model_name": "LayoutModel",
          "state": {
            "_model_module": "@jupyter-widgets/base",
            "_model_module_version": "1.2.0",
            "_model_name": "LayoutModel",
            "_view_count": null,
            "_view_module": "@jupyter-widgets/base",
            "_view_module_version": "1.2.0",
            "_view_name": "LayoutView",
            "align_content": null,
            "align_items": null,
            "align_self": null,
            "border": null,
            "bottom": null,
            "display": null,
            "flex": null,
            "flex_flow": null,
            "grid_area": null,
            "grid_auto_columns": null,
            "grid_auto_flow": null,
            "grid_auto_rows": null,
            "grid_column": null,
            "grid_gap": null,
            "grid_row": null,
            "grid_template_areas": null,
            "grid_template_columns": null,
            "grid_template_rows": null,
            "height": null,
            "justify_content": null,
            "justify_items": null,
            "left": null,
            "margin": null,
            "max_height": null,
            "max_width": null,
            "min_height": null,
            "min_width": null,
            "object_fit": null,
            "object_position": null,
            "order": null,
            "overflow": null,
            "overflow_x": null,
            "overflow_y": null,
            "padding": null,
            "right": null,
            "top": null,
            "visibility": null,
            "width": null
          }
        }
      }
    }
  },
  "nbformat": 4,
  "nbformat_minor": 0
}
