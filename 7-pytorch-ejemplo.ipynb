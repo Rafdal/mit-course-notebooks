{
  "cells": [
    {
      "cell_type": "markdown",
      "metadata": {
        "id": "DjYDWVa3V4Tu"
      },
      "source": [
        "# **Módulo 3: Introducción a *deep learning* con PyTorch**\n",
        "\n",
        "## Introducción\n",
        "\n",
        "En cuadernos anteriores, hemos creado, entrenado y evaluado redes neuronales con las clases de Python que hemos desarrollado. Existen muchas librerías de código abierto que ayudan a optimizar el proceso de creación de estos modelos y a hacerlo replicable. En este cuaderno, vamos a conocer una de las más populares: PyTorch.\n",
        "\n",
        "Ahora que conocemos los fundamentos del uso de tensores en [Pytorch](https://pytorch.org/), vamos a utilizarlos para crear modelos de *deep learning*. En el siguiente cuaderno, veremos cómo crear modelos de clasificación y regresión con esta librería y aplicarlos a un gran conjunto de datos público."
      ]
    },
    {
      "cell_type": "markdown",
      "metadata": {
        "id": "88DD4RKAU4J-"
      },
      "source": [
        "## Clasificación con PyTorch\n",
        "\n",
        "En este primer ejemplo, utilizaremos PyTorch para realizar una tarea de clasificación binaria con un conjunto de datos de código abierto. El conjunto de datos, que se puede encontrar [aquí](https://archive.ics.uci.edu/ml/machine-learning-databases/abalone/), contiene información sobre la edad de los abalones.\n",
        "\n",
        "Los [abalones](https://es.wikipedia.org/wiki/Haliotis) son un tipo de molusco cuya edad se puede determinar contando manualmente los anillos del interior de su caparazón. Este conjunto de datos contiene una serie de medidas que sirven para predecir el número de anillos."
      ]
    },
    {
      "cell_type": "markdown",
      "metadata": {
        "id": "uIOAvcyPl-Hd"
      },
      "source": [
        "### Descargar el conjunto de datos e importar el módulo"
      ]
    },
    {
      "cell_type": "code",
      "execution_count": 1,
      "metadata": {
        "colab": {
          "base_uri": "https://localhost:8080/"
        },
        "id": "LwGngEegU4KB",
        "outputId": "4286a3ab-76e5-4fe8-fe88-19f628e2812e"
      },
      "outputs": [
        {
          "name": "stdout",
          "output_type": "stream",
          "text": [
            "--2022-12-27 20:40:19--  https://archive.ics.uci.edu/ml/machine-learning-databases/abalone/abalone.data\n",
            "Resolving archive.ics.uci.edu (archive.ics.uci.edu)... 128.195.10.252\n",
            "Connecting to archive.ics.uci.edu (archive.ics.uci.edu)|128.195.10.252|:443... connected.\n",
            "HTTP request sent, awaiting response... 200 OK\n",
            "Length: 191873 (187K) [application/x-httpd-php]\n",
            "Saving to: ‘abalone.data’\n",
            "\n",
            "abalone.data        100%[===================>] 187,38K   183KB/s    in 1,0s    \n",
            "\n",
            "2022-12-27 20:40:25 (183 KB/s) - ‘abalone.data’ saved [191873/191873]\n",
            "\n",
            "--2022-12-27 20:40:26--  https://archive.ics.uci.edu/ml/machine-learning-databases/abalone/abalone.names\n",
            "Resolving archive.ics.uci.edu (archive.ics.uci.edu)... 128.195.10.252\n",
            "Connecting to archive.ics.uci.edu (archive.ics.uci.edu)|128.195.10.252|:443... connected.\n",
            "HTTP request sent, awaiting response... 200 OK\n",
            "Length: 4319 (4,2K) [application/x-httpd-php]\n",
            "Saving to: ‘abalone.names’\n",
            "\n",
            "abalone.names       100%[===================>]   4,22K  --.-KB/s    in 0s      \n",
            "\n",
            "2022-12-27 20:40:27 (26,8 MB/s) - ‘abalone.names’ saved [4319/4319]\n",
            "\n"
          ]
        }
      ],
      "source": [
        "# Descargar los archivos .csv sobre abalones del repositorio si fuera necesario\n",
        "!rm abalone.data abalone.names\n",
        "!wget https://archive.ics.uci.edu/ml/machine-learning-databases/abalone/abalone.data\n",
        "!wget https://archive.ics.uci.edu/ml/machine-learning-databases/abalone/abalone.names"
      ]
    },
    {
      "cell_type": "code",
      "execution_count": 2,
      "metadata": {
        "id": "S982Co0hU4KB"
      },
      "outputs": [],
      "source": [
        "# Ahora vamos a necesitar muchos módulos diferentes\n",
        "import pandas as pd\n",
        "import numpy as np\n",
        "import torch\n",
        "import torch.nn as nn\n",
        "from sklearn.preprocessing import StandardScaler\n",
        "from sklearn.compose import ColumnTransformer\n",
        "\n",
        "from sklearn.model_selection import train_test_split\n",
        "import sklearn.metrics as metrics\n",
        "from torch.utils.data import TensorDataset, DataLoader \n",
        "\n",
        "import torchvision\n",
        "import torchvision.transforms as transforms\n",
        "import matplotlib.pyplot as plt\n",
        "import time, copy"
      ]
    },
    {
      "cell_type": "markdown",
      "metadata": {
        "id": "wZuTMIgTU4KE"
      },
      "source": [
        "### Preparar los datos sobre los abalones para la clasificación\n",
        "\n",
        "Queremos crear un problema de clasificación para diferenciar entre abalones jóvenes y viejos. Consideramos joven a cualquiera que tenga menos de 10 anillos y viejos a los que tengan más."
      ]
    },
    {
      "cell_type": "code",
      "execution_count": 3,
      "metadata": {
        "colab": {
          "base_uri": "https://localhost:8080/",
          "height": 224
        },
        "id": "qR67MHXsU4KE",
        "outputId": "1edd7adb-9e5d-475e-f1fd-44a100e7352d"
      },
      "outputs": [
        {
          "name": "stdout",
          "output_type": "stream",
          "text": [
            "['Length', 'Diameter', 'Height', 'Whole weight']\n"
          ]
        },
        {
          "data": {
            "text/html": [
              "<div>\n",
              "<style scoped>\n",
              "    .dataframe tbody tr th:only-of-type {\n",
              "        vertical-align: middle;\n",
              "    }\n",
              "\n",
              "    .dataframe tbody tr th {\n",
              "        vertical-align: top;\n",
              "    }\n",
              "\n",
              "    .dataframe thead th {\n",
              "        text-align: right;\n",
              "    }\n",
              "</style>\n",
              "<table border=\"1\" class=\"dataframe\">\n",
              "  <thead>\n",
              "    <tr style=\"text-align: right;\">\n",
              "      <th></th>\n",
              "      <th>Sex</th>\n",
              "      <th>Length</th>\n",
              "      <th>Diameter</th>\n",
              "      <th>Height</th>\n",
              "      <th>Whole weight</th>\n",
              "      <th>Shucked weight</th>\n",
              "      <th>Viscera weight</th>\n",
              "      <th>Shell weights</th>\n",
              "      <th>Rings</th>\n",
              "      <th>Old</th>\n",
              "    </tr>\n",
              "  </thead>\n",
              "  <tbody>\n",
              "    <tr>\n",
              "      <th>0</th>\n",
              "      <td>M</td>\n",
              "      <td>0.455</td>\n",
              "      <td>0.365</td>\n",
              "      <td>0.095</td>\n",
              "      <td>0.5140</td>\n",
              "      <td>0.2245</td>\n",
              "      <td>0.1010</td>\n",
              "      <td>0.150</td>\n",
              "      <td>15</td>\n",
              "      <td>1</td>\n",
              "    </tr>\n",
              "    <tr>\n",
              "      <th>1</th>\n",
              "      <td>M</td>\n",
              "      <td>0.350</td>\n",
              "      <td>0.265</td>\n",
              "      <td>0.090</td>\n",
              "      <td>0.2255</td>\n",
              "      <td>0.0995</td>\n",
              "      <td>0.0485</td>\n",
              "      <td>0.070</td>\n",
              "      <td>7</td>\n",
              "      <td>0</td>\n",
              "    </tr>\n",
              "    <tr>\n",
              "      <th>2</th>\n",
              "      <td>F</td>\n",
              "      <td>0.530</td>\n",
              "      <td>0.420</td>\n",
              "      <td>0.135</td>\n",
              "      <td>0.6770</td>\n",
              "      <td>0.2565</td>\n",
              "      <td>0.1415</td>\n",
              "      <td>0.210</td>\n",
              "      <td>9</td>\n",
              "      <td>0</td>\n",
              "    </tr>\n",
              "    <tr>\n",
              "      <th>3</th>\n",
              "      <td>M</td>\n",
              "      <td>0.440</td>\n",
              "      <td>0.365</td>\n",
              "      <td>0.125</td>\n",
              "      <td>0.5160</td>\n",
              "      <td>0.2155</td>\n",
              "      <td>0.1140</td>\n",
              "      <td>0.155</td>\n",
              "      <td>10</td>\n",
              "      <td>1</td>\n",
              "    </tr>\n",
              "    <tr>\n",
              "      <th>4</th>\n",
              "      <td>I</td>\n",
              "      <td>0.330</td>\n",
              "      <td>0.255</td>\n",
              "      <td>0.080</td>\n",
              "      <td>0.2050</td>\n",
              "      <td>0.0895</td>\n",
              "      <td>0.0395</td>\n",
              "      <td>0.055</td>\n",
              "      <td>7</td>\n",
              "      <td>0</td>\n",
              "    </tr>\n",
              "  </tbody>\n",
              "</table>\n",
              "</div>"
            ],
            "text/plain": [
              "  Sex  Length  Diameter  Height  Whole weight  Shucked weight  Viscera weight  \\\n",
              "0   M   0.455     0.365   0.095        0.5140          0.2245          0.1010   \n",
              "1   M   0.350     0.265   0.090        0.2255          0.0995          0.0485   \n",
              "2   F   0.530     0.420   0.135        0.6770          0.2565          0.1415   \n",
              "3   M   0.440     0.365   0.125        0.5160          0.2155          0.1140   \n",
              "4   I   0.330     0.255   0.080        0.2050          0.0895          0.0395   \n",
              "\n",
              "   Shell weights  Rings  Old  \n",
              "0          0.150     15    1  \n",
              "1          0.070      7    0  \n",
              "2          0.210      9    0  \n",
              "3          0.155     10    1  \n",
              "4          0.055      7    0  "
            ]
          },
          "execution_count": 3,
          "metadata": {},
          "output_type": "execute_result"
        }
      ],
      "source": [
        "\n",
        "column_names = [\"Sex\", \"Length\", \"Diameter\", \"Height\", \"Whole weight\", \n",
        "                \"Shucked weight\", \"Viscera weight\", \"Shell weights\", \"Rings\"]\n",
        "df = pd.read_csv('abalone.data', header=None, names=column_names)\n",
        "df['Old'] = 0  # Por defecto, todos los abalones se clasifican como jóvenes\n",
        "df.loc[(df['Rings'] >= 10), 'Old'] = 1 # 10 anillos o más implican que un abalón es viejo\n",
        "class_labels = ['Young', 'Old']   # [0, 1], [N, P]\n",
        "numerical_feature_columns = column_names[1:5] # Primero, nos interesa clasificarlos mediante atributos numéricos, excluyendo el sexo. De entre los atributos numéricos, solo el peso total\n",
        "print(numerical_feature_columns)\n",
        "label_column = 'Old'\n",
        "\n",
        "\n",
        "df.head() # Visualizar un subconjunto del conjunto total"
      ]
    },
    {
      "cell_type": "markdown",
      "metadata": {
        "id": "b9ttQznume2S"
      },
      "source": [
        "### División entrenamiento/validación/prueba y estandarización\n",
        "\n",
        "Para esta tarea de clasificación, vamos a dividir el conjunto de datos en 3 subconjuntos diferentes, como se describe en el módulo. El subconjunto de entrenamiento será el más grande, y es el que utilizaremos para entrenar y optimizar los pesos del modelo. El siguiente será el subconjunto de validación, que servirá para evaluar de forma no sesgada el modelo y ayudar a afinar los distintos hiperparámetros. El último será el subconjunto de prueba, que servirá para evaluar de forma no sesgada el modelo totalmente entrenado.\n",
        "\n",
        "Además, realizaremos una estandarización de los datos eliminando la media y escalando mediante la varianza. Haremos esto con cada uno de los atributos, pero queremos garantizar que esta función de estandarización se compute en el subconjunto de datos de entrenamiento. Después, aplicamos la función de estandairzación a los subconjuntos de validación y prueba. Al garantizar que la estandarización solo se compute en el subconjunto de entrenamiento, nos aseguramos de que no se filtre información de los otros dos subconjuntos.\n",
        "\n",
        "Más abajo, incluimos una función para dividir un conjunto de datos en tres subconjuntos de entrenamiento, validación y prueba con una proporción de 60-20-20 y estandarizar los datos con la clase StandardScaler de Sklearn para poder usarlos con Python:"
      ]
    },
    {
      "cell_type": "code",
      "execution_count": 4,
      "metadata": {
        "id": "T_8oUtiUA3Lc"
      },
      "outputs": [],
      "source": [
        "from sklearn.compose import ColumnTransformer\n",
        "from sklearn.preprocessing import StandardScaler\n",
        "\n",
        "\n",
        "def train_test_val_split(df, feature_columns, label_column, ct):\n",
        "    # Primero, realizar una división 80/20 en entrenamiento y prueba\n",
        "    seed = 42\n",
        "    initial_train_split = df.sample(frac=.8, random_state = seed)\n",
        "    test = df.drop(initial_train_split.index)   # remover todo este subset del dataset original\n",
        "    # test = 20%\n",
        "    # init = 80%\n",
        "\n",
        "    # A continuación, realizar una división 75/25 entre entrenamiento y validación\n",
        "    train = initial_train_split.sample(frac=.75, random_state = seed)\n",
        "    val = initial_train_split.drop(train.index)\n",
        "    # val   = 25%\n",
        "    # train = 75%\n",
        "\n",
        "    # Dividir todos los subconjuntos en atributos y etiquetas (x e y)\n",
        "    train_x = train[feature_columns]\n",
        "    # No transformaremos las etiquetas para que vayan directamente a los tensores torch\n",
        "    train_y = torch.from_numpy(train[label_column].values)\n",
        "\n",
        "    val_x = val[feature_columns]\n",
        "    val_y = torch.from_numpy(val[label_column].values)\n",
        "\n",
        "    test_x = test[feature_columns]\n",
        "    test_y = torch.from_numpy(test[label_column].values)\n",
        "\n",
        "    # Ajustar ColumnTransfer al conjunto de entrenamiento\n",
        "    ct.fit(train_x)\n",
        "\n",
        "    # Realizar la estandarización con cada uno de los conjuntos de datos x\n",
        "    train_x = ct.transform(train_x)\n",
        "    val_x = ct.transform(val_x)\n",
        "    test_x = ct.transform(test_x)\n",
        "\n",
        "    # Convertir los conjuntos de datos en tensores Torch\n",
        "    train_x = torch.from_numpy(train_x).float()\n",
        "    val_x = torch.from_numpy(val_x).float()\n",
        "    test_x = torch.from_numpy(test_x).float()\n",
        "\n",
        "    # Crear los conjuntos de datos de pares input-etiqueta para que PyTorch los consuma\n",
        "    train_dataset = TensorDataset(train_x, train_y)\n",
        "    test_dataset = TensorDataset(test_x, test_y)\n",
        "    val_dataset = TensorDataset(val_x, val_y)\n",
        "    return train_dataset, test_dataset, val_dataset\n"
      ]
    },
    {
      "cell_type": "code",
      "execution_count": 5,
      "metadata": {
        "id": "lVZXumJh2BVA"
      },
      "outputs": [],
      "source": [
        "# Crear StandardScaler para la estandarización de datos\n",
        "# Más información aquí: https://scikit-learn.org/stable/modules/generated/sklearn.preprocessing.StandardScaler.html\n",
        "# https://scikit-learn.org/stable/modules/generated/sklearn.compose.ColumnTransformer.html#sklearn.compose.ColumnTransformer\n",
        "ct = ColumnTransformer([('numerical_features', StandardScaler(), numerical_feature_columns)], remainder='passthrough')\n",
        "\n",
        "train_dataset, test_dataset, val_dataset = train_test_val_split(df, numerical_feature_columns, label_column, ct)"
      ]
    },
    {
      "cell_type": "markdown",
      "metadata": {
        "id": "90DlOd1UqgEg"
      },
      "source": [
        "### Hiperparámetros del modelo\n",
        "\n",
        "Ahora que podemos dividir fácilmente el conjunto de datos en subconjuntos de entrenamiento, validación y prueba, pasamos a seleccionar los hiperparámetros. Estos incluyen decisiones sobre la arquitectura del modelo (como el número de capas ocultas) y parámetros de entrenamiento externos, como el tamaño de los lotes, la tasa de aprendizaje y el número de ciclos de entrenamiento."
      ]
    },
    {
      "cell_type": "code",
      "execution_count": 6,
      "metadata": {
        "id": "ZyTKvqUAU4KG"
      },
      "outputs": [
        {
          "name": "stdout",
          "output_type": "stream",
          "text": [
            "device: cuda\n"
          ]
        }
      ],
      "source": [
        "# Configuración del dispositivo (si es posible, entrenar el modelo en la GPU, el proceso será mucho más rápido)\n",
        "device = torch.device('cuda' if torch.cuda.is_available() else 'cpu')\n",
        "# device = torch.device('cpu')\n",
        "print(\"device:\", device)\n",
        "\n",
        "# Hiperparámetros\n",
        "\n",
        "# Arquitectura del modelo\n",
        "input_size = len(numerical_feature_columns) # Asegurar que se ellimina la columna index\n",
        "hidden_size1 = 64\n",
        "hidden_size2 = 64\n",
        "hidden_size3 = 64\n",
        "num_classes = 2\n",
        "\n",
        "# Parámetros de entrenamiento externos\n",
        "batch_size = 10\n",
        "learning_rate = 0.001\n",
        "num_epochs = 50\n"
      ]
    },
    {
      "cell_type": "markdown",
      "metadata": {
        "id": "MxCCd0idiKbp"
      },
      "source": [
        "### Selección de hiperparámetros\n",
        "\n",
        "En este proceso, utilizaremos el conjunto de validación para definir dos hiperparámetros diferentes.\n",
        "\n",
        "El primero es el número total de ciclos durante los que queremos entrenar el modelo. Al final del proceso de entrenamiento completo, seleccionaremos los pesos del ciclo con la precisión de validación más alta.\n",
        "\n",
        " El segundo es el número de capas. Probaremos con redes de 2 y 3 capas ocultas. De nuevo, seleccionaremos el que tenga mejor rendimiento con el conjunto de validación."
      ]
    },
    {
      "cell_type": "code",
      "execution_count": 7,
      "metadata": {
        "id": "GSjFybbmU4KH"
      },
      "outputs": [],
      "source": [
        "# Modelo de clasificación simple de dos capas ocultas\n",
        "class SimpleClassifier2Layer(nn.Module):\n",
        "    def __init__(self, input_size, hidden_size1, hidden_size2, num_classes):\n",
        "        super(SimpleClassifier2Layer, self).__init__()\n",
        "        self.layers = nn.Sequential(\n",
        "            nn.Linear(input_size, hidden_size1),\n",
        "            nn.ReLU(),\n",
        "            nn.Linear(hidden_size1, hidden_size2),\n",
        "            nn.ReLU(),\n",
        "            nn.Linear(hidden_size2, num_classes),\n",
        "        )\n",
        "\n",
        "    def forward(self, x):\n",
        "        return self.layers(x)\n",
        "\n",
        "# Modelo de clasificación simple de tres capas ocultas\n",
        "class SimpleClassifier3Layer(nn.Module):\n",
        "    def __init__(self, input_size, hidden_size1, hidden_size2, hidden_size3, num_classes):\n",
        "        super(SimpleClassifier3Layer, self).__init__()\n",
        "        self.layers = nn.Sequential(\n",
        "            nn.Linear(input_size, hidden_size1),\n",
        "            nn.ReLU(),\n",
        "            nn.Linear(hidden_size1, hidden_size2),\n",
        "            nn.ReLU(),\n",
        "            nn.Linear(hidden_size2, hidden_size3),\n",
        "            nn.ReLU(),\n",
        "            nn.Linear(hidden_size3, num_classes),\n",
        "        )\n",
        "\n",
        "    def forward(self, x):\n",
        "        return self.layers(x)"
      ]
    },
    {
      "cell_type": "code",
      "execution_count": 8,
      "metadata": {
        "colab": {
          "base_uri": "https://localhost:8080/"
        },
        "id": "o51QXeXxU4KH",
        "outputId": "8beb3758-bfcc-4e52-938f-67f58126e596"
      },
      "outputs": [
        {
          "name": "stdout",
          "output_type": "stream",
          "text": [
            "SimpleClassifier2Layer(\n",
            "  (layers): Sequential(\n",
            "    (0): Linear(in_features=4, out_features=64, bias=True)\n",
            "    (1): ReLU()\n",
            "    (2): Linear(in_features=64, out_features=64, bias=True)\n",
            "    (3): ReLU()\n",
            "    (4): Linear(in_features=64, out_features=2, bias=True)\n",
            "  )\n",
            ")\n",
            "SimpleClassifier3Layer(\n",
            "  (layers): Sequential(\n",
            "    (0): Linear(in_features=4, out_features=64, bias=True)\n",
            "    (1): ReLU()\n",
            "    (2): Linear(in_features=64, out_features=64, bias=True)\n",
            "    (3): ReLU()\n",
            "    (4): Linear(in_features=64, out_features=64, bias=True)\n",
            "    (5): ReLU()\n",
            "    (6): Linear(in_features=64, out_features=2, bias=True)\n",
            "  )\n",
            ")\n"
          ]
        }
      ],
      "source": [
        "two_layer_model = SimpleClassifier2Layer(input_size, hidden_size1, hidden_size2, num_classes).to(device)\n",
        "print(two_layer_model)\n",
        "\n",
        "three_layer_model = SimpleClassifier3Layer(input_size, hidden_size1, hidden_size2, hidden_size3, num_classes).to(device)\n",
        "print(three_layer_model)"
      ]
    },
    {
      "cell_type": "markdown",
      "metadata": {
        "id": "GNoWdg86vq-N"
      },
      "source": [
        "### Preparación final de los datos\n",
        "\n",
        "Ahora que hemos definido el modelo y los hiperparámetros, podemos pasar a la última fase de la preparación. Utilizaremos una clase de PyTorch llamada \"DataLoader\" con el tamaño de lote que hemos especificado antes. Esta clase será la responsable de introducir los lotes de datos en el modelo durante el entrenamiento."
      ]
    },
    {
      "cell_type": "code",
      "execution_count": 9,
      "metadata": {
        "colab": {
          "base_uri": "https://localhost:8080/"
        },
        "id": "Js3SG4MwoZ8Z",
        "outputId": "c59e5c8c-6cf8-4142-9bcd-cecac8b2cd7e"
      },
      "outputs": [
        {
          "name": "stdout",
          "output_type": "stream",
          "text": [
            "dataset_sizes = {'train': 2506, 'val': 836, 'test': 835}\n"
          ]
        }
      ],
      "source": [
        "dataloaders = {'train': DataLoader(train_dataset, batch_size=batch_size),\n",
        "               'val': DataLoader(val_dataset, batch_size=batch_size),\n",
        "               'test': DataLoader(test_dataset, batch_size=batch_size)}\n",
        "\n",
        "dataset_sizes = {'train': len(train_dataset),\n",
        "                 'val': len(val_dataset),\n",
        "                 'test': len(test_dataset)}\n",
        "print(f'dataset_sizes = {dataset_sizes}')"
      ]
    },
    {
      "cell_type": "markdown",
      "metadata": {
        "id": "vFLV8A-IwJeN"
      },
      "source": [
        "### Entrenar al modelo\n",
        "\n",
        "Ahora que hemos definido el tipo de arquitectura y los datos están listos para trabajar, debemos definir la función de entrenamiento. Esta es responsable de actualizar todos los pesos del modelo."
      ]
    },
    {
      "cell_type": "code",
      "execution_count": null,
      "metadata": {
        "id": "Qy0z5-VmMwWN"
      },
      "outputs": [],
      "source": []
    },
    {
      "cell_type": "code",
      "execution_count": 10,
      "metadata": {
        "id": "5da9eptsU4KH"
      },
      "outputs": [],
      "source": [
        "# Extraído de https://pytorch.org/tutorials/beginner/transfer_learning_tutorial.html\n",
        "\n",
        "def train_model(model, dataloaders, dataset_sizes, criterion, optimizer, scheduler, num_epochs=25):\n",
        "    since = time.time()\n",
        "\n",
        "    best_model_wts = copy.deepcopy(model.state_dict()) # Los mejores pesos se deben guardar por separado\n",
        "    best_acc = 0.0\n",
        "    best_epoch = 0\n",
        "\n",
        "    # Cada ciclo tiene una fase de entrenamiento, una de validación y una de prueba\n",
        "    phases = ['train', 'val', 'test']\n",
        "    \n",
        "    # Hacer un seguimiento de la evolución de la pérdida y la precisión durante el entrenamiento\n",
        "    training_curves = {}\n",
        "    for phase in phases:\n",
        "        training_curves[phase+'_loss'] = []\n",
        "        training_curves[phase+'_acc'] = []\n",
        "    \n",
        "    for epoch in range(num_epochs):\n",
        "        print(f'\\nEpoch {epoch+1}/{num_epochs}')\n",
        "        print('-' * 10)\n",
        "\n",
        "        for phase in phases:\n",
        "            if phase == 'train':\n",
        "                model.train()  # Configurar el modelo en el modo de entrenamiento\n",
        "            else:\n",
        "                model.eval()   # Configurar el modelo en el modo de evaluación\n",
        "\n",
        "            running_loss = 0.0\n",
        "            running_corrects = 0\n",
        "\n",
        "            # Iterar con los datos\n",
        "            for inputs, labels in dataloaders[phase]:\n",
        "                # Importante: se deben aplanar todos los puntos de datos\n",
        "                # para que sean compatibles con el modelo\n",
        "                inputs = inputs.view(inputs.shape[0],-1)\n",
        "                inputs = inputs.to(device)\n",
        "                labels = labels.to(device)\n",
        "\n",
        "                # Poner a 0 los gradientes de los parámetros\n",
        "                optimizer.zero_grad()\n",
        "\n",
        "                # Método forward\n",
        "                with torch.set_grad_enabled(phase == 'train'):\n",
        "                    outputs = model(inputs)\n",
        "                    _, predictions = torch.max(outputs, 1)\n",
        "                    loss = criterion(outputs, labels)\n",
        "\n",
        "                    # Método backward y actualización de los pesos solo si está en la fase de entrenamiento\n",
        "                    if phase == 'train':\n",
        "                        loss.backward()\n",
        "                        optimizer.step()\n",
        "\n",
        "                # Estadísticas\n",
        "                running_loss += loss.item() * inputs.size(0)\n",
        "                running_corrects += torch.sum(predictions == labels.data)\n",
        " \n",
        "            if phase == 'train':\n",
        "                scheduler.step()\n",
        "\n",
        "            epoch_loss = running_loss / dataset_sizes[phase]\n",
        "            epoch_acc = running_corrects.double() / dataset_sizes[phase]\n",
        "            training_curves[phase+'_loss'].append(epoch_loss)\n",
        "            training_curves[phase+'_acc'].append(epoch_acc)\n",
        "\n",
        "            print(f'{phase:5} Loss: {epoch_loss:.4f} Acc: {epoch_acc:.4f}')\n",
        "\n",
        "            # Hacer una copia profunda del modelo si se ha alcanzado la mejor precisión\n",
        "            if phase == 'val' and epoch_acc > best_acc:\n",
        "                best_epoch = epoch\n",
        "                best_acc = epoch_acc\n",
        "                best_model_wts = copy.deepcopy(model.state_dict())\n",
        "\n",
        "    time_elapsed = time.time() - since\n",
        "    print(f'\\nTraining complete in {time_elapsed // 60:.0f}m {time_elapsed % 60:.0f}s')\n",
        "    print(f'Best val Acc: {best_acc:4f} at epoch {best_epoch}')\n",
        "\n",
        "    # Cargar los mejores pesos del modelo\n",
        "    model.load_state_dict(best_model_wts)\n",
        "    \n",
        "    return model, training_curves"
      ]
    },
    {
      "cell_type": "markdown",
      "metadata": {
        "id": "LmhLnJZuh7kj"
      },
      "source": [
        "Hemos escrito la función de arriba de tal manera que sea independiente de la arquitectura. Eso significa que podemos usar la misma función para entrenar redes tanto la red de dos capas como la de tres capas."
      ]
    },
    {
      "cell_type": "code",
      "execution_count": 11,
      "metadata": {
        "colab": {
          "base_uri": "https://localhost:8080/"
        },
        "id": "zhu-dTNRU4KJ",
        "outputId": "1d86988d-7a5e-4434-91ca-7046ed0bae55"
      },
      "outputs": [
        {
          "name": "stdout",
          "output_type": "stream",
          "text": [
            "\n",
            "Epoch 1/50\n",
            "----------\n",
            "train Loss: 0.5399 Acc: 0.7338\n",
            "val   Loss: 0.4651 Acc: 0.7667\n",
            "test  Loss: 0.5292 Acc: 0.7198\n",
            "\n",
            "Epoch 2/50\n",
            "----------\n",
            "train Loss: 0.5212 Acc: 0.7386\n",
            "val   Loss: 0.4589 Acc: 0.7691\n",
            "test  Loss: 0.5257 Acc: 0.7210\n",
            "\n",
            "Epoch 3/50\n",
            "----------\n",
            "train Loss: 0.5169 Acc: 0.7390\n",
            "val   Loss: 0.4572 Acc: 0.7715\n",
            "test  Loss: 0.5248 Acc: 0.7281\n",
            "\n",
            "Epoch 4/50\n",
            "----------\n",
            "train Loss: 0.5139 Acc: 0.7406\n",
            "val   Loss: 0.4568 Acc: 0.7775\n",
            "test  Loss: 0.5249 Acc: 0.7269\n",
            "\n",
            "Epoch 5/50\n",
            "----------\n",
            "train Loss: 0.5103 Acc: 0.7438\n",
            "val   Loss: 0.4546 Acc: 0.7787\n",
            "test  Loss: 0.5245 Acc: 0.7234\n",
            "\n",
            "Epoch 6/50\n",
            "----------\n",
            "train Loss: 0.5082 Acc: 0.7450\n",
            "val   Loss: 0.4551 Acc: 0.7799\n",
            "test  Loss: 0.5245 Acc: 0.7186\n",
            "\n",
            "Epoch 7/50\n",
            "----------\n",
            "train Loss: 0.5069 Acc: 0.7462\n",
            "val   Loss: 0.4548 Acc: 0.7787\n",
            "test  Loss: 0.5243 Acc: 0.7174\n",
            "\n",
            "Epoch 8/50\n",
            "----------\n",
            "train Loss: 0.5058 Acc: 0.7466\n",
            "val   Loss: 0.4552 Acc: 0.7823\n",
            "test  Loss: 0.5243 Acc: 0.7138\n",
            "\n",
            "Epoch 9/50\n",
            "----------\n",
            "train Loss: 0.5045 Acc: 0.7482\n",
            "val   Loss: 0.4551 Acc: 0.7835\n",
            "test  Loss: 0.5241 Acc: 0.7174\n",
            "\n",
            "Epoch 10/50\n",
            "----------\n",
            "train Loss: 0.5034 Acc: 0.7514\n",
            "val   Loss: 0.4550 Acc: 0.7847\n",
            "test  Loss: 0.5239 Acc: 0.7162\n",
            "\n",
            "Epoch 11/50\n",
            "----------\n",
            "train Loss: 0.5026 Acc: 0.7526\n",
            "val   Loss: 0.4552 Acc: 0.7823\n",
            "test  Loss: 0.5238 Acc: 0.7174\n",
            "\n",
            "Epoch 12/50\n",
            "----------\n",
            "train Loss: 0.5019 Acc: 0.7514\n",
            "val   Loss: 0.4549 Acc: 0.7835\n",
            "test  Loss: 0.5237 Acc: 0.7210\n",
            "\n",
            "Epoch 13/50\n",
            "----------\n",
            "train Loss: 0.5013 Acc: 0.7526\n",
            "val   Loss: 0.4551 Acc: 0.7835\n",
            "test  Loss: 0.5237 Acc: 0.7198\n",
            "\n",
            "Epoch 14/50\n",
            "----------\n",
            "train Loss: 0.5006 Acc: 0.7530\n",
            "val   Loss: 0.4553 Acc: 0.7859\n",
            "test  Loss: 0.5238 Acc: 0.7198\n",
            "\n",
            "Epoch 15/50\n",
            "----------\n",
            "train Loss: 0.5000 Acc: 0.7534\n",
            "val   Loss: 0.4552 Acc: 0.7871\n",
            "test  Loss: 0.5239 Acc: 0.7186\n",
            "\n",
            "Epoch 16/50\n",
            "----------\n",
            "train Loss: 0.4995 Acc: 0.7534\n",
            "val   Loss: 0.4552 Acc: 0.7871\n",
            "test  Loss: 0.5239 Acc: 0.7174\n",
            "\n",
            "Epoch 17/50\n",
            "----------\n",
            "train Loss: 0.4989 Acc: 0.7538\n",
            "val   Loss: 0.4554 Acc: 0.7871\n",
            "test  Loss: 0.5239 Acc: 0.7186\n",
            "\n",
            "Epoch 18/50\n",
            "----------\n",
            "train Loss: 0.4985 Acc: 0.7546\n",
            "val   Loss: 0.4552 Acc: 0.7883\n",
            "test  Loss: 0.5239 Acc: 0.7198\n",
            "\n",
            "Epoch 19/50\n",
            "----------\n",
            "train Loss: 0.4981 Acc: 0.7534\n",
            "val   Loss: 0.4550 Acc: 0.7895\n",
            "test  Loss: 0.5239 Acc: 0.7198\n",
            "\n",
            "Epoch 20/50\n",
            "----------\n",
            "train Loss: 0.4976 Acc: 0.7538\n",
            "val   Loss: 0.4550 Acc: 0.7895\n",
            "test  Loss: 0.5238 Acc: 0.7174\n",
            "\n",
            "Epoch 21/50\n",
            "----------\n",
            "train Loss: 0.4972 Acc: 0.7542\n",
            "val   Loss: 0.4550 Acc: 0.7907\n",
            "test  Loss: 0.5238 Acc: 0.7150\n",
            "\n",
            "Epoch 22/50\n",
            "----------\n",
            "train Loss: 0.4969 Acc: 0.7542\n",
            "val   Loss: 0.4548 Acc: 0.7919\n",
            "test  Loss: 0.5238 Acc: 0.7150\n",
            "\n",
            "Epoch 23/50\n",
            "----------\n",
            "train Loss: 0.4965 Acc: 0.7550\n",
            "val   Loss: 0.4547 Acc: 0.7919\n",
            "test  Loss: 0.5239 Acc: 0.7162\n",
            "\n",
            "Epoch 24/50\n",
            "----------\n",
            "train Loss: 0.4962 Acc: 0.7550\n",
            "val   Loss: 0.4544 Acc: 0.7919\n",
            "test  Loss: 0.5239 Acc: 0.7162\n",
            "\n",
            "Epoch 25/50\n",
            "----------\n",
            "train Loss: 0.4958 Acc: 0.7546\n",
            "val   Loss: 0.4541 Acc: 0.7931\n",
            "test  Loss: 0.5239 Acc: 0.7174\n",
            "\n",
            "Epoch 26/50\n",
            "----------\n",
            "train Loss: 0.4955 Acc: 0.7538\n",
            "val   Loss: 0.4539 Acc: 0.7919\n",
            "test  Loss: 0.5238 Acc: 0.7174\n",
            "\n",
            "Epoch 27/50\n",
            "----------\n",
            "train Loss: 0.4952 Acc: 0.7542\n",
            "val   Loss: 0.4538 Acc: 0.7895\n",
            "test  Loss: 0.5238 Acc: 0.7174\n",
            "\n",
            "Epoch 28/50\n",
            "----------\n",
            "train Loss: 0.4950 Acc: 0.7546\n",
            "val   Loss: 0.4535 Acc: 0.7907\n",
            "test  Loss: 0.5237 Acc: 0.7174\n",
            "\n",
            "Epoch 29/50\n",
            "----------\n",
            "train Loss: 0.4947 Acc: 0.7550\n",
            "val   Loss: 0.4535 Acc: 0.7907\n",
            "test  Loss: 0.5237 Acc: 0.7162\n",
            "\n",
            "Epoch 30/50\n",
            "----------\n",
            "train Loss: 0.4944 Acc: 0.7546\n",
            "val   Loss: 0.4530 Acc: 0.7907\n",
            "test  Loss: 0.5237 Acc: 0.7150\n",
            "\n",
            "Epoch 31/50\n",
            "----------\n",
            "train Loss: 0.4942 Acc: 0.7550\n",
            "val   Loss: 0.4527 Acc: 0.7907\n",
            "test  Loss: 0.5236 Acc: 0.7150\n",
            "\n",
            "Epoch 32/50\n",
            "----------\n",
            "train Loss: 0.4940 Acc: 0.7554\n",
            "val   Loss: 0.4526 Acc: 0.7907\n",
            "test  Loss: 0.5236 Acc: 0.7150\n",
            "\n",
            "Epoch 33/50\n",
            "----------\n",
            "train Loss: 0.4937 Acc: 0.7566\n",
            "val   Loss: 0.4524 Acc: 0.7919\n",
            "test  Loss: 0.5236 Acc: 0.7162\n",
            "\n",
            "Epoch 34/50\n",
            "----------\n",
            "train Loss: 0.4935 Acc: 0.7562\n",
            "val   Loss: 0.4522 Acc: 0.7919\n",
            "test  Loss: 0.5236 Acc: 0.7162\n",
            "\n",
            "Epoch 35/50\n",
            "----------\n",
            "train Loss: 0.4933 Acc: 0.7566\n",
            "val   Loss: 0.4520 Acc: 0.7919\n",
            "test  Loss: 0.5236 Acc: 0.7162\n",
            "\n",
            "Epoch 36/50\n",
            "----------\n",
            "train Loss: 0.4932 Acc: 0.7578\n",
            "val   Loss: 0.4518 Acc: 0.7919\n",
            "test  Loss: 0.5236 Acc: 0.7150\n",
            "\n",
            "Epoch 37/50\n",
            "----------\n",
            "train Loss: 0.4930 Acc: 0.7566\n",
            "val   Loss: 0.4515 Acc: 0.7919\n",
            "test  Loss: 0.5236 Acc: 0.7162\n",
            "\n",
            "Epoch 38/50\n",
            "----------\n",
            "train Loss: 0.4928 Acc: 0.7574\n",
            "val   Loss: 0.4513 Acc: 0.7919\n",
            "test  Loss: 0.5236 Acc: 0.7174\n",
            "\n",
            "Epoch 39/50\n",
            "----------\n",
            "train Loss: 0.4926 Acc: 0.7574\n",
            "val   Loss: 0.4512 Acc: 0.7931\n",
            "test  Loss: 0.5235 Acc: 0.7174\n",
            "\n",
            "Epoch 40/50\n",
            "----------\n",
            "train Loss: 0.4924 Acc: 0.7570\n",
            "val   Loss: 0.4509 Acc: 0.7931\n",
            "test  Loss: 0.5235 Acc: 0.7186\n",
            "\n",
            "Epoch 41/50\n",
            "----------\n",
            "train Loss: 0.4923 Acc: 0.7574\n",
            "val   Loss: 0.4508 Acc: 0.7931\n",
            "test  Loss: 0.5235 Acc: 0.7174\n",
            "\n",
            "Epoch 42/50\n",
            "----------\n",
            "train Loss: 0.4921 Acc: 0.7586\n",
            "val   Loss: 0.4506 Acc: 0.7931\n",
            "test  Loss: 0.5235 Acc: 0.7186\n",
            "\n",
            "Epoch 43/50\n",
            "----------\n",
            "train Loss: 0.4920 Acc: 0.7586\n",
            "val   Loss: 0.4504 Acc: 0.7931\n",
            "test  Loss: 0.5235 Acc: 0.7198\n",
            "\n",
            "Epoch 44/50\n",
            "----------\n",
            "train Loss: 0.4918 Acc: 0.7586\n",
            "val   Loss: 0.4503 Acc: 0.7955\n",
            "test  Loss: 0.5235 Acc: 0.7198\n",
            "\n",
            "Epoch 45/50\n",
            "----------\n",
            "train Loss: 0.4917 Acc: 0.7594\n",
            "val   Loss: 0.4501 Acc: 0.7955\n",
            "test  Loss: 0.5235 Acc: 0.7198\n",
            "\n",
            "Epoch 46/50\n",
            "----------\n",
            "train Loss: 0.4916 Acc: 0.7590\n",
            "val   Loss: 0.4499 Acc: 0.7955\n",
            "test  Loss: 0.5235 Acc: 0.7198\n",
            "\n",
            "Epoch 47/50\n",
            "----------\n",
            "train Loss: 0.4914 Acc: 0.7594\n",
            "val   Loss: 0.4498 Acc: 0.7955\n",
            "test  Loss: 0.5235 Acc: 0.7198\n",
            "\n",
            "Epoch 48/50\n",
            "----------\n",
            "train Loss: 0.4913 Acc: 0.7594\n",
            "val   Loss: 0.4496 Acc: 0.7955\n",
            "test  Loss: 0.5235 Acc: 0.7198\n",
            "\n",
            "Epoch 49/50\n",
            "----------\n",
            "train Loss: 0.4912 Acc: 0.7594\n",
            "val   Loss: 0.4495 Acc: 0.7943\n",
            "test  Loss: 0.5235 Acc: 0.7198\n",
            "\n",
            "Epoch 50/50\n",
            "----------\n",
            "train Loss: 0.4911 Acc: 0.7598\n",
            "val   Loss: 0.4494 Acc: 0.7943\n",
            "test  Loss: 0.5235 Acc: 0.7198\n",
            "\n",
            "Training complete in 0m 51s\n",
            "Best val Acc: 0.795455 at epoch 43\n"
          ]
        }
      ],
      "source": [
        "# Entrenamiento con dos capas ocultas\n",
        "# Pérdida y optimizador\n",
        "criterion = nn.CrossEntropyLoss() # Aplicar la función de pérdida CrossEntropyLoss para la clasificación\n",
        "optimizer = torch.optim.Adam(two_layer_model.parameters(), lr=learning_rate)\n",
        "scheduler = torch.optim.lr_scheduler.ExponentialLR(optimizer, gamma=0.95)\n",
        "\n",
        "# Entrenar el modelo. También guardaremos los resultados del entrenamiento para poder visualizarlos\n",
        "two_layer_model, training_curves_two_layer = train_model(two_layer_model, dataloaders, dataset_sizes, \n",
        "                                     criterion, optimizer, scheduler, num_epochs=num_epochs)"
      ]
    },
    {
      "cell_type": "markdown",
      "metadata": {
        "id": "dz95CvYx73p5"
      },
      "source": [
        "Para elegir el peso que utilizaremos en el modelo final, debemos buscar el ciclo que mejor rendimiento ha obtenido al trabajar con el conjunto de validación."
      ]
    },
    {
      "cell_type": "code",
      "execution_count": 12,
      "metadata": {
        "colab": {
          "base_uri": "https://localhost:8080/"
        },
        "id": "WTzVkL72jTLP",
        "outputId": "36d1165b-3c13-416e-a948-63033527da39"
      },
      "outputs": [
        {
          "name": "stdout",
          "output_type": "stream",
          "text": [
            "\n",
            "Epoch 1/50\n",
            "----------\n",
            "train Loss: 0.5481 Acc: 0.7342\n",
            "val   Loss: 0.4662 Acc: 0.7727\n",
            "test  Loss: 0.5304 Acc: 0.7222\n",
            "\n",
            "Epoch 2/50\n",
            "----------\n",
            "train Loss: 0.5227 Acc: 0.7442\n",
            "val   Loss: 0.4624 Acc: 0.7871\n",
            "test  Loss: 0.5284 Acc: 0.7257\n",
            "\n",
            "Epoch 3/50\n",
            "----------\n",
            "train Loss: 0.5173 Acc: 0.7458\n",
            "val   Loss: 0.4607 Acc: 0.7835\n",
            "test  Loss: 0.5281 Acc: 0.7222\n",
            "\n",
            "Epoch 4/50\n",
            "----------\n",
            "train Loss: 0.5115 Acc: 0.7494\n",
            "val   Loss: 0.4578 Acc: 0.7835\n",
            "test  Loss: 0.5278 Acc: 0.7162\n",
            "\n",
            "Epoch 5/50\n",
            "----------\n",
            "train Loss: 0.5077 Acc: 0.7490\n",
            "val   Loss: 0.4558 Acc: 0.7823\n",
            "test  Loss: 0.5265 Acc: 0.7102\n",
            "\n",
            "Epoch 6/50\n",
            "----------\n",
            "train Loss: 0.5059 Acc: 0.7526\n",
            "val   Loss: 0.4550 Acc: 0.7871\n",
            "test  Loss: 0.5263 Acc: 0.7090\n",
            "\n",
            "Epoch 7/50\n",
            "----------\n",
            "train Loss: 0.5042 Acc: 0.7550\n",
            "val   Loss: 0.4544 Acc: 0.7871\n",
            "test  Loss: 0.5262 Acc: 0.7114\n",
            "\n",
            "Epoch 8/50\n",
            "----------\n",
            "train Loss: 0.5028 Acc: 0.7550\n",
            "val   Loss: 0.4539 Acc: 0.7859\n",
            "test  Loss: 0.5259 Acc: 0.7138\n",
            "\n",
            "Epoch 9/50\n",
            "----------\n",
            "train Loss: 0.5015 Acc: 0.7570\n",
            "val   Loss: 0.4537 Acc: 0.7835\n",
            "test  Loss: 0.5257 Acc: 0.7114\n",
            "\n",
            "Epoch 10/50\n",
            "----------\n",
            "train Loss: 0.5002 Acc: 0.7586\n",
            "val   Loss: 0.4534 Acc: 0.7835\n",
            "test  Loss: 0.5258 Acc: 0.7150\n",
            "\n",
            "Epoch 11/50\n",
            "----------\n",
            "train Loss: 0.4991 Acc: 0.7594\n",
            "val   Loss: 0.4535 Acc: 0.7859\n",
            "test  Loss: 0.5256 Acc: 0.7114\n",
            "\n",
            "Epoch 12/50\n",
            "----------\n",
            "train Loss: 0.4979 Acc: 0.7606\n",
            "val   Loss: 0.4538 Acc: 0.7835\n",
            "test  Loss: 0.5259 Acc: 0.7138\n",
            "\n",
            "Epoch 13/50\n",
            "----------\n",
            "train Loss: 0.4968 Acc: 0.7602\n",
            "val   Loss: 0.4539 Acc: 0.7823\n",
            "test  Loss: 0.5260 Acc: 0.7150\n",
            "\n",
            "Epoch 14/50\n",
            "----------\n",
            "train Loss: 0.4959 Acc: 0.7602\n",
            "val   Loss: 0.4545 Acc: 0.7835\n",
            "test  Loss: 0.5264 Acc: 0.7138\n",
            "\n",
            "Epoch 15/50\n",
            "----------\n",
            "train Loss: 0.4950 Acc: 0.7582\n",
            "val   Loss: 0.4548 Acc: 0.7799\n",
            "test  Loss: 0.5266 Acc: 0.7150\n",
            "\n",
            "Epoch 16/50\n",
            "----------\n",
            "train Loss: 0.4943 Acc: 0.7582\n",
            "val   Loss: 0.4557 Acc: 0.7835\n",
            "test  Loss: 0.5269 Acc: 0.7162\n",
            "\n",
            "Epoch 17/50\n",
            "----------\n",
            "train Loss: 0.4935 Acc: 0.7586\n",
            "val   Loss: 0.4560 Acc: 0.7835\n",
            "test  Loss: 0.5269 Acc: 0.7162\n",
            "\n",
            "Epoch 18/50\n",
            "----------\n",
            "train Loss: 0.4930 Acc: 0.7598\n",
            "val   Loss: 0.4562 Acc: 0.7847\n",
            "test  Loss: 0.5272 Acc: 0.7174\n",
            "\n",
            "Epoch 19/50\n",
            "----------\n",
            "train Loss: 0.4923 Acc: 0.7602\n",
            "val   Loss: 0.4567 Acc: 0.7847\n",
            "test  Loss: 0.5276 Acc: 0.7174\n",
            "\n",
            "Epoch 20/50\n",
            "----------\n",
            "train Loss: 0.4917 Acc: 0.7590\n",
            "val   Loss: 0.4568 Acc: 0.7835\n",
            "test  Loss: 0.5278 Acc: 0.7186\n",
            "\n",
            "Epoch 21/50\n",
            "----------\n",
            "train Loss: 0.4913 Acc: 0.7610\n",
            "val   Loss: 0.4574 Acc: 0.7835\n",
            "test  Loss: 0.5282 Acc: 0.7186\n",
            "\n",
            "Epoch 22/50\n",
            "----------\n",
            "train Loss: 0.4907 Acc: 0.7598\n",
            "val   Loss: 0.4578 Acc: 0.7859\n",
            "test  Loss: 0.5286 Acc: 0.7186\n",
            "\n",
            "Epoch 23/50\n",
            "----------\n",
            "train Loss: 0.4902 Acc: 0.7602\n",
            "val   Loss: 0.4576 Acc: 0.7859\n",
            "test  Loss: 0.5288 Acc: 0.7186\n",
            "\n",
            "Epoch 24/50\n",
            "----------\n",
            "train Loss: 0.4898 Acc: 0.7618\n",
            "val   Loss: 0.4577 Acc: 0.7859\n",
            "test  Loss: 0.5292 Acc: 0.7186\n",
            "\n",
            "Epoch 25/50\n",
            "----------\n",
            "train Loss: 0.4893 Acc: 0.7618\n",
            "val   Loss: 0.4574 Acc: 0.7847\n",
            "test  Loss: 0.5294 Acc: 0.7186\n",
            "\n",
            "Epoch 26/50\n",
            "----------\n",
            "train Loss: 0.4889 Acc: 0.7610\n",
            "val   Loss: 0.4575 Acc: 0.7847\n",
            "test  Loss: 0.5296 Acc: 0.7186\n",
            "\n",
            "Epoch 27/50\n",
            "----------\n",
            "train Loss: 0.4885 Acc: 0.7610\n",
            "val   Loss: 0.4576 Acc: 0.7835\n",
            "test  Loss: 0.5298 Acc: 0.7198\n",
            "\n",
            "Epoch 28/50\n",
            "----------\n",
            "train Loss: 0.4881 Acc: 0.7610\n",
            "val   Loss: 0.4577 Acc: 0.7835\n",
            "test  Loss: 0.5301 Acc: 0.7174\n",
            "\n",
            "Epoch 29/50\n",
            "----------\n",
            "train Loss: 0.4878 Acc: 0.7618\n",
            "val   Loss: 0.4575 Acc: 0.7835\n",
            "test  Loss: 0.5303 Acc: 0.7186\n",
            "\n",
            "Epoch 30/50\n",
            "----------\n",
            "train Loss: 0.4874 Acc: 0.7622\n",
            "val   Loss: 0.4574 Acc: 0.7835\n",
            "test  Loss: 0.5305 Acc: 0.7186\n",
            "\n",
            "Epoch 31/50\n",
            "----------\n",
            "train Loss: 0.4871 Acc: 0.7626\n",
            "val   Loss: 0.4573 Acc: 0.7835\n",
            "test  Loss: 0.5307 Acc: 0.7186\n",
            "\n",
            "Epoch 32/50\n",
            "----------\n",
            "train Loss: 0.4868 Acc: 0.7630\n",
            "val   Loss: 0.4571 Acc: 0.7835\n",
            "test  Loss: 0.5308 Acc: 0.7174\n",
            "\n",
            "Epoch 33/50\n",
            "----------\n",
            "train Loss: 0.4866 Acc: 0.7630\n",
            "val   Loss: 0.4570 Acc: 0.7847\n",
            "test  Loss: 0.5310 Acc: 0.7174\n",
            "\n",
            "Epoch 34/50\n",
            "----------\n",
            "train Loss: 0.4863 Acc: 0.7630\n",
            "val   Loss: 0.4570 Acc: 0.7847\n",
            "test  Loss: 0.5312 Acc: 0.7174\n",
            "\n",
            "Epoch 35/50\n",
            "----------\n",
            "train Loss: 0.4860 Acc: 0.7630\n",
            "val   Loss: 0.4568 Acc: 0.7859\n",
            "test  Loss: 0.5313 Acc: 0.7174\n",
            "\n",
            "Epoch 36/50\n",
            "----------\n",
            "train Loss: 0.4858 Acc: 0.7638\n",
            "val   Loss: 0.4567 Acc: 0.7871\n",
            "test  Loss: 0.5315 Acc: 0.7162\n",
            "\n",
            "Epoch 37/50\n",
            "----------\n",
            "train Loss: 0.4855 Acc: 0.7638\n",
            "val   Loss: 0.4567 Acc: 0.7859\n",
            "test  Loss: 0.5317 Acc: 0.7162\n",
            "\n",
            "Epoch 38/50\n",
            "----------\n",
            "train Loss: 0.4853 Acc: 0.7638\n",
            "val   Loss: 0.4565 Acc: 0.7859\n",
            "test  Loss: 0.5319 Acc: 0.7150\n",
            "\n",
            "Epoch 39/50\n",
            "----------\n",
            "train Loss: 0.4851 Acc: 0.7642\n",
            "val   Loss: 0.4562 Acc: 0.7859\n",
            "test  Loss: 0.5318 Acc: 0.7150\n",
            "\n",
            "Epoch 40/50\n",
            "----------\n",
            "train Loss: 0.4849 Acc: 0.7634\n",
            "val   Loss: 0.4563 Acc: 0.7859\n",
            "test  Loss: 0.5321 Acc: 0.7162\n",
            "\n",
            "Epoch 41/50\n",
            "----------\n",
            "train Loss: 0.4847 Acc: 0.7638\n",
            "val   Loss: 0.4561 Acc: 0.7859\n",
            "test  Loss: 0.5322 Acc: 0.7162\n",
            "\n",
            "Epoch 42/50\n",
            "----------\n",
            "train Loss: 0.4844 Acc: 0.7638\n",
            "val   Loss: 0.4560 Acc: 0.7847\n",
            "test  Loss: 0.5323 Acc: 0.7162\n",
            "\n",
            "Epoch 43/50\n",
            "----------\n",
            "train Loss: 0.4843 Acc: 0.7638\n",
            "val   Loss: 0.4560 Acc: 0.7847\n",
            "test  Loss: 0.5325 Acc: 0.7162\n",
            "\n",
            "Epoch 44/50\n",
            "----------\n",
            "train Loss: 0.4841 Acc: 0.7642\n",
            "val   Loss: 0.4558 Acc: 0.7847\n",
            "test  Loss: 0.5325 Acc: 0.7162\n",
            "\n",
            "Epoch 45/50\n",
            "----------\n",
            "train Loss: 0.4839 Acc: 0.7642\n",
            "val   Loss: 0.4558 Acc: 0.7847\n",
            "test  Loss: 0.5327 Acc: 0.7162\n",
            "\n",
            "Epoch 46/50\n",
            "----------\n",
            "train Loss: 0.4837 Acc: 0.7638\n",
            "val   Loss: 0.4558 Acc: 0.7847\n",
            "test  Loss: 0.5328 Acc: 0.7162\n",
            "\n",
            "Epoch 47/50\n",
            "----------\n",
            "train Loss: 0.4836 Acc: 0.7642\n",
            "val   Loss: 0.4556 Acc: 0.7847\n",
            "test  Loss: 0.5329 Acc: 0.7162\n",
            "\n",
            "Epoch 48/50\n",
            "----------\n",
            "train Loss: 0.4834 Acc: 0.7646\n",
            "val   Loss: 0.4556 Acc: 0.7847\n",
            "test  Loss: 0.5330 Acc: 0.7162\n",
            "\n",
            "Epoch 49/50\n",
            "----------\n",
            "train Loss: 0.4833 Acc: 0.7646\n",
            "val   Loss: 0.4557 Acc: 0.7847\n",
            "test  Loss: 0.5331 Acc: 0.7186\n",
            "\n",
            "Epoch 50/50\n",
            "----------\n",
            "train Loss: 0.4831 Acc: 0.7646\n",
            "val   Loss: 0.4556 Acc: 0.7847\n",
            "test  Loss: 0.5332 Acc: 0.7186\n",
            "\n",
            "Training complete in 0m 44s\n",
            "Best val Acc: 0.787081 at epoch 1\n"
          ]
        }
      ],
      "source": [
        "# Entrenamiento con tres capas ocultas\n",
        "# Pérdida y optimizador\n",
        "criterion = nn.CrossEntropyLoss() # Aplicar la función de pérdida CrossEntropyLoss para la clasificación\n",
        "optimizer = torch.optim.Adam(three_layer_model.parameters(), lr=learning_rate)\n",
        "scheduler = torch.optim.lr_scheduler.ExponentialLR(optimizer, gamma=0.95)\n",
        "\n",
        "# Entrenar el modelo. También guardaremos los resultados del entrenamiento para poder visualizarlos\n",
        "three_layer_model, training_curves_three_layer = train_model(three_layer_model, dataloaders, dataset_sizes, \n",
        "                                     criterion, optimizer, scheduler, num_epochs=num_epochs)"
      ]
    },
    {
      "cell_type": "markdown",
      "metadata": {
        "id": "OGRiX8hgkE_0"
      },
      "source": [
        "Después del entrenamiento, vemos que ambos modelos ofrecen una precisión similar, por lo que a partir de ahora utilizaremos el de tres capas, pero exploraremos otros métodos para mejorar el rendimiento."
      ]
    },
    {
      "cell_type": "markdown",
      "metadata": {
        "id": "Z1vxiEA_zX-B"
      },
      "source": [
        "### Curvas de entrenamiento y métricas\n",
        "\n",
        "A continuación, hemos incluido varias funciones para visualizar las curvas de entrenamiento y las métricas en problemas de clasificación. Le animamos a utilizar estas funciones en el futuro."
      ]
    },
    {
      "cell_type": "code",
      "execution_count": 13,
      "metadata": {
        "id": "8DDWNUtOU4KI"
      },
      "outputs": [],
      "source": [
        "def plot_training_curves(training_curves, \n",
        "                         phases=['train', 'val', 'test'],\n",
        "                         metrics=['loss','acc']):\n",
        "    epochs = list(range(len(training_curves['train_loss'])))\n",
        "    for metric in metrics:\n",
        "        plt.figure()\n",
        "        plt.title(f'Training curves - {metric}')\n",
        "        for phase in phases:\n",
        "            key = phase+'_'+metric\n",
        "            if key in training_curves:\n",
        "                plt.plot(epochs, training_curves[phase+'_'+metric])\n",
        "        plt.xlabel('epoch')\n",
        "        plt.legend(labels=phases)\n",
        "\n",
        "def classify_predictions(model, device, dataloader):\n",
        "    model.eval()   # Configurar el modelo en el modo de evaluación\n",
        "    all_labels = torch.tensor([]).to(device)\n",
        "    all_scores = torch.tensor([]).to(device)\n",
        "    all_preds = torch.tensor([]).to(device)\n",
        "    for inputs, labels in dataloader:\n",
        "        inputs = inputs.to(device)\n",
        "        labels = labels.to(device)\n",
        "        outputs = torch.softmax(model(inputs),dim=1)\n",
        "        _, preds = torch.max(outputs, 1)\n",
        "        scores = outputs[:,1]\n",
        "        all_labels = torch.cat((all_labels, labels), 0)\n",
        "        all_scores = torch.cat((all_scores, scores), 0)\n",
        "        all_preds = torch.cat((all_preds, preds), 0)\n",
        "    return all_preds.detach().cpu(), all_labels.detach().cpu(), all_scores.detach().cpu()\n",
        "\n",
        "def plot_regression(model, device, dataloader):\n",
        "    preds, targets = regress_predictions(model, device, dataloader)\n",
        "    plt.figure()\n",
        "    plt.title(f'Regression results')\n",
        "    plt.scatter(targets, preds)\n",
        "    xmin = min(min(targets), min(preds))\n",
        "    xmax = max(max(targets), max(targets))\n",
        "    plt.plot([xmin, xmax], [xmin, xmax], 'black', linestyle='--', marker='')\n",
        "    plt.xlabel('target value')\n",
        "    plt.ylabel('prediced value')\n",
        "\n",
        "def regress_predictions(model, device, dataloader):\n",
        "    model.eval()   # Configurar el modelo en el modo de evaluación\n",
        "    all_targets = torch.tensor([]).to(device)\n",
        "    all_preds = torch.tensor([]).to(device)\n",
        "    for inputs, targets in dataloader:\n",
        "        inputs = inputs.to(device)\n",
        "        targets = targets.to(device)\n",
        "        preds = model(inputs)\n",
        "        all_targets = torch.cat((all_targets, targets), 0)\n",
        "        all_preds = torch.cat((all_preds, preds), 0)\n",
        "    return all_preds.detach().cpu(), all_targets.detach().cpu()\n",
        "\n",
        "def plot_metrics(model, device, dataloaders, phase='test'):\n",
        "    preds, labels, scores = classify_predictions(model, device, dataloaders[phase])\n",
        "\n",
        "    fpr, tpr, thresholds = metrics.roc_curve(labels, scores)\n",
        "    auc = metrics.roc_auc_score(labels, preds)\n",
        "    \n",
        "    disp = metrics.RocCurveDisplay(fpr=fpr, tpr=tpr, roc_auc=auc)\n",
        "    ind = np.argmin(np.abs(thresholds - 0.5))\n",
        "    ax = disp.plot().ax_\n",
        "    ax.scatter(fpr[ind], tpr[ind], color = 'red')\n",
        "    ax.set_title('ROC Curve (red dot at threshold = 0.5)')\n",
        "    \n",
        "    cm = metrics.confusion_matrix(labels, preds)\n",
        "    disp = metrics.ConfusionMatrixDisplay(confusion_matrix=cm, display_labels=class_labels)\n",
        "    #disp = metrics.ConfusionMatrixDisplay(confusion_matrix=cm)\n",
        "    ax = disp.plot().ax_\n",
        "    ax.set_title('Confusion Matrix -- counts')\n",
        "\n",
        "    ncm = metrics.confusion_matrix(labels, preds, normalize='true')\n",
        "    disp = metrics.ConfusionMatrixDisplay(confusion_matrix=ncm)\n",
        "    ax = disp.plot().ax_\n",
        "    ax.set_title('Confusion Matrix -- rates')\n",
        "\n",
        "    TN, FP, FN, TP = cm[0,0], cm[0,1], cm[1,0], cm[1,1] \n",
        "    N, P = TN + FP, TP + FN \n",
        "    ACC = (TP + TN)/(P+N)\n",
        "    TPR, FPR, FNR, TNR = TP/P, FP/N, FN/P, TN/N\n",
        "    print(f'\\nAt default threshold:')\n",
        "    print(f' TN = {TN:5},  FP = {FP:5} -> N = {N:5}')\n",
        "    print(f' FN = {FN:5},  TP = {TP:5} -> P = {P:5}')\n",
        "    print(f'TNR = {TNR:5.3f}, FPR = {FPR:5.3f}')\n",
        "    print(f'FNR = {FNR:5.3f}, TPR = {TPR:5.3f}')\n",
        "    print(f'ACC = {ACC:6.3f}')\n",
        "\n",
        "    return cm, fpr, tpr, thresholds, auc"
      ]
    },
    {
      "cell_type": "code",
      "execution_count": 14,
      "metadata": {
        "colab": {
          "base_uri": "https://localhost:8080/",
          "height": 573
        },
        "id": "OWc_FiINU4KJ",
        "outputId": "9e0d1725-4946-4749-d349-e90d45862326",
        "scrolled": false
      },
      "outputs": [
        {
          "ename": "TypeError",
          "evalue": "can't convert cuda:0 device type tensor to numpy. Use Tensor.cpu() to copy the tensor to host memory first.",
          "output_type": "error",
          "traceback": [
            "\u001b[0;31m---------------------------------------------------------------------------\u001b[0m",
            "\u001b[0;31mTypeError\u001b[0m                                 Traceback (most recent call last)",
            "\u001b[0;32m/tmp/ipykernel_10357/2179687670.py\u001b[0m in \u001b[0;36m<module>\u001b[0;34m\u001b[0m\n\u001b[0;32m----> 1\u001b[0;31m \u001b[0mplot_training_curves\u001b[0m\u001b[0;34m(\u001b[0m\u001b[0mtraining_curves_three_layer\u001b[0m\u001b[0;34m,\u001b[0m \u001b[0mphases\u001b[0m\u001b[0;34m=\u001b[0m\u001b[0;34m[\u001b[0m\u001b[0;34m'train'\u001b[0m\u001b[0;34m,\u001b[0m \u001b[0;34m'val'\u001b[0m\u001b[0;34m,\u001b[0m \u001b[0;34m'test'\u001b[0m\u001b[0;34m]\u001b[0m\u001b[0;34m)\u001b[0m\u001b[0;34m\u001b[0m\u001b[0;34m\u001b[0m\u001b[0m\n\u001b[0m",
            "\u001b[0;32m/tmp/ipykernel_10357/2489188571.py\u001b[0m in \u001b[0;36mplot_training_curves\u001b[0;34m(training_curves, phases, metrics)\u001b[0m\n\u001b[1;32m      9\u001b[0m             \u001b[0mkey\u001b[0m \u001b[0;34m=\u001b[0m \u001b[0mphase\u001b[0m\u001b[0;34m+\u001b[0m\u001b[0;34m'_'\u001b[0m\u001b[0;34m+\u001b[0m\u001b[0mmetric\u001b[0m\u001b[0;34m\u001b[0m\u001b[0;34m\u001b[0m\u001b[0m\n\u001b[1;32m     10\u001b[0m             \u001b[0;32mif\u001b[0m \u001b[0mkey\u001b[0m \u001b[0;32min\u001b[0m \u001b[0mtraining_curves\u001b[0m\u001b[0;34m:\u001b[0m\u001b[0;34m\u001b[0m\u001b[0;34m\u001b[0m\u001b[0m\n\u001b[0;32m---> 11\u001b[0;31m                 \u001b[0mplt\u001b[0m\u001b[0;34m.\u001b[0m\u001b[0mplot\u001b[0m\u001b[0;34m(\u001b[0m\u001b[0mepochs\u001b[0m\u001b[0;34m,\u001b[0m \u001b[0mtraining_curves\u001b[0m\u001b[0;34m[\u001b[0m\u001b[0mphase\u001b[0m\u001b[0;34m+\u001b[0m\u001b[0;34m'_'\u001b[0m\u001b[0;34m+\u001b[0m\u001b[0mmetric\u001b[0m\u001b[0;34m]\u001b[0m\u001b[0;34m)\u001b[0m\u001b[0;34m\u001b[0m\u001b[0;34m\u001b[0m\u001b[0m\n\u001b[0m\u001b[1;32m     12\u001b[0m         \u001b[0mplt\u001b[0m\u001b[0;34m.\u001b[0m\u001b[0mxlabel\u001b[0m\u001b[0;34m(\u001b[0m\u001b[0;34m'epoch'\u001b[0m\u001b[0;34m)\u001b[0m\u001b[0;34m\u001b[0m\u001b[0;34m\u001b[0m\u001b[0m\n\u001b[1;32m     13\u001b[0m         \u001b[0mplt\u001b[0m\u001b[0;34m.\u001b[0m\u001b[0mlegend\u001b[0m\u001b[0;34m(\u001b[0m\u001b[0mlabels\u001b[0m\u001b[0;34m=\u001b[0m\u001b[0mphases\u001b[0m\u001b[0;34m)\u001b[0m\u001b[0;34m\u001b[0m\u001b[0;34m\u001b[0m\u001b[0m\n",
            "\u001b[0;32m~/anaconda3/lib/python3.9/site-packages/matplotlib/pyplot.py\u001b[0m in \u001b[0;36mplot\u001b[0;34m(scalex, scaley, data, *args, **kwargs)\u001b[0m\n\u001b[1;32m   2767\u001b[0m \u001b[0;34m@\u001b[0m\u001b[0m_copy_docstring_and_deprecators\u001b[0m\u001b[0;34m(\u001b[0m\u001b[0mAxes\u001b[0m\u001b[0;34m.\u001b[0m\u001b[0mplot\u001b[0m\u001b[0;34m)\u001b[0m\u001b[0;34m\u001b[0m\u001b[0;34m\u001b[0m\u001b[0m\n\u001b[1;32m   2768\u001b[0m \u001b[0;32mdef\u001b[0m \u001b[0mplot\u001b[0m\u001b[0;34m(\u001b[0m\u001b[0;34m*\u001b[0m\u001b[0margs\u001b[0m\u001b[0;34m,\u001b[0m \u001b[0mscalex\u001b[0m\u001b[0;34m=\u001b[0m\u001b[0;32mTrue\u001b[0m\u001b[0;34m,\u001b[0m \u001b[0mscaley\u001b[0m\u001b[0;34m=\u001b[0m\u001b[0;32mTrue\u001b[0m\u001b[0;34m,\u001b[0m \u001b[0mdata\u001b[0m\u001b[0;34m=\u001b[0m\u001b[0;32mNone\u001b[0m\u001b[0;34m,\u001b[0m \u001b[0;34m**\u001b[0m\u001b[0mkwargs\u001b[0m\u001b[0;34m)\u001b[0m\u001b[0;34m:\u001b[0m\u001b[0;34m\u001b[0m\u001b[0;34m\u001b[0m\u001b[0m\n\u001b[0;32m-> 2769\u001b[0;31m     return gca().plot(\n\u001b[0m\u001b[1;32m   2770\u001b[0m         \u001b[0;34m*\u001b[0m\u001b[0margs\u001b[0m\u001b[0;34m,\u001b[0m \u001b[0mscalex\u001b[0m\u001b[0;34m=\u001b[0m\u001b[0mscalex\u001b[0m\u001b[0;34m,\u001b[0m \u001b[0mscaley\u001b[0m\u001b[0;34m=\u001b[0m\u001b[0mscaley\u001b[0m\u001b[0;34m,\u001b[0m\u001b[0;34m\u001b[0m\u001b[0;34m\u001b[0m\u001b[0m\n\u001b[1;32m   2771\u001b[0m         **({\"data\": data} if data is not None else {}), **kwargs)\n",
            "\u001b[0;32m~/anaconda3/lib/python3.9/site-packages/matplotlib/axes/_axes.py\u001b[0m in \u001b[0;36mplot\u001b[0;34m(self, scalex, scaley, data, *args, **kwargs)\u001b[0m\n\u001b[1;32m   1630\u001b[0m         \"\"\"\n\u001b[1;32m   1631\u001b[0m         \u001b[0mkwargs\u001b[0m \u001b[0;34m=\u001b[0m \u001b[0mcbook\u001b[0m\u001b[0;34m.\u001b[0m\u001b[0mnormalize_kwargs\u001b[0m\u001b[0;34m(\u001b[0m\u001b[0mkwargs\u001b[0m\u001b[0;34m,\u001b[0m \u001b[0mmlines\u001b[0m\u001b[0;34m.\u001b[0m\u001b[0mLine2D\u001b[0m\u001b[0;34m)\u001b[0m\u001b[0;34m\u001b[0m\u001b[0;34m\u001b[0m\u001b[0m\n\u001b[0;32m-> 1632\u001b[0;31m         \u001b[0mlines\u001b[0m \u001b[0;34m=\u001b[0m \u001b[0;34m[\u001b[0m\u001b[0;34m*\u001b[0m\u001b[0mself\u001b[0m\u001b[0;34m.\u001b[0m\u001b[0m_get_lines\u001b[0m\u001b[0;34m(\u001b[0m\u001b[0;34m*\u001b[0m\u001b[0margs\u001b[0m\u001b[0;34m,\u001b[0m \u001b[0mdata\u001b[0m\u001b[0;34m=\u001b[0m\u001b[0mdata\u001b[0m\u001b[0;34m,\u001b[0m \u001b[0;34m**\u001b[0m\u001b[0mkwargs\u001b[0m\u001b[0;34m)\u001b[0m\u001b[0;34m]\u001b[0m\u001b[0;34m\u001b[0m\u001b[0;34m\u001b[0m\u001b[0m\n\u001b[0m\u001b[1;32m   1633\u001b[0m         \u001b[0;32mfor\u001b[0m \u001b[0mline\u001b[0m \u001b[0;32min\u001b[0m \u001b[0mlines\u001b[0m\u001b[0;34m:\u001b[0m\u001b[0;34m\u001b[0m\u001b[0;34m\u001b[0m\u001b[0m\n\u001b[1;32m   1634\u001b[0m             \u001b[0mself\u001b[0m\u001b[0;34m.\u001b[0m\u001b[0madd_line\u001b[0m\u001b[0;34m(\u001b[0m\u001b[0mline\u001b[0m\u001b[0;34m)\u001b[0m\u001b[0;34m\u001b[0m\u001b[0;34m\u001b[0m\u001b[0m\n",
            "\u001b[0;32m~/anaconda3/lib/python3.9/site-packages/matplotlib/axes/_base.py\u001b[0m in \u001b[0;36m__call__\u001b[0;34m(self, data, *args, **kwargs)\u001b[0m\n\u001b[1;32m    310\u001b[0m                 \u001b[0mthis\u001b[0m \u001b[0;34m+=\u001b[0m \u001b[0margs\u001b[0m\u001b[0;34m[\u001b[0m\u001b[0;36m0\u001b[0m\u001b[0;34m]\u001b[0m\u001b[0;34m,\u001b[0m\u001b[0;34m\u001b[0m\u001b[0;34m\u001b[0m\u001b[0m\n\u001b[1;32m    311\u001b[0m                 \u001b[0margs\u001b[0m \u001b[0;34m=\u001b[0m \u001b[0margs\u001b[0m\u001b[0;34m[\u001b[0m\u001b[0;36m1\u001b[0m\u001b[0;34m:\u001b[0m\u001b[0;34m]\u001b[0m\u001b[0;34m\u001b[0m\u001b[0;34m\u001b[0m\u001b[0m\n\u001b[0;32m--> 312\u001b[0;31m             \u001b[0;32myield\u001b[0m \u001b[0;32mfrom\u001b[0m \u001b[0mself\u001b[0m\u001b[0;34m.\u001b[0m\u001b[0m_plot_args\u001b[0m\u001b[0;34m(\u001b[0m\u001b[0mthis\u001b[0m\u001b[0;34m,\u001b[0m \u001b[0mkwargs\u001b[0m\u001b[0;34m)\u001b[0m\u001b[0;34m\u001b[0m\u001b[0;34m\u001b[0m\u001b[0m\n\u001b[0m\u001b[1;32m    313\u001b[0m \u001b[0;34m\u001b[0m\u001b[0m\n\u001b[1;32m    314\u001b[0m     \u001b[0;32mdef\u001b[0m \u001b[0mget_next_color\u001b[0m\u001b[0;34m(\u001b[0m\u001b[0mself\u001b[0m\u001b[0;34m)\u001b[0m\u001b[0;34m:\u001b[0m\u001b[0;34m\u001b[0m\u001b[0;34m\u001b[0m\u001b[0m\n",
            "\u001b[0;32m~/anaconda3/lib/python3.9/site-packages/matplotlib/axes/_base.py\u001b[0m in \u001b[0;36m_plot_args\u001b[0;34m(self, tup, kwargs, return_kwargs)\u001b[0m\n\u001b[1;32m    486\u001b[0m         \u001b[0;32mif\u001b[0m \u001b[0mlen\u001b[0m\u001b[0;34m(\u001b[0m\u001b[0mxy\u001b[0m\u001b[0;34m)\u001b[0m \u001b[0;34m==\u001b[0m \u001b[0;36m2\u001b[0m\u001b[0;34m:\u001b[0m\u001b[0;34m\u001b[0m\u001b[0;34m\u001b[0m\u001b[0m\n\u001b[1;32m    487\u001b[0m             \u001b[0mx\u001b[0m \u001b[0;34m=\u001b[0m \u001b[0m_check_1d\u001b[0m\u001b[0;34m(\u001b[0m\u001b[0mxy\u001b[0m\u001b[0;34m[\u001b[0m\u001b[0;36m0\u001b[0m\u001b[0;34m]\u001b[0m\u001b[0;34m)\u001b[0m\u001b[0;34m\u001b[0m\u001b[0;34m\u001b[0m\u001b[0m\n\u001b[0;32m--> 488\u001b[0;31m             \u001b[0my\u001b[0m \u001b[0;34m=\u001b[0m \u001b[0m_check_1d\u001b[0m\u001b[0;34m(\u001b[0m\u001b[0mxy\u001b[0m\u001b[0;34m[\u001b[0m\u001b[0;36m1\u001b[0m\u001b[0;34m]\u001b[0m\u001b[0;34m)\u001b[0m\u001b[0;34m\u001b[0m\u001b[0;34m\u001b[0m\u001b[0m\n\u001b[0m\u001b[1;32m    489\u001b[0m         \u001b[0;32melse\u001b[0m\u001b[0;34m:\u001b[0m\u001b[0;34m\u001b[0m\u001b[0;34m\u001b[0m\u001b[0m\n\u001b[1;32m    490\u001b[0m             \u001b[0mx\u001b[0m\u001b[0;34m,\u001b[0m \u001b[0my\u001b[0m \u001b[0;34m=\u001b[0m \u001b[0mindex_of\u001b[0m\u001b[0;34m(\u001b[0m\u001b[0mxy\u001b[0m\u001b[0;34m[\u001b[0m\u001b[0;34m-\u001b[0m\u001b[0;36m1\u001b[0m\u001b[0;34m]\u001b[0m\u001b[0;34m)\u001b[0m\u001b[0;34m\u001b[0m\u001b[0;34m\u001b[0m\u001b[0m\n",
            "\u001b[0;32m~/anaconda3/lib/python3.9/site-packages/matplotlib/cbook/__init__.py\u001b[0m in \u001b[0;36m_check_1d\u001b[0;34m(x)\u001b[0m\n\u001b[1;32m   1304\u001b[0m     \u001b[0mx\u001b[0m \u001b[0;34m=\u001b[0m \u001b[0m_unpack_to_numpy\u001b[0m\u001b[0;34m(\u001b[0m\u001b[0mx\u001b[0m\u001b[0;34m)\u001b[0m\u001b[0;34m\u001b[0m\u001b[0;34m\u001b[0m\u001b[0m\n\u001b[1;32m   1305\u001b[0m     \u001b[0;32mif\u001b[0m \u001b[0;32mnot\u001b[0m \u001b[0mhasattr\u001b[0m\u001b[0;34m(\u001b[0m\u001b[0mx\u001b[0m\u001b[0;34m,\u001b[0m \u001b[0;34m'shape'\u001b[0m\u001b[0;34m)\u001b[0m \u001b[0;32mor\u001b[0m \u001b[0mlen\u001b[0m\u001b[0;34m(\u001b[0m\u001b[0mx\u001b[0m\u001b[0;34m.\u001b[0m\u001b[0mshape\u001b[0m\u001b[0;34m)\u001b[0m \u001b[0;34m<\u001b[0m \u001b[0;36m1\u001b[0m\u001b[0;34m:\u001b[0m\u001b[0;34m\u001b[0m\u001b[0;34m\u001b[0m\u001b[0m\n\u001b[0;32m-> 1306\u001b[0;31m         \u001b[0;32mreturn\u001b[0m \u001b[0mnp\u001b[0m\u001b[0;34m.\u001b[0m\u001b[0matleast_1d\u001b[0m\u001b[0;34m(\u001b[0m\u001b[0mx\u001b[0m\u001b[0;34m)\u001b[0m\u001b[0;34m\u001b[0m\u001b[0;34m\u001b[0m\u001b[0m\n\u001b[0m\u001b[1;32m   1307\u001b[0m     \u001b[0;32melse\u001b[0m\u001b[0;34m:\u001b[0m\u001b[0;34m\u001b[0m\u001b[0;34m\u001b[0m\u001b[0m\n\u001b[1;32m   1308\u001b[0m         \u001b[0;32mreturn\u001b[0m \u001b[0mx\u001b[0m\u001b[0;34m\u001b[0m\u001b[0;34m\u001b[0m\u001b[0m\n",
            "\u001b[0;32m<__array_function__ internals>\u001b[0m in \u001b[0;36matleast_1d\u001b[0;34m(*args, **kwargs)\u001b[0m\n",
            "\u001b[0;32m~/anaconda3/lib/python3.9/site-packages/numpy/core/shape_base.py\u001b[0m in \u001b[0;36matleast_1d\u001b[0;34m(*arys)\u001b[0m\n\u001b[1;32m     63\u001b[0m     \u001b[0mres\u001b[0m \u001b[0;34m=\u001b[0m \u001b[0;34m[\u001b[0m\u001b[0;34m]\u001b[0m\u001b[0;34m\u001b[0m\u001b[0;34m\u001b[0m\u001b[0m\n\u001b[1;32m     64\u001b[0m     \u001b[0;32mfor\u001b[0m \u001b[0mary\u001b[0m \u001b[0;32min\u001b[0m \u001b[0marys\u001b[0m\u001b[0;34m:\u001b[0m\u001b[0;34m\u001b[0m\u001b[0;34m\u001b[0m\u001b[0m\n\u001b[0;32m---> 65\u001b[0;31m         \u001b[0mary\u001b[0m \u001b[0;34m=\u001b[0m \u001b[0masanyarray\u001b[0m\u001b[0;34m(\u001b[0m\u001b[0mary\u001b[0m\u001b[0;34m)\u001b[0m\u001b[0;34m\u001b[0m\u001b[0;34m\u001b[0m\u001b[0m\n\u001b[0m\u001b[1;32m     66\u001b[0m         \u001b[0;32mif\u001b[0m \u001b[0mary\u001b[0m\u001b[0;34m.\u001b[0m\u001b[0mndim\u001b[0m \u001b[0;34m==\u001b[0m \u001b[0;36m0\u001b[0m\u001b[0;34m:\u001b[0m\u001b[0;34m\u001b[0m\u001b[0;34m\u001b[0m\u001b[0m\n\u001b[1;32m     67\u001b[0m             \u001b[0mresult\u001b[0m \u001b[0;34m=\u001b[0m \u001b[0mary\u001b[0m\u001b[0;34m.\u001b[0m\u001b[0mreshape\u001b[0m\u001b[0;34m(\u001b[0m\u001b[0;36m1\u001b[0m\u001b[0;34m)\u001b[0m\u001b[0;34m\u001b[0m\u001b[0;34m\u001b[0m\u001b[0m\n",
            "\u001b[0;32m~/anaconda3/lib/python3.9/site-packages/torch/_tensor.py\u001b[0m in \u001b[0;36m__array__\u001b[0;34m(self, dtype)\u001b[0m\n\u001b[1;32m    953\u001b[0m             \u001b[0;32mreturn\u001b[0m \u001b[0mhandle_torch_function\u001b[0m\u001b[0;34m(\u001b[0m\u001b[0mTensor\u001b[0m\u001b[0;34m.\u001b[0m\u001b[0m__array__\u001b[0m\u001b[0;34m,\u001b[0m \u001b[0;34m(\u001b[0m\u001b[0mself\u001b[0m\u001b[0;34m,\u001b[0m\u001b[0;34m)\u001b[0m\u001b[0;34m,\u001b[0m \u001b[0mself\u001b[0m\u001b[0;34m,\u001b[0m \u001b[0mdtype\u001b[0m\u001b[0;34m=\u001b[0m\u001b[0mdtype\u001b[0m\u001b[0;34m)\u001b[0m\u001b[0;34m\u001b[0m\u001b[0;34m\u001b[0m\u001b[0m\n\u001b[1;32m    954\u001b[0m         \u001b[0;32mif\u001b[0m \u001b[0mdtype\u001b[0m \u001b[0;32mis\u001b[0m \u001b[0;32mNone\u001b[0m\u001b[0;34m:\u001b[0m\u001b[0;34m\u001b[0m\u001b[0;34m\u001b[0m\u001b[0m\n\u001b[0;32m--> 955\u001b[0;31m             \u001b[0;32mreturn\u001b[0m \u001b[0mself\u001b[0m\u001b[0;34m.\u001b[0m\u001b[0mnumpy\u001b[0m\u001b[0;34m(\u001b[0m\u001b[0;34m)\u001b[0m\u001b[0;34m\u001b[0m\u001b[0;34m\u001b[0m\u001b[0m\n\u001b[0m\u001b[1;32m    956\u001b[0m         \u001b[0;32melse\u001b[0m\u001b[0;34m:\u001b[0m\u001b[0;34m\u001b[0m\u001b[0;34m\u001b[0m\u001b[0m\n\u001b[1;32m    957\u001b[0m             \u001b[0;32mreturn\u001b[0m \u001b[0mself\u001b[0m\u001b[0;34m.\u001b[0m\u001b[0mnumpy\u001b[0m\u001b[0;34m(\u001b[0m\u001b[0;34m)\u001b[0m\u001b[0;34m.\u001b[0m\u001b[0mastype\u001b[0m\u001b[0;34m(\u001b[0m\u001b[0mdtype\u001b[0m\u001b[0;34m,\u001b[0m \u001b[0mcopy\u001b[0m\u001b[0;34m=\u001b[0m\u001b[0;32mFalse\u001b[0m\u001b[0;34m)\u001b[0m\u001b[0;34m\u001b[0m\u001b[0;34m\u001b[0m\u001b[0m\n",
            "\u001b[0;31mTypeError\u001b[0m: can't convert cuda:0 device type tensor to numpy. Use Tensor.cpu() to copy the tensor to host memory first."
          ]
        },
        {
          "data": {
            "image/png": "[encoded data removed]",
            "text/plain": [
              "<Figure size 640x480 with 1 Axes>"
            ]
          },
          "metadata": {},
          "output_type": "display_data"
        },
        {
          "data": {
            "image/png": "[encoded data removed]",
            "text/plain": [
              "<Figure size 640x480 with 1 Axes>"
            ]
          },
          "metadata": {},
          "output_type": "display_data"
        }
      ],
      "source": [
        "plot_training_curves(training_curves_three_layer, phases=['train', 'val', 'test'])"
      ]
    },
    {
      "cell_type": "markdown",
      "metadata": {
        "id": "aALKlL5Aw_uy"
      },
      "source": [
        "En este gráfico, vemos que el modelo se está sobreajustando al conjunto de entrenamiento. A medida que la curva de entrenamiento, en azul, disminuye de forma constante, la pérdida en la validación aumenta. En las siguientes secciones, abordaremos el problema del sobreajuste."
      ]
    },
    {
      "cell_type": "code",
      "execution_count": 15,
      "metadata": {
        "colab": {
          "base_uri": "https://localhost:8080/",
          "height": 312
        },
        "id": "YgZFioiIU4KK",
        "outputId": "49476564-1cf2-4a7d-93f7-18dcc90792c6",
        "scrolled": true
      },
      "outputs": [
        {
          "name": "stdout",
          "output_type": "stream",
          "text": [
            "\n",
            "At default threshold:\n",
            " TN =   258,  FP =   143 -> N =   401\n",
            " FN =    86,  TP =   348 -> P =   434\n",
            "TNR = 0.643, FPR = 0.357\n",
            "FNR = 0.198, TPR = 0.802\n",
            "ACC =  0.726\n"
          ]
        },
        {
          "data": {
            "image/png": "[encoded data removed]",
            "text/plain": [
              "<Figure size 640x480 with 1 Axes>"
            ]
          },
          "metadata": {},
          "output_type": "display_data"
        },
        {
          "data": {
            "image/png": "[encoded data removed]",
            "text/plain": [
              "<Figure size 640x480 with 2 Axes>"
            ]
          },
          "metadata": {},
          "output_type": "display_data"
        },
        {
          "data": {
            "image/png": "[encoded data removed]",
            "text/plain": [
              "<Figure size 640x480 with 2 Axes>"
            ]
          },
          "metadata": {},
          "output_type": "display_data"
        }
      ],
      "source": [
        "res = plot_metrics(three_layer_model, device, dataloaders, phase='test')"
      ]
    },
    {
      "cell_type": "markdown",
      "metadata": {
        "id": "YjnKAjeCx2_O"
      },
      "source": [
        "Aquí vemos la curva ROC y la matriz de confusión de las que hemos hablado en el módulo. Parece que el modelo está clasificando incorrectamente a los abalones jóvenes como viejos en mayor proporción que al revés."
      ]
    },
    {
      "cell_type": "markdown",
      "metadata": {
        "id": "iO0tnP8s2dgI"
      },
      "source": [
        "## Atributos adicionales\n",
        "\n",
        "\n",
        "En la primera ronda de selección de atributos, hemos elegido solo atributos numéricos. Sin embargo, al no incluir el sexo de los abalones en el modelo, estamos perdiendo información fundamental. Para trasladar este atributo ternario desde el conjunto de datos al modelo, utilizaremos una técnica llamada codificación *one-hot*. Vamos a crear un atributo para cada una de las opciones y asignaremos un valor de 1 si la muestra pertenece a esa clase y de 0 si no pertenece. Las estrategias de codificación pueden ser tan sencillas como este método o mucho más complejas, como veremos en los próximos módulos."
      ]
    },
    {
      "cell_type": "code",
      "execution_count": 16,
      "metadata": {
        "colab": {
          "base_uri": "https://localhost:8080/",
          "height": 206
        },
        "id": "10fjzQGWU4KK",
        "outputId": "c6a4df6e-c668-4ede-ac6a-0f142acbef6e"
      },
      "outputs": [
        {
          "data": {
            "text/html": [
              "<div>\n",
              "<style scoped>\n",
              "    .dataframe tbody tr th:only-of-type {\n",
              "        vertical-align: middle;\n",
              "    }\n",
              "\n",
              "    .dataframe tbody tr th {\n",
              "        vertical-align: top;\n",
              "    }\n",
              "\n",
              "    .dataframe thead th {\n",
              "        text-align: right;\n",
              "    }\n",
              "</style>\n",
              "<table border=\"1\" class=\"dataframe\">\n",
              "  <thead>\n",
              "    <tr style=\"text-align: right;\">\n",
              "      <th></th>\n",
              "      <th>Sex</th>\n",
              "      <th>I</th>\n",
              "      <th>F</th>\n",
              "      <th>M</th>\n",
              "      <th>Length</th>\n",
              "      <th>Diameter</th>\n",
              "      <th>Height</th>\n",
              "      <th>Whole weight</th>\n",
              "      <th>Shucked weight</th>\n",
              "      <th>Viscera weight</th>\n",
              "      <th>Shell weights</th>\n",
              "      <th>Rings</th>\n",
              "      <th>Old</th>\n",
              "    </tr>\n",
              "  </thead>\n",
              "  <tbody>\n",
              "    <tr>\n",
              "      <th>0</th>\n",
              "      <td>M</td>\n",
              "      <td>0</td>\n",
              "      <td>0</td>\n",
              "      <td>1</td>\n",
              "      <td>0.455</td>\n",
              "      <td>0.365</td>\n",
              "      <td>0.095</td>\n",
              "      <td>0.5140</td>\n",
              "      <td>0.2245</td>\n",
              "      <td>0.1010</td>\n",
              "      <td>0.150</td>\n",
              "      <td>15</td>\n",
              "      <td>1</td>\n",
              "    </tr>\n",
              "    <tr>\n",
              "      <th>1</th>\n",
              "      <td>M</td>\n",
              "      <td>0</td>\n",
              "      <td>0</td>\n",
              "      <td>1</td>\n",
              "      <td>0.350</td>\n",
              "      <td>0.265</td>\n",
              "      <td>0.090</td>\n",
              "      <td>0.2255</td>\n",
              "      <td>0.0995</td>\n",
              "      <td>0.0485</td>\n",
              "      <td>0.070</td>\n",
              "      <td>7</td>\n",
              "      <td>0</td>\n",
              "    </tr>\n",
              "    <tr>\n",
              "      <th>2</th>\n",
              "      <td>F</td>\n",
              "      <td>0</td>\n",
              "      <td>1</td>\n",
              "      <td>0</td>\n",
              "      <td>0.530</td>\n",
              "      <td>0.420</td>\n",
              "      <td>0.135</td>\n",
              "      <td>0.6770</td>\n",
              "      <td>0.2565</td>\n",
              "      <td>0.1415</td>\n",
              "      <td>0.210</td>\n",
              "      <td>9</td>\n",
              "      <td>0</td>\n",
              "    </tr>\n",
              "    <tr>\n",
              "      <th>3</th>\n",
              "      <td>M</td>\n",
              "      <td>0</td>\n",
              "      <td>0</td>\n",
              "      <td>1</td>\n",
              "      <td>0.440</td>\n",
              "      <td>0.365</td>\n",
              "      <td>0.125</td>\n",
              "      <td>0.5160</td>\n",
              "      <td>0.2155</td>\n",
              "      <td>0.1140</td>\n",
              "      <td>0.155</td>\n",
              "      <td>10</td>\n",
              "      <td>1</td>\n",
              "    </tr>\n",
              "    <tr>\n",
              "      <th>4</th>\n",
              "      <td>I</td>\n",
              "      <td>1</td>\n",
              "      <td>0</td>\n",
              "      <td>0</td>\n",
              "      <td>0.330</td>\n",
              "      <td>0.255</td>\n",
              "      <td>0.080</td>\n",
              "      <td>0.2050</td>\n",
              "      <td>0.0895</td>\n",
              "      <td>0.0395</td>\n",
              "      <td>0.055</td>\n",
              "      <td>7</td>\n",
              "      <td>0</td>\n",
              "    </tr>\n",
              "  </tbody>\n",
              "</table>\n",
              "</div>"
            ],
            "text/plain": [
              "  Sex  I  F  M  Length  Diameter  Height  Whole weight  Shucked weight  \\\n",
              "0   M  0  0  1   0.455     0.365   0.095        0.5140          0.2245   \n",
              "1   M  0  0  1   0.350     0.265   0.090        0.2255          0.0995   \n",
              "2   F  0  1  0   0.530     0.420   0.135        0.6770          0.2565   \n",
              "3   M  0  0  1   0.440     0.365   0.125        0.5160          0.2155   \n",
              "4   I  1  0  0   0.330     0.255   0.080        0.2050          0.0895   \n",
              "\n",
              "   Viscera weight  Shell weights  Rings  Old  \n",
              "0          0.1010          0.150     15    1  \n",
              "1          0.0485          0.070      7    0  \n",
              "2          0.1415          0.210      9    0  \n",
              "3          0.1140          0.155     10    1  \n",
              "4          0.0395          0.055      7    0  "
            ]
          },
          "execution_count": 16,
          "metadata": {},
          "output_type": "execute_result"
        }
      ],
      "source": [
        "# Insertar los nuevos atributos mediante codificación one-hot\n",
        "encoded_df = df.copy(True)\n",
        "encoded_df.insert(1, 'M', 0)\n",
        "encoded_df.insert(1, 'F', 0)\n",
        "encoded_df.insert(1, 'I', 0)\n",
        "encoded_df.loc[(df['Sex'] == 'M'), 'M'] = 1\n",
        "encoded_df.loc[(df['Sex'] == 'F'), 'F'] = 1\n",
        "encoded_df.loc[(df['Sex'] == 'I'), 'I'] = 1\n",
        "encoded_column_names = column_names[:]\n",
        "encoded_column_names.insert(1,\"M\")\n",
        "encoded_column_names.insert(1,\"F\")\n",
        "encoded_column_names.insert(1,\"I\")\n",
        "encoded_df.head()"
      ]
    },
    {
      "cell_type": "code",
      "execution_count": 17,
      "metadata": {
        "colab": {
          "base_uri": "https://localhost:8080/",
          "height": 224
        },
        "id": "P89lZpnZ5Cba",
        "outputId": "3fc87a7d-4698-4b89-9cbf-4e58413aebc9"
      },
      "outputs": [
        {
          "name": "stdout",
          "output_type": "stream",
          "text": [
            "['I', 'F', 'M', 'Length', 'Diameter', 'Height', 'Whole weight']\n"
          ]
        },
        {
          "data": {
            "text/html": [
              "<div>\n",
              "<style scoped>\n",
              "    .dataframe tbody tr th:only-of-type {\n",
              "        vertical-align: middle;\n",
              "    }\n",
              "\n",
              "    .dataframe tbody tr th {\n",
              "        vertical-align: top;\n",
              "    }\n",
              "\n",
              "    .dataframe thead th {\n",
              "        text-align: right;\n",
              "    }\n",
              "</style>\n",
              "<table border=\"1\" class=\"dataframe\">\n",
              "  <thead>\n",
              "    <tr style=\"text-align: right;\">\n",
              "      <th></th>\n",
              "      <th>Sex</th>\n",
              "      <th>Length</th>\n",
              "      <th>Diameter</th>\n",
              "      <th>Height</th>\n",
              "      <th>Whole weight</th>\n",
              "      <th>Shucked weight</th>\n",
              "      <th>Viscera weight</th>\n",
              "      <th>Shell weights</th>\n",
              "      <th>Rings</th>\n",
              "      <th>Old</th>\n",
              "    </tr>\n",
              "  </thead>\n",
              "  <tbody>\n",
              "    <tr>\n",
              "      <th>0</th>\n",
              "      <td>M</td>\n",
              "      <td>0.455</td>\n",
              "      <td>0.365</td>\n",
              "      <td>0.095</td>\n",
              "      <td>0.5140</td>\n",
              "      <td>0.2245</td>\n",
              "      <td>0.1010</td>\n",
              "      <td>0.150</td>\n",
              "      <td>15</td>\n",
              "      <td>1</td>\n",
              "    </tr>\n",
              "    <tr>\n",
              "      <th>1</th>\n",
              "      <td>M</td>\n",
              "      <td>0.350</td>\n",
              "      <td>0.265</td>\n",
              "      <td>0.090</td>\n",
              "      <td>0.2255</td>\n",
              "      <td>0.0995</td>\n",
              "      <td>0.0485</td>\n",
              "      <td>0.070</td>\n",
              "      <td>7</td>\n",
              "      <td>0</td>\n",
              "    </tr>\n",
              "    <tr>\n",
              "      <th>2</th>\n",
              "      <td>F</td>\n",
              "      <td>0.530</td>\n",
              "      <td>0.420</td>\n",
              "      <td>0.135</td>\n",
              "      <td>0.6770</td>\n",
              "      <td>0.2565</td>\n",
              "      <td>0.1415</td>\n",
              "      <td>0.210</td>\n",
              "      <td>9</td>\n",
              "      <td>0</td>\n",
              "    </tr>\n",
              "    <tr>\n",
              "      <th>3</th>\n",
              "      <td>M</td>\n",
              "      <td>0.440</td>\n",
              "      <td>0.365</td>\n",
              "      <td>0.125</td>\n",
              "      <td>0.5160</td>\n",
              "      <td>0.2155</td>\n",
              "      <td>0.1140</td>\n",
              "      <td>0.155</td>\n",
              "      <td>10</td>\n",
              "      <td>1</td>\n",
              "    </tr>\n",
              "    <tr>\n",
              "      <th>4</th>\n",
              "      <td>I</td>\n",
              "      <td>0.330</td>\n",
              "      <td>0.255</td>\n",
              "      <td>0.080</td>\n",
              "      <td>0.2050</td>\n",
              "      <td>0.0895</td>\n",
              "      <td>0.0395</td>\n",
              "      <td>0.055</td>\n",
              "      <td>7</td>\n",
              "      <td>0</td>\n",
              "    </tr>\n",
              "  </tbody>\n",
              "</table>\n",
              "</div>"
            ],
            "text/plain": [
              "  Sex  Length  Diameter  Height  Whole weight  Shucked weight  Viscera weight  \\\n",
              "0   M   0.455     0.365   0.095        0.5140          0.2245          0.1010   \n",
              "1   M   0.350     0.265   0.090        0.2255          0.0995          0.0485   \n",
              "2   F   0.530     0.420   0.135        0.6770          0.2565          0.1415   \n",
              "3   M   0.440     0.365   0.125        0.5160          0.2155          0.1140   \n",
              "4   I   0.330     0.255   0.080        0.2050          0.0895          0.0395   \n",
              "\n",
              "   Shell weights  Rings  Old  \n",
              "0          0.150     15    1  \n",
              "1          0.070      7    0  \n",
              "2          0.210      9    0  \n",
              "3          0.155     10    1  \n",
              "4          0.055      7    0  "
            ]
          },
          "execution_count": 17,
          "metadata": {},
          "output_type": "execute_result"
        }
      ],
      "source": [
        "encoded_feature_columns = encoded_column_names[1:8]\n",
        "print(encoded_feature_columns)\n",
        "label_column = 'Old'\n",
        "\n",
        "df.head()"
      ]
    },
    {
      "cell_type": "markdown",
      "metadata": {
        "id": "61Ms5ZOI0W06"
      },
      "source": [
        "### División entrenamiento/validación/prueba y estandarización\n",
        "\n",
        "Una vez más, queremos realizar una división entrenamiento/validación/prueba en el conjunto de datos. Sin embargo, debemos asegurarnos de no estandarizar los nuevos atributos añadidos mediante codificación *one-hot*."
      ]
    },
    {
      "cell_type": "code",
      "execution_count": 18,
      "metadata": {
        "id": "hWrfoPZd05BZ"
      },
      "outputs": [],
      "source": [
        "# Aquí, utilizaremos ColumnTransformer para volver a realizar una estandarización de los datos. Sin embargo, solo queremos que se aplique a los atributos numéricos, \n",
        "# NO a los codificados mediante one-hot, así que lo especificaremos en el constructor de ColumnTransformer.\n",
        "ct = ColumnTransformer([('numerical_features', StandardScaler(), numerical_feature_columns)], remainder='passthrough')\n",
        "\n",
        "encoded_train_dataset, encoded_test_dataset, encoded_val_dataset = train_test_val_split(encoded_df, encoded_feature_columns, label_column, ct)"
      ]
    },
    {
      "cell_type": "markdown",
      "metadata": {
        "id": "aDiYLEKX7mKz"
      },
      "source": [
        "### Hiperparámetros del modelo"
      ]
    },
    {
      "cell_type": "code",
      "execution_count": 19,
      "metadata": {
        "id": "Sh48ywI6-0ax"
      },
      "outputs": [],
      "source": [
        "# Configuración del dispositivo (si es posible, entrenar el modelo en la GPU, el proceso será mucho más rápido)\n",
        "device = torch.device('cuda' if torch.cuda.is_available() else 'cpu')\n",
        "\n",
        "# Hiperparámetros\n",
        "\n",
        "input_size = len(encoded_feature_columns) # Asegurarse de que el tamaño del input incluya los nuevos atributos\n",
        "hidden_size1 = 64\n",
        "hidden_size2 = 64\n",
        "hidden_size3 = 64\n",
        "num_classes = 2\n",
        "\n",
        "# Parámetros de entrenamiento externos\n",
        "batch_size = 10\n",
        "learning_rate = 0.001\n",
        "num_epochs = 50\n"
      ]
    },
    {
      "cell_type": "code",
      "execution_count": 20,
      "metadata": {
        "colab": {
          "base_uri": "https://localhost:8080/"
        },
        "id": "5bKw6_N2-_-h",
        "outputId": "aa1e9c79-d4c3-4c77-aaf5-d2bf980cd098"
      },
      "outputs": [
        {
          "name": "stdout",
          "output_type": "stream",
          "text": [
            "SimpleClassifier3Layer(\n",
            "  (layers): Sequential(\n",
            "    (0): Linear(in_features=7, out_features=64, bias=True)\n",
            "    (1): ReLU()\n",
            "    (2): Linear(in_features=64, out_features=64, bias=True)\n",
            "    (3): ReLU()\n",
            "    (4): Linear(in_features=64, out_features=64, bias=True)\n",
            "    (5): ReLU()\n",
            "    (6): Linear(in_features=64, out_features=2, bias=True)\n",
            "  )\n",
            ")\n"
          ]
        }
      ],
      "source": [
        "three_layer_encoded_model = SimpleClassifier3Layer(input_size, hidden_size1, hidden_size2, hidden_size3, num_classes).to(device)\n",
        "print(three_layer_encoded_model)"
      ]
    },
    {
      "cell_type": "markdown",
      "metadata": {
        "id": "dLpVue4k7sDM"
      },
      "source": [
        "### Preparación de los datos finales"
      ]
    },
    {
      "cell_type": "code",
      "execution_count": 21,
      "metadata": {
        "colab": {
          "base_uri": "https://localhost:8080/"
        },
        "id": "v_x4P5X6-Ylq",
        "outputId": "282b84be-e6e9-4ad3-c784-c744e44e054e"
      },
      "outputs": [
        {
          "name": "stdout",
          "output_type": "stream",
          "text": [
            "dataset_sizes = {'train': 2506, 'val': 836, 'test': 835}\n"
          ]
        }
      ],
      "source": [
        "# Configurar Datasets y DataLoaders de PyTorch\n",
        "\n",
        "dataloaders = {'train': DataLoader(encoded_train_dataset, batch_size=batch_size),\n",
        "               'val': DataLoader(encoded_val_dataset, batch_size=batch_size),\n",
        "               'test': DataLoader(encoded_test_dataset, batch_size=batch_size)}\n",
        "\n",
        "dataset_sizes = {'train': len(encoded_train_dataset),\n",
        "                 'val': len(encoded_val_dataset),\n",
        "                 'test': len(encoded_test_dataset)}\n",
        "print(f'dataset_sizes = {dataset_sizes}')"
      ]
    },
    {
      "cell_type": "code",
      "execution_count": 22,
      "metadata": {
        "colab": {
          "base_uri": "https://localhost:8080/"
        },
        "id": "u8YeIhjR-efP",
        "outputId": "26c1d4c4-7968-4da2-bd4d-8a3ad9c48684"
      },
      "outputs": [
        {
          "name": "stdout",
          "output_type": "stream",
          "text": [
            "\n",
            "Epoch 1/50\n",
            "----------\n",
            "train Loss: 0.5350 Acc: 0.7350\n",
            "val   Loss: 0.4486 Acc: 0.7835\n",
            "test  Loss: 0.5129 Acc: 0.7305\n",
            "\n",
            "Epoch 2/50\n",
            "----------\n",
            "train Loss: 0.5075 Acc: 0.7474\n",
            "val   Loss: 0.4440 Acc: 0.7871\n",
            "test  Loss: 0.5069 Acc: 0.7353\n",
            "\n",
            "Epoch 3/50\n",
            "----------\n",
            "train Loss: 0.5022 Acc: 0.7502\n",
            "val   Loss: 0.4435 Acc: 0.7895\n",
            "test  Loss: 0.5053 Acc: 0.7329\n",
            "\n",
            "Epoch 4/50\n",
            "----------\n",
            "train Loss: 0.4984 Acc: 0.7458\n",
            "val   Loss: 0.4434 Acc: 0.7919\n",
            "test  Loss: 0.5049 Acc: 0.7257\n",
            "\n",
            "Epoch 5/50\n",
            "----------\n",
            "train Loss: 0.4945 Acc: 0.7454\n",
            "val   Loss: 0.4424 Acc: 0.7811\n",
            "test  Loss: 0.5046 Acc: 0.7257\n",
            "\n",
            "Epoch 6/50\n",
            "----------\n",
            "train Loss: 0.4914 Acc: 0.7478\n",
            "val   Loss: 0.4409 Acc: 0.7835\n",
            "test  Loss: 0.5043 Acc: 0.7246\n",
            "\n",
            "Epoch 7/50\n",
            "----------\n",
            "train Loss: 0.4896 Acc: 0.7466\n",
            "val   Loss: 0.4401 Acc: 0.7835\n",
            "test  Loss: 0.5044 Acc: 0.7234\n",
            "\n",
            "Epoch 8/50\n",
            "----------\n",
            "train Loss: 0.4879 Acc: 0.7482\n",
            "val   Loss: 0.4391 Acc: 0.7907\n",
            "test  Loss: 0.5047 Acc: 0.7234\n",
            "\n",
            "Epoch 9/50\n",
            "----------\n",
            "train Loss: 0.4864 Acc: 0.7498\n",
            "val   Loss: 0.4387 Acc: 0.7919\n",
            "test  Loss: 0.5046 Acc: 0.7222\n",
            "\n",
            "Epoch 10/50\n",
            "----------\n",
            "train Loss: 0.4847 Acc: 0.7510\n",
            "val   Loss: 0.4387 Acc: 0.7990\n",
            "test  Loss: 0.5050 Acc: 0.7246\n",
            "\n",
            "Epoch 11/50\n",
            "----------\n",
            "train Loss: 0.4834 Acc: 0.7530\n",
            "val   Loss: 0.4385 Acc: 0.8026\n",
            "test  Loss: 0.5053 Acc: 0.7257\n",
            "\n",
            "Epoch 12/50\n",
            "----------\n",
            "train Loss: 0.4821 Acc: 0.7534\n",
            "val   Loss: 0.4385 Acc: 0.8062\n",
            "test  Loss: 0.5054 Acc: 0.7293\n",
            "\n",
            "Epoch 13/50\n",
            "----------\n",
            "train Loss: 0.4810 Acc: 0.7542\n",
            "val   Loss: 0.4389 Acc: 0.8086\n",
            "test  Loss: 0.5058 Acc: 0.7293\n",
            "\n",
            "Epoch 14/50\n",
            "----------\n",
            "train Loss: 0.4798 Acc: 0.7530\n",
            "val   Loss: 0.4390 Acc: 0.8086\n",
            "test  Loss: 0.5063 Acc: 0.7281\n",
            "\n",
            "Epoch 15/50\n",
            "----------\n",
            "train Loss: 0.4787 Acc: 0.7534\n",
            "val   Loss: 0.4396 Acc: 0.8098\n",
            "test  Loss: 0.5067 Acc: 0.7281\n",
            "\n",
            "Epoch 16/50\n",
            "----------\n",
            "train Loss: 0.4778 Acc: 0.7562\n",
            "val   Loss: 0.4398 Acc: 0.8110\n",
            "test  Loss: 0.5071 Acc: 0.7293\n",
            "\n",
            "Epoch 17/50\n",
            "----------\n",
            "train Loss: 0.4767 Acc: 0.7562\n",
            "val   Loss: 0.4400 Acc: 0.8098\n",
            "test  Loss: 0.5075 Acc: 0.7293\n",
            "\n",
            "Epoch 18/50\n",
            "----------\n",
            "train Loss: 0.4758 Acc: 0.7558\n",
            "val   Loss: 0.4405 Acc: 0.8110\n",
            "test  Loss: 0.5081 Acc: 0.7281\n",
            "\n",
            "Epoch 19/50\n",
            "----------\n",
            "train Loss: 0.4750 Acc: 0.7554\n",
            "val   Loss: 0.4411 Acc: 0.8086\n",
            "test  Loss: 0.5084 Acc: 0.7269\n",
            "\n",
            "Epoch 20/50\n",
            "----------\n",
            "train Loss: 0.4741 Acc: 0.7554\n",
            "val   Loss: 0.4414 Acc: 0.8122\n",
            "test  Loss: 0.5091 Acc: 0.7269\n",
            "\n",
            "Epoch 21/50\n",
            "----------\n",
            "train Loss: 0.4734 Acc: 0.7550\n",
            "val   Loss: 0.4414 Acc: 0.8110\n",
            "test  Loss: 0.5093 Acc: 0.7305\n",
            "\n",
            "Epoch 22/50\n",
            "----------\n",
            "train Loss: 0.4726 Acc: 0.7550\n",
            "val   Loss: 0.4418 Acc: 0.8086\n",
            "test  Loss: 0.5097 Acc: 0.7305\n",
            "\n",
            "Epoch 23/50\n",
            "----------\n",
            "train Loss: 0.4718 Acc: 0.7550\n",
            "val   Loss: 0.4418 Acc: 0.8110\n",
            "test  Loss: 0.5099 Acc: 0.7317\n",
            "\n",
            "Epoch 24/50\n",
            "----------\n",
            "train Loss: 0.4711 Acc: 0.7542\n",
            "val   Loss: 0.4420 Acc: 0.8110\n",
            "test  Loss: 0.5102 Acc: 0.7317\n",
            "\n",
            "Epoch 25/50\n",
            "----------\n",
            "train Loss: 0.4705 Acc: 0.7554\n",
            "val   Loss: 0.4419 Acc: 0.8134\n",
            "test  Loss: 0.5106 Acc: 0.7317\n",
            "\n",
            "Epoch 26/50\n",
            "----------\n",
            "train Loss: 0.4698 Acc: 0.7566\n",
            "val   Loss: 0.4422 Acc: 0.8122\n",
            "test  Loss: 0.5110 Acc: 0.7329\n",
            "\n",
            "Epoch 27/50\n",
            "----------\n",
            "train Loss: 0.4692 Acc: 0.7582\n",
            "val   Loss: 0.4422 Acc: 0.8134\n",
            "test  Loss: 0.5113 Acc: 0.7317\n",
            "\n",
            "Epoch 28/50\n",
            "----------\n",
            "train Loss: 0.4687 Acc: 0.7598\n",
            "val   Loss: 0.4423 Acc: 0.8134\n",
            "test  Loss: 0.5115 Acc: 0.7341\n",
            "\n",
            "Epoch 29/50\n",
            "----------\n",
            "train Loss: 0.4682 Acc: 0.7598\n",
            "val   Loss: 0.4423 Acc: 0.8110\n",
            "test  Loss: 0.5118 Acc: 0.7329\n",
            "\n",
            "Epoch 30/50\n",
            "----------\n",
            "train Loss: 0.4677 Acc: 0.7594\n",
            "val   Loss: 0.4422 Acc: 0.8110\n",
            "test  Loss: 0.5120 Acc: 0.7329\n",
            "\n",
            "Epoch 31/50\n",
            "----------\n",
            "train Loss: 0.4671 Acc: 0.7606\n",
            "val   Loss: 0.4423 Acc: 0.8122\n",
            "test  Loss: 0.5124 Acc: 0.7341\n",
            "\n",
            "Epoch 32/50\n",
            "----------\n",
            "train Loss: 0.4666 Acc: 0.7614\n",
            "val   Loss: 0.4422 Acc: 0.8110\n",
            "test  Loss: 0.5127 Acc: 0.7341\n",
            "\n",
            "Epoch 33/50\n",
            "----------\n",
            "train Loss: 0.4662 Acc: 0.7618\n",
            "val   Loss: 0.4423 Acc: 0.8110\n",
            "test  Loss: 0.5130 Acc: 0.7329\n",
            "\n",
            "Epoch 34/50\n",
            "----------\n",
            "train Loss: 0.4658 Acc: 0.7618\n",
            "val   Loss: 0.4422 Acc: 0.8146\n",
            "test  Loss: 0.5133 Acc: 0.7317\n",
            "\n",
            "Epoch 35/50\n",
            "----------\n",
            "train Loss: 0.4654 Acc: 0.7618\n",
            "val   Loss: 0.4422 Acc: 0.8158\n",
            "test  Loss: 0.5136 Acc: 0.7329\n",
            "\n",
            "Epoch 36/50\n",
            "----------\n",
            "train Loss: 0.4650 Acc: 0.7618\n",
            "val   Loss: 0.4423 Acc: 0.8146\n",
            "test  Loss: 0.5140 Acc: 0.7341\n",
            "\n",
            "Epoch 37/50\n",
            "----------\n",
            "train Loss: 0.4646 Acc: 0.7622\n",
            "val   Loss: 0.4423 Acc: 0.8158\n",
            "test  Loss: 0.5143 Acc: 0.7329\n",
            "\n",
            "Epoch 38/50\n",
            "----------\n",
            "train Loss: 0.4642 Acc: 0.7630\n",
            "val   Loss: 0.4423 Acc: 0.8146\n",
            "test  Loss: 0.5145 Acc: 0.7341\n",
            "\n",
            "Epoch 39/50\n",
            "----------\n",
            "train Loss: 0.4638 Acc: 0.7638\n",
            "val   Loss: 0.4423 Acc: 0.8146\n",
            "test  Loss: 0.5147 Acc: 0.7365\n",
            "\n",
            "Epoch 40/50\n",
            "----------\n",
            "train Loss: 0.4635 Acc: 0.7638\n",
            "val   Loss: 0.4422 Acc: 0.8158\n",
            "test  Loss: 0.5150 Acc: 0.7365\n",
            "\n",
            "Epoch 41/50\n",
            "----------\n",
            "train Loss: 0.4631 Acc: 0.7638\n",
            "val   Loss: 0.4421 Acc: 0.8146\n",
            "test  Loss: 0.5152 Acc: 0.7353\n",
            "\n",
            "Epoch 42/50\n",
            "----------\n",
            "train Loss: 0.4628 Acc: 0.7642\n",
            "val   Loss: 0.4422 Acc: 0.8146\n",
            "test  Loss: 0.5156 Acc: 0.7353\n",
            "\n",
            "Epoch 43/50\n",
            "----------\n",
            "train Loss: 0.4625 Acc: 0.7638\n",
            "val   Loss: 0.4422 Acc: 0.8134\n",
            "test  Loss: 0.5158 Acc: 0.7353\n",
            "\n",
            "Epoch 44/50\n",
            "----------\n",
            "train Loss: 0.4622 Acc: 0.7650\n",
            "val   Loss: 0.4422 Acc: 0.8122\n",
            "test  Loss: 0.5160 Acc: 0.7329\n",
            "\n",
            "Epoch 45/50\n",
            "----------\n",
            "train Loss: 0.4619 Acc: 0.7658\n",
            "val   Loss: 0.4423 Acc: 0.8098\n",
            "test  Loss: 0.5163 Acc: 0.7329\n",
            "\n",
            "Epoch 46/50\n",
            "----------\n",
            "train Loss: 0.4616 Acc: 0.7662\n",
            "val   Loss: 0.4422 Acc: 0.8098\n",
            "test  Loss: 0.5165 Acc: 0.7329\n",
            "\n",
            "Epoch 47/50\n",
            "----------\n",
            "train Loss: 0.4614 Acc: 0.7666\n",
            "val   Loss: 0.4422 Acc: 0.8098\n",
            "test  Loss: 0.5167 Acc: 0.7329\n",
            "\n",
            "Epoch 48/50\n",
            "----------\n",
            "train Loss: 0.4611 Acc: 0.7674\n",
            "val   Loss: 0.4422 Acc: 0.8086\n",
            "test  Loss: 0.5168 Acc: 0.7329\n",
            "\n",
            "Epoch 49/50\n",
            "----------\n",
            "train Loss: 0.4608 Acc: 0.7674\n",
            "val   Loss: 0.4422 Acc: 0.8086\n",
            "test  Loss: 0.5170 Acc: 0.7329\n",
            "\n",
            "Epoch 50/50\n",
            "----------\n",
            "train Loss: 0.4606 Acc: 0.7682\n",
            "val   Loss: 0.4422 Acc: 0.8086\n",
            "test  Loss: 0.5171 Acc: 0.7329\n",
            "\n",
            "Training complete in 0m 44s\n",
            "Best val Acc: 0.815789 at epoch 34\n"
          ]
        }
      ],
      "source": [
        "# Pérdida y optimizador\n",
        "criterion = nn.CrossEntropyLoss()\n",
        "optimizer = torch.optim.Adam(three_layer_encoded_model.parameters(), lr=learning_rate)\n",
        "scheduler = torch.optim.lr_scheduler.ExponentialLR(optimizer, gamma=0.95)\n",
        "\n",
        "three_layer_encoded_model, training_curves_three_layer_encoded = train_model(three_layer_encoded_model, dataloaders, dataset_sizes, \n",
        "                                     criterion, optimizer, scheduler, num_epochs=num_epochs)"
      ]
    },
    {
      "cell_type": "markdown",
      "metadata": {
        "id": "aZqikOnu7zOX"
      },
      "source": [
        "Observamos pocos cambios en el rendimiento general al incluir estos atributos, lo que nos indica que no aportan una ganancia significativa de información."
      ]
    },
    {
      "cell_type": "markdown",
      "metadata": {
        "id": "mWMTZWLb8KIf"
      },
      "source": [
        "### Curvas de entrenamiento y métricas"
      ]
    },
    {
      "cell_type": "code",
      "execution_count": 23,
      "metadata": {
        "colab": {
          "base_uri": "https://localhost:8080/",
          "height": 573
        },
        "id": "eNiHfJg18l9Z",
        "outputId": "72a6f74e-ddc4-4e7b-f6ab-bd8ce34744fb"
      },
      "outputs": [
        {
          "ename": "TypeError",
          "evalue": "can't convert cuda:0 device type tensor to numpy. Use Tensor.cpu() to copy the tensor to host memory first.",
          "output_type": "error",
          "traceback": [
            "\u001b[0;31m---------------------------------------------------------------------------\u001b[0m",
            "\u001b[0;31mTypeError\u001b[0m                                 Traceback (most recent call last)",
            "\u001b[0;32m/tmp/ipykernel_10357/3035244798.py\u001b[0m in \u001b[0;36m<module>\u001b[0;34m\u001b[0m\n\u001b[0;32m----> 1\u001b[0;31m \u001b[0mplot_training_curves\u001b[0m\u001b[0;34m(\u001b[0m\u001b[0mtraining_curves_three_layer_encoded\u001b[0m\u001b[0;34m,\u001b[0m \u001b[0mphases\u001b[0m\u001b[0;34m=\u001b[0m\u001b[0;34m[\u001b[0m\u001b[0;34m'train'\u001b[0m\u001b[0;34m,\u001b[0m \u001b[0;34m'val'\u001b[0m\u001b[0;34m,\u001b[0m \u001b[0;34m'test'\u001b[0m\u001b[0;34m]\u001b[0m\u001b[0;34m)\u001b[0m\u001b[0;34m\u001b[0m\u001b[0;34m\u001b[0m\u001b[0m\n\u001b[0m",
            "\u001b[0;32m/tmp/ipykernel_10357/2489188571.py\u001b[0m in \u001b[0;36mplot_training_curves\u001b[0;34m(training_curves, phases, metrics)\u001b[0m\n\u001b[1;32m      9\u001b[0m             \u001b[0mkey\u001b[0m \u001b[0;34m=\u001b[0m \u001b[0mphase\u001b[0m\u001b[0;34m+\u001b[0m\u001b[0;34m'_'\u001b[0m\u001b[0;34m+\u001b[0m\u001b[0mmetric\u001b[0m\u001b[0;34m\u001b[0m\u001b[0;34m\u001b[0m\u001b[0m\n\u001b[1;32m     10\u001b[0m             \u001b[0;32mif\u001b[0m \u001b[0mkey\u001b[0m \u001b[0;32min\u001b[0m \u001b[0mtraining_curves\u001b[0m\u001b[0;34m:\u001b[0m\u001b[0;34m\u001b[0m\u001b[0;34m\u001b[0m\u001b[0m\n\u001b[0;32m---> 11\u001b[0;31m                 \u001b[0mplt\u001b[0m\u001b[0;34m.\u001b[0m\u001b[0mplot\u001b[0m\u001b[0;34m(\u001b[0m\u001b[0mepochs\u001b[0m\u001b[0;34m,\u001b[0m \u001b[0mtraining_curves\u001b[0m\u001b[0;34m[\u001b[0m\u001b[0mphase\u001b[0m\u001b[0;34m+\u001b[0m\u001b[0;34m'_'\u001b[0m\u001b[0;34m+\u001b[0m\u001b[0mmetric\u001b[0m\u001b[0;34m]\u001b[0m\u001b[0;34m)\u001b[0m\u001b[0;34m\u001b[0m\u001b[0;34m\u001b[0m\u001b[0m\n\u001b[0m\u001b[1;32m     12\u001b[0m         \u001b[0mplt\u001b[0m\u001b[0;34m.\u001b[0m\u001b[0mxlabel\u001b[0m\u001b[0;34m(\u001b[0m\u001b[0;34m'epoch'\u001b[0m\u001b[0;34m)\u001b[0m\u001b[0;34m\u001b[0m\u001b[0;34m\u001b[0m\u001b[0m\n\u001b[1;32m     13\u001b[0m         \u001b[0mplt\u001b[0m\u001b[0;34m.\u001b[0m\u001b[0mlegend\u001b[0m\u001b[0;34m(\u001b[0m\u001b[0mlabels\u001b[0m\u001b[0;34m=\u001b[0m\u001b[0mphases\u001b[0m\u001b[0;34m)\u001b[0m\u001b[0;34m\u001b[0m\u001b[0;34m\u001b[0m\u001b[0m\n",
            "\u001b[0;32m~/anaconda3/lib/python3.9/site-packages/matplotlib/pyplot.py\u001b[0m in \u001b[0;36mplot\u001b[0;34m(scalex, scaley, data, *args, **kwargs)\u001b[0m\n\u001b[1;32m   2767\u001b[0m \u001b[0;34m@\u001b[0m\u001b[0m_copy_docstring_and_deprecators\u001b[0m\u001b[0;34m(\u001b[0m\u001b[0mAxes\u001b[0m\u001b[0;34m.\u001b[0m\u001b[0mplot\u001b[0m\u001b[0;34m)\u001b[0m\u001b[0;34m\u001b[0m\u001b[0;34m\u001b[0m\u001b[0m\n\u001b[1;32m   2768\u001b[0m \u001b[0;32mdef\u001b[0m \u001b[0mplot\u001b[0m\u001b[0;34m(\u001b[0m\u001b[0;34m*\u001b[0m\u001b[0margs\u001b[0m\u001b[0;34m,\u001b[0m \u001b[0mscalex\u001b[0m\u001b[0;34m=\u001b[0m\u001b[0;32mTrue\u001b[0m\u001b[0;34m,\u001b[0m \u001b[0mscaley\u001b[0m\u001b[0;34m=\u001b[0m\u001b[0;32mTrue\u001b[0m\u001b[0;34m,\u001b[0m \u001b[0mdata\u001b[0m\u001b[0;34m=\u001b[0m\u001b[0;32mNone\u001b[0m\u001b[0;34m,\u001b[0m \u001b[0;34m**\u001b[0m\u001b[0mkwargs\u001b[0m\u001b[0;34m)\u001b[0m\u001b[0;34m:\u001b[0m\u001b[0;34m\u001b[0m\u001b[0;34m\u001b[0m\u001b[0m\n\u001b[0;32m-> 2769\u001b[0;31m     return gca().plot(\n\u001b[0m\u001b[1;32m   2770\u001b[0m         \u001b[0;34m*\u001b[0m\u001b[0margs\u001b[0m\u001b[0;34m,\u001b[0m \u001b[0mscalex\u001b[0m\u001b[0;34m=\u001b[0m\u001b[0mscalex\u001b[0m\u001b[0;34m,\u001b[0m \u001b[0mscaley\u001b[0m\u001b[0;34m=\u001b[0m\u001b[0mscaley\u001b[0m\u001b[0;34m,\u001b[0m\u001b[0;34m\u001b[0m\u001b[0;34m\u001b[0m\u001b[0m\n\u001b[1;32m   2771\u001b[0m         **({\"data\": data} if data is not None else {}), **kwargs)\n",
            "\u001b[0;32m~/anaconda3/lib/python3.9/site-packages/matplotlib/axes/_axes.py\u001b[0m in \u001b[0;36mplot\u001b[0;34m(self, scalex, scaley, data, *args, **kwargs)\u001b[0m\n\u001b[1;32m   1630\u001b[0m         \"\"\"\n\u001b[1;32m   1631\u001b[0m         \u001b[0mkwargs\u001b[0m \u001b[0;34m=\u001b[0m \u001b[0mcbook\u001b[0m\u001b[0;34m.\u001b[0m\u001b[0mnormalize_kwargs\u001b[0m\u001b[0;34m(\u001b[0m\u001b[0mkwargs\u001b[0m\u001b[0;34m,\u001b[0m \u001b[0mmlines\u001b[0m\u001b[0;34m.\u001b[0m\u001b[0mLine2D\u001b[0m\u001b[0;34m)\u001b[0m\u001b[0;34m\u001b[0m\u001b[0;34m\u001b[0m\u001b[0m\n\u001b[0;32m-> 1632\u001b[0;31m         \u001b[0mlines\u001b[0m \u001b[0;34m=\u001b[0m \u001b[0;34m[\u001b[0m\u001b[0;34m*\u001b[0m\u001b[0mself\u001b[0m\u001b[0;34m.\u001b[0m\u001b[0m_get_lines\u001b[0m\u001b[0;34m(\u001b[0m\u001b[0;34m*\u001b[0m\u001b[0margs\u001b[0m\u001b[0;34m,\u001b[0m \u001b[0mdata\u001b[0m\u001b[0;34m=\u001b[0m\u001b[0mdata\u001b[0m\u001b[0;34m,\u001b[0m \u001b[0;34m**\u001b[0m\u001b[0mkwargs\u001b[0m\u001b[0;34m)\u001b[0m\u001b[0;34m]\u001b[0m\u001b[0;34m\u001b[0m\u001b[0;34m\u001b[0m\u001b[0m\n\u001b[0m\u001b[1;32m   1633\u001b[0m         \u001b[0;32mfor\u001b[0m \u001b[0mline\u001b[0m \u001b[0;32min\u001b[0m \u001b[0mlines\u001b[0m\u001b[0;34m:\u001b[0m\u001b[0;34m\u001b[0m\u001b[0;34m\u001b[0m\u001b[0m\n\u001b[1;32m   1634\u001b[0m             \u001b[0mself\u001b[0m\u001b[0;34m.\u001b[0m\u001b[0madd_line\u001b[0m\u001b[0;34m(\u001b[0m\u001b[0mline\u001b[0m\u001b[0;34m)\u001b[0m\u001b[0;34m\u001b[0m\u001b[0;34m\u001b[0m\u001b[0m\n",
            "\u001b[0;32m~/anaconda3/lib/python3.9/site-packages/matplotlib/axes/_base.py\u001b[0m in \u001b[0;36m__call__\u001b[0;34m(self, data, *args, **kwargs)\u001b[0m\n\u001b[1;32m    310\u001b[0m                 \u001b[0mthis\u001b[0m \u001b[0;34m+=\u001b[0m \u001b[0margs\u001b[0m\u001b[0;34m[\u001b[0m\u001b[0;36m0\u001b[0m\u001b[0;34m]\u001b[0m\u001b[0;34m,\u001b[0m\u001b[0;34m\u001b[0m\u001b[0;34m\u001b[0m\u001b[0m\n\u001b[1;32m    311\u001b[0m                 \u001b[0margs\u001b[0m \u001b[0;34m=\u001b[0m \u001b[0margs\u001b[0m\u001b[0;34m[\u001b[0m\u001b[0;36m1\u001b[0m\u001b[0;34m:\u001b[0m\u001b[0;34m]\u001b[0m\u001b[0;34m\u001b[0m\u001b[0;34m\u001b[0m\u001b[0m\n\u001b[0;32m--> 312\u001b[0;31m             \u001b[0;32myield\u001b[0m \u001b[0;32mfrom\u001b[0m \u001b[0mself\u001b[0m\u001b[0;34m.\u001b[0m\u001b[0m_plot_args\u001b[0m\u001b[0;34m(\u001b[0m\u001b[0mthis\u001b[0m\u001b[0;34m,\u001b[0m \u001b[0mkwargs\u001b[0m\u001b[0;34m)\u001b[0m\u001b[0;34m\u001b[0m\u001b[0;34m\u001b[0m\u001b[0m\n\u001b[0m\u001b[1;32m    313\u001b[0m \u001b[0;34m\u001b[0m\u001b[0m\n\u001b[1;32m    314\u001b[0m     \u001b[0;32mdef\u001b[0m \u001b[0mget_next_color\u001b[0m\u001b[0;34m(\u001b[0m\u001b[0mself\u001b[0m\u001b[0;34m)\u001b[0m\u001b[0;34m:\u001b[0m\u001b[0;34m\u001b[0m\u001b[0;34m\u001b[0m\u001b[0m\n",
            "\u001b[0;32m~/anaconda3/lib/python3.9/site-packages/matplotlib/axes/_base.py\u001b[0m in \u001b[0;36m_plot_args\u001b[0;34m(self, tup, kwargs, return_kwargs)\u001b[0m\n\u001b[1;32m    486\u001b[0m         \u001b[0;32mif\u001b[0m \u001b[0mlen\u001b[0m\u001b[0;34m(\u001b[0m\u001b[0mxy\u001b[0m\u001b[0;34m)\u001b[0m \u001b[0;34m==\u001b[0m \u001b[0;36m2\u001b[0m\u001b[0;34m:\u001b[0m\u001b[0;34m\u001b[0m\u001b[0;34m\u001b[0m\u001b[0m\n\u001b[1;32m    487\u001b[0m             \u001b[0mx\u001b[0m \u001b[0;34m=\u001b[0m \u001b[0m_check_1d\u001b[0m\u001b[0;34m(\u001b[0m\u001b[0mxy\u001b[0m\u001b[0;34m[\u001b[0m\u001b[0;36m0\u001b[0m\u001b[0;34m]\u001b[0m\u001b[0;34m)\u001b[0m\u001b[0;34m\u001b[0m\u001b[0;34m\u001b[0m\u001b[0m\n\u001b[0;32m--> 488\u001b[0;31m             \u001b[0my\u001b[0m \u001b[0;34m=\u001b[0m \u001b[0m_check_1d\u001b[0m\u001b[0;34m(\u001b[0m\u001b[0mxy\u001b[0m\u001b[0;34m[\u001b[0m\u001b[0;36m1\u001b[0m\u001b[0;34m]\u001b[0m\u001b[0;34m)\u001b[0m\u001b[0;34m\u001b[0m\u001b[0;34m\u001b[0m\u001b[0m\n\u001b[0m\u001b[1;32m    489\u001b[0m         \u001b[0;32melse\u001b[0m\u001b[0;34m:\u001b[0m\u001b[0;34m\u001b[0m\u001b[0;34m\u001b[0m\u001b[0m\n\u001b[1;32m    490\u001b[0m             \u001b[0mx\u001b[0m\u001b[0;34m,\u001b[0m \u001b[0my\u001b[0m \u001b[0;34m=\u001b[0m \u001b[0mindex_of\u001b[0m\u001b[0;34m(\u001b[0m\u001b[0mxy\u001b[0m\u001b[0;34m[\u001b[0m\u001b[0;34m-\u001b[0m\u001b[0;36m1\u001b[0m\u001b[0;34m]\u001b[0m\u001b[0;34m)\u001b[0m\u001b[0;34m\u001b[0m\u001b[0;34m\u001b[0m\u001b[0m\n",
            "\u001b[0;32m~/anaconda3/lib/python3.9/site-packages/matplotlib/cbook/__init__.py\u001b[0m in \u001b[0;36m_check_1d\u001b[0;34m(x)\u001b[0m\n\u001b[1;32m   1304\u001b[0m     \u001b[0mx\u001b[0m \u001b[0;34m=\u001b[0m \u001b[0m_unpack_to_numpy\u001b[0m\u001b[0;34m(\u001b[0m\u001b[0mx\u001b[0m\u001b[0;34m)\u001b[0m\u001b[0;34m\u001b[0m\u001b[0;34m\u001b[0m\u001b[0m\n\u001b[1;32m   1305\u001b[0m     \u001b[0;32mif\u001b[0m \u001b[0;32mnot\u001b[0m \u001b[0mhasattr\u001b[0m\u001b[0;34m(\u001b[0m\u001b[0mx\u001b[0m\u001b[0;34m,\u001b[0m \u001b[0;34m'shape'\u001b[0m\u001b[0;34m)\u001b[0m \u001b[0;32mor\u001b[0m \u001b[0mlen\u001b[0m\u001b[0;34m(\u001b[0m\u001b[0mx\u001b[0m\u001b[0;34m.\u001b[0m\u001b[0mshape\u001b[0m\u001b[0;34m)\u001b[0m \u001b[0;34m<\u001b[0m \u001b[0;36m1\u001b[0m\u001b[0;34m:\u001b[0m\u001b[0;34m\u001b[0m\u001b[0;34m\u001b[0m\u001b[0m\n\u001b[0;32m-> 1306\u001b[0;31m         \u001b[0;32mreturn\u001b[0m \u001b[0mnp\u001b[0m\u001b[0;34m.\u001b[0m\u001b[0matleast_1d\u001b[0m\u001b[0;34m(\u001b[0m\u001b[0mx\u001b[0m\u001b[0;34m)\u001b[0m\u001b[0;34m\u001b[0m\u001b[0;34m\u001b[0m\u001b[0m\n\u001b[0m\u001b[1;32m   1307\u001b[0m     \u001b[0;32melse\u001b[0m\u001b[0;34m:\u001b[0m\u001b[0;34m\u001b[0m\u001b[0;34m\u001b[0m\u001b[0m\n\u001b[1;32m   1308\u001b[0m         \u001b[0;32mreturn\u001b[0m \u001b[0mx\u001b[0m\u001b[0;34m\u001b[0m\u001b[0;34m\u001b[0m\u001b[0m\n",
            "\u001b[0;32m<__array_function__ internals>\u001b[0m in \u001b[0;36matleast_1d\u001b[0;34m(*args, **kwargs)\u001b[0m\n",
            "\u001b[0;32m~/anaconda3/lib/python3.9/site-packages/numpy/core/shape_base.py\u001b[0m in \u001b[0;36matleast_1d\u001b[0;34m(*arys)\u001b[0m\n\u001b[1;32m     63\u001b[0m     \u001b[0mres\u001b[0m \u001b[0;34m=\u001b[0m \u001b[0;34m[\u001b[0m\u001b[0;34m]\u001b[0m\u001b[0;34m\u001b[0m\u001b[0;34m\u001b[0m\u001b[0m\n\u001b[1;32m     64\u001b[0m     \u001b[0;32mfor\u001b[0m \u001b[0mary\u001b[0m \u001b[0;32min\u001b[0m \u001b[0marys\u001b[0m\u001b[0;34m:\u001b[0m\u001b[0;34m\u001b[0m\u001b[0;34m\u001b[0m\u001b[0m\n\u001b[0;32m---> 65\u001b[0;31m         \u001b[0mary\u001b[0m \u001b[0;34m=\u001b[0m \u001b[0masanyarray\u001b[0m\u001b[0;34m(\u001b[0m\u001b[0mary\u001b[0m\u001b[0;34m)\u001b[0m\u001b[0;34m\u001b[0m\u001b[0;34m\u001b[0m\u001b[0m\n\u001b[0m\u001b[1;32m     66\u001b[0m         \u001b[0;32mif\u001b[0m \u001b[0mary\u001b[0m\u001b[0;34m.\u001b[0m\u001b[0mndim\u001b[0m \u001b[0;34m==\u001b[0m \u001b[0;36m0\u001b[0m\u001b[0;34m:\u001b[0m\u001b[0;34m\u001b[0m\u001b[0;34m\u001b[0m\u001b[0m\n\u001b[1;32m     67\u001b[0m             \u001b[0mresult\u001b[0m \u001b[0;34m=\u001b[0m \u001b[0mary\u001b[0m\u001b[0;34m.\u001b[0m\u001b[0mreshape\u001b[0m\u001b[0;34m(\u001b[0m\u001b[0;36m1\u001b[0m\u001b[0;34m)\u001b[0m\u001b[0;34m\u001b[0m\u001b[0;34m\u001b[0m\u001b[0m\n",
            "\u001b[0;32m~/anaconda3/lib/python3.9/site-packages/torch/_tensor.py\u001b[0m in \u001b[0;36m__array__\u001b[0;34m(self, dtype)\u001b[0m\n\u001b[1;32m    953\u001b[0m             \u001b[0;32mreturn\u001b[0m \u001b[0mhandle_torch_function\u001b[0m\u001b[0;34m(\u001b[0m\u001b[0mTensor\u001b[0m\u001b[0;34m.\u001b[0m\u001b[0m__array__\u001b[0m\u001b[0;34m,\u001b[0m \u001b[0;34m(\u001b[0m\u001b[0mself\u001b[0m\u001b[0;34m,\u001b[0m\u001b[0;34m)\u001b[0m\u001b[0;34m,\u001b[0m \u001b[0mself\u001b[0m\u001b[0;34m,\u001b[0m \u001b[0mdtype\u001b[0m\u001b[0;34m=\u001b[0m\u001b[0mdtype\u001b[0m\u001b[0;34m)\u001b[0m\u001b[0;34m\u001b[0m\u001b[0;34m\u001b[0m\u001b[0m\n\u001b[1;32m    954\u001b[0m         \u001b[0;32mif\u001b[0m \u001b[0mdtype\u001b[0m \u001b[0;32mis\u001b[0m \u001b[0;32mNone\u001b[0m\u001b[0;34m:\u001b[0m\u001b[0;34m\u001b[0m\u001b[0;34m\u001b[0m\u001b[0m\n\u001b[0;32m--> 955\u001b[0;31m             \u001b[0;32mreturn\u001b[0m \u001b[0mself\u001b[0m\u001b[0;34m.\u001b[0m\u001b[0mnumpy\u001b[0m\u001b[0;34m(\u001b[0m\u001b[0;34m)\u001b[0m\u001b[0;34m\u001b[0m\u001b[0;34m\u001b[0m\u001b[0m\n\u001b[0m\u001b[1;32m    956\u001b[0m         \u001b[0;32melse\u001b[0m\u001b[0;34m:\u001b[0m\u001b[0;34m\u001b[0m\u001b[0;34m\u001b[0m\u001b[0m\n\u001b[1;32m    957\u001b[0m             \u001b[0;32mreturn\u001b[0m \u001b[0mself\u001b[0m\u001b[0;34m.\u001b[0m\u001b[0mnumpy\u001b[0m\u001b[0;34m(\u001b[0m\u001b[0;34m)\u001b[0m\u001b[0;34m.\u001b[0m\u001b[0mastype\u001b[0m\u001b[0;34m(\u001b[0m\u001b[0mdtype\u001b[0m\u001b[0;34m,\u001b[0m \u001b[0mcopy\u001b[0m\u001b[0;34m=\u001b[0m\u001b[0;32mFalse\u001b[0m\u001b[0;34m)\u001b[0m\u001b[0;34m\u001b[0m\u001b[0;34m\u001b[0m\u001b[0m\n",
            "\u001b[0;31mTypeError\u001b[0m: can't convert cuda:0 device type tensor to numpy. Use Tensor.cpu() to copy the tensor to host memory first."
          ]
        },
        {
          "data": {
            "image/png": "[encoded data removed]",
            "text/plain": [
              "<Figure size 640x480 with 1 Axes>"
            ]
          },
          "metadata": {},
          "output_type": "display_data"
        },
        {
          "data": {
            "image/png": "[encoded data removed]",
            "text/plain": [
              "<Figure size 640x480 with 1 Axes>"
            ]
          },
          "metadata": {},
          "output_type": "display_data"
        }
      ],
      "source": [
        "plot_training_curves(training_curves_three_layer_encoded, phases=['train', 'val', 'test'])"
      ]
    },
    {
      "cell_type": "markdown",
      "metadata": {
        "id": "_cqJ5x8b6TxW"
      },
      "source": [
        "Estos gráficos nos indican también que el modelo se sigue sobreajustando al conjunto de datos."
      ]
    },
    {
      "cell_type": "code",
      "execution_count": null,
      "metadata": {
        "colab": {
          "base_uri": "https://localhost:8080/",
          "height": 973
        },
        "id": "YsuYM0en8voG",
        "outputId": "7e92d7d7-08b5-44c9-e474-07803568c14a"
      },
      "outputs": [],
      "source": [
        "res = plot_metrics(three_layer_encoded_model, device, dataloaders, phase='test')"
      ]
    },
    {
      "cell_type": "markdown",
      "metadata": {
        "id": "_UdLrwahbEF0"
      },
      "source": [
        "## Regularización y *dropout*\n",
        "\n",
        "Una de las cuestiones clave de las que hemos hablado en este módulo son los métodos para evitar el sobreajuste. Los gráficos de arriba nos indican que el modelo se está sobreajustando considerablemente al conjunto de datos de entrenamiento, pero contamos con varias herramientas para combatir este problema.\n",
        "\n",
        "PyTorch incluye dos de los métodos que hemos explorado, la regularización y el *dropout*. Veamos el efecto que tiene cada uno en el rendimiento del modelo."
      ]
    },
    {
      "cell_type": "markdown",
      "metadata": {
        "id": "eKy0vUu29r0K"
      },
      "source": [
        "### Regularización"
      ]
    },
    {
      "cell_type": "code",
      "execution_count": null,
      "metadata": {
        "colab": {
          "base_uri": "https://localhost:8080/"
        },
        "id": "XYw5YCRQ9K9K",
        "outputId": "b7d8a59e-adf2-4f6f-9a9b-0e504ce35a03"
      },
      "outputs": [],
      "source": [
        "# Reiniciar el modelo\n",
        "three_layer_encoded_l2_model = SimpleClassifier3Layer(input_size, hidden_size1, hidden_size2, hidden_size3,\n",
        "                         num_classes).to(device)\n",
        "print(three_layer_encoded_l2_model)"
      ]
    },
    {
      "cell_type": "code",
      "execution_count": null,
      "metadata": {
        "colab": {
          "base_uri": "https://localhost:8080/"
        },
        "id": "JyhpMfgBb94D",
        "outputId": "759416b8-48f3-482e-f3aa-59f4d1a233de"
      },
      "outputs": [],
      "source": [
        "# Pérdida y optimizador\n",
        "criterion = nn.CrossEntropyLoss()\n",
        "# Al añadir el término weight_decay al optimizador, incluímos la regularización L2\n",
        "optimizer = torch.optim.Adam(three_layer_encoded_l2_model.parameters(), lr=learning_rate, weight_decay=0.01) \n",
        "scheduler = torch.optim.lr_scheduler.ExponentialLR(optimizer, gamma=0.95)\n",
        "\n",
        "three_layer_encoded_l2_model, training_curves_three_layer_encoded_l2 = train_model(three_layer_encoded_l2_model, dataloaders, dataset_sizes, \n",
        "                                     criterion, optimizer, scheduler, num_epochs=num_epochs)"
      ]
    },
    {
      "cell_type": "markdown",
      "metadata": {
        "id": "RLGfeHwH_aSJ"
      },
      "source": [
        "#### Curvas de entrenamiento y métricas"
      ]
    },
    {
      "cell_type": "code",
      "execution_count": null,
      "metadata": {
        "colab": {
          "base_uri": "https://localhost:8080/",
          "height": 573
        },
        "id": "njHLc4qN_dHZ",
        "outputId": "633db5d2-bf98-44d2-e90c-f4a90917bcfe"
      },
      "outputs": [],
      "source": [
        "plot_training_curves(training_curves_three_layer_encoded_l2, phases=['train', 'val', 'test'])"
      ]
    },
    {
      "cell_type": "markdown",
      "metadata": {
        "id": "KHa91PNn7BYb"
      },
      "source": [
        "En estos gráficos, ya no observamos el mismo sobreajuste al conjunto de validación, pero podemos seguir aplicando otros métodos para mejorar más la generalización."
      ]
    },
    {
      "cell_type": "code",
      "execution_count": null,
      "metadata": {
        "colab": {
          "base_uri": "https://localhost:8080/",
          "height": 973
        },
        "id": "Kg3klkzl_g1Q",
        "outputId": "489e9aca-dc62-422a-e157-a4b418abffbf"
      },
      "outputs": [],
      "source": [
        "res = plot_metrics(three_layer_encoded_l2_model, device, dataloaders, phase='test')"
      ]
    },
    {
      "cell_type": "markdown",
      "metadata": {
        "id": "rZrzXg0c9uoY"
      },
      "source": [
        "### *Dropout*"
      ]
    },
    {
      "cell_type": "code",
      "execution_count": null,
      "metadata": {
        "id": "s8mcxTej-uiX"
      },
      "outputs": [],
      "source": [
        "# Configuración del dispositivo (si es posible, entrenar el modelo en la GPU, el proceso será mucho más rápido)\n",
        "device = torch.device('cuda' if torch.cuda.is_available() else 'cpu')\n",
        "\n",
        "# Hiperparámetros\n",
        "\n",
        "# Arquitectura del modelo\n",
        "input_size = len(encoded_feature_columns)\n",
        "hidden_size1 = 64\n",
        "hidden_size2 = 64\n",
        "hidden_size3 = 64\n",
        "num_classes = 2\n",
        "dropout = .25\n",
        "\n",
        "# Parámetros de entrenamiento externos\n",
        "batch_size = 10\n",
        "learning_rate = 0.001\n",
        "num_epochs = 50"
      ]
    },
    {
      "cell_type": "code",
      "execution_count": null,
      "metadata": {
        "id": "O5GqsKCR9x6l"
      },
      "outputs": [],
      "source": [
        "# Modelo de clasificación simple de tres capas ocultas con dropout\n",
        "class SimpleClassifier3LayerDropout(nn.Module):\n",
        "    def __init__(self, input_size, hidden_size1, hidden_size2, hidden_size3, num_classes, dropout):\n",
        "        super(SimpleClassifier3LayerDropout, self).__init__()\n",
        "        self.dropout = nn.Dropout(dropout) # dropout rate\n",
        "        self.layers = nn.Sequential(\n",
        "            nn.Linear(input_size, hidden_size1),\n",
        "            nn.ReLU(),\n",
        "            self.dropout,\n",
        "            nn.Linear(hidden_size1, hidden_size2),\n",
        "            nn.ReLU(),\n",
        "            self.dropout,\n",
        "            nn.Linear(hidden_size2, hidden_size3),\n",
        "            nn.ReLU(),\n",
        "            self.dropout,\n",
        "            nn.Linear(hidden_size3, num_classes),\n",
        "        )\n",
        "\n",
        "    def forward(self, x):\n",
        "        return self.layers(x)"
      ]
    },
    {
      "cell_type": "code",
      "execution_count": null,
      "metadata": {
        "colab": {
          "base_uri": "https://localhost:8080/"
        },
        "id": "UX1eBlH9--Ga",
        "outputId": "19844e92-d23a-47b7-98b0-c7c60167f932"
      },
      "outputs": [],
      "source": [
        "# Reiniciar el modelo con dropout\n",
        "three_layer_encoded_l2_dropout_model = SimpleClassifier3LayerDropout(input_size, hidden_size1, hidden_size2, hidden_size3, \n",
        "                         num_classes, dropout).to(device)\n",
        "print(three_layer_encoded_l2_dropout_model)"
      ]
    },
    {
      "cell_type": "code",
      "execution_count": null,
      "metadata": {
        "colab": {
          "base_uri": "https://localhost:8080/"
        },
        "id": "FQEtWMhf_S5d",
        "outputId": "fbd71b33-3c8f-4cb2-a856-b2d3042a37e0"
      },
      "outputs": [],
      "source": [
        "# Pérdida y optimizador\n",
        "criterion = nn.CrossEntropyLoss()\n",
        "# Al añadir el término weight_decay al optimizador, incluímos la regularización L2\n",
        "optimizer = torch.optim.Adam(three_layer_encoded_l2_dropout_model.parameters(), lr=learning_rate, weight_decay=1e-2) \n",
        "scheduler = torch.optim.lr_scheduler.ExponentialLR(optimizer, gamma=0.95)\n",
        "\n",
        "three_layer_encoded_l2_dropout_model, training_curves_three_layer_encoded_l2_dropout = train_model(three_layer_encoded_l2_dropout_model, dataloaders, dataset_sizes, \n",
        "                                     criterion, optimizer, scheduler, num_epochs=num_epochs)"
      ]
    },
    {
      "cell_type": "markdown",
      "metadata": {
        "id": "niKRS6plB0oK"
      },
      "source": [
        "En este caso, incluir el *dropout* ha supuesto un cambio muy pequeño en la precisión general. Teniendo en cuenta que se trata de un modelo profundo relativamente simple (sobre todo, en comparación con algunas de las redes centradas en la visión artificial que veremos más adelante), no es algo inesperado, y es posible que el *dropout* no sea la mejor solución para resolver este problema. De todos modos, echemos un vistazo a las siguientes curvas de entrenamiento."
      ]
    },
    {
      "cell_type": "markdown",
      "metadata": {
        "id": "-Vwmj4mS_wFg"
      },
      "source": [
        "#### Curvas de entrenamiento y métricas"
      ]
    },
    {
      "cell_type": "code",
      "execution_count": null,
      "metadata": {
        "colab": {
          "base_uri": "https://localhost:8080/",
          "height": 573
        },
        "id": "BlAXVB9K_0BL",
        "outputId": "eba1875a-1b71-4479-f69a-e6256771fb8b"
      },
      "outputs": [],
      "source": [
        "plot_training_curves(training_curves_three_layer_encoded_l2_dropout, phases=['train', 'val', 'test'])"
      ]
    },
    {
      "cell_type": "markdown",
      "metadata": {
        "id": "PR6ZQHdvc_a8"
      },
      "source": [
        "En estas curvas, vemos que incluir el *dropout* ha mejorado la generalización del modelo y ha evitado el sobreajuste."
      ]
    },
    {
      "cell_type": "code",
      "execution_count": null,
      "metadata": {
        "colab": {
          "base_uri": "https://localhost:8080/",
          "height": 973
        },
        "id": "-TJEtJEZ_zcI",
        "outputId": "9c007fb5-a4cf-4a22-e663-d4254ec4d703"
      },
      "outputs": [],
      "source": [
        "res = plot_metrics(three_layer_encoded_l2_dropout_model, device, dataloaders, phase='test')"
      ]
    },
    {
      "cell_type": "markdown",
      "metadata": {
        "id": "jj4YLMee_gi-"
      },
      "source": [
        "## Modelo de regresión\n",
        "\n",
        "Ahora, en vez de hacer una clasificación binaria sobre si un abalón es joven o viejo, queremos predecir el número exacto de anillos. Adaptar el modelo para que realice esta tarea es sencillo."
      ]
    },
    {
      "cell_type": "markdown",
      "metadata": {
        "id": "vB63dPX2AZo0"
      },
      "source": [
        "### Preparación del conjunto de datos"
      ]
    },
    {
      "cell_type": "code",
      "execution_count": null,
      "metadata": {
        "colab": {
          "base_uri": "https://localhost:8080/"
        },
        "id": "v5ejpQhL_pKb",
        "outputId": "6adb748d-8825-4295-d63c-17d43836cd94"
      },
      "outputs": [],
      "source": [
        "regression_label_column = 'Rings' # Solo tenemos que cambiar la columna de la etiqueta\n",
        "# El número de anillos tiene que ser un float, de lo contrario la función de pérdida no funcionará\n",
        "encoded_df[regression_label_column] = encoded_df[regression_label_column].astype('float32')\n",
        "encoded_df.dtypes"
      ]
    },
    {
      "cell_type": "markdown",
      "metadata": {
        "id": "byhGjrLHAgg1"
      },
      "source": [
        "### División entrenamiento/validación/prueba y estandarización"
      ]
    },
    {
      "cell_type": "code",
      "execution_count": null,
      "metadata": {
        "id": "bmjBPOI-AoE1"
      },
      "outputs": [],
      "source": [
        "ct = ColumnTransformer([('numerical_features', StandardScaler(), numerical_feature_columns)], remainder='passthrough')\n",
        "\n",
        "regression_train_dataset, regression_test_dataset, regression_val_dataset = train_test_val_split(encoded_df, encoded_feature_columns, regression_label_column, ct)"
      ]
    },
    {
      "cell_type": "markdown",
      "metadata": {
        "id": "X9HJLfwdAsda"
      },
      "source": [
        "### Hiperparámetros"
      ]
    },
    {
      "cell_type": "code",
      "execution_count": null,
      "metadata": {
        "id": "enydwYGrAHlr"
      },
      "outputs": [],
      "source": [
        "# Configuración del dispositivo (si es posible, entrenar el modelo en la GPU, el proceso será mucho más rápido)\n",
        "device = torch.device('cuda' if torch.cuda.is_available() else 'cpu')\n",
        "\n",
        "# Hiperparámetros\n",
        "\n",
        "# Arquitectura del modelo\n",
        "input_size = len(encoded_feature_columns)\n",
        "hidden_size1 = 64\n",
        "hidden_size2 = 64\n",
        "hidden_size3 = 64\n",
        "output_neurons = 1\n",
        "dropout = .25\n",
        "\n",
        "# Parámetros de entrenamiento externos\n",
        "batch_size = 10\n",
        "learning_rate = 0.001\n",
        "num_epochs = 50"
      ]
    },
    {
      "cell_type": "code",
      "execution_count": null,
      "metadata": {
        "id": "YXJt8d1VhCGw"
      },
      "outputs": [],
      "source": [
        "# Modelo de regresión simple de tres capas ocultas con dropout\n",
        "class SimpleRegressor(nn.Module):\n",
        "    def __init__(self, input_size, hidden_size1, hidden_size2, hidden_size3, output_neurons, dropout):\n",
        "        super(SimpleRegressor, self).__init__()\n",
        "        self.dropout = nn.Dropout(dropout) # dropout rate\n",
        "        self.layers = nn.Sequential(\n",
        "            nn.Linear(input_size, hidden_size1),\n",
        "            nn.ReLU(),\n",
        "            self.dropout,\n",
        "            nn.Linear(hidden_size1, hidden_size2),\n",
        "            nn.ReLU(),\n",
        "            self.dropout,\n",
        "            nn.Linear(hidden_size2, hidden_size3),\n",
        "            nn.ReLU(),\n",
        "            self.dropout,\n",
        "            nn.Linear(hidden_size3, output_neurons),\n",
        "        )\n",
        "\n",
        "    def forward(self, x):\n",
        "        return self.layers(x)"
      ]
    },
    {
      "cell_type": "code",
      "execution_count": null,
      "metadata": {
        "colab": {
          "base_uri": "https://localhost:8080/"
        },
        "id": "JW6TSNg_hj6b",
        "outputId": "8d6ccc8b-5069-4ea3-a5b3-b621dde5453f"
      },
      "outputs": [],
      "source": [
        "regression_model = SimpleRegressor(input_size, hidden_size1, hidden_size2, hidden_size3, output_neurons, dropout).to(device)\n",
        "print(regression_model)"
      ]
    },
    {
      "cell_type": "markdown",
      "metadata": {
        "id": "YcrIz-FtBdTU"
      },
      "source": [
        "### Preparación final de los datos"
      ]
    },
    {
      "cell_type": "code",
      "execution_count": null,
      "metadata": {
        "colab": {
          "base_uri": "https://localhost:8080/"
        },
        "id": "qRIi6ojCAKRM",
        "outputId": "6ec6216d-4d5b-401b-bed6-33a48a134b83"
      },
      "outputs": [],
      "source": [
        "# Configurar Datasets y DataLoaders de PyTorch\n",
        "\n",
        "dataloaders = {'train': DataLoader(regression_train_dataset, batch_size=batch_size),\n",
        "               'val': DataLoader(regression_val_dataset, batch_size=batch_size),\n",
        "               'test': DataLoader(regression_test_dataset, batch_size=batch_size)}\n",
        "\n",
        "dataset_sizes = {'train': len(regression_train_dataset),\n",
        "                 'val': len(regression_val_dataset),\n",
        "                 'test': len(regression_test_dataset)}\n",
        "print(f'dataset_sizes = {dataset_sizes}')"
      ]
    },
    {
      "cell_type": "markdown",
      "metadata": {
        "id": "B1fa2a5dBva5"
      },
      "source": [
        "### Entrenar el modelo\n",
        "\n",
        "Ahora, vamos a aumentar el proceso de entrenamiento que utilizamos antes para adaptarlo al problema de regresión"
      ]
    },
    {
      "cell_type": "code",
      "execution_count": null,
      "metadata": {
        "id": "5XNyz6pNh86x"
      },
      "outputs": [],
      "source": [
        "# Extraído de https://pytorch.org/tutorials/beginner/transfer_learning_tutorial.html\n",
        "\n",
        "def train_regression_model(model, dataloaders, dataset_sizes, criterion, optimizer, scheduler, num_epochs=25):\n",
        "    since = time.time()\n",
        "\n",
        "    best_model_wts = copy.deepcopy(model.state_dict())\n",
        "    best_loss = np.inf\n",
        "    best_epoch = 0\n",
        "\n",
        "    # Cada ciclo tiene una fase de entrenamiento, una de validación y una de prueba\n",
        "    phases = ['train', 'val', 'test']\n",
        "    \n",
        "    # Hacer un seguimiento de la evolución de la pérdida y la precisión durante el entrenamiento\n",
        "    training_curves = {}\n",
        "    for phase in phases:\n",
        "        training_curves[phase+'_loss'] = []\n",
        "    \n",
        "    for epoch in range(num_epochs):\n",
        "        print(f'\\nEpoch {epoch+1}/{num_epochs}')\n",
        "        print('-' * 10)\n",
        "\n",
        "        for phase in phases:\n",
        "            if phase == 'train':\n",
        "                model.train()  # Configurar el modelo en el modo de entrenamiento\n",
        "            else:\n",
        "                model.eval()   # Configurar el modelo en el modo de evaluación\n",
        "            running_loss = 0.0\n",
        "\n",
        "            # Iterar con los datos\n",
        "            for inputs, targets in dataloaders[phase]: \n",
        "                inputs = inputs.to(device)\n",
        "                targets = targets.to(device) #\n",
        "\n",
        "                # Poner a 0 los gradientes de los parámetros\n",
        "                optimizer.zero_grad()\n",
        "\n",
        "                # Método forward\n",
        "                with torch.set_grad_enabled(phase == 'train'):\n",
        "                    outputs = torch.flatten(model(inputs))\n",
        "                    loss = criterion(outputs, targets)\n",
        "\n",
        "                    # Método backward y actualización de los pesos solo si está en la fase de entrenamiento\n",
        "                    if phase == 'train':\n",
        "                        loss.backward()\n",
        "                        optimizer.step()\n",
        "\n",
        "                # Estadísticas\n",
        "                running_loss += loss.item() * inputs.size(0)\n",
        " \n",
        "            if phase == 'train':\n",
        "                scheduler.step()\n",
        "\n",
        "            epoch_loss = running_loss / dataset_sizes[phase]\n",
        "            training_curves[phase+'_loss'].append(epoch_loss)\n",
        "\n",
        "            print(f'{phase:5} Loss: {epoch_loss:.4f}')\n",
        "\n",
        "            # Hacer una copia profunda del modelo si se ha alcanzado la mejor precisión (en función de la validación)\n",
        "            if phase == 'val' and epoch_loss < best_loss:\n",
        "                best_epoch = epoch\n",
        "                best_loss = epoch_loss\n",
        "                best_model_wts = copy.deepcopy(model.state_dict())\n",
        "\n",
        "    time_elapsed = time.time() - since\n",
        "    print(f'\\nTraining complete in {time_elapsed // 60:.0f}m {time_elapsed % 60:.0f}s')\n",
        "    print(f'Best val Loss: {best_loss:4f} at epoch {best_epoch}')\n",
        "\n",
        "    # Cargar los mejores pesos del modelo\n",
        "    model.load_state_dict(best_model_wts)\n",
        "    \n",
        "    return model, training_curves"
      ]
    },
    {
      "cell_type": "code",
      "execution_count": null,
      "metadata": {
        "colab": {
          "base_uri": "https://localhost:8080/"
        },
        "id": "aB6OEYG8hseH",
        "outputId": "c0e8ad6c-b9cd-425f-fd97-3061bb30b164"
      },
      "outputs": [],
      "source": [
        "# Pérdida y optimizador\n",
        "criterion = nn.MSELoss() # Pérdida del ECM en vez entropía cruzada\n",
        "optimizer = torch.optim.Adam(regression_model.parameters(), lr=learning_rate, \n",
        "                             weight_decay=0.01) \n",
        "scheduler = torch.optim.lr_scheduler.ExponentialLR(optimizer, gamma=0.95)\n",
        "\n",
        "regression_model, training_curves_regression = train_regression_model(regression_model, dataloaders, dataset_sizes, \n",
        "                                     criterion, optimizer, scheduler, num_epochs=num_epochs)"
      ]
    },
    {
      "cell_type": "code",
      "execution_count": null,
      "metadata": {
        "colab": {
          "base_uri": "https://localhost:8080/",
          "height": 295
        },
        "id": "ZTNZRTbz4c87",
        "outputId": "345d203a-aa2d-4f9a-fc9e-34d94ac00d00"
      },
      "outputs": [],
      "source": [
        "plot_training_curves(training_curves_regression, metrics=['loss'])"
      ]
    },
    {
      "cell_type": "code",
      "execution_count": null,
      "metadata": {
        "id": "dArSkp6F4c87"
      },
      "outputs": [],
      "source": [
        "predicted_ages, true_ages = regress_predictions(regression_model, device, dataloaders['train'])\n",
        "# Vemos que nuestras predicciones tienen bastante sentido respecto a las edades de los abalones"
      ]
    },
    {
      "cell_type": "code",
      "execution_count": null,
      "metadata": {
        "colab": {
          "base_uri": "https://localhost:8080/"
        },
        "id": "bSI2U1Xa4c87",
        "outputId": "c47b564b-e55e-4b6e-b5a3-cd4604c850b5"
      },
      "outputs": [],
      "source": [
        "predicted_ages"
      ]
    },
    {
      "cell_type": "code",
      "execution_count": null,
      "metadata": {
        "colab": {
          "base_uri": "https://localhost:8080/"
        },
        "id": "1-Q8dg7c4c87",
        "outputId": "1021ee73-1ace-450f-f903-ede813f801d5"
      },
      "outputs": [],
      "source": [
        "true_ages "
      ]
    },
    {
      "cell_type": "code",
      "execution_count": null,
      "metadata": {
        "colab": {
          "base_uri": "https://localhost:8080/",
          "height": 295
        },
        "id": "A0NyaDDw4c87",
        "outputId": "1fb9b6e2-f812-4c80-eb6c-6f46a83fce26"
      },
      "outputs": [],
      "source": [
        "# Resultados del entrenamiento\n",
        "plot_regression(regression_model, device, dataloaders['train'])"
      ]
    },
    {
      "cell_type": "code",
      "execution_count": null,
      "metadata": {
        "colab": {
          "base_uri": "https://localhost:8080/",
          "height": 295
        },
        "id": "rCkT20lG4c87",
        "outputId": "0dfe763a-afc2-4847-b837-e741aa606458"
      },
      "outputs": [],
      "source": [
        "# Resultados de la validación\n",
        "plot_regression(regression_model, device, dataloaders['val'])"
      ]
    },
    {
      "cell_type": "code",
      "execution_count": null,
      "metadata": {
        "colab": {
          "base_uri": "https://localhost:8080/",
          "height": 295
        },
        "id": "OlIM-RK54c87",
        "outputId": "4c635093-7299-411c-93d7-80aa5671407d"
      },
      "outputs": [],
      "source": [
        "# Resultados de la prueba\n",
        "plot_regression(regression_model, device, dataloaders['test'])"
      ]
    },
    {
      "cell_type": "markdown",
      "metadata": {
        "id": "doTU0oTMLQhp"
      },
      "source": [
        "### ¿Qué viene después?\n",
        "\n",
        "Ahora que hemos aprendido los fundamentos de PyTorch, seremos capaces de realizar muchas tareas de *machine learning*. Empezaremos por el reconocimiento de cifras con el conjunto de datos MNIST, lo que también nos servirá para introducir arquitecturas más complejas de redes neuronales profundas."
      ]
    }
  ],
  "metadata": {
    "colab": {
      "collapsed_sections": [
        "doTU0oTMLQhp"
      ],
      "provenance": []
    },
    "kernelspec": {
      "display_name": "base",
      "language": "python",
      "name": "python3"
    },
    "language_info": {
      "codemirror_mode": {
        "name": "ipython",
        "version": 3
      },
      "file_extension": ".py",
      "mimetype": "text/x-python",
      "name": "python",
      "nbconvert_exporter": "python",
      "pygments_lexer": "ipython3",
      "version": "3.9.13"
    },
    "vscode": {
      "interpreter": {
        "hash": "1b4dcc508076e9239aa6a2b739d41c8a505780e648b690f375f7d262ba9ac310"
      }
    }
  },
  "nbformat": 4,
  "nbformat_minor": 0
}
