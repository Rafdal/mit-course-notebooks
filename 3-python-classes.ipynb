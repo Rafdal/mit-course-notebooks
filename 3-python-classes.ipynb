{
  "cells": [
    {
      "cell_type": "markdown",
      "metadata": {
        "id": "t6YoTRRKmZ_3"
      },
      "source": [
        "# Clases de Python y Herencia\n",
        "[Herencia](#herencia)"
      ]
    },
    {
      "cell_type": "markdown",
      "metadata": {
        "id": "0ZtzMpNMb0QU"
      },
      "source": [
        "## Ejemplo: Clase Rectangle"
      ]
    },
    {
      "cell_type": "markdown",
      "metadata": {
        "id": "e2EyMY3NJGzm"
      },
      "source": [
        "Para demostrar los aspectos fundamentales de las clases, diseñemos una llamada `Rectangle` que cree objetos con forma de rectángulo. "
      ]
    },
    {
      "cell_type": "code",
      "execution_count": null,
      "metadata": {
        "id": "uz0AEa4RmgGm"
      },
      "outputs": [],
      "source": [
        "class Rectangle():\n",
        "    color = 'green'\n",
        "\n",
        "    def __init__(self, length, width):\n",
        "        self.length = length\n",
        "        self.width = width"
      ]
    },
    {
      "cell_type": "markdown",
      "metadata": {
        "id": "alBns-yULwrF"
      },
      "source": [
        "El argumento `self` normalmente aparece primero en el constructor `__init__` y, por convención, el argumento `self` suele ser el primer parámetro de cualquier otro método definido dentro de la clase. Más adelante, veremos que Python define automáticamente que este primer argumento `self` haga referencia a la propia instancia del objeto, por lo que no hace falta incluirla explícitamente al construir una nueva instancia o al llamar a métodos dentro de una instancia.\n",
        "\n",
        "Este es el proceso para instanciar un objeto de la clase que hemos definido:"
      ]
    },
    {
      "cell_type": "code",
      "execution_count": null,
      "metadata": {
        "colab": {
          "base_uri": "https://localhost:8080/"
        },
        "id": "7tIpuW4XVru7",
        "outputId": "baacccbd-6853-4cb3-ce45-83b85beb2811"
      },
      "outputs": [
        {
          "name": "stdout",
          "output_type": "stream",
          "text": [
            "rectangle1: <__main__.Rectangle object at 0x7f6cb43d2c40>\n",
            "rectangle2: <__main__.Rectangle object at 0x7f6cb43d20a0>\n",
            "\n",
            "isinstance(rectangle1, Rectangle): True\n",
            "rectangle1 == rectangle2: False\n"
          ]
        }
      ],
      "source": [
        "#Instancia Instance1 de la clase Rectangle\n",
        "rectangle1 = Rectangle(7,8)\n",
        "print(\"rectangle1:\", rectangle1)\n",
        "\n",
        "#Instancia Instance2 de la clase Rectangle\n",
        "rectangle2 = Rectangle(3,5)\n",
        "print(\"rectangle2:\", rectangle2)\n",
        "\n",
        "#Estas son diferentes instancias del tipo Rectangle:\n",
        "print()\n",
        "print(\"isinstance(rectangle1, Rectangle):\", isinstance(rectangle1, Rectangle))\n",
        "print(\"rectangle1 == rectangle2:\", rectangle1 == rectangle2)"
      ]
    },
    {
      "cell_type": "code",
      "execution_count": null,
      "metadata": {
        "id": "vgTCpq-kB_RF"
      },
      "outputs": [],
      "source": [
        "class Rectangle():\n",
        "    color = 'green'\n",
        "\n",
        "    def __init__(self, length, width):\n",
        "        self.length = length\n",
        "        self.width = width\n",
        "\n",
        "    def area(self):\n",
        "        return self.length * self.width"
      ]
    },
    {
      "cell_type": "code",
      "execution_count": null,
      "metadata": {
        "colab": {
          "base_uri": "https://localhost:8080/"
        },
        "id": "7uBhXwNWE09r",
        "outputId": "8c3151d4-7db3-4cae-cac4-543a4b0e8529"
      },
      "outputs": [
        {
          "name": "stdout",
          "output_type": "stream",
          "text": [
            "Rectangle Area: 36\n"
          ]
        }
      ],
      "source": [
        "rectangle3 = Rectangle(9, 4)\n",
        "\n",
        "#Llamar al método area en esta instancia de rectangle\n",
        "area = rectangle3.area()\n",
        "print(\"Rectangle Area:\", area)"
      ]
    },
    {
      "cell_type": "markdown",
      "metadata": {
        "id": "u9gSb3E8HkL8"
      },
      "source": [
        "**Ejercicio**: Defina un método para calcular el perímetro de un rectángulo, y llámelo en una instancia de `rectangle4` con una `length` de `7` y `width` de `12`."
      ]
    },
    {
      "cell_type": "code",
      "execution_count": 3,
      "metadata": {
        "id": "1ifVk2P6I6nS"
      },
      "outputs": [
        {
          "data": {
            "text/plain": [
              "14"
            ]
          },
          "execution_count": 3,
          "metadata": {},
          "output_type": "execute_result"
        }
      ],
      "source": [
        "class Rectangle():\n",
        "    color = 'green'\n",
        "    length = 0\n",
        "    width = 0\n",
        "\n",
        "    def __init__(self, length, width):\n",
        "        self.length = length\n",
        "        self.width = width\n",
        "\n",
        "    def area(self):\n",
        "        return self.length * self.width\n",
        "  \n",
        "    ##### ESCRIBA AQUÍ SU CÓDIGO #####\n",
        "\n",
        "    def perimeter(self):\n",
        "        return self.length*2 + self.width*2\n",
        "\n",
        "#Llamar al método para encontrar el perímetro de una instancia rectangle4\n",
        "##### ESCRIBA AQUÍ SU CÓDIGO #####\n",
        "\n",
        "rect = Rectangle(3, 4)\n",
        "\n",
        "rect.perimeter()"
      ]
    },
    {
      "cell_type": "code",
      "execution_count": 5,
      "metadata": {
        "colab": {
          "base_uri": "https://localhost:8080/"
        },
        "id": "1XmfHPRoI19y",
        "outputId": "c7360602-c7db-4c3c-c44d-3886ca689bed"
      },
      "outputs": [
        {
          "name": "stdout",
          "output_type": "stream",
          "text": [
            "Perimeter of rectangle4:  14\n"
          ]
        }
      ],
      "source": [
        "#@title Solution Hidden { display-mode: \"form\" }\n",
        "\n",
        "class Rectangle():\n",
        "    color = 'green'\n",
        "\n",
        "    def __init__(self, length, width):\n",
        "        self.length = length\n",
        "        self.width = width\n",
        "\n",
        "    def area(self):\n",
        "        return self.length * self.width\n",
        "\n",
        "    def perimeter(self):\n",
        "        return 2*self.length + 2*self.width\n",
        "\n",
        "rectangle4 = Rectangle(3,4)\n",
        "\n",
        "print(\"Perimeter of rectangle4: \", rectangle4.perimeter())"
      ]
    },
    {
      "cell_type": "markdown",
      "metadata": {
        "id": "MCjvJC1qMZY8"
      },
      "source": [
        "A menudo, cuando definimos las clases, resulta útil definir métodos *getter* o *setter*. Un método **getter** proporciona la capacidad de ver fácilmente un atributo específico. Un método **setter** permite actualizar el valor de un atributo específico.\n",
        "\n",
        "Crearemos un método *setter* llamado `set_length` que nos permita actualizar el valor `length` de una instancia de rectangle. Además, añadiremos el método *getter* `get_length`, que nos permite recuperar la longitud de la instancia de rectangle sin acceder directamente a la variable."
      ]
    },
    {
      "cell_type": "code",
      "execution_count": null,
      "metadata": {
        "id": "tWewrWYWShyJ"
      },
      "outputs": [],
      "source": [
        "class Rectangle():\n",
        "    color = 'green'\n",
        "\n",
        "    def __init__(self, length, width):\n",
        "        self.length = length\n",
        "        self.width = width\n",
        "\n",
        "    def area(self):\n",
        "        return self.length * self.width\n",
        "\n",
        "    def perimeter(self):\n",
        "        return 2*self.length + 2*self.width\n",
        "\n",
        "    def set_length(self, new_length):\n",
        "        self.length = new_length\n",
        "\n",
        "    def get_length(self):\n",
        "        return self.length"
      ]
    },
    {
      "cell_type": "markdown",
      "metadata": {
        "id": "egkK0pTpKaq1"
      },
      "source": [
        "### Herencia"
      ]
    },
    {
      "cell_type": "markdown",
      "metadata": {
        "id": "uDbejSdqpTCf"
      },
      "source": [
        "La **herencia** nos permite definir una clase que herede métodos y atributos de otra clase. La superclase es aquella clase de la que se hereda, mientras que la subclase es la que hereda de la superclase. Los atributos y métodos de la superclase ahora serán accesibles en la subclase. Aquí, `Square` se define como subclase de la superclase `Rectangle`:"
      ]
    },
    {
      "cell_type": "code",
      "execution_count": null,
      "metadata": {
        "id": "kaJYmLzkjx1n"
      },
      "outputs": [],
      "source": [
        "class Square(Rectangle):\n",
        "\n",
        "    def __init__(self, side):\n",
        "        self.side = side\n",
        "        Rectangle.__init__(self, side, side)\n",
        "        \n",
        "    def print_square_greeting(self):\n",
        "        return \"Hello, I am a square!\""
      ]
    },
    {
      "cell_type": "code",
      "execution_count": null,
      "metadata": {
        "colab": {
          "base_uri": "https://localhost:8080/"
        },
        "id": "myXAFQVhl-AC",
        "outputId": "0c9a997f-8465-42d5-b59b-d374293c1020"
      },
      "outputs": [
        {
          "name": "stdout",
          "output_type": "stream",
          "text": [
            "Type of square1 is: <class '__main__.Square'>\n",
            "isinstance(square1, Square): True\n",
            "isinstance(square1, Rectangle): True\n",
            "\n",
            "Perimeter of square1 is: 20\n",
            "Area of square1 is: 25\n",
            "Width of square1 is: 5\n",
            "Unique method only in square class: Hello, I am a square!\n"
          ]
        }
      ],
      "source": [
        "#square1 es una instancia de Square (cuadrado)\n",
        "square1 = Square(5)\n",
        "print(\"Type of square1 is:\", type(square1))\n",
        "print(\"isinstance(square1, Square):\", isinstance(square1, Square))\n",
        "\n",
        "#Fijémonos en que este cuadrado es también Rectangle:\n",
        "print(\"isinstance(square1, Rectangle):\", isinstance(square1, Rectangle))\n",
        "\n",
        "#Por lo tanto, podemos llamar tanto al método Square como al método Rectangle en square1:\n",
        "print()\n",
        "print(\"Perimeter of square1 is:\", square1.perimeter())\n",
        "print(\"Area of square1 is:\", square1.area())\n",
        "print(\"Width of square1 is:\", square1.width) #inherits superclass instance variables too\n",
        "print(\"Length of square1 is:\", square1.length) #inherits superclass instance variables too\n",
        "print(\"Unique method only in square class:\", square1.print_square_greeting())\n",
        "\n",
        "#Esta línea provocaría un error, puesto que el método solo está en la clase Square:\n",
        "#rectangle5.print_square_greeting "
      ]
    },
    {
      "cell_type": "markdown",
      "metadata": {
        "id": "5x8pEMOTIyIK"
      },
      "source": [
        "### Ejercicio: Definir la clase `BankAccount`"
      ]
    },
    {
      "cell_type": "markdown",
      "metadata": {
        "id": "C6GaEQ9RstEQ"
      },
      "source": [
        "Definir una clase llamada `BankAccount` que cumpla los criterios que aparecen abajo. Fijémonos en que todo lo que hay entre el primer `'''` y el `'''` correspondiente es un comentario, que a menudo se incluye al principio de una clase para ayudar a documentar lo que hace esa clase."
      ]
    },
    {
      "cell_type": "code",
      "execution_count": null,
      "metadata": {
        "id": "4JHoO4hPI4so"
      },
      "outputs": [],
      "source": [
        "class BankAccount():\n",
        "    '''\n",
        "    Instance attributes\n",
        "      balance: integer that stores bank balance in dollars\n",
        "\n",
        "    Methods\n",
        "      get_balance(): gets current value of bank balance\n",
        "      \n",
        "      deposit(val): adds specified value to balance\n",
        "      \n",
        "      withdraw(val): if there are sufficient funds in account, \n",
        "      subtracts val from balance and returns True; otherwise\n",
        "      returns False\n",
        "    '''"
      ]
    },
    {
      "cell_type": "code",
      "execution_count": null,
      "metadata": {
        "id": "WiT7Otu2sqdW",
        "outputId": "9046dbf1-da62-4a84-e3bb-30207c54ad76"
      },
      "outputs": [
        {
          "name": "stdout",
          "output_type": "stream",
          "text": [
            "Balance: 500\n",
            "Was able to withdraw $300: True ; Balance now: 200\n",
            "Was able to withdraw $300: False ; Balance now: 200\n"
          ]
        }
      ],
      "source": [
        "#@title Solution Hidden { display-mode: \"form\" }\n",
        "\n",
        "class BankAccount():\n",
        "    '''\n",
        "    Instance attributes\n",
        "      balance: integer that stores bank balance in dollars\n",
        "\n",
        "    Methods\n",
        "      get_balance(): gets current value of bank balance\n",
        "      \n",
        "      deposit(val): adds specified value to balance\n",
        "      \n",
        "      withdraw(val): if there are sufficient funds in account, \n",
        "      subtracts val from balance and returns True; otherwise\n",
        "      returns False\n",
        "    '''\n",
        "    \n",
        "    def __init__(self, initial_balance):\n",
        "        self.balance = initial_balance\n",
        "\n",
        "    def get_balance(self):\n",
        "        return self.balance\n",
        "    \n",
        "    def deposit(self, val):\n",
        "        self.balance += val\n",
        "\n",
        "    def withdraw(self, val):\n",
        "        if self.balance >= val:\n",
        "            self.balance -= val\n",
        "            return True\n",
        "        else:\n",
        "            return False\n",
        "        \n",
        "my_account = BankAccount(500)\n",
        "print(\"Balance:\", my_account.get_balance())\n",
        "\n",
        "success = my_account.withdraw(300)\n",
        "print(\"Was able to withdraw $300:\", success, \"; Balance now:\", my_account.get_balance())\n",
        "\n",
        "success = my_account.withdraw(300)\n",
        "print(\"Was able to withdraw $300:\", success, \"; Balance now:\", my_account.get_balance())"
      ]
    },
    {
      "cell_type": "markdown",
      "metadata": {
        "id": "gwSBZ4fR_NqT"
      },
      "source": [
        "Recurso adicional: https://ocw.mit.edu/courses/electrical-engineering-and-computer-science/6-0001-introduction-to-computer-science-and-programming-in-python-fall-2016/lecture-slides-code/MIT6_0001F16_Lec9.pdf"
      ]
    },
    {
      "cell_type": "code",
      "execution_count": null,
      "metadata": {
        "id": "jfnm_5c39WpH"
      },
      "outputs": [],
      "source": []
    }
  ],
  "metadata": {
    "colab": {
      "provenance": []
    },
    "kernelspec": {
      "display_name": "Python 3.9.13 ('base')",
      "language": "python",
      "name": "python3"
    },
    "language_info": {
      "codemirror_mode": {
        "name": "ipython",
        "version": 3
      },
      "file_extension": ".py",
      "mimetype": "text/x-python",
      "name": "python",
      "nbconvert_exporter": "python",
      "pygments_lexer": "ipython3",
      "version": "3.9.13"
    },
    "vscode": {
      "interpreter": {
        "hash": "1b4dcc508076e9239aa6a2b739d41c8a505780e648b690f375f7d262ba9ac310"
      }
    }
  },
  "nbformat": 4,
  "nbformat_minor": 0
}
